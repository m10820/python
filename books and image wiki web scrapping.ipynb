{
 "cells": [
  {
   "cell_type": "code",
   "execution_count": 1,
   "id": "c92aacaa",
   "metadata": {},
   "outputs": [],
   "source": [
    "import requests\n"
   ]
  },
  {
   "cell_type": "code",
   "execution_count": 2,
   "id": "2d6051c3",
   "metadata": {},
   "outputs": [],
   "source": [
    "import lxml"
   ]
  },
  {
   "cell_type": "code",
   "execution_count": 3,
   "id": "bf1f8e1c",
   "metadata": {},
   "outputs": [],
   "source": [
    "import bs4"
   ]
  },
  {
   "cell_type": "code",
   "execution_count": 4,
   "id": "2023afd7",
   "metadata": {},
   "outputs": [],
   "source": [
    "result = requests.get('https://example.com')"
   ]
  },
  {
   "cell_type": "code",
   "execution_count": 5,
   "id": "56bbe4f2",
   "metadata": {},
   "outputs": [
    {
     "data": {
      "text/plain": [
       "requests.models.Response"
      ]
     },
     "execution_count": 5,
     "metadata": {},
     "output_type": "execute_result"
    }
   ],
   "source": [
    "type(result)"
   ]
  },
  {
   "cell_type": "code",
   "execution_count": 6,
   "id": "93a299af",
   "metadata": {},
   "outputs": [
    {
     "data": {
      "text/plain": [
       "'<!doctype html>\\n<html>\\n<head>\\n    <title>Example Domain</title>\\n\\n    <meta charset=\"utf-8\" />\\n    <meta http-equiv=\"Content-type\" content=\"text/html; charset=utf-8\" />\\n    <meta name=\"viewport\" content=\"width=device-width, initial-scale=1\" />\\n    <style type=\"text/css\">\\n    body {\\n        background-color: #f0f0f2;\\n        margin: 0;\\n        padding: 0;\\n        font-family: -apple-system, system-ui, BlinkMacSystemFont, \"Segoe UI\", \"Open Sans\", \"Helvetica Neue\", Helvetica, Arial, sans-serif;\\n        \\n    }\\n    div {\\n        width: 600px;\\n        margin: 5em auto;\\n        padding: 2em;\\n        background-color: #fdfdff;\\n        border-radius: 0.5em;\\n        box-shadow: 2px 3px 7px 2px rgba(0,0,0,0.02);\\n    }\\n    a:link, a:visited {\\n        color: #38488f;\\n        text-decoration: none;\\n    }\\n    @media (max-width: 700px) {\\n        div {\\n            margin: 0 auto;\\n            width: auto;\\n        }\\n    }\\n    </style>    \\n</head>\\n\\n<body>\\n<div>\\n    <h1>Example Domain</h1>\\n    <p>This domain is for use in illustrative examples in documents. You may use this\\n    domain in literature without prior coordination or asking for permission.</p>\\n    <p><a href=\"https://www.iana.org/domains/example\">More information...</a></p>\\n</div>\\n</body>\\n</html>\\n'"
      ]
     },
     "execution_count": 6,
     "metadata": {},
     "output_type": "execute_result"
    }
   ],
   "source": [
    "result.text"
   ]
  },
  {
   "cell_type": "code",
   "execution_count": 7,
   "id": "525ae7d9",
   "metadata": {},
   "outputs": [],
   "source": [
    "soup = bs4.BeautifulSoup(result.text,'lxml')\n"
   ]
  },
  {
   "cell_type": "code",
   "execution_count": 8,
   "id": "dbffc670",
   "metadata": {},
   "outputs": [
    {
     "data": {
      "text/plain": [
       "<!DOCTYPE html>\n",
       "<html>\n",
       "<head>\n",
       "<title>Example Domain</title>\n",
       "<meta charset=\"utf-8\"/>\n",
       "<meta content=\"text/html; charset=utf-8\" http-equiv=\"Content-type\"/>\n",
       "<meta content=\"width=device-width, initial-scale=1\" name=\"viewport\"/>\n",
       "<style type=\"text/css\">\n",
       "    body {\n",
       "        background-color: #f0f0f2;\n",
       "        margin: 0;\n",
       "        padding: 0;\n",
       "        font-family: -apple-system, system-ui, BlinkMacSystemFont, \"Segoe UI\", \"Open Sans\", \"Helvetica Neue\", Helvetica, Arial, sans-serif;\n",
       "        \n",
       "    }\n",
       "    div {\n",
       "        width: 600px;\n",
       "        margin: 5em auto;\n",
       "        padding: 2em;\n",
       "        background-color: #fdfdff;\n",
       "        border-radius: 0.5em;\n",
       "        box-shadow: 2px 3px 7px 2px rgba(0,0,0,0.02);\n",
       "    }\n",
       "    a:link, a:visited {\n",
       "        color: #38488f;\n",
       "        text-decoration: none;\n",
       "    }\n",
       "    @media (max-width: 700px) {\n",
       "        div {\n",
       "            margin: 0 auto;\n",
       "            width: auto;\n",
       "        }\n",
       "    }\n",
       "    </style>\n",
       "</head>\n",
       "<body>\n",
       "<div>\n",
       "<h1>Example Domain</h1>\n",
       "<p>This domain is for use in illustrative examples in documents. You may use this\n",
       "    domain in literature without prior coordination or asking for permission.</p>\n",
       "<p><a href=\"https://www.iana.org/domains/example\">More information...</a></p>\n",
       "</div>\n",
       "</body>\n",
       "</html>"
      ]
     },
     "execution_count": 8,
     "metadata": {},
     "output_type": "execute_result"
    }
   ],
   "source": [
    "soup"
   ]
  },
  {
   "cell_type": "code",
   "execution_count": 9,
   "id": "f619e72a",
   "metadata": {},
   "outputs": [
    {
     "data": {
      "text/plain": [
       "[<title>Example Domain</title>]"
      ]
     },
     "execution_count": 9,
     "metadata": {},
     "output_type": "execute_result"
    }
   ],
   "source": [
    "soup.select('title')"
   ]
  },
  {
   "cell_type": "code",
   "execution_count": 10,
   "id": "9d8f753a",
   "metadata": {},
   "outputs": [
    {
     "data": {
      "text/plain": [
       "'Example Domain'"
      ]
     },
     "execution_count": 10,
     "metadata": {},
     "output_type": "execute_result"
    }
   ],
   "source": [
    "soup.select('title')[0].getText()\n",
    "##grab first item of the list and then apply gettext method"
   ]
  },
  {
   "cell_type": "code",
   "execution_count": 11,
   "id": "fbe70da7",
   "metadata": {},
   "outputs": [],
   "source": [
    "site_paragraphs = soup.select('p')"
   ]
  },
  {
   "cell_type": "code",
   "execution_count": 12,
   "id": "e9be60b5",
   "metadata": {},
   "outputs": [
    {
     "data": {
      "text/plain": [
       "<p>This domain is for use in illustrative examples in documents. You may use this\n",
       "    domain in literature without prior coordination or asking for permission.</p>"
      ]
     },
     "execution_count": 12,
     "metadata": {},
     "output_type": "execute_result"
    }
   ],
   "source": [
    "#this is an object\n",
    "site_paragraphs[0]"
   ]
  },
  {
   "cell_type": "code",
   "execution_count": 14,
   "id": "20cc8554",
   "metadata": {},
   "outputs": [],
   "source": [
    "res = requests.get('https://en.wikipedia.org/wiki/Andrew_Symonds#Media')"
   ]
  },
  {
   "cell_type": "code",
   "execution_count": 15,
   "id": "e272ad7b",
   "metadata": {},
   "outputs": [],
   "source": [
    "soup = bs4.BeautifulSoup(res.text,'lxml')"
   ]
  },
  {
   "cell_type": "code",
   "execution_count": 16,
   "id": "4dff691d",
   "metadata": {},
   "outputs": [
    {
     "data": {
      "text/plain": [
       "<!DOCTYPE html>\n",
       "<html class=\"client-nojs\" dir=\"ltr\" lang=\"en\">\n",
       "<head>\n",
       "<meta charset=\"utf-8\"/>\n",
       "<title>Andrew Symonds - Wikipedia</title>\n",
       "<script>document.documentElement.className=\"client-js\";RLCONF={\"wgBreakFrames\":false,\"wgSeparatorTransformTable\":[\"\",\"\"],\"wgDigitTransformTable\":[\"\",\"\"],\"wgDefaultDateFormat\":\"dmy\",\"wgMonthNames\":[\"\",\"January\",\"February\",\"March\",\"April\",\"May\",\"June\",\"July\",\"August\",\"September\",\"October\",\"November\",\"December\"],\"wgRequestId\":\"10b6e83b-0e77-4f76-8885-51b331bd9b59\",\"wgCSPNonce\":false,\"wgCanonicalNamespace\":\"\",\"wgCanonicalSpecialPageName\":false,\"wgNamespaceNumber\":0,\"wgPageName\":\"Andrew_Symonds\",\"wgTitle\":\"Andrew Symonds\",\"wgCurRevisionId\":1093429951,\"wgRevisionId\":1093429951,\"wgArticleId\":928264,\"wgIsArticle\":true,\"wgIsRedirect\":false,\"wgAction\":\"view\",\"wgUserName\":null,\"wgUserGroups\":[\"*\"],\"wgCategories\":[\"Webarchive template wayback links\",\"Articles with short description\",\"Short description is different from Wikidata\",\"Use Australian English from January 2013\",\"All Wikipedia articles written in Australian English\",\"Use dmy dates from May 2022\",\"Articles with ISNI identifiers\",\n",
       "\"Articles with VIAF identifiers\",\"Articles with WORLDCATID identifiers\",\"Articles with BIBSYS identifiers\",\"Articles with LCCN identifiers\",\"Articles with FAST identifiers\",\"1975 births\",\"2022 deaths\",\"Australia One Day International cricketers\",\"Australia Test cricketers\",\"Australia Twenty20 International cricketers\",\"Gloucestershire cricketers\",\"Kent cricketers\",\"Lancashire cricketers\",\"Queensland cricketers\",\"Australian people of Caribbean descent\",\"Australian adoptees\",\"English emigrants to Australia\",\"Deccan Chargers cricketers\",\"Cricketers from Birmingham, West Midlands\",\"Sportspeople from Townsville\",\"Sportspeople from the Gold Coast, Queensland\",\"Surrey cricketers\",\"People educated at All Souls School, Charters Towers\",\"Australian cricketers\",\"Australian Institute of Sport cricketers\",\"Mumbai Indians cricketers\",\"Bigg Boss (Hindi TV series) contestants\",\"Road incident deaths in Queensland\"],\"wgPageContentLanguage\":\"en\",\"wgPageContentModel\":\"wikitext\",\"wgRelevantPageName\":\n",
       "\"Andrew_Symonds\",\"wgRelevantArticleId\":928264,\"wgIsProbablyEditable\":true,\"wgRelevantPageIsProbablyEditable\":true,\"wgRestrictionEdit\":[],\"wgRestrictionMove\":[],\"wgFlaggedRevsParams\":{\"tags\":{\"status\":{\"levels\":1}}},\"wgVisualEditor\":{\"pageLanguageCode\":\"en\",\"pageLanguageDir\":\"ltr\",\"pageVariantFallbacks\":\"en\"},\"wgMFDisplayWikibaseDescriptions\":{\"search\":true,\"nearby\":true,\"watchlist\":true,\"tagline\":false},\"wgWMESchemaEditAttemptStepOversample\":false,\"wgWMEPageLength\":70000,\"wgNoticeProject\":\"wikipedia\",\"wgMediaViewerOnClick\":true,\"wgMediaViewerEnabledByDefault\":true,\"wgPopupsFlags\":10,\"wgULSCurrentAutonym\":\"English\",\"wgEditSubmitButtonLabelPublish\":true,\"wgCentralAuthMobileDomain\":false,\"wgULSPosition\":\"interlanguage\",\"wgULSisCompactLinksEnabled\":true,\"wgWikibaseItemId\":\"Q2723418\",\"GEHomepageSuggestedEditsEnableTopics\":true,\"wgGETopicsMatchModeEnabled\":false};RLSTATE={\"ext.globalCssJs.user.styles\":\"ready\",\"site.styles\":\"ready\",\"user.styles\":\"ready\",\"ext.globalCssJs.user\":\"ready\",\"user\":\n",
       "\"ready\",\"user.options\":\"loading\",\"ext.cite.styles\":\"ready\",\"skins.vector.styles.legacy\":\"ready\",\"jquery.makeCollapsible.styles\":\"ready\",\"ext.visualEditor.desktopArticleTarget.noscript\":\"ready\",\"ext.wikimediaBadges\":\"ready\",\"ext.uls.interlanguage\":\"ready\",\"wikibase.client.init\":\"ready\"};RLPAGEMODULES=[\"ext.cite.ux-enhancements\",\"site\",\"mediawiki.page.ready\",\"jquery.makeCollapsible\",\"mediawiki.toc\",\"skins.vector.legacy.js\",\"mmv.head\",\"mmv.bootstrap.autostart\",\"ext.visualEditor.desktopArticleTarget.init\",\"ext.visualEditor.targetLoader\",\"ext.eventLogging\",\"ext.wikimediaEvents\",\"ext.navigationTiming\",\"ext.cx.eventlogging.campaigns\",\"ext.centralNotice.geoIP\",\"ext.centralNotice.startUp\",\"ext.gadget.ReferenceTooltips\",\"ext.gadget.charinsert\",\"ext.gadget.extra-toolbar-buttons\",\"ext.gadget.refToolbar\",\"ext.gadget.switcher\",\"ext.centralauth.centralautologin\",\"ext.popups\",\"ext.uls.compactlinks\",\"ext.uls.interface\",\"ext.growthExperiments.SuggestedEditSession\"];</script>\n",
       "<script>(RLQ=window.RLQ||[]).push(function(){mw.loader.implement(\"user.options@12s5i\",function($,jQuery,require,module){mw.user.tokens.set({\"patrolToken\":\"+\\\\\",\"watchToken\":\"+\\\\\",\"csrfToken\":\"+\\\\\"});});});</script>\n",
       "<link href=\"/w/load.php?lang=en&amp;modules=ext.cite.styles%7Cext.uls.interlanguage%7Cext.visualEditor.desktopArticleTarget.noscript%7Cext.wikimediaBadges%7Cjquery.makeCollapsible.styles%7Cskins.vector.styles.legacy%7Cwikibase.client.init&amp;only=styles&amp;skin=vector\" rel=\"stylesheet\"/>\n",
       "<script async=\"\" src=\"/w/load.php?lang=en&amp;modules=startup&amp;only=scripts&amp;raw=1&amp;skin=vector\"></script>\n",
       "<meta content=\"\" name=\"ResourceLoaderDynamicStyles\"/>\n",
       "<link href=\"/w/load.php?lang=en&amp;modules=site.styles&amp;only=styles&amp;skin=vector\" rel=\"stylesheet\"/>\n",
       "<meta content=\"MediaWiki 1.39.0-wmf.15\" name=\"generator\"/>\n",
       "<meta content=\"origin\" name=\"referrer\"/>\n",
       "<meta content=\"origin-when-crossorigin\" name=\"referrer\"/>\n",
       "<meta content=\"origin-when-cross-origin\" name=\"referrer\"/>\n",
       "<meta content=\"telephone=no\" name=\"format-detection\"/>\n",
       "<meta content=\"https://upload.wikimedia.org/wikipedia/commons/thumb/b/b9/Andrew_symonds_%28cropped%29.jpg/1200px-Andrew_symonds_%28cropped%29.jpg\" property=\"og:image\"/>\n",
       "<meta content=\"1200\" property=\"og:image:width\"/>\n",
       "<meta content=\"1652\" property=\"og:image:height\"/>\n",
       "<meta content=\"https://upload.wikimedia.org/wikipedia/commons/thumb/b/b9/Andrew_symonds_%28cropped%29.jpg/800px-Andrew_symonds_%28cropped%29.jpg\" property=\"og:image\"/>\n",
       "<meta content=\"800\" property=\"og:image:width\"/>\n",
       "<meta content=\"1101\" property=\"og:image:height\"/>\n",
       "<meta content=\"https://upload.wikimedia.org/wikipedia/commons/thumb/b/b9/Andrew_symonds_%28cropped%29.jpg/640px-Andrew_symonds_%28cropped%29.jpg\" property=\"og:image\"/>\n",
       "<meta content=\"640\" property=\"og:image:width\"/>\n",
       "<meta content=\"881\" property=\"og:image:height\"/>\n",
       "<meta content=\"Andrew Symonds - Wikipedia\" property=\"og:title\"/>\n",
       "<meta content=\"website\" property=\"og:type\"/>\n",
       "<link href=\"//upload.wikimedia.org\" rel=\"preconnect\"/>\n",
       "<link href=\"//en.m.wikipedia.org/wiki/Andrew_Symonds\" media=\"only screen and (max-width: 720px)\" rel=\"alternate\"/>\n",
       "<link href=\"/w/index.php?title=Andrew_Symonds&amp;action=edit\" rel=\"alternate\" title=\"Edit this page\" type=\"application/x-wiki\"/>\n",
       "<link href=\"/static/apple-touch/wikipedia.png\" rel=\"apple-touch-icon\"/>\n",
       "<link href=\"/static/favicon/wikipedia.ico\" rel=\"shortcut icon\"/>\n",
       "<link href=\"/w/opensearch_desc.php\" rel=\"search\" title=\"Wikipedia (en)\" type=\"application/opensearchdescription+xml\"/>\n",
       "<link href=\"//en.wikipedia.org/w/api.php?action=rsd\" rel=\"EditURI\" type=\"application/rsd+xml\"/>\n",
       "<link href=\"https://creativecommons.org/licenses/by-sa/3.0/\" rel=\"license\"/>\n",
       "<link href=\"https://en.wikipedia.org/wiki/Andrew_Symonds\" rel=\"canonical\"/>\n",
       "<link href=\"//meta.wikimedia.org\" rel=\"dns-prefetch\"/>\n",
       "<link href=\"//login.wikimedia.org\" rel=\"dns-prefetch\"/>\n",
       "</head>\n",
       "<body class=\"mediawiki ltr sitedir-ltr mw-hide-empty-elt ns-0 ns-subject mw-editable page-Andrew_Symonds rootpage-Andrew_Symonds skin-vector action-view skin-vector-legacy\"><div class=\"noprint\" id=\"mw-page-base\"></div>\n",
       "<div class=\"noprint\" id=\"mw-head-base\"></div>\n",
       "<div class=\"mw-body\" id=\"content\" role=\"main\">\n",
       "<a id=\"top\"></a>\n",
       "<div id=\"siteNotice\"><!-- CentralNotice --></div>\n",
       "<div class=\"mw-indicators\">\n",
       "</div>\n",
       "<h1 class=\"firstHeading mw-first-heading\" id=\"firstHeading\">Andrew Symonds</h1>\n",
       "<div class=\"vector-body\" id=\"bodyContent\">\n",
       "<div class=\"noprint\" id=\"siteSub\">From Wikipedia, the free encyclopedia</div>\n",
       "<div id=\"contentSub\"></div>\n",
       "<div id=\"contentSub2\"></div>\n",
       "<div id=\"jump-to-nav\"></div>\n",
       "<a class=\"mw-jump-link\" href=\"#mw-head\">Jump to navigation</a>\n",
       "<a class=\"mw-jump-link\" href=\"#searchInput\">Jump to search</a>\n",
       "<div class=\"mw-body-content mw-content-ltr\" dir=\"ltr\" id=\"mw-content-text\" lang=\"en\"><div class=\"mw-parser-output\"><div class=\"shortdescription nomobile noexcerpt noprint searchaux\" style=\"display:none\">Australian cricketer (1975–2022)</div>\n",
       "<p class=\"mw-empty-elt\">\n",
       "</p>\n",
       "<style data-mw-deduplicate=\"TemplateStyles:r1066479718\">.mw-parser-output .infobox-subbox{padding:0;border:none;margin:-3px;width:auto;min-width:100%;font-size:100%;clear:none;float:none;background-color:transparent}.mw-parser-output .infobox-3cols-child{margin:auto}.mw-parser-output .infobox .navbar{font-size:100%}body.skin-minerva .mw-parser-output .infobox-header,body.skin-minerva .mw-parser-output .infobox-subheader,body.skin-minerva .mw-parser-output .infobox-above,body.skin-minerva .mw-parser-output .infobox-title,body.skin-minerva .mw-parser-output .infobox-image,body.skin-minerva .mw-parser-output .infobox-full-data,body.skin-minerva .mw-parser-output .infobox-below{text-align:center}</style><table class=\"infobox vcard\" style=\"width: 25em\"><caption class=\"infobox-title fn\" style=\"font-size: 125%\"><span class=\"fn\">Andrew Symonds</span></caption><tbody><tr><td class=\"infobox-image\" colspan=\"2\"><a class=\"image\" href=\"/wiki/File:Andrew_symonds_(cropped).jpg\"><img alt=\"Andrew symonds (cropped).jpg\" data-file-height=\"1872\" data-file-width=\"1360\" decoding=\"async\" height=\"303\" src=\"//upload.wikimedia.org/wikipedia/commons/thumb/b/b9/Andrew_symonds_%28cropped%29.jpg/220px-Andrew_symonds_%28cropped%29.jpg\" srcset=\"//upload.wikimedia.org/wikipedia/commons/thumb/b/b9/Andrew_symonds_%28cropped%29.jpg/330px-Andrew_symonds_%28cropped%29.jpg 1.5x, //upload.wikimedia.org/wikipedia/commons/thumb/b/b9/Andrew_symonds_%28cropped%29.jpg/440px-Andrew_symonds_%28cropped%29.jpg 2x\" width=\"220\"/></a><div class=\"infobox-caption\">Symonds in 2008, sporting <a href=\"/wiki/Zinc_oxide\" title=\"Zinc oxide\">zinc oxide</a> <a href=\"/wiki/Sunscreen\" title=\"Sunscreen\">sunscreen</a> on his lips</div></td></tr><tr><th class=\"infobox-header\" colspan=\"2\" style=\"background-color: #b0c4de\">Personal information</th></tr><tr><th class=\"infobox-label\" scope=\"row\">Born</th><td class=\"infobox-data\"><span style=\"display:none\">(<span class=\"bday\">1975-06-09</span>)</span>9 June 1975<br/><span class=\"birthplace\"><a href=\"/wiki/Birmingham\" title=\"Birmingham\">Birmingham</a>, <a href=\"/wiki/West_Midlands_(county)\" title=\"West Midlands (county)\">West Midlands</a>, England</span></td></tr><tr><th class=\"infobox-label\" scope=\"row\">Died</th><td class=\"infobox-data\">14 May 2022<span style=\"display:none\">(2022-05-14)</span> (aged 46)<br/><span class=\"deathplace\"><a href=\"/wiki/Hervey_Range\" title=\"Hervey Range\">Hervey Range</a>, <a href=\"/wiki/Queensland\" title=\"Queensland\">Queensland</a>, Australia</span></td></tr><tr><th class=\"infobox-label\" scope=\"row\">Nickname</th><td class=\"infobox-data nickname\">Roy, Symo</td></tr><tr><th class=\"infobox-label\" scope=\"row\">Height</th><td class=\"infobox-data\">187 cm (6 ft 2 in)</td></tr><tr><th class=\"infobox-label\" scope=\"row\">Batting</th><td class=\"infobox-data category\">Right-handed</td></tr><tr><th class=\"infobox-label\" scope=\"row\">Bowling</th><td class=\"infobox-data category\"><div class=\"plainlist\"><ul><li>Right-arm medium</li><li>Right-arm <a class=\"mw-redirect\" href=\"/wiki/Off_break\" title=\"Off break\">off break</a></li></ul></div></td></tr><tr><th class=\"infobox-label\" scope=\"row\">Role</th><td class=\"infobox-data role\"><a href=\"/wiki/All-rounder\" title=\"All-rounder\">All-rounder</a></td></tr><tr><th class=\"infobox-header\" colspan=\"2\" style=\"background-color: #b0c4de\">International information\n",
       "<link href=\"mw-data:TemplateStyles:r1066479718\" rel=\"mw-deduplicated-inline-style\"/></th></tr><tr><th class=\"infobox-label\" scope=\"row\">National side</th><td class=\"infobox-data\"><div class=\"plainlist\"><ul><li><a href=\"/wiki/Australia_national_cricket_team\" title=\"Australia national cricket team\">Australia</a> (1998–2009)</li></ul></div></td></tr><tr><th class=\"infobox-label\" scope=\"row\">Test debut (cap <a href=\"/wiki/List_of_Australia_Test_cricketers\" title=\"List of Australia Test cricketers\">388</a>)</th><td class=\"infobox-data\">8 March 2004 v <a href=\"/wiki/Sri_Lanka_national_cricket_team\" title=\"Sri Lanka national cricket team\">Sri Lanka</a></td></tr><tr><th class=\"infobox-label\" scope=\"row\">Last Test</th><td class=\"infobox-data\">26 December 2008 v <a href=\"/wiki/South_Africa_national_cricket_team\" title=\"South Africa national cricket team\">South Africa</a></td></tr><tr><th class=\"infobox-label\" scope=\"row\">ODI debut (cap <a href=\"/wiki/List_of_Australia_ODI_cricketers\" title=\"List of Australia ODI cricketers\">139</a>)</th><td class=\"infobox-data\">10 November 1998 v <a href=\"/wiki/Pakistan_national_cricket_team\" title=\"Pakistan national cricket team\">Pakistan</a></td></tr><tr><th class=\"infobox-label\" scope=\"row\">Last ODI</th><td class=\"infobox-data\">3 May 2009 v <a href=\"/wiki/Pakistan_national_cricket_team\" title=\"Pakistan national cricket team\">Pakistan</a></td></tr><tr><th class=\"infobox-label\" scope=\"row\">T20I debut (cap <a href=\"/wiki/List_of_Australia_Twenty20_International_cricketers\" title=\"List of Australia Twenty20 International cricketers\">11</a>)</th><td class=\"infobox-data\">17 February 2005 v <a href=\"/wiki/New_Zealand_national_cricket_team\" title=\"New Zealand national cricket team\">New Zealand</a></td></tr><tr><th class=\"infobox-label\" scope=\"row\">Last T20I</th><td class=\"infobox-data\">7 May 2009 v <a href=\"/wiki/Pakistan_national_cricket_team\" title=\"Pakistan national cricket team\">Pakistan</a></td></tr><tr style=\"display:none\"><th colspan=\"2\">\n",
       "</th></tr><tr><th class=\"infobox-header\" colspan=\"2\" style=\"background-color: #b0c4de\">Domestic team information\n",
       "</th></tr><tr style=\"line-height: 9pt\">\n",
       "<th scope=\"col\">Years</th><th scope=\"col\">Team</th><link href=\"mw-data:TemplateStyles:r1066479718\" rel=\"mw-deduplicated-inline-style\"/></tr><tr><th class=\"infobox-label\" scope=\"row\" style=\"font-weight:normal; padding-right:3em\"><span class=\"nowrap\">1993/94–2009/10</span></th><td class=\"infobox-data\"><a class=\"mw-redirect\" href=\"/wiki/Queensland_Bulls\" title=\"Queensland Bulls\">Queensland</a></td></tr><tr><th class=\"infobox-label\" scope=\"row\" style=\"font-weight:normal; padding-right:3em\">1995–1996</th><td class=\"infobox-data\"><a href=\"/wiki/Gloucestershire_County_Cricket_Club\" title=\"Gloucestershire County Cricket Club\">Gloucestershire</a></td></tr><tr><th class=\"infobox-label\" scope=\"row\" style=\"font-weight:normal; padding-right:3em\">1999–2004</th><td class=\"infobox-data\"><a href=\"/wiki/Kent_County_Cricket_Club\" title=\"Kent County Cricket Club\">Kent</a></td></tr><tr><th class=\"infobox-label\" scope=\"row\" style=\"font-weight:normal; padding-right:3em\">2005</th><td class=\"infobox-data\"><a href=\"/wiki/Lancashire_County_Cricket_Club\" title=\"Lancashire County Cricket Club\">Lancashire</a></td></tr><tr><th class=\"infobox-label\" scope=\"row\" style=\"font-weight:normal; padding-right:3em\">2008–2010</th><td class=\"infobox-data\"><a href=\"/wiki/Deccan_Chargers\" title=\"Deccan Chargers\">Deccan Chargers</a></td></tr><tr><th class=\"infobox-label\" scope=\"row\" style=\"font-weight:normal; padding-right:3em\">2010</th><td class=\"infobox-data\"><a href=\"/wiki/Surrey_County_Cricket_Club\" title=\"Surrey County Cricket Club\">Surrey</a></td></tr><tr><th class=\"infobox-label\" scope=\"row\" style=\"font-weight:normal; padding-right:3em\">2011</th><td class=\"infobox-data\"><a href=\"/wiki/Mumbai_Indians\" title=\"Mumbai Indians\">Mumbai Indians</a></td></tr><tr style=\"display:none\"><th colspan=\"2\">\n",
       "</th></tr><tr><th class=\"infobox-header\" colspan=\"2\" style=\"background-color: #b0c4de\">Career statistics</th></tr><tr><td colspan=\"2\" style=\"padding:0\">\n",
       "<table style=\"width:100%; margin:-1px; white-space:nowrap;\">\n",
       "<tbody><tr><th style=\"width:6em; padding-right:1em\">Competition</th>\n",
       "<th><a href=\"/wiki/Test_cricket\" title=\"Test cricket\">Test</a></th>\n",
       "<th><a href=\"/wiki/One_Day_International\" title=\"One Day International\">ODI</a></th>\n",
       "<th><a href=\"/wiki/First-class_cricket\" title=\"First-class cricket\">FC</a></th>\n",
       "<th><a href=\"/wiki/List_A_cricket\" title=\"List A cricket\">LA</a></th>\n",
       "</tr><tr>\n",
       "<th style=\"width:6em; padding-right:1em\">Matches</th>\n",
       "<td>26</td>\n",
       "<td>198</td>\n",
       "<td>227</td>\n",
       "<td>424</td>\n",
       "</tr><tr>\n",
       "<th style=\"width:6em; padding-right:1em\">Runs scored</th>\n",
       "<td>1,462</td>\n",
       "<td>5,088</td>\n",
       "<td>14,477</td>\n",
       "<td>11,099</td>\n",
       "</tr><tr>\n",
       "<th style=\"width:6em; padding-right:1em\"><a href=\"/wiki/Batting_average_(cricket)\" title=\"Batting average (cricket)\">Batting average</a></th>\n",
       "<td>40.61</td>\n",
       "<td>39.75</td>\n",
       "<td>42.20</td>\n",
       "<td>34.04</td>\n",
       "</tr><tr>\n",
       "<th style=\"width:6em; padding-right:1em\">100s/50s</th>\n",
       "<td>2/10</td>\n",
       "<td>6/30</td>\n",
       "<td>40/65</td>\n",
       "<td>9/64</td>\n",
       "</tr><tr>\n",
       "<th style=\"width:6em; padding-right:1em\">Top score</th>\n",
       "<td>162<a href=\"/wiki/Not_out\" title=\"Not out\">*</a></td>\n",
       "<td>156</td>\n",
       "<td>254*</td>\n",
       "<td>156</td>\n",
       "</tr><tr>\n",
       "<th style=\"width:6em; padding-right:1em\"><a href=\"/wiki/Delivery_(cricket)\" title=\"Delivery (cricket)\">Balls</a> bowled</th>\n",
       "<td>2,094</td>\n",
       "<td>5,935</td>\n",
       "<td>17,633</td>\n",
       "<td>11,713</td>\n",
       "</tr><tr>\n",
       "<th style=\"width:6em; padding-right:1em\"><a href=\"/wiki/Wicket\" title=\"Wicket\">Wickets</a></th>\n",
       "<td>24</td>\n",
       "<td>133</td>\n",
       "<td>242</td>\n",
       "<td>282</td>\n",
       "</tr><tr>\n",
       "<th style=\"width:6em; padding-right:1em\"><a href=\"/wiki/Bowling_average\" title=\"Bowling average\">Bowling average</a></th>\n",
       "<td>37.33</td>\n",
       "<td>37.25</td>\n",
       "<td>36.00</td>\n",
       "<td>33.25</td>\n",
       "</tr><tr>\n",
       "<th style=\"width:6em; padding-right:1em\"><a href=\"/wiki/Five-wicket_haul\" title=\"Five-wicket haul\">5 wickets in innings</a></th>\n",
       "<td>0</td>\n",
       "<td>1</td>\n",
       "<td>2</td>\n",
       "<td>4</td>\n",
       "</tr><tr>\n",
       "<th style=\"width:6em; padding-right:1em\">10 wickets in match</th>\n",
       "<td>0</td>\n",
       "<td>0</td>\n",
       "<td>0</td>\n",
       "<td>0</td>\n",
       "</tr><tr>\n",
       "<th style=\"width:6em; padding-right:1em\">Best bowling</th>\n",
       "<td>3/50</td>\n",
       "<td>5/18</td>\n",
       "<td>6/105</td>\n",
       "<td>6/14</td>\n",
       "</tr><tr>\n",
       "<th style=\"width:6em; padding-right:1em\">Catches/<a href=\"/wiki/Stumped\" title=\"Stumped\">stumpings</a></th>\n",
       "<td>22/–</td>\n",
       "<td>82/–</td>\n",
       "<td>159/–</td>\n",
       "<td>187/–</td></tr></tbody></table></td></tr><tr style=\"display:none\"><th colspan=\"2\" style=\"display:none\"></th></tr><tr><td class=\"infobox-full-data\" colspan=\"2\"><div style=\"text-align: right\">Source: <a class=\"external text\" href=\"http://www.espncricinfo.com/ci/content/player/7702.html\" rel=\"nofollow\">ESPNcricinfo</a>, <span class=\"nowrap\">15 May 2022</span></div></td></tr></tbody></table>\n",
       "<p><b>Andrew Symonds</b> (9 June 1975 – 14 May 2022) was an Australian international <a href=\"/wiki/Cricket\" title=\"Cricket\">cricketer</a>, who played all three formats as a batting <a href=\"/wiki/All-rounder\" title=\"All-rounder\">all-rounder</a>. Commonly nicknamed \"Roy\", he was a key member of two <a href=\"/wiki/Cricket_World_Cup\" title=\"Cricket World Cup\">World Cup</a> winning squads. Symonds played as a right-handed, middle order batsman and alternated between medium pace and <a class=\"mw-redirect\" href=\"/wiki/Off-spin\" title=\"Off-spin\">off-spin</a> bowling. He was also notable for his exceptional fielding skills.\n",
       "</p><p>After mid-2008, Symonds spent significant time out of the team, due to disciplinary reasons, including alcohol.<sup class=\"reference\" id=\"cite_ref-cricpro_1-0\"><a href=\"#cite_note-cricpro-1\">[1]</a></sup> In June 2009, he was sent home from the <a class=\"mw-redirect\" href=\"/wiki/2009_World_Twenty20\" title=\"2009 World Twenty20\">2009 World Twenty20</a>, his third suspension, expulsion or exclusion from selection in the space of a year. His central contract was then withdrawn,<sup class=\"reference\" id=\"cite_ref-contract_withdrawn_2-0\"><a href=\"#cite_note-contract_withdrawn-2\">[2]</a></sup> and many cricket analysts speculated that the Australian administrators would no longer tolerate him, and that Symonds might announce his retirement.<sup class=\"reference\" id=\"cite_ref-retire?_3-0\"><a href=\"#cite_note-retire?-3\">[3]</a></sup> Symonds eventually retired from all forms of cricket in February 2012, to concentrate on his family life.<sup class=\"reference\" id=\"cite_ref-Australian_all-rounder_Andrew_Symonds_retires_from_cricket_4-0\"><a href=\"#cite_note-Australian_all-rounder_Andrew_Symonds_retires_from_cricket-4\">[4]</a></sup>\n",
       "</p><p>In 2022, Symonds died in a single-vehicle car crash about 50 km (31 mi) outside <a href=\"/wiki/Townsville\" title=\"Townsville\">Townsville</a>, <a href=\"/wiki/Queensland\" title=\"Queensland\">Queensland</a>. He was 46.<sup class=\"reference\" id=\"cite_ref-5\"><a href=\"#cite_note-5\">[5]</a></sup>\n",
       "</p>\n",
       "<div aria-labelledby=\"mw-toc-heading\" class=\"toc\" id=\"toc\" role=\"navigation\"><input class=\"toctogglecheckbox\" id=\"toctogglecheckbox\" role=\"button\" style=\"display:none\" type=\"checkbox\"/><div class=\"toctitle\" dir=\"ltr\" lang=\"en\"><h2 id=\"mw-toc-heading\">Contents</h2><span class=\"toctogglespan\"><label class=\"toctogglelabel\" for=\"toctogglecheckbox\"></label></span></div>\n",
       "<ul>\n",
       "<li class=\"toclevel-1 tocsection-1\"><a href=\"#Early_life\"><span class=\"tocnumber\">1</span> <span class=\"toctext\">Early life</span></a></li>\n",
       "<li class=\"toclevel-1 tocsection-2\"><a href=\"#Overview_of_cricket_career\"><span class=\"tocnumber\">2</span> <span class=\"toctext\">Overview of cricket career</span></a></li>\n",
       "<li class=\"toclevel-1 tocsection-3\"><a href=\"#Domestic_cricket\"><span class=\"tocnumber\">3</span> <span class=\"toctext\">Domestic cricket</span></a>\n",
       "<ul>\n",
       "<li class=\"toclevel-2 tocsection-4\"><a href=\"#Australian_state_cricket\"><span class=\"tocnumber\">3.1</span> <span class=\"toctext\">Australian state cricket</span></a></li>\n",
       "<li class=\"toclevel-2 tocsection-5\"><a href=\"#English_counties\"><span class=\"tocnumber\">3.2</span> <span class=\"toctext\">English counties</span></a>\n",
       "<ul>\n",
       "<li class=\"toclevel-3 tocsection-6\"><a href=\"#Kent\"><span class=\"tocnumber\">3.2.1</span> <span class=\"toctext\">Kent</span></a></li>\n",
       "</ul>\n",
       "</li>\n",
       "<li class=\"toclevel-2 tocsection-7\"><a href=\"#Indian_Premier_League\"><span class=\"tocnumber\">3.3</span> <span class=\"toctext\">Indian Premier League</span></a></li>\n",
       "</ul>\n",
       "</li>\n",
       "<li class=\"toclevel-1 tocsection-8\"><a href=\"#International_career\"><span class=\"tocnumber\">4</span> <span class=\"toctext\">International career</span></a>\n",
       "<ul>\n",
       "<li class=\"toclevel-2 tocsection-9\"><a href=\"#Emergence_and_2003_World_Cup\"><span class=\"tocnumber\">4.1</span> <span class=\"toctext\">Emergence and 2003 World Cup</span></a></li>\n",
       "<li class=\"toclevel-2 tocsection-10\"><a href=\"#ODI_regular,_Test_debut\"><span class=\"tocnumber\">4.2</span> <span class=\"toctext\">ODI regular, Test debut</span></a></li>\n",
       "<li class=\"toclevel-2 tocsection-11\"><a href=\"#2007_World_Cup\"><span class=\"tocnumber\">4.3</span> <span class=\"toctext\">2007 World Cup</span></a></li>\n",
       "<li class=\"toclevel-2 tocsection-12\"><a href=\"#Allegations_of_racial_taunts\"><span class=\"tocnumber\">4.4</span> <span class=\"toctext\">Allegations of racial taunts</span></a></li>\n",
       "<li class=\"toclevel-2 tocsection-13\"><a href=\"#International_career_draws_to_a_close\"><span class=\"tocnumber\">4.5</span> <span class=\"toctext\">International career draws to a close</span></a></li>\n",
       "</ul>\n",
       "</li>\n",
       "<li class=\"toclevel-1 tocsection-14\"><a href=\"#Career_highlights\"><span class=\"tocnumber\">5</span> <span class=\"toctext\">Career highlights</span></a></li>\n",
       "<li class=\"toclevel-1 tocsection-15\"><a href=\"#Rugby_league\"><span class=\"tocnumber\">6</span> <span class=\"toctext\">Rugby league</span></a></li>\n",
       "<li class=\"toclevel-1 tocsection-16\"><a href=\"#Media\"><span class=\"tocnumber\">7</span> <span class=\"toctext\">Media</span></a></li>\n",
       "<li class=\"toclevel-1 tocsection-17\"><a href=\"#Death\"><span class=\"tocnumber\">8</span> <span class=\"toctext\">Death</span></a></li>\n",
       "<li class=\"toclevel-1 tocsection-18\"><a href=\"#Bibliography\"><span class=\"tocnumber\">9</span> <span class=\"toctext\">Bibliography</span></a>\n",
       "<ul>\n",
       "<li class=\"toclevel-2 tocsection-19\"><a href=\"#Author\"><span class=\"tocnumber\">9.1</span> <span class=\"toctext\">Author</span></a></li>\n",
       "<li class=\"toclevel-2 tocsection-20\"><a href=\"#Contributor\"><span class=\"tocnumber\">9.2</span> <span class=\"toctext\">Contributor</span></a></li>\n",
       "</ul>\n",
       "</li>\n",
       "<li class=\"toclevel-1 tocsection-21\"><a href=\"#References\"><span class=\"tocnumber\">10</span> <span class=\"toctext\">References</span></a></li>\n",
       "<li class=\"toclevel-1 tocsection-22\"><a href=\"#External_links\"><span class=\"tocnumber\">11</span> <span class=\"toctext\">External links</span></a></li>\n",
       "</ul>\n",
       "</div>\n",
       "<h2><span class=\"mw-headline\" id=\"Early_life\">Early life</span><span class=\"mw-editsection\"><span class=\"mw-editsection-bracket\">[</span><a href=\"/w/index.php?title=Andrew_Symonds&amp;action=edit&amp;section=1\" title=\"Edit section: Early life\">edit</a><span class=\"mw-editsection-bracket\">]</span></span></h2>\n",
       "<p>One of Symonds' birth parents was of African-Caribbean background and the other was believed to be of Scandinavian descent.<sup class=\"reference\" id=\"cite_ref-6\"><a href=\"#cite_note-6\">[6]</a></sup> Symonds was adopted by parents Ken and Barbara at three months and they moved to <a href=\"/wiki/Australia\" title=\"Australia\">Australia</a> when he was a toddler.<sup class=\"reference\" id=\"cite_ref-wandererscricket.com_7-0\"><a href=\"#cite_note-wandererscricket.com-7\">[7]</a></sup> He had three siblings. His sister, Louise Symonds, who was also adopted, was a contestant on the Australian <i><a href=\"/wiki/Gladiators_(2008_Australian_TV_series)\" title=\"Gladiators (2008 Australian TV series)\">Gladiators</a></i> television series in 2008.<sup class=\"reference\" id=\"cite_ref-8\"><a href=\"#cite_note-8\">[8]</a></sup>\n",
       "</p><p>He spent the early part of his childhood in <a href=\"/wiki/Charters_Towers\" title=\"Charters Towers\">Charters Towers</a>, northern Queensland, where his father taught at the private fee paying <a class=\"mw-redirect\" href=\"/wiki/All_Souls_St_Gabriels_School\" title=\"All Souls St Gabriels School\">All Souls St Gabriels School</a>, which Symonds attended.<sup class=\"reference\" id=\"cite_ref-9\"><a href=\"#cite_note-9\">[9]</a></sup> He showed sporting prowess from a very early age. \"Dad was cricket mad. He’d throw balls to me five or six days a week, before school, after school. And we’d play all sorts of games inside the house with ping-pong balls and Christmas decorations.\"<sup class=\"reference\" id=\"cite_ref-10\"><a href=\"#cite_note-10\">[10]</a></sup> Much of his junior cricket was played in <a href=\"/wiki/Townsville\" title=\"Townsville\">Townsville</a> for the Wanderers club, father and son making the 270-kilometre return trip sometimes twice a week.<sup class=\"reference\" id=\"cite_ref-wandererscricket.com_7-1\"><a href=\"#cite_note-wandererscricket.com-7\">[7]</a></sup> The family later moved to the <a href=\"/wiki/Gold_Coast,_Queensland\" title=\"Gold Coast, Queensland\">Gold Coast</a>, where his parents were on the staff of <a href=\"/wiki/All_Saints_Anglican_School\" title=\"All Saints Anglican School\">All Saints Anglican School</a> in <a href=\"/wiki/Merrimac,_Queensland\" title=\"Merrimac, Queensland\">Merrimac</a>. Symonds was a student at the school.<sup class=\"reference\" id=\"cite_ref-11\"><a href=\"#cite_note-11\">[11]</a></sup>\n",
       "</p>\n",
       "<h2><span class=\"mw-headline\" id=\"Overview_of_cricket_career\">Overview of cricket career</span><span class=\"mw-editsection\"><span class=\"mw-editsection-bracket\">[</span><a href=\"/w/index.php?title=Andrew_Symonds&amp;action=edit&amp;section=2\" title=\"Edit section: Overview of cricket career\">edit</a><span class=\"mw-editsection-bracket\">]</span></span></h2>\n",
       "<p>Symonds was an aggressive <a class=\"mw-redirect\" href=\"/wiki/Right-handed\" title=\"Right-handed\">right-handed</a> <a class=\"mw-redirect\" href=\"/wiki/Batsman\" title=\"Batsman\">batsman</a> who could also <a href=\"/wiki/Bowling_(cricket)\" title=\"Bowling (cricket)\">bowl</a> <a href=\"/wiki/Off_spin\" title=\"Off spin\">off spin</a> or medium pace, making him a good <a href=\"/wiki/All-rounder\" title=\"All-rounder\">all-rounder</a>. He was an exceptional <a href=\"/wiki/Fielding_(cricket)\" title=\"Fielding (cricket)\">fielder</a>, with a report prepared by <a class=\"mw-redirect\" href=\"/wiki/Cricinfo\" title=\"Cricinfo\">Cricinfo</a> in late 2005 showing that since the <a href=\"/wiki/1999_Cricket_World_Cup\" title=\"1999 Cricket World Cup\">1999 Cricket World Cup</a>, he had effected the fifth equal most <a href=\"/wiki/Run_out\" title=\"Run out\">run-outs</a> in <a href=\"/wiki/One_Day_International\" title=\"One Day International\">One Day International</a> (ODI) cricket of any fieldsman, with the fourth highest success rate,<sup class=\"reference\" id=\"cite_ref-12\"><a href=\"#cite_note-12\">[12]</a></sup> with <a href=\"/wiki/Ricky_Ponting\" title=\"Ricky Ponting\">Ricky Ponting</a> rating him the best fielder he had seen, and a better and more versatile one than <a href=\"/wiki/Herschelle_Gibbs\" title=\"Herschelle Gibbs\">Herschelle Gibbs</a> and <a href=\"/wiki/Jonty_Rhodes\" title=\"Jonty Rhodes\">Jonty Rhodes</a> because Symonds was taller than them, giving him better defensive coverage range and had greater throw power outside the circle.<sup class=\"reference\" id=\"cite_ref-13\"><a href=\"#cite_note-13\">[13]</a></sup> He was very agile for his size and weight (medium-heavy build; 187 cm tall), had excellent reflexes, was able to take catches well and had a powerful and accurate throwing arm. His nickname was Roy, shortened from the name Leroy, after a coach from early in his career believed he resembled local Brisbane basketball player <a href=\"/wiki/Leroy_Loggins\" title=\"Leroy Loggins\">Leroy Loggins</a>.<sup class=\"reference\" id=\"cite_ref-14\"><a href=\"#cite_note-14\">[14]</a></sup> He was an AIS <a href=\"/wiki/Australian_Cricket_Academy\" title=\"Australian Cricket Academy\">Australian Cricket Academy</a> scholarship holder in 1994.<sup class=\"reference\" id=\"cite_ref-15\"><a href=\"#cite_note-15\">[15]</a></sup>\n",
       "In 1995, after playing in his first season for English county Gloucestershire, Symonds won the <a class=\"mw-redirect\" href=\"/wiki/Cricket_Writer%27s_Club_Young_Cricketer_of_the_Year\" title=\"Cricket Writer's Club Young Cricketer of the Year\">Cricket Writer's Club Young Cricketer of the Year</a> award.<sup class=\"reference\" id=\"cite_ref-lynch_16-0\"><a href=\"#cite_note-lynch-16\">[16]</a></sup> Shortly afterwards Symonds was selected as part of the <a class=\"mw-redirect\" href=\"/wiki/England_A_cricket_team\" title=\"England A cricket team\">England A</a> team that was to tour Pakistan in the winter; however, he decided not to go, instead choosing to pursue an international career for Australia. His place on the tour was later taken by Middlesex player <a href=\"/wiki/Jason_Pooley\" title=\"Jason Pooley\">Jason Pooley</a>.<sup class=\"reference\" id=\"cite_ref-lynch_16-1\"><a href=\"#cite_note-lynch-16\">[16]</a></sup>\n",
       "</p>\n",
       "<h2><span class=\"mw-headline\" id=\"Domestic_cricket\">Domestic cricket</span><span class=\"mw-editsection\"><span class=\"mw-editsection-bracket\">[</span><a href=\"/w/index.php?title=Andrew_Symonds&amp;action=edit&amp;section=3\" title=\"Edit section: Domestic cricket\">edit</a><span class=\"mw-editsection-bracket\">]</span></span></h2>\n",
       "<h3><span class=\"mw-headline\" id=\"Australian_state_cricket\">Australian state cricket</span><span class=\"mw-editsection\"><span class=\"mw-editsection-bracket\">[</span><a href=\"/w/index.php?title=Andrew_Symonds&amp;action=edit&amp;section=4\" title=\"Edit section: Australian state cricket\">edit</a><span class=\"mw-editsection-bracket\">]</span></span></h3>\n",
       "<p>Symonds scored more than 5,000 runs and took more than 100 wickets for the <a class=\"mw-redirect\" href=\"/wiki/Queensland_Bulls\" title=\"Queensland Bulls\">Queensland state team</a>.<sup class=\"reference\" id=\"cite_ref-17\"><a href=\"#cite_note-17\">[17]</a></sup> He scored 113 and took four wickets in a losing cause in the final of the <a href=\"/wiki/1998%E2%80%9399_Sheffield_Shield_season\" title=\"1998–99 Sheffield Shield season\">1998–99 Sheffield Shield season</a>,<sup class=\"reference\" id=\"cite_ref-18\"><a href=\"#cite_note-18\">[18]</a></sup> and was named <a class=\"mw-redirect\" href=\"/wiki/Man_of_the_match\" title=\"Man of the match\">man of the match</a> in the <a href=\"/wiki/2001%E2%80%9302_Sheffield_Shield_season\" title=\"2001–02 Sheffield Shield season\">2002 Pura Cup final</a> after scoring 123 runs and taking six wickets.<sup class=\"reference\" id=\"cite_ref-19\"><a href=\"#cite_note-19\">[19]</a></sup><sup class=\"reference\" id=\"cite_ref-20\"><a href=\"#cite_note-20\">[20]</a></sup>\n",
       "</p>\n",
       "<h3><span class=\"mw-headline\" id=\"English_counties\">English counties</span><span class=\"mw-editsection\"><span class=\"mw-editsection-bracket\">[</span><a href=\"/w/index.php?title=Andrew_Symonds&amp;action=edit&amp;section=5\" title=\"Edit section: English counties\">edit</a><span class=\"mw-editsection-bracket\">]</span></span></h3>\n",
       "<p>Symonds played for four <a href=\"/wiki/England\" title=\"England\">English</a> counties during his career—<a href=\"/wiki/Gloucestershire_County_Cricket_Club\" title=\"Gloucestershire County Cricket Club\">Gloucestershire</a>, <a class=\"mw-redirect\" href=\"/wiki/Kent_CCC\" title=\"Kent CCC\">Kent</a>, <a href=\"/wiki/Lancashire_County_Cricket_Club\" title=\"Lancashire County Cricket Club\">Lancashire</a> and <a class=\"mw-redirect\" href=\"/wiki/Surrey_CCC\" title=\"Surrey CCC\">Surrey</a>.<sup class=\"reference\" id=\"cite_ref-lynch_16-2\"><a href=\"#cite_note-lynch-16\">[16]</a></sup> His first appearance for an English county was with Gloucestershire.<sup class=\"reference\" id=\"cite_ref-21\"><a href=\"#cite_note-21\">[21]</a></sup> Initially he was considered an England-qualified player, however, following his first season of county cricket in 1995 he declared that his allegiances lay with <a href=\"/wiki/Australia\" title=\"Australia\">Australia</a> when he chose not to tour Pakistan with the <a class=\"mw-redirect\" href=\"/wiki/England_A_cricket_team\" title=\"England A cricket team\">England A</a> team.<sup class=\"reference\" id=\"cite_ref-lynch_16-3\"><a href=\"#cite_note-lynch-16\">[16]</a></sup>\n",
       "</p><p>In August 1995, he hit a record 16 sixes in his unbeaten 254 against <a class=\"mw-redirect\" href=\"/wiki/Glamorgan_CCC\" title=\"Glamorgan CCC\">Glamorgan</a> at <a href=\"/wiki/Pen-y-Pound,_Abergavenny\" title=\"Pen-y-Pound, Abergavenny\">Abergavenny</a>.<sup class=\"reference\" id=\"cite_ref-Frindall_22-0\"><a href=\"#cite_note-Frindall-22\">[22]</a></sup> In doing so, he beat the previous mark set by New Zealand's <a href=\"/wiki/John_Richard_Reid\" title=\"John Richard Reid\">John R. Reid</a>. <i><a href=\"/wiki/Wisden_Cricketers%27_Almanack\" title=\"Wisden Cricketers' Almanack\">Wisden</a></i> reported that the 16th six \"landed on a tennis court about 20 feet (6.1 m) over the boundary\" and \"though he was undoubtedly helped by the short boundaries, it would have been a hugely effective innings on any ground in the world\". The record was equalled by <a href=\"/wiki/Graham_Napier\" title=\"Graham Napier\">Graham Napier</a> for <a href=\"/wiki/Essex_County_Cricket_Club\" title=\"Essex County Cricket Club\">Essex</a> against <a href=\"/wiki/Surrey_County_Cricket_Club\" title=\"Surrey County Cricket Club\">Surrey</a> in 2011, and stood until May 2022 when <a href=\"/wiki/Ben_Stokes\" title=\"Ben Stokes\">Ben Stokes</a> hit 17 sixes in an innings for <a href=\"/wiki/Durham_County_Cricket_Club\" title=\"Durham County Cricket Club\">Durham</a> against <a href=\"/wiki/Worcestershire_County_Cricket_Club\" title=\"Worcestershire County Cricket Club\">Worcestershire</a>.<sup class=\"reference\" id=\"cite_ref-23\"><a href=\"#cite_note-23\">[23]</a></sup> Symonds added four more sixes in the second innings, to beat the old record of 17 in a match, set by <a class=\"mw-redirect\" href=\"/wiki/Warwickshire_CCC\" title=\"Warwickshire CCC\">Warwickshire's</a> <a href=\"/wiki/Jim_Stewart_(cricketer)\" title=\"Jim Stewart (cricketer)\">Jim Stewart</a> against <a class=\"mw-redirect\" href=\"/wiki/Lancashire_CCC\" title=\"Lancashire CCC\">Lancashire</a> at Blackpool in 1959.<sup class=\"reference\" id=\"cite_ref-Frindall_22-1\"><a href=\"#cite_note-Frindall-22\">[22]</a></sup>\n",
       "</p><p>In July 2005, he signed for Lancashire for the rest of the English season having finished duties as part of Australia's ODI squad.<sup class=\"reference\" id=\"cite_ref-24\"><a href=\"#cite_note-24\">[24]</a></sup> In April 2010, he signed for <a href=\"/wiki/Surrey_County_Cricket_Club\" title=\"Surrey County Cricket Club\">Surrey</a> to play in the <a class=\"mw-redirect\" href=\"/wiki/Twenty20_Cup\" title=\"Twenty20 Cup\">Friends Provident t20</a> competition.<sup class=\"reference\" id=\"cite_ref-25\"><a href=\"#cite_note-25\">[25]</a></sup>\n",
       "</p>\n",
       "<h4><span class=\"mw-headline\" id=\"Kent\">Kent</span><span class=\"mw-editsection\"><span class=\"mw-editsection-bracket\">[</span><a href=\"/w/index.php?title=Andrew_Symonds&amp;action=edit&amp;section=6\" title=\"Edit section: Kent\">edit</a><span class=\"mw-editsection-bracket\">]</span></span></h4>\n",
       "<p>Between 1999 and 2004, Symonds played for Kent. He joined the club as an overseas player for the first time ahead of the <a href=\"/wiki/1999_County_Championship\" title=\"1999 County Championship\">1999 County Championship</a> and was also brought in as an injury replacement for <a href=\"/wiki/Daryll_Cullinan\" title=\"Daryll Cullinan\">Daryll Cullinan</a> during the <a href=\"/wiki/2001_County_Championship\" title=\"2001 County Championship\">2001 County Championship</a>.<sup class=\"reference\" id=\"cite_ref-26\"><a href=\"#cite_note-26\">[26]</a></sup>\n",
       "</p><p>He eventually made his mark in T20 cricket which was in its early days during his stint with Kent. He also featured for Kent in the inaugural edition of the <a href=\"/wiki/2003_Twenty20_Cup\" title=\"2003 Twenty20 Cup\">2003 Twenty20 Cup</a> and played an influential knock of an unbeaten 96 runs off just 37 balls with a strike rate of 259.45 against Hampshire in a group stage match. His knock which came at a strike rate of over 250 was a surprise given that T20 cricket was in its very early days. His knock sealed the deal for Kent as the modest target of 146 was reached within just 12 overs.<sup class=\"reference\" id=\"cite_ref-27\"><a href=\"#cite_note-27\">[27]</a></sup>\n",
       "</p><p>Some of his highlights came on 2 July 2004 when he hit a 43-ball 112 for Kent Spitfires in a <a class=\"mw-redirect\" href=\"/wiki/Twenty20_Cup\" title=\"Twenty20 Cup\">Twenty20 Cup</a> match against <a class=\"mw-redirect\" href=\"/wiki/Middlesex_CCC\" title=\"Middlesex CCC\">Middlesex Crusaders</a>.<sup class=\"reference\" id=\"cite_ref-KentMid_28-0\"><a href=\"#cite_note-KentMid-28\">[28]</a></sup> He scored 112 in 37 minutes and his century, which came at 34 balls, was the then world record for the fastest ever century in T20 cricket. His record stood for nine years before being surpassed by <a href=\"/wiki/Chris_Gayle\" title=\"Chris Gayle\">Chris Gayle</a>, during the <a href=\"/wiki/2013_Indian_Premier_League\" title=\"2013 Indian Premier League\">2013 Indian Premier League</a>, who did it in 30 balls.<sup class=\"reference\" id=\"cite_ref-29\"><a href=\"#cite_note-29\">[29]</a></sup> Symonds' knock comprised a flurry of boundaries including 18 fours and three sixes which came at a strike rate of 260.46 and his knock helped Kent to win the rain affected match convincingly by seven wickets with 29 balls to spare.<sup class=\"reference\" id=\"cite_ref-KentMid_28-1\"><a href=\"#cite_note-KentMid-28\">[28]</a></sup>\n",
       "</p><p>He appeared in 49 first-class matches for Kent, scoring 3,526 runs for the club at an average of 45.20, including 12 centuries, and also taking 65 wickets.<sup class=\"reference\" id=\"cite_ref-KentStats_30-0\"><a href=\"#cite_note-KentStats-30\">[30]</a></sup> He also played in 62 List A matches for Kent, scoring 1,690 runs at an average of 30.17, and took 69 wickets at an average of 21.53.<sup class=\"reference\" id=\"cite_ref-KentStats_30-1\"><a href=\"#cite_note-KentStats-30\">[30]</a></sup><sup class=\"reference\" id=\"cite_ref-31\"><a href=\"#cite_note-31\">[31]</a></sup> In 2020, Kent supporters named him as the club's Greatest Overseas Player.<sup class=\"reference\" id=\"cite_ref-32\"><a href=\"#cite_note-32\">[32]</a></sup>\n",
       "</p>\n",
       "<h3><span class=\"mw-headline\" id=\"Indian_Premier_League\">Indian Premier League</span><span class=\"mw-editsection\"><span class=\"mw-editsection-bracket\">[</span><a href=\"/w/index.php?title=Andrew_Symonds&amp;action=edit&amp;section=7\" title=\"Edit section: Indian Premier League\">edit</a><span class=\"mw-editsection-bracket\">]</span></span></h3>\n",
       "<p>In February 2008, Symonds was signed by the <a href=\"/wiki/Indian_Premier_League\" title=\"Indian Premier League\">Indian Premier League</a> (IPL) franchise <a href=\"/wiki/Deccan_Chargers\" title=\"Deccan Chargers\">Deccan Chargers</a> for US$1,350,000, which made him the second most expensive player in the league at that time.<sup class=\"reference\" id=\"cite_ref-33\"><a href=\"#cite_note-33\">[33]</a></sup> During the 2008 competition, Symonds scored 117 not out from 53 balls against <a href=\"/wiki/Rajasthan_Royals\" title=\"Rajasthan Royals\">Rajasthan Royals</a>. The Royals ended up winning the game, with Symonds conceding 19 runs from the final over, with 17 required to win.<sup class=\"reference\" id=\"cite_ref-34\"><a href=\"#cite_note-34\">[34]</a></sup> Symonds started the third season convincingly, scoring two 50s in his first three games with the side in 2010.<sup class=\"reference\" id=\"cite_ref-35\"><a href=\"#cite_note-35\">[35]</a></sup><sup class=\"reference\" id=\"cite_ref-36\"><a href=\"#cite_note-36\">[36]</a></sup> The following year he was contracted by <a href=\"/wiki/Mumbai_Indians\" title=\"Mumbai Indians\">Mumbai Indians</a> for US$850,000.<sup class=\"reference\" id=\"cite_ref-37\"><a href=\"#cite_note-37\">[37]</a></sup>\n",
       "</p>\n",
       "<h2><span class=\"mw-headline\" id=\"International_career\">International career</span><span class=\"mw-editsection\"><span class=\"mw-editsection-bracket\">[</span><a href=\"/w/index.php?title=Andrew_Symonds&amp;action=edit&amp;section=8\" title=\"Edit section: International career\">edit</a><span class=\"mw-editsection-bracket\">]</span></span></h2>\n",
       "<h3><span class=\"mw-headline\" id=\"Emergence_and_2003_World_Cup\">Emergence and 2003 World Cup</span><span class=\"mw-editsection\"><span class=\"mw-editsection-bracket\">[</span><a href=\"/w/index.php?title=Andrew_Symonds&amp;action=edit&amp;section=9\" title=\"Edit section: Emergence and 2003 World Cup\">edit</a><span class=\"mw-editsection-bracket\">]</span></span></h3>\n",
       "<p>Although Symonds was originally qualified to play for <a href=\"/wiki/England_cricket_team\" title=\"England cricket team\">England</a> due to its being the country of his birth, and <a href=\"/wiki/West_Indies_cricket_team\" title=\"West Indies cricket team\">West Indies</a> due to his ancestry,<sup class=\"reference\" id=\"cite_ref-38\"><a href=\"#cite_note-38\">[38]</a></sup> in 1995 he decided that he wished to pursue an international career for Australia instead.<sup class=\"reference\" id=\"cite_ref-lynch_16-4\"><a href=\"#cite_note-lynch-16\">[16]</a></sup> His international debut came on 10 November 1998, when he played in a <a href=\"/wiki/One_Day_International\" title=\"One Day International\">One Day International</a> (ODI) for Australia against Pakistan at Lahore.<sup class=\"reference\" id=\"cite_ref-39\"><a href=\"#cite_note-39\">[39]</a></sup> As an ODI player, he was known for scoring runs at an excellent <a href=\"/wiki/Cricket_statistics\" title=\"Cricket statistics\">strike rate</a> of over 90, with a highest score of 156.<sup class=\"reference\" id=\"cite_ref-40\"><a href=\"#cite_note-40\">[40]</a></sup>\n",
       "</p><p>However, at the start of his international career, Symonds struggled to make an impact with the bat and ball, although his fielding was of high quality, and was not a regular member of the playing XI. Symonds was named in Australia's <a href=\"/wiki/2003_Cricket_World_Cup\" title=\"2003 Cricket World Cup\">2003 Cricket World Cup</a> squad.<sup class=\"reference\" id=\"cite_ref-41\"><a href=\"#cite_note-41\">[41]</a></sup> After all-rounder <a href=\"/wiki/Shane_Watson\" title=\"Shane Watson\">Shane Watson</a> had to withdraw due to injury,<sup class=\"reference\" id=\"cite_ref-BevanStillChance_42-0\"><a href=\"#cite_note-BevanStillChance-42\">[42]</a></sup> <a href=\"/wiki/Shane_Warne\" title=\"Shane Warne\">Shane Warne</a> was sent home after failing a drugs test,<sup class=\"reference\" id=\"cite_ref-43\"><a href=\"#cite_note-43\">[43]</a></sup> and with <a href=\"/wiki/Darren_Lehmann\" title=\"Darren Lehmann\">Darren Lehmann</a> still serving a suspension for racial abuse,<sup class=\"reference\" id=\"cite_ref-44\"><a href=\"#cite_note-44\">[44]</a></sup> Symonds made his way into the starting XI. According to former England cricketer <a href=\"/wiki/Adam_Hollioake\" title=\"Adam Hollioake\">Adam Hollioake</a>, Symonds would not have made the 2003 World Cup squad if he had not received backing from captain Ponting.<sup class=\"reference\" id=\"cite_ref-45\"><a href=\"#cite_note-45\">[45]</a></sup>\n",
       "</p><p>In the first match against Pakistan, Symonds scored 143 <a href=\"/wiki/Not_out\" title=\"Not out\">not out</a> to guide Australia from 4/86 to 8/310 en route to an 82-run victory,<sup class=\"reference\" id=\"cite_ref-46\"><a href=\"#cite_note-46\">[46]</a></sup> a performance described by Kanta Murali of <i><a href=\"/wiki/The_Hindu\" title=\"The Hindu\">The Hindu</a></i> as \"one of the best knocks in one-day cricket history\". The innings went on to become the turning point of his career.<sup class=\"reference\" id=\"cite_ref-47\"><a href=\"#cite_note-47\">[47]</a></sup> In the semi-final against Sri Lanka, Symonds top scored with 91 not out and was named Player of the Match, as Australia won by 48 runs.<sup class=\"reference\" id=\"cite_ref-48\"><a href=\"#cite_note-48\">[48]</a></sup> With Australia's defeat of India in the final, they claimed their third World Cup triumph, becoming the first team to go undefeated in an edition of the tournament.<sup class=\"reference\" id=\"cite_ref-49\"><a href=\"#cite_note-49\">[49]</a></sup> Following this breakthrough, <i><a href=\"/wiki/The_Age\" title=\"The Age\">The Age</a></i> described Symonds \"as a true one-day star\", who had \"become an essential part of the one-day team.\"<sup class=\"reference\" id=\"cite_ref-Test_debut_50-0\"><a href=\"#cite_note-Test_debut-50\">[50]</a></sup>\n",
       "</p><p>He batted in five innings during the victorious 2003 World Cup campaign where he made 326 runs at an average of 163. He was also the third leading runscorer for Australia during the World Cup campaign just behind Adam Gilchrist and Matthew Hayden.<sup class=\"reference\" id=\"cite_ref-51\"><a href=\"#cite_note-51\">[51]</a></sup> He remained unbeaten in three of the five innings and his only failure with the bat in the tournament was against England where he was dismissed for a duck.<sup class=\"reference\" id=\"cite_ref-52\"><a href=\"#cite_note-52\">[52]</a></sup>\n",
       "</p>\n",
       "<h3><span id=\"ODI_regular.2C_Test_debut\"></span><span class=\"mw-headline\" id=\"ODI_regular,_Test_debut\">ODI regular, Test debut</span><span class=\"mw-editsection\"><span class=\"mw-editsection-bracket\">[</span><a href=\"/w/index.php?title=Andrew_Symonds&amp;action=edit&amp;section=10\" title=\"Edit section: ODI regular, Test debut\">edit</a><span class=\"mw-editsection-bracket\">]</span></span></h3>\n",
       "<p>A <a href=\"/wiki/Australian_cricket_team_in_the_West_Indies_in_2002%E2%80%9303\" title=\"Australian cricket team in the West Indies in 2002–03\">tour of the West Indies</a> followed, with Symonds playing all seven ODIs, scoring half-centuries in the third and fifth matches.<sup class=\"reference\" id=\"cite_ref-53\"><a href=\"#cite_note-53\">[53]</a></sup><sup class=\"reference\" id=\"cite_ref-54\"><a href=\"#cite_note-54\">[54]</a></sup> He ended as Australia's top run scorer in a 4–3 series victory.<sup class=\"reference\" id=\"cite_ref-55\"><a href=\"#cite_note-55\">[55]</a></sup><sup class=\"reference\" id=\"cite_ref-56\"><a href=\"#cite_note-56\">[56]</a></sup>\n",
       "</p><p>In March 2004, Symonds made his Test debut in <a href=\"/wiki/Australian_cricket_team_in_Sri_Lanka_in_2003%E2%80%9304\" title=\"Australian cricket team in Sri Lanka in 2003–04\">Australia's tour of Sri Lanka</a>, with the selectors citing his bowling and his power hitting against <a href=\"/wiki/Spin_bowling\" title=\"Spin bowling\">spin bowlers</a> as \"ideal\" for the <a href=\"/wiki/Indian_subcontinent\" title=\"Indian subcontinent\">subcontinent</a> conditions.<sup class=\"reference\" id=\"cite_ref-Test_debut_50-1\"><a href=\"#cite_note-Test_debut-50\">[50]</a></sup> He replaced <a href=\"/wiki/Simon_Katich\" title=\"Simon Katich\">Simon Katich</a>, who had scored a century and unbeaten fifty in Australia's previous Test.<sup class=\"reference\" id=\"cite_ref-57\"><a href=\"#cite_note-57\">[57]</a></sup> Playing as a batsman, Symonds encountered difficulty against <a href=\"/wiki/Muttiah_Muralitharan\" title=\"Muttiah Muralitharan\">Muttiah Muralitharan</a> on the dusty, spinning Sri Lankan tracks, failing to pass 25 in any of his four innings,<sup class=\"reference\" id=\"cite_ref-58\"><a href=\"#cite_note-58\">[58]</a></sup> and was dropped after two Test matches in favour of Katich.<sup class=\"reference\" id=\"cite_ref-59\"><a href=\"#cite_note-59\">[59]</a></sup>\n",
       "</p><p>He was recalled in November 2005 for <a href=\"/wiki/South_African_cricket_team_in_Australia_in_2005%E2%80%9306\" title=\"South African cricket team in Australia in 2005–06\">South Africa's tour of Australia</a>, following an injury to <a href=\"/wiki/Shane_Watson\" title=\"Shane Watson\">Shane Watson</a>, as Australia's search for an all-rounder continued.<sup class=\"reference\" id=\"cite_ref-60\"><a href=\"#cite_note-60\">[60]</a></sup> After five Tests, with a <a href=\"/wiki/Batting_average_(cricket)\" title=\"Batting average (cricket)\">batting average</a> of 12.62 and a <a href=\"/wiki/Bowling_average\" title=\"Bowling average\">bowling average</a> of 85.00, he was under pressure to retain his place in the team going into the 2005 <a href=\"/wiki/Boxing_Day_Test\" title=\"Boxing Day Test\">Boxing Day Test</a>.<sup class=\"reference\" id=\"cite_ref-61\"><a href=\"#cite_note-61\">[61]</a></sup> On the first day of the match, he was out caught behind for a <a href=\"/wiki/Duck_(cricket)\" title=\"Duck (cricket)\">golden duck</a>.<sup class=\"reference\" id=\"cite_ref-62\"><a href=\"#cite_note-62\">[62]</a></sup> But Symonds then took 3/50 in the <a href=\"/wiki/South_Africa_national_cricket_team\" title=\"South Africa national cricket team\">South African</a> first innings, before hitting 72 off 54 balls in the second innings and taking 2/6 with the ball.<sup class=\"reference\" id=\"cite_ref-63\"><a href=\"#cite_note-63\">[63]</a></sup> For his performances in 2005, he was named in the <a href=\"/wiki/ICC_Men%27s_ODI_Team_of_the_Year\" title=\"ICC Men's ODI Team of the Year\">World ODI XI</a> by the ICC.<sup class=\"reference\" id=\"cite_ref-64\"><a href=\"#cite_note-64\">[64]</a></sup>\n",
       "</p>\n",
       "<div class=\"thumb tright\"><div class=\"thumbinner\" style=\"width:222px;\"><a class=\"image\" href=\"/wiki/File:Cricket_pic.jpg\"><img alt=\"\" class=\"thumbimage\" data-file-height=\"221\" data-file-width=\"410\" decoding=\"async\" height=\"119\" src=\"//upload.wikimedia.org/wikipedia/commons/thumb/e/e9/Cricket_pic.jpg/220px-Cricket_pic.jpg\" srcset=\"//upload.wikimedia.org/wikipedia/commons/thumb/e/e9/Cricket_pic.jpg/330px-Cricket_pic.jpg 1.5x, //upload.wikimedia.org/wikipedia/commons/e/e9/Cricket_pic.jpg 2x\" width=\"220\"/></a> <div class=\"thumbcaption\"><div class=\"magnify\"><a class=\"internal\" href=\"/wiki/File:Cricket_pic.jpg\" title=\"Enlarge\"></a></div>Symonds batting against South Africa in 2006</div></div></div>\n",
       "<p>At the 2006 <a href=\"/wiki/Allan_Border_Medal\" title=\"Allan Border Medal\">Allan Border Medal</a> count, Symonds would have won the One Day Player of the Year award as he polled the most votes, but was ineligible due to a drinking binge during the <a class=\"mw-redirect\" href=\"/wiki/2005_Ashes\" title=\"2005 Ashes\">2005 Ashes</a> tour.<sup class=\"reference\" id=\"cite_ref-65\"><a href=\"#cite_note-65\">[65]</a></sup>\n",
       "</p><p>Symonds played every ODI in the tri-nation <a href=\"/wiki/2005%E2%80%9306_VB_Series\" title=\"2005–06 VB Series\">2005–06 VB Series</a>. He was named Player of the Match twice in the group stage: once as he hit a half-century in the opening game,<sup class=\"reference\" id=\"cite_ref-66\"><a href=\"#cite_note-66\">[66]</a></sup> and then again after scoring 32 and taking three wickets, both in victories over Sri Lanka.<sup class=\"reference\" id=\"cite_ref-67\"><a href=\"#cite_note-67\">[67]</a></sup> He also scored a second half-century, reaching 65 in a win over South Africa.<sup class=\"reference\" id=\"cite_ref-68\"><a href=\"#cite_note-68\">[68]</a></sup>\n",
       "</p><p>Having won six of their eight group stage games, Australia qualified for the best-of-three final, once again facing Sri Lanka, who finished second in the group table.<sup class=\"reference\" id=\"cite_ref-69\"><a href=\"#cite_note-69\">[69]</a></sup> After going down 1–0 in the opening match, Symonds put up 151, including 13 fours and three sixes. He shared a big partnership with <a href=\"/wiki/Ricky_Ponting\" title=\"Ricky Ponting\">Ricky Ponting</a> as Australia recorded 5/368, setting their highest ever ODI score. Symonds was named Player of the Match once again.<sup class=\"reference\" id=\"cite_ref-70\"><a href=\"#cite_note-70\">[70]</a></sup> After Australia secured victory in the third game of the final, Symonds won Player of the Series honours, having scored 389 runs and recorded 11 wickets.<sup class=\"reference\" id=\"cite_ref-71\"><a href=\"#cite_note-71\">[71]</a></sup> For his performances in 2006, he was named as 12th man in the World ODI XI by the ICC.<sup class=\"reference\" id=\"cite_ref-72\"><a href=\"#cite_note-72\">[72]</a></sup>\n",
       "</p><p>After South Africa's tour of Australia, the teams both headed to South Africa in February 2006 for <a href=\"/wiki/Australian_cricket_team_in_South_Africa_in_2005%E2%80%9306\" title=\"Australian cricket team in South Africa in 2005–06\">another series there</a>. Symonds missed the first three ODIs through injury,<sup class=\"reference\" id=\"cite_ref-73\"><a href=\"#cite_note-73\">[73]</a></sup> but returned in the fourth with a score of 76, to help Australia chase down a score of 246, and tie the series at 2–2.<sup class=\"reference\" id=\"cite_ref-74\"><a href=\"#cite_note-74\">[74]</a></sup> In the <a href=\"/wiki/Fifth_ODI,_Australian_cricket_team_in_South_Africa_in_2005%E2%80%9306\" title=\"Fifth ODI, Australian cricket team in South Africa in 2005–06\">fifth and final ODI</a>, Symonds contributed 27* as Australia broke the world record score for an ODI, with 434.<sup class=\"reference\" id=\"cite_ref-75\"><a href=\"#cite_note-75\">[75]</a></sup> But in what was billed \"The greatest the world has seen\" by <i><a href=\"/wiki/The_Sydney_Morning_Herald\" title=\"The Sydney Morning Herald\">The Sydney Morning Herald</a></i>, South Africa successfully chased and broke the new world record, setting a new high of 438, with 1 wicket and 1 ball to spare.<sup class=\"reference\" id=\"cite_ref-76\"><a href=\"#cite_note-76\">[76]</a></sup>\n",
       "</p><p>While batting in the second Test of the tour, Symonds was struck in the face of his helmet by a bouncer off <a href=\"/wiki/Makhaya_Ntini\" title=\"Makhaya Ntini\">Makhaya Ntini</a>. Symonds required four stitches on the inside of his upper lip.<sup class=\"reference\" id=\"cite_ref-77\"><a href=\"#cite_note-77\">[77]</a></sup> After scoring just 101 runs and claiming one wicket in the three Test series,<sup class=\"reference\" id=\"cite_ref-78\"><a href=\"#cite_note-78\">[78]</a></sup><sup class=\"reference\" id=\"cite_ref-79\"><a href=\"#cite_note-79\">[79]</a></sup> Symonds found himself dropped from the Test team for the subsequent <a href=\"/wiki/Australian_cricket_team_in_Bangladesh_in_2005%E2%80%9306\" title=\"Australian cricket team in Bangladesh in 2005–06\">tour of Bangladesh</a>, with <a href=\"/wiki/Michael_Clarke_(cricketer)\" title=\"Michael Clarke (cricketer)\">Michael Clarke</a> taking his place.<sup class=\"reference\" id=\"cite_ref-80\"><a href=\"#cite_note-80\">[80]</a></sup>\n",
       "</p>\n",
       "<h3><span class=\"mw-headline\" id=\"2007_World_Cup\">2007 World Cup</span><span class=\"mw-editsection\"><span class=\"mw-editsection-bracket\">[</span><a href=\"/w/index.php?title=Andrew_Symonds&amp;action=edit&amp;section=11\" title=\"Edit section: 2007 World Cup\">edit</a><span class=\"mw-editsection-bracket\">]</span></span></h3>\n",
       "<p>Following the retirement of <a href=\"/wiki/Damien_Martyn\" title=\"Damien Martyn\">Damien Martyn</a> during the <a href=\"/wiki/2006%E2%80%9307_Ashes_series\" title=\"2006–07 Ashes series\">2006–07 Ashes</a>, Symonds was again recalled to the team.<sup class=\"reference\" id=\"cite_ref-81\"><a href=\"#cite_note-81\">[81]</a></sup> Although he scored just 26 and 2 in his first Test back, he retained his place in the team for the second match.<sup class=\"reference\" id=\"cite_ref-82\"><a href=\"#cite_note-82\">[82]</a></sup> In the Boxing Day Test, Symonds arrived at the crease with Australia at 5/84.<sup class=\"reference\" id=\"cite_ref-83\"><a href=\"#cite_note-83\">[83]</a></sup> After a slow start to his innings he proceeded to score his maiden Test century, combining with <a href=\"/wiki/Matthew_Hayden\" title=\"Matthew Hayden\">Matthew Hayden</a> to put on a 279 run partnership and bringing up the century with a six. Symonds was finally dismissed for 156.<sup class=\"reference\" id=\"cite_ref-84\"><a href=\"#cite_note-84\">[84]</a></sup>\n",
       "</p>\n",
       "<div class=\"thumb tright\"><div class=\"thumbinner\" style=\"width:222px;\"><a class=\"image\" href=\"/wiki/File:AndySymonds.jpg\"><img alt=\"\" class=\"thumbimage\" data-file-height=\"681\" data-file-width=\"1024\" decoding=\"async\" height=\"146\" src=\"//upload.wikimedia.org/wikipedia/commons/thumb/d/d1/AndySymonds.jpg/220px-AndySymonds.jpg\" srcset=\"//upload.wikimedia.org/wikipedia/commons/thumb/d/d1/AndySymonds.jpg/330px-AndySymonds.jpg 1.5x, //upload.wikimedia.org/wikipedia/commons/thumb/d/d1/AndySymonds.jpg/440px-AndySymonds.jpg 2x\" width=\"220\"/></a> <div class=\"thumbcaption\"><div class=\"magnify\"><a class=\"internal\" href=\"/wiki/File:AndySymonds.jpg\" title=\"Enlarge\"></a></div>Symonds on the way to his maiden Test hundred in 2006</div></div></div>\n",
       "<p>Although selected in Australia's 15-member World Cup squad<sup class=\"reference\" id=\"cite_ref-85\"><a href=\"#cite_note-85\">[85]</a></sup> he was unavailable for selection for the first few matches because he ruptured his <a href=\"/wiki/Biceps\" title=\"Biceps\">biceps</a> while batting against England on 2 February 2007 in the <a href=\"/wiki/2006%E2%80%9307_Commonwealth_Bank_Series\" title=\"2006–07 Commonwealth Bank Series\">Commonwealth Bank Tri Series</a>.<sup class=\"reference\" id=\"cite_ref-86\"><a href=\"#cite_note-86\">[86]</a></sup> Surgery was performed and Symonds underwent extensive physical rehabilitation.<sup class=\"reference\" id=\"cite_ref-87\"><a href=\"#cite_note-87\">[87]</a></sup> As a result, he missed the remainder of that tournament as well as the <a href=\"/wiki/2006%E2%80%9307_Chappell%E2%80%93Hadlee_Trophy\" title=\"2006–07 Chappell–Hadlee Trophy\">Chappell–Hadlee Trophy in New Zealand</a>, while Australia suffered their longest losing streak in over a decade.<sup class=\"reference\" id=\"cite_ref-88\"><a href=\"#cite_note-88\">[88]</a></sup>\n",
       "</p><p>Symonds remarkably made a relatively quick recovery after returning for Australia's win in their last preliminary World Cup match against <a href=\"/wiki/South_Africa_national_cricket_team\" title=\"South Africa national cricket team\">South Africa</a>.<sup class=\"reference\" id=\"cite_ref-89\"><a href=\"#cite_note-89\">[89]</a></sup><sup class=\"reference\" id=\"cite_ref-90\"><a href=\"#cite_note-90\">[90]</a></sup> Australia reached <a href=\"/wiki/2007_Cricket_World_Cup_Final\" title=\"2007 Cricket World Cup Final\">the final</a>, where they faced <a href=\"/wiki/Sri_Lanka_national_cricket_team\" title=\"Sri Lanka national cricket team\">Sri Lanka</a>. In a rain-affected game, shortened to 38/36 overs per side, Symonds scored 23 not out during Australia's innings,<sup class=\"reference\" id=\"cite_ref-91\"><a href=\"#cite_note-91\">[91]</a></sup> and bowled the final ball of the tournament to seal victory in a contest that concluded in near-total darkness.<sup class=\"reference\" id=\"cite_ref-92\"><a href=\"#cite_note-92\">[92]</a></sup>\n",
       "</p>\n",
       "<h3><span class=\"mw-headline\" id=\"Allegations_of_racial_taunts\">Allegations of racial taunts</span><span class=\"mw-editsection\"><span class=\"mw-editsection-bracket\">[</span><a href=\"/w/index.php?title=Andrew_Symonds&amp;action=edit&amp;section=12\" title=\"Edit section: Allegations of racial taunts\">edit</a><span class=\"mw-editsection-bracket\">]</span></span></h3>\n",
       "<style data-mw-deduplicate=\"TemplateStyles:r1033289096\">.mw-parser-output .hatnote{font-style:italic}.mw-parser-output div.hatnote{padding-left:1.6em;margin-bottom:0.5em}.mw-parser-output .hatnote i{font-style:normal}.mw-parser-output .hatnote+link+.hatnote{margin-top:-0.5em}</style><div class=\"hatnote navigation-not-searchable\" role=\"note\">Main article: <a href=\"/wiki/Second_Test,_2007%E2%80%9308_Border%E2%80%93Gavaskar_Trophy\" title=\"Second Test, 2007–08 Border–Gavaskar Trophy\">Second Test, 2007–08 Border–Gavaskar Trophy</a></div>\n",
       "<p>In 2007, crowds at the One Day Series in <a href=\"/wiki/Vadodara\" title=\"Vadodara\">Vadodara</a>, <a href=\"/wiki/Nagpur\" title=\"Nagpur\">Nagpur</a> and <a href=\"/wiki/Mumbai\" title=\"Mumbai\">Mumbai</a> were seen to offend Symonds with <a class=\"mw-redirect\" href=\"/wiki/Monkey_chants\" title=\"Monkey chants\">monkey chants</a>. After the <a href=\"/wiki/Board_of_Control_for_Cricket_in_India\" title=\"Board of Control for Cricket in India\">Board of Control for Cricket in India</a> (BCCI) initially denied the incident at Vadodara took place (claiming it was a confusion with worshipping <a href=\"/wiki/Hanuman\" title=\"Hanuman\">Hanuman</a> the monkey god), further incidents occurred at the other grounds in the series.<sup class=\"reference\" id=\"cite_ref-93\"><a href=\"#cite_note-93\">[93]</a></sup><sup class=\"reference\" id=\"cite_ref-94\"><a href=\"#cite_note-94\">[94]</a></sup>\n",
       "</p><p>During the subsequent Sri Lankan tour of Australia in late 2007, Symonds had good form with the bat but suffered an ankle injury, which ruled him out for the remainder of the Test series.<sup class=\"reference\" id=\"cite_ref-95\"><a href=\"#cite_note-95\">[95]</a></sup> He then returned for 2007–08 Australia–India series.<sup class=\"reference\" id=\"cite_ref-96\"><a href=\"#cite_note-96\">[96]</a></sup>\n",
       "</p>\n",
       "<div class=\"thumb tright\"><div class=\"thumbinner\" style=\"width:222px;\"><a class=\"image\" href=\"/wiki/File:Andrew_symonds.jpg\"><img alt=\"\" class=\"thumbimage\" data-file-height=\"2592\" data-file-width=\"3888\" decoding=\"async\" height=\"147\" src=\"//upload.wikimedia.org/wikipedia/commons/thumb/9/9d/Andrew_symonds.jpg/220px-Andrew_symonds.jpg\" srcset=\"//upload.wikimedia.org/wikipedia/commons/thumb/9/9d/Andrew_symonds.jpg/330px-Andrew_symonds.jpg 1.5x, //upload.wikimedia.org/wikipedia/commons/thumb/9/9d/Andrew_symonds.jpg/440px-Andrew_symonds.jpg 2x\" width=\"220\"/></a> <div class=\"thumbcaption\"><div class=\"magnify\"><a class=\"internal\" href=\"/wiki/File:Andrew_symonds.jpg\" title=\"Enlarge\"></a></div>Symonds playing for Australia against India in 2008</div></div></div>\n",
       "<p>During the second Test against <a href=\"/wiki/India\" title=\"India\">India</a> on 2 January 2008, Symonds completed his second Test century. He came to the crease with Australia struggling at 119/4. After his initial partners, <a href=\"/wiki/Michael_Clarke_(cricketer)\" title=\"Michael Clarke (cricketer)\">Michael Clarke</a> (1) and then <a href=\"/wiki/Adam_Gilchrist\" title=\"Adam Gilchrist\">Adam Gilchrist</a> (7), were dismissed in quick succession, Australia found themselves in dire shape at 134/6. Symonds and <a href=\"/wiki/Brad_Hogg\" title=\"Brad Hogg\">Brad Hogg</a> then put on a record 7th wicket partnership at the <a href=\"/wiki/Sydney_Cricket_Ground\" title=\"Sydney Cricket Ground\">Sydney Cricket Ground</a> (also a record for Australia vs. India) of 173 until Hogg was dismissed for 79. At stumps on the first day, Symonds was not out on 137, and Australia 376/7. By the end of the innings, Symonds finished on 162 not out, when the Australians were finally bowled out for 463. He further went on to score 62 not out in the second innings.<sup class=\"reference\" id=\"cite_ref-97\"><a href=\"#cite_note-97\">[97]</a></sup> In January 2008, Indian spin bowler <a href=\"/wiki/Harbhajan_Singh\" title=\"Harbhajan Singh\">Harbhajan Singh</a> received a three-match ban after a complaint that he had racially abused Symonds during the third day of the Second Test at the SCG. It was alleged that Harbhajan called Symonds a \"monkey\" after Symonds confronted him over touching fellow Australian player <a href=\"/wiki/Brett_Lee\" title=\"Brett Lee\">Brett Lee</a>. The case was decided by the match referee, <a href=\"/wiki/Mike_Procter\" title=\"Mike Procter\">Mike Procter</a>, in a hearing held after the match.<sup class=\"reference\" id=\"cite_ref-98\"><a href=\"#cite_note-98\">[98]</a></sup>\n",
       "</p><p>On 29 January 2008, after the hearing of the appeal, at <a href=\"/wiki/Adelaide\" title=\"Adelaide\">Adelaide</a> by <a href=\"/wiki/International_Cricket_Council\" title=\"International Cricket Council\">ICC</a> appeals commissioner <a class=\"mw-redirect\" href=\"/wiki/John_William_Hansen\" title=\"John William Hansen\">John Hansen</a>, the racism charge on <a href=\"/wiki/Harbhajan_Singh\" title=\"Harbhajan Singh\">Harbhajan Singh</a> was not proved and the three Test ban was lifted. However, a lesser charge (Level 2.8 offence) of using abusive language was applied and Harbhajan was fined 50% of his match fee. Hansen later admitted that he \"could have imposed a more serious penalty if he was made aware by the <a class=\"mw-redirect\" href=\"/wiki/International_cricket_council\" title=\"International cricket council\">ICC</a> of the bowler's previous transgressions\"—including a suspended one Test Match ban. The ICC claimed the \"database and human errors ... played a part in Harbhajan Singh escaping a more severe penalty during his appeal hearing in Adelaide\".<sup class=\"reference\" id=\"cite_ref-99\"><a href=\"#cite_note-99\">[99]</a></sup>\n",
       "Hansen also criticised Symonds in his report accusing him of swearing at Harbhajan after a friendly gesture by the Indian bowler towards <a href=\"/wiki/Brett_Lee\" title=\"Brett Lee\">Brett Lee</a>. It was also reported that senior players had written a letter to John Hansen requesting a downgrading of the charge. The letter was signed by <a href=\"/wiki/Sachin_Tendulkar\" title=\"Sachin Tendulkar\">Sachin Tendulkar</a> and <a href=\"/wiki/Ricky_Ponting\" title=\"Ricky Ponting\">Ricky Ponting</a> and counter-signed by <a href=\"/wiki/Michael_Clarke_(cricketer)\" title=\"Michael Clarke (cricketer)\">Michael Clarke</a>, <a href=\"/wiki/Matthew_Hayden\" title=\"Matthew Hayden\">Matthew Hayden</a> and Symonds.<sup class=\"reference\" id=\"cite_ref-100\"><a href=\"#cite_note-100\">[100]</a></sup><sup class=\"reference\" id=\"cite_ref-cleared_101-0\"><a href=\"#cite_note-cleared-101\">[101]</a></sup> The stump microphone audio was removed immediately after the alleged incident between <a href=\"/wiki/Harbhajan_Singh\" title=\"Harbhajan Singh\">Harbhajan Singh</a> and Andrew Symonds was released by Channel Nine.<sup class=\"reference\" id=\"cite_ref-102\"><a href=\"#cite_note-102\">[102]</a></sup>\n",
       "</p><p>In his 2013 autobiography <i>At the Close of Play</i>, <a href=\"/wiki/Ricky_Ponting\" title=\"Ricky Ponting\">Ricky Ponting</a> expressed his disillusionment with <a href=\"/wiki/Cricket_Australia\" title=\"Cricket Australia\">Cricket Australia</a> for failing to support Symonds, who, though the victim of abuse, was painted as a villain. Daniel Brettig notes how, \"duly disillusioned\", Symonds \"drifted from the game via a series of disciplinary problems\".<sup class=\"reference\" id=\"cite_ref-103\"><a href=\"#cite_note-103\">[103]</a></sup>\n",
       "</p>\n",
       "<h3><span class=\"mw-headline\" id=\"International_career_draws_to_a_close\">International career draws to a close</span><span class=\"mw-editsection\"><span class=\"mw-editsection-bracket\">[</span><a href=\"/w/index.php?title=Andrew_Symonds&amp;action=edit&amp;section=13\" title=\"Edit section: International career draws to a close\">edit</a><span class=\"mw-editsection-bracket\">]</span></span></h3>\n",
       "<p>During the second final of the <a href=\"/wiki/2007%E2%80%9308_Commonwealth_Bank_Series\" title=\"2007–08 Commonwealth Bank Series\">2007–08 Commonwealth Bank Series</a> against India on 4 March 2008, Symonds shoulder charged a male <a href=\"/wiki/Streaking\" title=\"Streaking\">streaker</a> who had entered the playing arena. Symonds, who had once considered a career in <a href=\"/wiki/Rugby_league\" title=\"Rugby league\">rugby league</a> with the <a href=\"/wiki/Brisbane_Broncos\" title=\"Brisbane Broncos\">Brisbane Broncos</a>,<sup class=\"reference\" id=\"cite_ref-104\"><a href=\"#cite_note-104\">[104]</a></sup> may have faced assault charges had the man taken legal action.<sup class=\"reference\" id=\"cite_ref-105\"><a href=\"#cite_note-105\">[105]</a></sup>\n",
       "</p><p>Symonds was set to play for Australia in the <a href=\"/wiki/Bangladeshi_cricket_team_in_Australia_in_2008\" title=\"Bangladeshi cricket team in Australia in 2008\">August 2008 series against Bangladesh</a> in <a href=\"/wiki/Darwin,_Northern_Territory\" title=\"Darwin, Northern Territory\">Darwin</a>, but was sent home to Queensland after missing a team meeting while out fishing. Stand-in captain Michael Clarke told the media that Symonds would have to re-evaluate his desire to represent Australia: \"The main concern from us is Andrew's commitment, to playing for this team and, in my opinion and I know the rest of the leadership team's opinion, you need to be committed 100 per cent.\"<sup class=\"reference\" id=\"cite_ref-106\"><a href=\"#cite_note-106\">[106]</a></sup> As a further punishment for his misadventure, Symonds was not selected for the <a href=\"/wiki/Australian_cricket_team_in_India_in_2008%E2%80%9309\" title=\"Australian cricket team in India in 2008–09\">Australian tour of India in October 2008</a>.<sup class=\"reference\" id=\"cite_ref-SymondsKrejza_107-0\"><a href=\"#cite_note-SymondsKrejza-107\">[107]</a></sup>\n",
       "</p><p>After Australia lost the test series in India two-nil, Symonds was recalled for <a href=\"/wiki/New_Zealand_cricket_team_in_Australia_in_2008%E2%80%9309\" title=\"New Zealand cricket team in Australia in 2008–09\">the Test series against New Zealand in November 2008</a>.<sup class=\"reference\" id=\"cite_ref-SymondsKrejza_107-1\"><a href=\"#cite_note-SymondsKrejza-107\">[107]</a></sup> He did not play any significant role in the first Test, which Australia won. After the Test, on 22 November, Symonds was reported to have been involved in a pub brawl with another patron who had attempted to hug him and have his photo taken with the cricketer. He was subsequently cleared by Cricket Australia to play in the second test.<sup class=\"reference\" id=\"cite_ref-108\"><a href=\"#cite_note-108\">[108]</a></sup> He then played in the first two tests of <a href=\"/wiki/South_African_cricket_team_in_Australia_in_2008%E2%80%9309\" title=\"South African cricket team in Australia in 2008–09\">the next series against South Africa</a> but performed poorly and was omitted from the team for the third test due to injury; at the same time, many critics called for his omission on performance grounds. Nonetheless, for his performances in 2008, he was named in the World ODI XI by the ICC.<sup class=\"reference\" id=\"cite_ref-109\"><a href=\"#cite_note-109\">[109]</a></sup>\n",
       "</p><p>In January 2009, Symonds gave an interview with sports comedians <a class=\"mw-redirect\" href=\"/wiki/Roy_%26_HG\" title=\"Roy &amp; HG\">Roy &amp; HG</a>, in which he made remarks about the acquisition of New Zealand cricketer <a href=\"/wiki/Brendon_McCullum\" title=\"Brendon McCullum\">Brendon McCullum</a> by the <a href=\"/wiki/New_South_Wales_cricket_team\" title=\"New South Wales cricket team\">New South Wales Blues</a> to play in the KFC Twenty20 final against Victoria, despite McCullum's not having played at all for the Blues previously. Sounding intoxicated, Symonds called McCullum a \"lump of shit\",<sup class=\"reference\" id=\"cite_ref-110\"><a href=\"#cite_note-110\">[110]</a></sup> and declared that having dinner at the home of teammate <a href=\"/wiki/Matthew_Hayden\" title=\"Matthew Hayden\">Matthew Hayden</a> was enjoyable because he could glance at Hayden's wife.<sup class=\"reference\" id=\"cite_ref-111\"><a href=\"#cite_note-111\">[111]</a></sup> The interview led to his being charged with violating the Cricket Australia code of conduct. Following a hearing with general manager Michael Brown, he was fined $4,000, instructed to work with a psychologist, and indefinitely barred from selection until he was deemed to have been successfully rehabilitated.<sup class=\"reference\" id=\"cite_ref-112\"><a href=\"#cite_note-112\">[112]</a></sup>\n",
       "</p><p>In the meantime Symonds continued to play for Queensland, but was not selected by Australia, missing three five-match series against South Africa, New Zealand and South Africa respectively. He was finally recalled in April to play ODIs against Pakistan in the United Arab Emirates,<sup class=\"reference\" id=\"cite_ref-113\"><a href=\"#cite_note-113\">[113]</a></sup>\n",
       "but was not selected for the <a href=\"/wiki/2009_Ashes_series\" title=\"2009 Ashes series\">2009 Ashes series</a>, with young all-rounders <a href=\"/wiki/Shane_Watson\" title=\"Shane Watson\">Shane Watson</a>, <a href=\"/wiki/Andrew_McDonald_(cricketer)\" title=\"Andrew McDonald (cricketer)\">Andrew McDonald</a> and <a href=\"/wiki/Marcus_North\" title=\"Marcus North\">Marcus North</a> being preferred.<sup class=\"reference\" id=\"cite_ref-114\"><a href=\"#cite_note-114\">[114]</a></sup>\n",
       "</p><p>In early June 2009, Symonds was sent home from the <a class=\"mw-redirect\" href=\"/wiki/ICC_World_Twenty20\" title=\"ICC World Twenty20\">ICC World Twenty20</a> tournament in England following \"an alcohol-related incident\".<sup class=\"reference\" id=\"cite_ref-115\"><a href=\"#cite_note-115\">[115]</a></sup> <a href=\"/wiki/Cricket_Australia\" title=\"Cricket Australia\">Cricket Australia</a> chief executive <a class=\"mw-redirect\" href=\"/wiki/James_Sutherland_(cricketer)\" title=\"James Sutherland (cricketer)\">James Sutherland</a> called a press conference to announce Symonds' dismissal, which marked the end of his international cricket career.<sup class=\"reference\" id=\"cite_ref-retire?_3-1\"><a href=\"#cite_note-retire?-3\">[3]</a></sup> His Cricket Australia contract was also reviewed<sup class=\"reference\" id=\"cite_ref-116\"><a href=\"#cite_note-116\">[116]</a></sup> and later cancelled.<sup class=\"reference\" id=\"cite_ref-contract_withdrawn_2-1\"><a href=\"#cite_note-contract_withdrawn-2\">[2]</a></sup>\n",
       "</p><p>In June 2009, Symonds told <a href=\"/wiki/Nine_Network\" title=\"Nine Network\">Channel Nine</a>'s <i><a class=\"mw-redirect\" href=\"/wiki/Sixty_Minutes\" title=\"Sixty Minutes\">Sixty Minutes</a></i> that he was not an <a class=\"mw-redirect\" href=\"/wiki/Alcoholic\" title=\"Alcoholic\">alcoholic</a> but a <a href=\"/wiki/Binge_drinking\" title=\"Binge drinking\">binge-drinker</a>. \"I go out and drink hard all in one hit – too fast, too much\", he said.<sup class=\"reference\" id=\"cite_ref-117\"><a href=\"#cite_note-117\">[117]</a></sup>\n",
       "</p>\n",
       "<h2><span class=\"mw-headline\" id=\"Career_highlights\">Career highlights</span><span class=\"mw-editsection\"><span class=\"mw-editsection-bracket\">[</span><a href=\"/w/index.php?title=Andrew_Symonds&amp;action=edit&amp;section=14\" title=\"Edit section: Career highlights\">edit</a><span class=\"mw-editsection-bracket\">]</span></span></h2>\n",
       "<dl><dt>Tests</dt></dl>\n",
       "<p>Debut: Against Sri Lanka at <a href=\"/wiki/Galle\" title=\"Galle\">Galle</a>, 2003–04<sup class=\"reference\" id=\"cite_ref-118\"><a href=\"#cite_note-118\">[118]</a></sup>\n",
       "</p>\n",
       "<ul><li>Best Test bowling figures: 3/50 (vs South Africa, <a href=\"/wiki/Melbourne\" title=\"Melbourne\">Melbourne</a>, <a class=\"mw-redirect\" href=\"/wiki/MCG\" title=\"MCG\">MCG</a>, 2005–06).<sup class=\"reference\" id=\"cite_ref-119\"><a href=\"#cite_note-119\">[119]</a></sup></li>\n",
       "<li>Best Test batting score: 162 not out (India, <a href=\"/wiki/Sydney\" title=\"Sydney\">Sydney</a>, <a href=\"/wiki/Sydney_Cricket_Ground\" title=\"Sydney Cricket Ground\">SCG</a>, 3 January 2008).<sup class=\"reference\" id=\"cite_ref-120\"><a href=\"#cite_note-120\">[120]</a></sup></li></ul>\n",
       "<dl><dt>One Day Internationals</dt></dl>\n",
       "<p>Debut: Against Pakistan, <a href=\"/wiki/Lahore\" title=\"Lahore\">Lahore</a>, 1998–99<sup class=\"reference\" id=\"cite_ref-121\"><a href=\"#cite_note-121\">[121]</a></sup>\n",
       "</p>\n",
       "<ul><li>Best ODI bowling figures: 5/18 (Bangladesh, <a href=\"/wiki/Manchester\" title=\"Manchester\">Manchester</a>, <a href=\"/wiki/Old_Trafford\" title=\"Old Trafford\">Old Trafford</a>, 2005)<sup class=\"reference\" id=\"cite_ref-122\"><a href=\"#cite_note-122\">[122]</a></sup></li>\n",
       "<li>Best ODI batting score: 156 (New Zealand, <a href=\"/wiki/Wellington\" title=\"Wellington\">Wellington</a>, <a class=\"mw-redirect\" href=\"/wiki/Westpac_Stadium\" title=\"Westpac Stadium\">Westpac Stadium</a>, 7 December 2005)<sup class=\"reference\" id=\"cite_ref-123\"><a href=\"#cite_note-123\">[123]</a></sup></li></ul>\n",
       "<dl><dt>Records and achievements</dt></dl>\n",
       "<p>Symonds previously held the world records for the most sixes hit during a first-class innings (16) and during a first-class match (20), both set while playing for Gloucestershire against Glamorgan as a 20-year-old. His first innings score was 254 not out.<sup class=\"reference\" id=\"cite_ref-124\"><a href=\"#cite_note-124\">[124]</a></sup>\n",
       "</p><p>At the time of his death, Symonds was one of only 22 players to have scored over 5,000 runs and taken more than 100 wickets in ODI cricket and one of only three Australians to have done so.<sup class=\"reference\" id=\"cite_ref-125\"><a href=\"#cite_note-125\">[125]</a></sup><sup class=\"reference\" id=\"cite_ref-126\"><a href=\"#cite_note-126\">[126]</a></sup> His batting average of 100 runs per inning in World Cup matches was also the highest of any player in that competition.<sup class=\"reference\" id=\"cite_ref-127\"><a href=\"#cite_note-127\">[127]</a></sup>\n",
       "</p><p>He was named as an all rounder in <a class=\"mw-redirect\" href=\"/wiki/Australia_cricket_team\" title=\"Australia cricket team\">Australia</a>'s \"greatest ever <a href=\"/wiki/One_Day_International\" title=\"One Day International\">ODI</a> team\".<sup class=\"reference\" id=\"cite_ref-128\"><a href=\"#cite_note-128\">[128]</a></sup>\n",
       "</p>\n",
       "<h2><span class=\"mw-headline\" id=\"Rugby_league\">Rugby league</span><span class=\"mw-editsection\"><span class=\"mw-editsection-bracket\">[</span><a href=\"/w/index.php?title=Andrew_Symonds&amp;action=edit&amp;section=15\" title=\"Edit section: Rugby league\">edit</a><span class=\"mw-editsection-bracket\">]</span></span></h2>\n",
       "<p>Symonds was a keen supporter of the <a href=\"/wiki/Brisbane_Broncos\" title=\"Brisbane Broncos\">Brisbane Broncos</a> since childhood and was considering a switch to <a href=\"/wiki/Rugby_league\" title=\"Rugby league\">rugby league</a> in 2002 when his cricket career was faltering.<sup class=\"reference\" id=\"cite_ref-129\"><a href=\"#cite_note-129\">[129]</a></sup> On 21 June 2009 he played a game for the <a href=\"/wiki/Wynnum_Manly_Seagulls\" title=\"Wynnum Manly Seagulls\">Wynnum Manly Seagulls</a> against an all star team featuring some noted players, including <a href=\"/wiki/Marcus_Bai\" title=\"Marcus Bai\">Marcus Bai</a> and <a href=\"/wiki/Steve_Renouf\" title=\"Steve Renouf\">Steve Renouf</a>. He also trained with the Brisbane Broncos.<sup class=\"reference\" id=\"cite_ref-130\"><a href=\"#cite_note-130\">[130]</a></sup>\n",
       "</p>\n",
       "<h2><span class=\"mw-headline\" id=\"Media\">Media</span><span class=\"mw-editsection\"><span class=\"mw-editsection-bracket\">[</span><a href=\"/w/index.php?title=Andrew_Symonds&amp;action=edit&amp;section=16\" title=\"Edit section: Media\">edit</a><span class=\"mw-editsection-bracket\">]</span></span></h2>\n",
       "<p>Symonds made a cameo in the 2011 <a class=\"mw-redirect\" href=\"/wiki/Bollywood\" title=\"Bollywood\">Bollywood</a> movie <i><a href=\"/wiki/Patiala_House_(film)\" title=\"Patiala House (film)\">Patiala House</a></i>.<sup class=\"reference\" id=\"cite_ref-131\"><a href=\"#cite_note-131\">[131]</a></sup> In 2011, he was a contestant on the Indian reality series <i><a href=\"/wiki/Bigg_Boss_(Hindi_season_5)\" title=\"Bigg Boss (Hindi season 5)\">Bigg Boss</a></i>.<sup class=\"reference\" id=\"cite_ref-132\"><a href=\"#cite_note-132\">[132]</a></sup> Pooja Mishra, who had already been eliminated from the show, returned to act as a translator for Symonds.<sup class=\"reference\" id=\"cite_ref-133\"><a href=\"#cite_note-133\">[133]</a></sup>\n",
       "</p><p>Symonds worked as a guest commentator for <a href=\"/wiki/Big_Bash_League\" title=\"Big Bash League\">Big Bash</a> matches between the <a href=\"/wiki/2016%E2%80%9317_Big_Bash_League_season\" title=\"2016–17 Big Bash League season\">2016–17</a> and <a href=\"/wiki/2017%E2%80%9318_Big_Bash_League_season\" title=\"2017–18 Big Bash League season\">2018–19</a> seasons.<sup class=\"reference\" id=\"cite_ref-134\"><a href=\"#cite_note-134\">[134]</a></sup>\n",
       "</p>\n",
       "<h2><span class=\"mw-headline\" id=\"Death\">Death</span><span class=\"mw-editsection\"><span class=\"mw-editsection-bracket\">[</span><a href=\"/w/index.php?title=Andrew_Symonds&amp;action=edit&amp;section=17\" title=\"Edit section: Death\">edit</a><span class=\"mw-editsection-bracket\">]</span></span></h2>\n",
       "<p>Symonds was killed in a single-vehicle road accident at <a href=\"/wiki/Hervey_Range\" title=\"Hervey Range\">Hervey Range</a>, north of <a href=\"/wiki/Townsville\" title=\"Townsville\">Townsville</a>, <a href=\"/wiki/Queensland\" title=\"Queensland\">Queensland</a>, on 14 May 2022, at the age of 46.<sup class=\"reference\" id=\"cite_ref-135\"><a href=\"#cite_note-135\">[135]</a></sup><sup class=\"reference\" id=\"cite_ref-136\"><a href=\"#cite_note-136\">[136]</a></sup> Queensland Police said in a statement that Symonds was driving on Hervey Range Road near the Alice River Bridge when his car left the road and rolled at around 10:30 pm local time. Symonds was the only occupant of the car. Paramedics responded and attempted to revive him, but Symonds was pronounced dead at the scene.<sup class=\"reference\" id=\"cite_ref-137\"><a href=\"#cite_note-137\">[137]</a></sup>\n",
       "</p><p>A minute's silence was observed at the start of the final day of the match between two of Symonds' former English clubs, Kent and Surrey, which was taking place when he died.<sup class=\"reference\" id=\"cite_ref-138\"><a href=\"#cite_note-138\">[138]</a></sup> A silence was also observed before the start of the first day's play of the <a href=\"/wiki/Sri_Lankan_cricket_team_in_Bangladesh_in_2022\" title=\"Sri Lankan cricket team in Bangladesh in 2022\">first Test between Sri Lanka and Bangladesh</a> in <a href=\"/wiki/Chittagong\" title=\"Chittagong\">Chattogram</a>.<sup class=\"reference\" id=\"cite_ref-139\"><a href=\"#cite_note-139\">[139]</a></sup>\n",
       "</p><p>A tribute campaign, called \"Fishing Rods for Roy\", was launched in memory of Symonds, referring to his interest in fishing.<sup class=\"reference\" id=\"cite_ref-140\"><a href=\"#cite_note-140\">[140]</a></sup> Cricket fans throughout Australia were encouraged to leave fishing rods and cricket balls outside the front of their houses as a nationwide tribute, one which mirrored the tributes after the death of <a href=\"/wiki/Phillip_Hughes\" title=\"Phillip Hughes\">Phillip Hughes</a> in 2014.<sup class=\"reference\" id=\"cite_ref-141\"><a href=\"#cite_note-141\">[141]</a></sup>\n",
       "</p>\n",
       "<h2><span class=\"mw-headline\" id=\"Bibliography\">Bibliography</span><span class=\"mw-editsection\"><span class=\"mw-editsection-bracket\">[</span><a href=\"/w/index.php?title=Andrew_Symonds&amp;action=edit&amp;section=18\" title=\"Edit section: Bibliography\">edit</a><span class=\"mw-editsection-bracket\">]</span></span></h2>\n",
       "<h3><span class=\"mw-headline\" id=\"Author\">Author</span><span class=\"mw-editsection\"><span class=\"mw-editsection-bracket\">[</span><a href=\"/w/index.php?title=Andrew_Symonds&amp;action=edit&amp;section=19\" title=\"Edit section: Author\">edit</a><span class=\"mw-editsection-bracket\">]</span></span></h3>\n",
       "<ul><li><style data-mw-deduplicate=\"TemplateStyles:r1067248974\">.mw-parser-output cite.citation{font-style:inherit;word-wrap:break-word}.mw-parser-output .citation q{quotes:\"\\\"\"\"\\\"\"\"'\"\"'\"}.mw-parser-output .citation:target{background-color:rgba(0,127,255,0.133)}.mw-parser-output .id-lock-free a,.mw-parser-output .citation .cs1-lock-free a{background:linear-gradient(transparent,transparent),url(\"//upload.wikimedia.org/wikipedia/commons/6/65/Lock-green.svg\")right 0.1em center/9px no-repeat}.mw-parser-output .id-lock-limited a,.mw-parser-output .id-lock-registration a,.mw-parser-output .citation .cs1-lock-limited a,.mw-parser-output .citation .cs1-lock-registration a{background:linear-gradient(transparent,transparent),url(\"//upload.wikimedia.org/wikipedia/commons/d/d6/Lock-gray-alt-2.svg\")right 0.1em center/9px no-repeat}.mw-parser-output .id-lock-subscription a,.mw-parser-output .citation .cs1-lock-subscription a{background:linear-gradient(transparent,transparent),url(\"//upload.wikimedia.org/wikipedia/commons/a/aa/Lock-red-alt-2.svg\")right 0.1em center/9px no-repeat}.mw-parser-output .cs1-ws-icon a{background:linear-gradient(transparent,transparent),url(\"//upload.wikimedia.org/wikipedia/commons/4/4c/Wikisource-logo.svg\")right 0.1em center/12px no-repeat}.mw-parser-output .cs1-code{color:inherit;background:inherit;border:none;padding:inherit}.mw-parser-output .cs1-hidden-error{display:none;color:#d33}.mw-parser-output .cs1-visible-error{color:#d33}.mw-parser-output .cs1-maint{display:none;color:#3a3;margin-left:0.3em}.mw-parser-output .cs1-format{font-size:95%}.mw-parser-output .cs1-kern-left{padding-left:0.2em}.mw-parser-output .cs1-kern-right{padding-right:0.2em}.mw-parser-output .citation .mw-selflink{font-weight:inherit}</style><cite class=\"citation book cs1\" id=\"CITEREFSymondsGray2007\">Symonds, Andrew; Gray, Stephen (2007). <i>Roy: Going For Broke</i>. Hardie Grant Books. <a class=\"mw-redirect\" href=\"/wiki/ISBN_(identifier)\" title=\"ISBN (identifier)\">ISBN</a> <a href=\"/wiki/Special:BookSources/978-1-74066-580-3\" title=\"Special:BookSources/978-1-74066-580-3\"><bdi>978-1-74066-580-3</bdi></a>.</cite><span class=\"Z3988\" title=\"ctx_ver=Z39.88-2004&amp;rft_val_fmt=info%3Aofi%2Ffmt%3Akev%3Amtx%3Abook&amp;rft.genre=book&amp;rft.btitle=Roy%3A+Going+For+Broke&amp;rft.pub=Hardie+Grant+Books&amp;rft.date=2007&amp;rft.isbn=978-1-74066-580-3&amp;rft.aulast=Symonds&amp;rft.aufirst=Andrew&amp;rft.au=Gray%2C+Stephen&amp;rfr_id=info%3Asid%2Fen.wikipedia.org%3AAndrew+Symonds\"></span></li></ul>\n",
       "<h3><span class=\"mw-headline\" id=\"Contributor\">Contributor</span><span class=\"mw-editsection\"><span class=\"mw-editsection-bracket\">[</span><a href=\"/w/index.php?title=Andrew_Symonds&amp;action=edit&amp;section=20\" title=\"Edit section: Contributor\">edit</a><span class=\"mw-editsection-bracket\">]</span></span></h3>\n",
       "<ul><li><link href=\"mw-data:TemplateStyles:r1067248974\" rel=\"mw-deduplicated-inline-style\"/><cite class=\"citation book cs1\" id=\"CITEREFSymonds2007\">Symonds, Andrew (2007). \"Contributor\". <i>Laugh Even Louder!</i>. By <a href=\"/wiki/Camp_Quality\" title=\"Camp Quality\">Camp Quality</a>. Gosford, New South Wales: <a href=\"/wiki/Scholastic_Corporation\" title=\"Scholastic Corporation\">Scholastic Australia Pty Limited</a>. <a class=\"mw-redirect\" href=\"/wiki/ISBN_(identifier)\" title=\"ISBN (identifier)\">ISBN</a> <a href=\"/wiki/Special:BookSources/978-1-74169-022-4\" title=\"Special:BookSources/978-1-74169-022-4\"><bdi>978-1-74169-022-4</bdi></a>.</cite><span class=\"Z3988\" title=\"ctx_ver=Z39.88-2004&amp;rft_val_fmt=info%3Aofi%2Ffmt%3Akev%3Amtx%3Abook&amp;rft.genre=bookitem&amp;rft.atitle=Contributor&amp;rft.btitle=Laugh+Even+Louder%21&amp;rft.place=Gosford%2C+New+South+Wales&amp;rft.pub=Scholastic+Australia+Pty+Limited&amp;rft.date=2007&amp;rft.isbn=978-1-74169-022-4&amp;rft.aulast=Symonds&amp;rft.aufirst=Andrew&amp;rfr_id=info%3Asid%2Fen.wikipedia.org%3AAndrew+Symonds\"></span><sup class=\"reference\" id=\"cite_ref-142\"><a href=\"#cite_note-142\">[142]</a></sup></li></ul>\n",
       "<h2><span class=\"mw-headline\" id=\"References\">References</span><span class=\"mw-editsection\"><span class=\"mw-editsection-bracket\">[</span><a href=\"/w/index.php?title=Andrew_Symonds&amp;action=edit&amp;section=21\" title=\"Edit section: References\">edit</a><span class=\"mw-editsection-bracket\">]</span></span></h2>\n",
       "<style data-mw-deduplicate=\"TemplateStyles:r1011085734\">.mw-parser-output .reflist{font-size:90%;margin-bottom:0.5em;list-style-type:decimal}.mw-parser-output .reflist .references{font-size:100%;margin-bottom:0;list-style-type:inherit}.mw-parser-output .reflist-columns-2{column-width:30em}.mw-parser-output .reflist-columns-3{column-width:25em}.mw-parser-output .reflist-columns{margin-top:0.3em}.mw-parser-output .reflist-columns ol{margin-top:0}.mw-parser-output .reflist-columns li{page-break-inside:avoid;break-inside:avoid-column}.mw-parser-output .reflist-upper-alpha{list-style-type:upper-alpha}.mw-parser-output .reflist-upper-roman{list-style-type:upper-roman}.mw-parser-output .reflist-lower-alpha{list-style-type:lower-alpha}.mw-parser-output .reflist-lower-greek{list-style-type:lower-greek}.mw-parser-output .reflist-lower-roman{list-style-type:lower-roman}</style><div class=\"reflist\">\n",
       "<div class=\"mw-references-wrap mw-references-columns\"><ol class=\"references\">\n",
       "<li id=\"cite_note-cricpro-1\"><span class=\"mw-cite-backlink\"><b><a href=\"#cite_ref-cricpro_1-0\">^</a></b></span> <span class=\"reference-text\"><link href=\"mw-data:TemplateStyles:r1067248974\" rel=\"mw-deduplicated-inline-style\"/><cite class=\"citation web cs1\"><a class=\"external text\" href=\"http://content-www.cricinfo.com/australia/content/player/7702.html\" rel=\"nofollow\">\"Player Profile:Andrew Symonds\"</a>. <i>CricInfo</i>. ESPN<span class=\"reference-accessdate\">. Retrieved <span class=\"nowrap\">6 June</span> 2009</span>.</cite><span class=\"Z3988\" title=\"ctx_ver=Z39.88-2004&amp;rft_val_fmt=info%3Aofi%2Ffmt%3Akev%3Amtx%3Ajournal&amp;rft.genre=unknown&amp;rft.jtitle=CricInfo&amp;rft.atitle=Player+Profile%3AAndrew+Symonds&amp;rft_id=http%3A%2F%2Fcontent-www.cricinfo.com%2Faustralia%2Fcontent%2Fplayer%2F7702.html&amp;rfr_id=info%3Asid%2Fen.wikipedia.org%3AAndrew+Symonds\"></span></span>\n",
       "</li>\n",
       "<li id=\"cite_note-contract_withdrawn-2\"><span class=\"mw-cite-backlink\">^ <a href=\"#cite_ref-contract_withdrawn_2-0\"><sup><i><b>a</b></i></sup></a> <a href=\"#cite_ref-contract_withdrawn_2-1\"><sup><i><b>b</b></i></sup></a></span> <span class=\"reference-text\"><link href=\"mw-data:TemplateStyles:r1067248974\" rel=\"mw-deduplicated-inline-style\"/><cite class=\"citation news cs1\"><a class=\"external text\" href=\"http://news.bbc.co.uk/sport1/hi/cricket/other_international/australia/8096557.stm\" rel=\"nofollow\">\"Aussies rescind Symonds' contract\"</a>. <i>BBC News Online</i>. BBC. 12 June 2009. <a class=\"external text\" href=\"https://web.archive.org/web/20090615064705/http://news.bbc.co.uk/sport1/hi/cricket/other_international/australia/8096557.stm\" rel=\"nofollow\">Archived</a> from the original on 15 June 2009<span class=\"reference-accessdate\">. Retrieved <span class=\"nowrap\">12 June</span> 2009</span>.</cite><span class=\"Z3988\" title=\"ctx_ver=Z39.88-2004&amp;rft_val_fmt=info%3Aofi%2Ffmt%3Akev%3Amtx%3Ajournal&amp;rft.genre=article&amp;rft.jtitle=BBC+News+Online&amp;rft.atitle=Aussies+rescind+Symonds%27+contract&amp;rft.date=2009-06-12&amp;rft_id=http%3A%2F%2Fnews.bbc.co.uk%2Fsport1%2Fhi%2Fcricket%2Fother_international%2Faustralia%2F8096557.stm&amp;rfr_id=info%3Asid%2Fen.wikipedia.org%3AAndrew+Symonds\"></span></span>\n",
       "</li>\n",
       "<li id=\"cite_note-retire?-3\"><span class=\"mw-cite-backlink\">^ <a href=\"#cite_ref-retire?_3-0\"><sup><i><b>a</b></i></sup></a> <a href=\"#cite_ref-retire?_3-1\"><sup><i><b>b</b></i></sup></a></span> <span class=\"reference-text\"><link href=\"mw-data:TemplateStyles:r1067248974\" rel=\"mw-deduplicated-inline-style\"/><cite class=\"citation web cs1\" id=\"CITEREFBrownEnglish2009\">Brown, Alex; English, Peter (6 June 2009). <a class=\"external text\" href=\"http://www.cricinfo.com/wt202009/content/story/407650.html\" rel=\"nofollow\">\"Symonds waits to decide on future\"</a>. <i>CricInfo</i>. ESPN. <a class=\"external text\" href=\"https://web.archive.org/web/20090607081526/http://www.cricinfo.com/wt202009/content/story/407650.html\" rel=\"nofollow\">Archived</a> from the original on 7 June 2009<span class=\"reference-accessdate\">. Retrieved <span class=\"nowrap\">6 June</span> 2009</span>.</cite><span class=\"Z3988\" title=\"ctx_ver=Z39.88-2004&amp;rft_val_fmt=info%3Aofi%2Ffmt%3Akev%3Amtx%3Ajournal&amp;rft.genre=unknown&amp;rft.jtitle=CricInfo&amp;rft.atitle=Symonds+waits+to+decide+on+future&amp;rft.date=2009-06-06&amp;rft.aulast=Brown&amp;rft.aufirst=Alex&amp;rft.au=English%2C+Peter&amp;rft_id=http%3A%2F%2Fwww.cricinfo.com%2Fwt202009%2Fcontent%2Fstory%2F407650.html&amp;rfr_id=info%3Asid%2Fen.wikipedia.org%3AAndrew+Symonds\"></span></span>\n",
       "</li>\n",
       "<li id=\"cite_note-Australian_all-rounder_Andrew_Symonds_retires_from_cricket-4\"><span class=\"mw-cite-backlink\"><b><a href=\"#cite_ref-Australian_all-rounder_Andrew_Symonds_retires_from_cricket_4-0\">^</a></b></span> <span class=\"reference-text\"><link href=\"mw-data:TemplateStyles:r1067248974\" rel=\"mw-deduplicated-inline-style\"/><cite class=\"citation web cs1\"><a class=\"external text\" href=\"https://www.bbc.co.uk/sport/0/cricket/17061174\" rel=\"nofollow\">\"Australian all-rounder Andrew Symonds retires from cricket\"</a>. <i>BBC Sport</i>. BBC. 16 February 2012<span class=\"reference-accessdate\">. Retrieved <span class=\"nowrap\">16 February</span> 2012</span>.</cite><span class=\"Z3988\" title=\"ctx_ver=Z39.88-2004&amp;rft_val_fmt=info%3Aofi%2Ffmt%3Akev%3Amtx%3Ajournal&amp;rft.genre=unknown&amp;rft.jtitle=BBC+Sport&amp;rft.atitle=Australian+all-rounder+Andrew+Symonds+retires+from+cricket&amp;rft.date=2012-02-16&amp;rft_id=https%3A%2F%2Fwww.bbc.co.uk%2Fsport%2F0%2Fcricket%2F17061174&amp;rfr_id=info%3Asid%2Fen.wikipedia.org%3AAndrew+Symonds\"></span></span>\n",
       "</li>\n",
       "<li id=\"cite_note-5\"><span class=\"mw-cite-backlink\"><b><a href=\"#cite_ref-5\">^</a></b></span> <span class=\"reference-text\"><link href=\"mw-data:TemplateStyles:r1067248974\" rel=\"mw-deduplicated-inline-style\"/><cite class=\"citation web cs1\"><a class=\"external text\" href=\"https://www.cricbuzz.com/cricket-news/122219/andrew-symonds-dies-in-a-car-accident-aged-46-cricbuzzcom\" rel=\"nofollow\">\"Andrew Symonds dies in a car accident, aged 46 | Cricbuzz.com\"</a>. <i>Cricbuzz</i><span class=\"reference-accessdate\">. Retrieved <span class=\"nowrap\">17 May</span> 2022</span>.</cite><span class=\"Z3988\" title=\"ctx_ver=Z39.88-2004&amp;rft_val_fmt=info%3Aofi%2Ffmt%3Akev%3Amtx%3Ajournal&amp;rft.genre=unknown&amp;rft.jtitle=Cricbuzz&amp;rft.atitle=Andrew+Symonds+dies+in+a+car+accident%2C+aged+46+%7C+Cricbuzz.com&amp;rft_id=https%3A%2F%2Fwww.cricbuzz.com%2Fcricket-news%2F122219%2Fandrew-symonds-dies-in-a-car-accident-aged-46-cricbuzzcom&amp;rfr_id=info%3Asid%2Fen.wikipedia.org%3AAndrew+Symonds\"></span></span>\n",
       "</li>\n",
       "<li id=\"cite_note-6\"><span class=\"mw-cite-backlink\"><b><a href=\"#cite_ref-6\">^</a></b></span> <span class=\"reference-text\"><link href=\"mw-data:TemplateStyles:r1067248974\" rel=\"mw-deduplicated-inline-style\"/><cite class=\"citation news cs1\"><a class=\"external text\" href=\"http://www.smh.com.au/news/cricket/dreadlock-holiday-for-rasta-roy/2007/04/06/1175366479070.html\" rel=\"nofollow\">\"Dreadlock holiday for Rasta Roy\"</a>. <i>The Sydney Morning Herald</i><span class=\"reference-accessdate\">. Retrieved <span class=\"nowrap\">1 September</span> 2008</span>.</cite><span class=\"Z3988\" title=\"ctx_ver=Z39.88-2004&amp;rft_val_fmt=info%3Aofi%2Ffmt%3Akev%3Amtx%3Ajournal&amp;rft.genre=article&amp;rft.jtitle=The+Sydney+Morning+Herald&amp;rft.atitle=Dreadlock+holiday+for+Rasta+Roy&amp;rft_id=http%3A%2F%2Fwww.smh.com.au%2Fnews%2Fcricket%2Fdreadlock-holiday-for-rasta-roy%2F2007%2F04%2F06%2F1175366479070.html&amp;rfr_id=info%3Asid%2Fen.wikipedia.org%3AAndrew+Symonds\"></span></span>\n",
       "</li>\n",
       "<li id=\"cite_note-wandererscricket.com-7\"><span class=\"mw-cite-backlink\">^ <a href=\"#cite_ref-wandererscricket.com_7-0\"><sup><i><b>a</b></i></sup></a> <a href=\"#cite_ref-wandererscricket.com_7-1\"><sup><i><b>b</b></i></sup></a></span> <span class=\"reference-text\"><link href=\"mw-data:TemplateStyles:r1067248974\" rel=\"mw-deduplicated-inline-style\"/><cite class=\"citation web cs1\"><a class=\"external text\" href=\"http://www.wandererscricket.com/roy_earlyears.html\" rel=\"nofollow\">\"Andrew Symonds – his early years of development at Wanderers Cricket (Wanderers website)\"</a>. <a class=\"external text\" href=\"https://web.archive.org/web/20071016043333/http://www.wandererscricket.com/roy_earlyears.html\" rel=\"nofollow\">Archived</a> from the original on 16 October 2007<span class=\"reference-accessdate\">. Retrieved <span class=\"nowrap\">14 October</span> 2007</span>.</cite><span class=\"Z3988\" title=\"ctx_ver=Z39.88-2004&amp;rft_val_fmt=info%3Aofi%2Ffmt%3Akev%3Amtx%3Abook&amp;rft.genre=unknown&amp;rft.btitle=Andrew+Symonds+%E2%80%93+his+early+years+of+development+at+Wanderers+Cricket+%28Wanderers+website%29&amp;rft_id=http%3A%2F%2Fwww.wandererscricket.com%2Froy_earlyears.html&amp;rfr_id=info%3Asid%2Fen.wikipedia.org%3AAndrew+Symonds\"></span></span>\n",
       "</li>\n",
       "<li id=\"cite_note-8\"><span class=\"mw-cite-backlink\"><b><a href=\"#cite_ref-8\">^</a></b></span> <span class=\"reference-text\"><link href=\"mw-data:TemplateStyles:r1067248974\" rel=\"mw-deduplicated-inline-style\"/><cite class=\"citation web cs1\"><a class=\"external text\" href=\"http://cricketforever.weebly.com/andrew-symonds.html\" rel=\"nofollow\">\"Andrew Symonds\"</a>. <i>Cricket Forever</i><span class=\"reference-accessdate\">. Retrieved <span class=\"nowrap\">16 May</span> 2022</span>.</cite><span class=\"Z3988\" title=\"ctx_ver=Z39.88-2004&amp;rft_val_fmt=info%3Aofi%2Ffmt%3Akev%3Amtx%3Ajournal&amp;rft.genre=unknown&amp;rft.jtitle=Cricket+Forever&amp;rft.atitle=Andrew+Symonds&amp;rft_id=http%3A%2F%2Fcricketforever.weebly.com%2Fandrew-symonds.html&amp;rfr_id=info%3Asid%2Fen.wikipedia.org%3AAndrew+Symonds\"></span></span>\n",
       "</li>\n",
       "<li id=\"cite_note-9\"><span class=\"mw-cite-backlink\"><b><a href=\"#cite_ref-9\">^</a></b></span> <span class=\"reference-text\"><link href=\"mw-data:TemplateStyles:r1067248974\" rel=\"mw-deduplicated-inline-style\"/><cite class=\"citation web cs1\"><a class=\"external text\" href=\"https://web.archive.org/web/20080227235539/http://www.allsouls.qld.edu.au/_news/2003/PR_3.pdf\" rel=\"nofollow\">\"The Official Newsletter of All Souls St Gabriels School, 21 February 2003\"</a> <span class=\"cs1-format\">(PDF)</span>. Archived from <a class=\"external text\" href=\"http://www.allsouls.qld.edu.au/_news/2003/PR_3.pdf\" rel=\"nofollow\">the original</a> <span class=\"cs1-format\">(PDF)</span> on 27 February 2008.</cite><span class=\"Z3988\" title=\"ctx_ver=Z39.88-2004&amp;rft_val_fmt=info%3Aofi%2Ffmt%3Akev%3Amtx%3Abook&amp;rft.genre=unknown&amp;rft.btitle=The+Official+Newsletter+of+All+Souls+St+Gabriels+School%2C+21+February+2003&amp;rft_id=http%3A%2F%2Fwww.allsouls.qld.edu.au%2F_news%2F2003%2FPR_3.pdf&amp;rfr_id=info%3Asid%2Fen.wikipedia.org%3AAndrew+Symonds\"></span></span>\n",
       "</li>\n",
       "<li id=\"cite_note-10\"><span class=\"mw-cite-backlink\"><b><a href=\"#cite_ref-10\">^</a></b></span> <span class=\"reference-text\"><link href=\"mw-data:TemplateStyles:r1067248974\" rel=\"mw-deduplicated-inline-style\"/><cite class=\"citation news cs1\" id=\"CITEREFHutchinson2007\">Hutchinson, Jane (25 March 2007). <a class=\"external text\" href=\"http://www.news.com.au/dailytelegraph/story/0,22049,21427651-5006011,00.html\" rel=\"nofollow\">\"Roy to the rescue, Daily Telegraph, 25 March 2007\"</a>. <i>The Sunday Telegraph</i>.</cite><span class=\"Z3988\" title=\"ctx_ver=Z39.88-2004&amp;rft_val_fmt=info%3Aofi%2Ffmt%3Akev%3Amtx%3Ajournal&amp;rft.genre=article&amp;rft.jtitle=The+Sunday+Telegraph&amp;rft.atitle=Roy+to+the+rescue%2C+Daily+Telegraph%2C+25+March+2007&amp;rft.date=2007-03-25&amp;rft.aulast=Hutchinson&amp;rft.aufirst=Jane&amp;rft_id=http%3A%2F%2Fwww.news.com.au%2Fdailytelegraph%2Fstory%2F0%2C22049%2C21427651-5006011%2C00.html&amp;rfr_id=info%3Asid%2Fen.wikipedia.org%3AAndrew+Symonds\"></span></span>\n",
       "</li>\n",
       "<li id=\"cite_note-11\"><span class=\"mw-cite-backlink\"><b><a href=\"#cite_ref-11\">^</a></b></span> <span class=\"reference-text\"><link href=\"mw-data:TemplateStyles:r1067248974\" rel=\"mw-deduplicated-inline-style\"/><cite class=\"citation news cs1\"><a class=\"external text\" href=\"http://www.theage.com.au/articles/2003/02/15/1044927850160.html\" rel=\"nofollow\">\"Nation adopts a timely hero\"</a>. <i>The Age</i>. Melbourne. 16 February 2003.</cite><span class=\"Z3988\" title=\"ctx_ver=Z39.88-2004&amp;rft_val_fmt=info%3Aofi%2Ffmt%3Akev%3Amtx%3Ajournal&amp;rft.genre=article&amp;rft.jtitle=The+Age&amp;rft.atitle=Nation+adopts+a+timely+hero&amp;rft.date=2003-02-16&amp;rft_id=http%3A%2F%2Fwww.theage.com.au%2Farticles%2F2003%2F02%2F15%2F1044927850160.html&amp;rfr_id=info%3Asid%2Fen.wikipedia.org%3AAndrew+Symonds\"></span></span>\n",
       "</li>\n",
       "<li id=\"cite_note-12\"><span class=\"mw-cite-backlink\"><b><a href=\"#cite_ref-12\">^</a></b></span> <span class=\"reference-text\"><link href=\"mw-data:TemplateStyles:r1067248974\" rel=\"mw-deduplicated-inline-style\"/><cite class=\"citation web cs1\" id=\"CITEREFBasevi2005\">Basevi, Trevor (8 November 2005). <a class=\"external text\" href=\"http://content-usa.cricinfo.com/ci/content/story/224487.html\" rel=\"nofollow\">\"Statistics – Run outs in ODIs\"</a>. <a class=\"mw-redirect\" href=\"/wiki/Cricinfo\" title=\"Cricinfo\">Cricinfo</a>. <a class=\"external text\" href=\"https://web.archive.org/web/20070319222608/http://content-usa.cricinfo.com/ci/content/story/224487.html\" rel=\"nofollow\">Archived</a> from the original on 19 March 2007<span class=\"reference-accessdate\">. Retrieved <span class=\"nowrap\">5 February</span> 2007</span>.</cite><span class=\"Z3988\" title=\"ctx_ver=Z39.88-2004&amp;rft_val_fmt=info%3Aofi%2Ffmt%3Akev%3Amtx%3Abook&amp;rft.genre=unknown&amp;rft.btitle=Statistics+%E2%80%93+Run+outs+in+ODIs&amp;rft.pub=Cricinfo&amp;rft.date=2005-11-08&amp;rft.aulast=Basevi&amp;rft.aufirst=Trevor&amp;rft_id=http%3A%2F%2Fcontent-usa.cricinfo.com%2Fci%2Fcontent%2Fstory%2F224487.html&amp;rfr_id=info%3Asid%2Fen.wikipedia.org%3AAndrew+Symonds\"></span></span>\n",
       "</li>\n",
       "<li id=\"cite_note-13\"><span class=\"mw-cite-backlink\"><b><a href=\"#cite_ref-13\">^</a></b></span> <span class=\"reference-text\"><link href=\"mw-data:TemplateStyles:r1067248974\" rel=\"mw-deduplicated-inline-style\"/><cite class=\"citation cs2\" id=\"CITEREFcricket.com.au2017\">cricket.com.au (21 May 2017), <a class=\"external text\" href=\"https://www.youtube.com/watch?v=mH8KrkRYIQA\" rel=\"nofollow\"><i>Ponting's Top Five fielders of all time</i></a><span class=\"reference-accessdate\">, retrieved <span class=\"nowrap\">27 November</span> 2017</span></cite><span class=\"Z3988\" title=\"ctx_ver=Z39.88-2004&amp;rft_val_fmt=info%3Aofi%2Ffmt%3Akev%3Amtx%3Abook&amp;rft.genre=book&amp;rft.btitle=Ponting%27s+Top+Five+fielders+of+all+time&amp;rft.date=2017-05-21&amp;rft.au=cricket.com.au&amp;rft_id=https%3A%2F%2Fwww.youtube.com%2Fwatch%3Fv%3DmH8KrkRYIQA&amp;rfr_id=info%3Asid%2Fen.wikipedia.org%3AAndrew+Symonds\"></span></span>\n",
       "</li>\n",
       "<li id=\"cite_note-14\"><span class=\"mw-cite-backlink\"><b><a href=\"#cite_ref-14\">^</a></b></span> <span class=\"reference-text\"><a class=\"external text\" href=\"http://graphics.foxsports.com.au/multimedia/0611_fordashes/ashes-player-profile-2.swf\" rel=\"nofollow\">Fox Sports Ashes Player Profiles</a>. Retrieved 27 December 2006 <a class=\"external text\" href=\"https://web.archive.org/web/20070705112511/http://graphics.foxsports.com.au/multimedia/0611_fordashes/ashes-player-profile-2.swf\" rel=\"nofollow\">Archived</a> 5 July 2007 at the <a href=\"/wiki/Wayback_Machine\" title=\"Wayback Machine\">Wayback Machine</a></span>\n",
       "</li>\n",
       "<li id=\"cite_note-15\"><span class=\"mw-cite-backlink\"><b><a href=\"#cite_ref-15\">^</a></b></span> <span class=\"reference-text\"><link href=\"mw-data:TemplateStyles:r1067248974\" rel=\"mw-deduplicated-inline-style\"/><cite class=\"citation book cs1\"><i>Excellence : the Australian Institute of Sport</i>. Canberra: Australian Sports Commission. 2002.</cite><span class=\"Z3988\" title=\"ctx_ver=Z39.88-2004&amp;rft_val_fmt=info%3Aofi%2Ffmt%3Akev%3Amtx%3Abook&amp;rft.genre=book&amp;rft.btitle=Excellence+%3A+the+Australian+Institute+of+Sport&amp;rft.place=Canberra&amp;rft.pub=Australian+Sports+Commission&amp;rft.date=2002&amp;rfr_id=info%3Asid%2Fen.wikipedia.org%3AAndrew+Symonds\"></span></span>\n",
       "</li>\n",
       "<li id=\"cite_note-lynch-16\"><span class=\"mw-cite-backlink\">^ <a href=\"#cite_ref-lynch_16-0\"><sup><i><b>a</b></i></sup></a> <a href=\"#cite_ref-lynch_16-1\"><sup><i><b>b</b></i></sup></a> <a href=\"#cite_ref-lynch_16-2\"><sup><i><b>c</b></i></sup></a> <a href=\"#cite_ref-lynch_16-3\"><sup><i><b>d</b></i></sup></a> <a href=\"#cite_ref-lynch_16-4\"><sup><i><b>e</b></i></sup></a></span> <span class=\"reference-text\"><link href=\"mw-data:TemplateStyles:r1067248974\" rel=\"mw-deduplicated-inline-style\"/><cite class=\"citation web cs1\" id=\"CITEREFLynch\">Lynch, Steve. <a class=\"external text\" href=\"http://www.cricinfo.com/columns/content/story/272128.html\" rel=\"nofollow\">\"Collingwood's rare honour, and 551 and losing\"</a>. <a class=\"mw-redirect\" href=\"/wiki/Cricinfo\" title=\"Cricinfo\">Cricinfo</a><span class=\"reference-accessdate\">. Retrieved <span class=\"nowrap\">19 July</span> 2009</span>.</cite><span class=\"Z3988\" title=\"ctx_ver=Z39.88-2004&amp;rft_val_fmt=info%3Aofi%2Ffmt%3Akev%3Amtx%3Abook&amp;rft.genre=unknown&amp;rft.btitle=Collingwood%27s+rare+honour%2C+and+551+and+losing&amp;rft.pub=Cricinfo&amp;rft.aulast=Lynch&amp;rft.aufirst=Steve&amp;rft_id=http%3A%2F%2Fwww.cricinfo.com%2Fcolumns%2Fcontent%2Fstory%2F272128.html&amp;rfr_id=info%3Asid%2Fen.wikipedia.org%3AAndrew+Symonds\"></span></span>\n",
       "</li>\n",
       "<li id=\"cite_note-17\"><span class=\"mw-cite-backlink\"><b><a href=\"#cite_ref-17\">^</a></b></span> <span class=\"reference-text\"><link href=\"mw-data:TemplateStyles:r1067248974\" rel=\"mw-deduplicated-inline-style\"/><cite class=\"citation web cs1\"><a class=\"external text\" href=\"https://www.theguardian.com/sport/blog/2022/may/15/andrew-symonds-was-a-born-entertainer-and-a-reluctant-celebrity\" rel=\"nofollow\">\"Andrew Symonds was a born entertainer and a reluctant celebrity\"</a>. <i>The Guardian</i>. 15 May 2022<span class=\"reference-accessdate\">. Retrieved <span class=\"nowrap\">15 May</span> 2022</span>.</cite><span class=\"Z3988\" title=\"ctx_ver=Z39.88-2004&amp;rft_val_fmt=info%3Aofi%2Ffmt%3Akev%3Amtx%3Ajournal&amp;rft.genre=unknown&amp;rft.jtitle=The+Guardian&amp;rft.atitle=Andrew+Symonds+was+a+born+entertainer+and+a+reluctant+celebrity&amp;rft.date=2022-05-15&amp;rft_id=https%3A%2F%2Fwww.theguardian.com%2Fsport%2Fblog%2F2022%2Fmay%2F15%2Fandrew-symonds-was-a-born-entertainer-and-a-reluctant-celebrity&amp;rfr_id=info%3Asid%2Fen.wikipedia.org%3AAndrew+Symonds\"></span></span>\n",
       "</li>\n",
       "<li id=\"cite_note-18\"><span class=\"mw-cite-backlink\"><b><a href=\"#cite_ref-18\">^</a></b></span> <span class=\"reference-text\"><link href=\"mw-data:TemplateStyles:r1067248974\" rel=\"mw-deduplicated-inline-style\"/><cite class=\"citation web cs1\"><a class=\"external text\" href=\"https://www.kentcricket.co.uk/profile/andrew-symonds/\" rel=\"nofollow\">\"Andrew Symonds\"</a>. <i>Kent Cricket</i><span class=\"reference-accessdate\">. Retrieved <span class=\"nowrap\">15 May</span> 2022</span>.</cite><span class=\"Z3988\" title=\"ctx_ver=Z39.88-2004&amp;rft_val_fmt=info%3Aofi%2Ffmt%3Akev%3Amtx%3Ajournal&amp;rft.genre=unknown&amp;rft.jtitle=Kent+Cricket&amp;rft.atitle=Andrew+Symonds&amp;rft_id=https%3A%2F%2Fwww.kentcricket.co.uk%2Fprofile%2Fandrew-symonds%2F&amp;rfr_id=info%3Asid%2Fen.wikipedia.org%3AAndrew+Symonds\"></span></span>\n",
       "</li>\n",
       "<li id=\"cite_note-19\"><span class=\"mw-cite-backlink\"><b><a href=\"#cite_ref-19\">^</a></b></span> <span class=\"reference-text\"><link href=\"mw-data:TemplateStyles:r1067248974\" rel=\"mw-deduplicated-inline-style\"/><cite class=\"citation web cs1\"><a class=\"external text\" href=\"https://www.kentonline.co.uk/canterbury/news/symonds-we-now-have-belief-in-ourselves-a101971/\" rel=\"nofollow\">\"Symonds: We now have belief in ourselves\"</a>. <i>Kent Online</i>. 17 April 2002<span class=\"reference-accessdate\">. Retrieved <span class=\"nowrap\">15 May</span> 2022</span>.</cite><span class=\"Z3988\" title=\"ctx_ver=Z39.88-2004&amp;rft_val_fmt=info%3Aofi%2Ffmt%3Akev%3Amtx%3Ajournal&amp;rft.genre=unknown&amp;rft.jtitle=Kent+Online&amp;rft.atitle=Symonds%3A+We+now+have+belief+in+ourselves&amp;rft.date=2002-04-17&amp;rft_id=https%3A%2F%2Fwww.kentonline.co.uk%2Fcanterbury%2Fnews%2Fsymonds-we-now-have-belief-in-ourselves-a101971%2F&amp;rfr_id=info%3Asid%2Fen.wikipedia.org%3AAndrew+Symonds\"></span></span>\n",
       "</li>\n",
       "<li id=\"cite_note-20\"><span class=\"mw-cite-backlink\"><b><a href=\"#cite_ref-20\">^</a></b></span> <span class=\"reference-text\"><link href=\"mw-data:TemplateStyles:r1067248974\" rel=\"mw-deduplicated-inline-style\"/><cite class=\"citation web cs1\"><a class=\"external text\" href=\"https://www.espncricinfo.com/series/pura-cup-2001-02-285507/queensland-vs-tasmania-final-285504/full-scorecard\" rel=\"nofollow\">\"Final, Brisbane, March 22 - 26, 2002, Pura Cup\"</a>. <i>ESPN Cricinfo</i><span class=\"reference-accessdate\">. Retrieved <span class=\"nowrap\">15 May</span> 2022</span>.</cite><span class=\"Z3988\" title=\"ctx_ver=Z39.88-2004&amp;rft_val_fmt=info%3Aofi%2Ffmt%3Akev%3Amtx%3Ajournal&amp;rft.genre=unknown&amp;rft.jtitle=ESPN+Cricinfo&amp;rft.atitle=Final%2C+Brisbane%2C+March+22+-+26%2C+2002%2C+Pura+Cup&amp;rft_id=https%3A%2F%2Fwww.espncricinfo.com%2Fseries%2Fpura-cup-2001-02-285507%2Fqueensland-vs-tasmania-final-285504%2Ffull-scorecard&amp;rfr_id=info%3Asid%2Fen.wikipedia.org%3AAndrew+Symonds\"></span></span>\n",
       "</li>\n",
       "<li id=\"cite_note-21\"><span class=\"mw-cite-backlink\"><b><a href=\"#cite_ref-21\">^</a></b></span> <span class=\"reference-text\"><link href=\"mw-data:TemplateStyles:r1067248974\" rel=\"mw-deduplicated-inline-style\"/><cite class=\"citation web cs1\"><a class=\"external text\" href=\"https://www.bournemouthecho.co.uk/news/20140149.andrew-symonds---queensland-larrikin-known-roy-explosive-batting/\" rel=\"nofollow\">\"Andrew Symonds – the Queensland larrikin known as Roy with explosive batting\"</a>. <i>Bournemouth Echo</i><span class=\"reference-accessdate\">. Retrieved <span class=\"nowrap\">15 May</span> 2022</span>.</cite><span class=\"Z3988\" title=\"ctx_ver=Z39.88-2004&amp;rft_val_fmt=info%3Aofi%2Ffmt%3Akev%3Amtx%3Ajournal&amp;rft.genre=unknown&amp;rft.jtitle=Bournemouth+Echo&amp;rft.atitle=Andrew+Symonds+%E2%80%93+the+Queensland+larrikin+known+as+Roy+with+explosive+batting&amp;rft_id=https%3A%2F%2Fwww.bournemouthecho.co.uk%2Fnews%2F20140149.andrew-symonds---queensland-larrikin-known-roy-explosive-batting%2F&amp;rfr_id=info%3Asid%2Fen.wikipedia.org%3AAndrew+Symonds\"></span></span>\n",
       "</li>\n",
       "<li id=\"cite_note-Frindall-22\"><span class=\"mw-cite-backlink\">^ <a href=\"#cite_ref-Frindall_22-0\"><sup><i><b>a</b></i></sup></a> <a href=\"#cite_ref-Frindall_22-1\"><sup><i><b>b</b></i></sup></a></span> <span class=\"reference-text\"><link href=\"mw-data:TemplateStyles:r1067248974\" rel=\"mw-deduplicated-inline-style\"/><cite class=\"citation book cs1\" id=\"CITEREFFrindall1998\">Frindall, Bill (1998). <i>The Wisden Book of Cricket Records</i> (Fourth ed.). London: Headline Book Publishing. p. 146. <a class=\"mw-redirect\" href=\"/wiki/ISBN_(identifier)\" title=\"ISBN (identifier)\">ISBN</a> <a href=\"/wiki/Special:BookSources/0747222037\" title=\"Special:BookSources/0747222037\"><bdi>0747222037</bdi></a>.</cite><span class=\"Z3988\" title=\"ctx_ver=Z39.88-2004&amp;rft_val_fmt=info%3Aofi%2Ffmt%3Akev%3Amtx%3Abook&amp;rft.genre=book&amp;rft.btitle=The+Wisden+Book+of+Cricket+Records&amp;rft.place=London&amp;rft.pages=146&amp;rft.edition=Fourth&amp;rft.pub=Headline+Book+Publishing&amp;rft.date=1998&amp;rft.isbn=0747222037&amp;rft.aulast=Frindall&amp;rft.aufirst=Bill&amp;rfr_id=info%3Asid%2Fen.wikipedia.org%3AAndrew+Symonds\"></span></span>\n",
       "</li>\n",
       "<li id=\"cite_note-23\"><span class=\"mw-cite-backlink\"><b><a href=\"#cite_ref-23\">^</a></b></span> <span class=\"reference-text\"><link href=\"mw-data:TemplateStyles:r1067248974\" rel=\"mw-deduplicated-inline-style\"/><cite class=\"citation web cs1\"><a class=\"external text\" href=\"https://www.skysports.com/cricket/news/12149/12606664/ben-stokes-smashes-five-sixes-in-a-row-to-clinch-64-ball-hundred-for-durham-in-county-championship\" rel=\"nofollow\">\"Ben Stokes smashes record 17 sixes as he makes 161 for Durham on his County Championship return\"</a>. <i>Sky Sports</i>. 6 May 2022<span class=\"reference-accessdate\">. Retrieved <span class=\"nowrap\">15 May</span> 2022</span>.</cite><span class=\"Z3988\" title=\"ctx_ver=Z39.88-2004&amp;rft_val_fmt=info%3Aofi%2Ffmt%3Akev%3Amtx%3Ajournal&amp;rft.genre=unknown&amp;rft.jtitle=Sky+Sports&amp;rft.atitle=Ben+Stokes+smashes+record+17+sixes+as+he+makes+161+for+Durham+on+his+County+Championship+return&amp;rft.date=2022-05-06&amp;rft_id=https%3A%2F%2Fwww.skysports.com%2Fcricket%2Fnews%2F12149%2F12606664%2Fben-stokes-smashes-five-sixes-in-a-row-to-clinch-64-ball-hundred-for-durham-in-county-championship&amp;rfr_id=info%3Asid%2Fen.wikipedia.org%3AAndrew+Symonds\"></span></span>\n",
       "</li>\n",
       "<li id=\"cite_note-24\"><span class=\"mw-cite-backlink\"><b><a href=\"#cite_ref-24\">^</a></b></span> <span class=\"reference-text\"><link href=\"mw-data:TemplateStyles:r1067248974\" rel=\"mw-deduplicated-inline-style\"/><cite class=\"citation news cs1\" id=\"CITEREFHobson\">Hobson, By Richard. <a class=\"external text\" href=\"https://www.thetimes.co.uk/article/lancashire-lifted-by-presence-of-symonds-27lxj988tnz\" rel=\"nofollow\">\"Lancashire lifted by presence of Symonds\"</a>. <i>The Times</i><span class=\"reference-accessdate\">. Retrieved <span class=\"nowrap\">15 May</span> 2022</span>.</cite><span class=\"Z3988\" title=\"ctx_ver=Z39.88-2004&amp;rft_val_fmt=info%3Aofi%2Ffmt%3Akev%3Amtx%3Ajournal&amp;rft.genre=article&amp;rft.jtitle=The+Times&amp;rft.atitle=Lancashire+lifted+by+presence+of+Symonds&amp;rft.aulast=Hobson&amp;rft.aufirst=By+Richard&amp;rft_id=https%3A%2F%2Fwww.thetimes.co.uk%2Farticle%2Flancashire-lifted-by-presence-of-symonds-27lxj988tnz&amp;rfr_id=info%3Asid%2Fen.wikipedia.org%3AAndrew+Symonds\"></span></span>\n",
       "</li>\n",
       "<li id=\"cite_note-25\"><span class=\"mw-cite-backlink\"><b><a href=\"#cite_ref-25\">^</a></b></span> <span class=\"reference-text\"><link href=\"mw-data:TemplateStyles:r1067248974\" rel=\"mw-deduplicated-inline-style\"/><cite class=\"citation web cs1\"><a class=\"external text\" href=\"https://www.theguardian.com/sport/2010/apr/07/andrew-symonds-surrey-australia-overseas\" rel=\"nofollow\">\"Surrey sign Australian Andrew Symonds as second overseas player\"</a>. <i>The Guardian</i>. 7 April 2010<span class=\"reference-accessdate\">. Retrieved <span class=\"nowrap\">15 May</span> 2022</span>.</cite><span class=\"Z3988\" title=\"ctx_ver=Z39.88-2004&amp;rft_val_fmt=info%3Aofi%2Ffmt%3Akev%3Amtx%3Ajournal&amp;rft.genre=unknown&amp;rft.jtitle=The+Guardian&amp;rft.atitle=Surrey+sign+Australian+Andrew+Symonds+as+second+overseas+player&amp;rft.date=2010-04-07&amp;rft_id=https%3A%2F%2Fwww.theguardian.com%2Fsport%2F2010%2Fapr%2F07%2Fandrew-symonds-surrey-australia-overseas&amp;rfr_id=info%3Asid%2Fen.wikipedia.org%3AAndrew+Symonds\"></span></span>\n",
       "</li>\n",
       "<li id=\"cite_note-26\"><span class=\"mw-cite-backlink\"><b><a href=\"#cite_ref-26\">^</a></b></span> <span class=\"reference-text\"><link href=\"mw-data:TemplateStyles:r1067248974\" rel=\"mw-deduplicated-inline-style\"/><cite class=\"citation web cs1\"><a class=\"external text\" href=\"https://www.kentcricket.co.uk/profile/andrew-symonds/\" rel=\"nofollow\">\"Andrew Symonds profile\"</a>. Ment Cricket<span class=\"reference-accessdate\">. Retrieved <span class=\"nowrap\">16 May</span> 2022</span>.</cite><span class=\"Z3988\" title=\"ctx_ver=Z39.88-2004&amp;rft_val_fmt=info%3Aofi%2Ffmt%3Akev%3Amtx%3Abook&amp;rft.genre=unknown&amp;rft.btitle=Andrew+Symonds+profile&amp;rft.pub=Ment+Cricket&amp;rft_id=https%3A%2F%2Fwww.kentcricket.co.uk%2Fprofile%2Fandrew-symonds%2F&amp;rfr_id=info%3Asid%2Fen.wikipedia.org%3AAndrew+Symonds\"></span></span>\n",
       "</li>\n",
       "<li id=\"cite_note-27\"><span class=\"mw-cite-backlink\"><b><a href=\"#cite_ref-27\">^</a></b></span> <span class=\"reference-text\"><link href=\"mw-data:TemplateStyles:r1067248974\" rel=\"mw-deduplicated-inline-style\"/><cite class=\"citation web cs1\"><a class=\"external text\" href=\"https://www.espncricinfo.com/series/twenty20-cup-2003-124121/kent-vs-hampshire-south-group-129665/full-scorecard\" rel=\"nofollow\">\"Full Scorecard of Hampshire vs Kent South Group 2003 - Score Report | ESPNcricinfo.com\"</a>. <i>ESPNcricinfo</i><span class=\"reference-accessdate\">. Retrieved <span class=\"nowrap\">16 May</span> 2022</span>.</cite><span class=\"Z3988\" title=\"ctx_ver=Z39.88-2004&amp;rft_val_fmt=info%3Aofi%2Ffmt%3Akev%3Amtx%3Ajournal&amp;rft.genre=unknown&amp;rft.jtitle=ESPNcricinfo&amp;rft.atitle=Full+Scorecard+of+Hampshire+vs+Kent+South+Group+2003+-+Score+Report+%7C+ESPNcricinfo.com&amp;rft_id=https%3A%2F%2Fwww.espncricinfo.com%2Fseries%2Ftwenty20-cup-2003-124121%2Fkent-vs-hampshire-south-group-129665%2Ffull-scorecard&amp;rfr_id=info%3Asid%2Fen.wikipedia.org%3AAndrew+Symonds\"></span></span>\n",
       "</li>\n",
       "<li id=\"cite_note-KentMid-28\"><span class=\"mw-cite-backlink\">^ <a href=\"#cite_ref-KentMid_28-0\"><sup><i><b>a</b></i></sup></a> <a href=\"#cite_ref-KentMid_28-1\"><sup><i><b>b</b></i></sup></a></span> <span class=\"reference-text\"><link href=\"mw-data:TemplateStyles:r1067248974\" rel=\"mw-deduplicated-inline-style\"/><cite class=\"citation web cs1\" id=\"CITEREFScorecard\">Scorecard, ESPNCricinfo. <a class=\"external text\" href=\"http://www.espncricinfo.com/ci/engine/match/304790.html\" rel=\"nofollow\">\"Kent vs Middlesex 2nd July 2004\"</a>. ESPNCricinfo<span class=\"reference-accessdate\">. Retrieved <span class=\"nowrap\">26 July</span> 2012</span>.</cite><span class=\"Z3988\" title=\"ctx_ver=Z39.88-2004&amp;rft_val_fmt=info%3Aofi%2Ffmt%3Akev%3Amtx%3Abook&amp;rft.genre=unknown&amp;rft.btitle=Kent+vs+Middlesex+2nd+July+2004&amp;rft.pub=ESPNCricinfo&amp;rft.aulast=Scorecard&amp;rft.aufirst=ESPNCricinfo&amp;rft_id=http%3A%2F%2Fwww.espncricinfo.com%2Fci%2Fengine%2Fmatch%2F304790.html&amp;rfr_id=info%3Asid%2Fen.wikipedia.org%3AAndrew+Symonds\"></span></span>\n",
       "</li>\n",
       "<li id=\"cite_note-29\"><span class=\"mw-cite-backlink\"><b><a href=\"#cite_ref-29\">^</a></b></span> <span class=\"reference-text\"><link href=\"mw-data:TemplateStyles:r1067248974\" rel=\"mw-deduplicated-inline-style\"/><cite class=\"citation web cs1\"><a class=\"external text\" href=\"https://www.espncricinfo.com/story/andrew-symonds-seven-innings-that-defined-his-career-1315036\" rel=\"nofollow\">\"Seven innings that defined Andrew Symonds' career\"</a>. <i>ESPNcricinfo</i><span class=\"reference-accessdate\">. Retrieved <span class=\"nowrap\">16 May</span> 2022</span>.</cite><span class=\"Z3988\" title=\"ctx_ver=Z39.88-2004&amp;rft_val_fmt=info%3Aofi%2Ffmt%3Akev%3Amtx%3Ajournal&amp;rft.genre=unknown&amp;rft.jtitle=ESPNcricinfo&amp;rft.atitle=Seven+innings+that+defined+Andrew+Symonds%27+career&amp;rft_id=https%3A%2F%2Fwww.espncricinfo.com%2Fstory%2Fandrew-symonds-seven-innings-that-defined-his-career-1315036&amp;rfr_id=info%3Asid%2Fen.wikipedia.org%3AAndrew+Symonds\"></span></span>\n",
       "</li>\n",
       "<li id=\"cite_note-KentStats-30\"><span class=\"mw-cite-backlink\">^ <a href=\"#cite_ref-KentStats_30-0\"><sup><i><b>a</b></i></sup></a> <a href=\"#cite_ref-KentStats_30-1\"><sup><i><b>b</b></i></sup></a></span> <span class=\"reference-text\"><link href=\"mw-data:TemplateStyles:r1067248974\" rel=\"mw-deduplicated-inline-style\"/><cite class=\"citation web cs1\"><a class=\"external text\" href=\"https://www.espncricinfo.com/story/andrew-symonds-in-county-cricket-and-that-t20-knock-a-force-of-nature-1315184\" rel=\"nofollow\">\"A force of nature' - How county cricket remembers Andrew Symonds and that T20 knock\"</a>. <i>ESPN Cricinfo</i><span class=\"reference-accessdate\">. Retrieved <span class=\"nowrap\">17 May</span> 2022</span>.</cite><span class=\"Z3988\" title=\"ctx_ver=Z39.88-2004&amp;rft_val_fmt=info%3Aofi%2Ffmt%3Akev%3Amtx%3Ajournal&amp;rft.genre=unknown&amp;rft.jtitle=ESPN+Cricinfo&amp;rft.atitle=A+force+of+nature%27+-+How+county+cricket+remembers+Andrew+Symonds+and+that+T20+knock&amp;rft_id=https%3A%2F%2Fwww.espncricinfo.com%2Fstory%2Fandrew-symonds-in-county-cricket-and-that-t20-knock-a-force-of-nature-1315184&amp;rfr_id=info%3Asid%2Fen.wikipedia.org%3AAndrew+Symonds\"></span></span>\n",
       "</li>\n",
       "<li id=\"cite_note-31\"><span class=\"mw-cite-backlink\"><b><a href=\"#cite_ref-31\">^</a></b></span> <span class=\"reference-text\"><link href=\"mw-data:TemplateStyles:r1067248974\" rel=\"mw-deduplicated-inline-style\"/><cite class=\"citation web cs1\"><a class=\"external text\" href=\"https://wisden.com/stories/features/legend-of-roy-the-andrew-symonds-story\" rel=\"nofollow\">\"Legend Of Roy: The Andrew Symonds Story | Wisden Cricket\"</a>. <i>Wisden</i>. 30 June 2020<span class=\"reference-accessdate\">. Retrieved <span class=\"nowrap\">16 May</span> 2022</span>.</cite><span class=\"Z3988\" title=\"ctx_ver=Z39.88-2004&amp;rft_val_fmt=info%3Aofi%2Ffmt%3Akev%3Amtx%3Ajournal&amp;rft.genre=unknown&amp;rft.jtitle=Wisden&amp;rft.atitle=Legend+Of+Roy%3A+The+Andrew+Symonds+Story+%7C+Wisden+Cricket&amp;rft.date=2020-06-30&amp;rft_id=https%3A%2F%2Fwisden.com%2Fstories%2Ffeatures%2Flegend-of-roy-the-andrew-symonds-story&amp;rfr_id=info%3Asid%2Fen.wikipedia.org%3AAndrew+Symonds\"></span></span>\n",
       "</li>\n",
       "<li id=\"cite_note-32\"><span class=\"mw-cite-backlink\"><b><a href=\"#cite_ref-32\">^</a></b></span> <span class=\"reference-text\"><link href=\"mw-data:TemplateStyles:r1067248974\" rel=\"mw-deduplicated-inline-style\"/><cite class=\"citation web cs1\"><a class=\"external text\" href=\"https://www.kentcricket.co.uk/news/andrew-symonds-1975-2022/\" rel=\"nofollow\">\"ANDREW SYMONDS | 1975-2022\"</a>. <i>Kent Cricket</i>. 15 May 2022<span class=\"reference-accessdate\">. Retrieved <span class=\"nowrap\">15 May</span> 2022</span>.</cite><span class=\"Z3988\" title=\"ctx_ver=Z39.88-2004&amp;rft_val_fmt=info%3Aofi%2Ffmt%3Akev%3Amtx%3Ajournal&amp;rft.genre=unknown&amp;rft.jtitle=Kent+Cricket&amp;rft.atitle=ANDREW+SYMONDS+%7C+1975-2022&amp;rft.date=2022-05-15&amp;rft_id=https%3A%2F%2Fwww.kentcricket.co.uk%2Fnews%2Fandrew-symonds-1975-2022%2F&amp;rfr_id=info%3Asid%2Fen.wikipedia.org%3AAndrew+Symonds\"></span></span>\n",
       "</li>\n",
       "<li id=\"cite_note-33\"><span class=\"mw-cite-backlink\"><b><a href=\"#cite_ref-33\">^</a></b></span> <span class=\"reference-text\"><link href=\"mw-data:TemplateStyles:r1067248974\" rel=\"mw-deduplicated-inline-style\"/><cite class=\"citation web cs1\"><a class=\"external text\" href=\"https://www.siasat.com/hard-hitting-symonds-leaves-cricket-fans-shell-shocked-he-was-once-part-of-deccan-chargers-2327569/\" rel=\"nofollow\">\"Hard hitting Symonds leaves cricket fans shell shocked; he was once part of Deccan Chargers\"</a>. 15 May 2022.</cite><span class=\"Z3988\" title=\"ctx_ver=Z39.88-2004&amp;rft_val_fmt=info%3Aofi%2Ffmt%3Akev%3Amtx%3Abook&amp;rft.genre=unknown&amp;rft.btitle=Hard+hitting+Symonds+leaves+cricket+fans+shell+shocked%3B+he+was+once+part+of+Deccan+Chargers&amp;rft.date=2022-05-15&amp;rft_id=https%3A%2F%2Fwww.siasat.com%2Fhard-hitting-symonds-leaves-cricket-fans-shell-shocked-he-was-once-part-of-deccan-chargers-2327569%2F&amp;rfr_id=info%3Asid%2Fen.wikipedia.org%3AAndrew+Symonds\"></span></span>\n",
       "</li>\n",
       "<li id=\"cite_note-34\"><span class=\"mw-cite-backlink\"><b><a href=\"#cite_ref-34\">^</a></b></span> <span class=\"reference-text\"><link href=\"mw-data:TemplateStyles:r1067248974\" rel=\"mw-deduplicated-inline-style\"/><cite class=\"citation news cs1\"><a class=\"external text\" href=\"https://www.abc.net.au/news/2008-04-25/chargers-lose-despite-symonds-century/2415150\" rel=\"nofollow\">\"Chargers lose despite Symonds century\"</a>. <i>ABC News</i>. 24 April 2008<span class=\"reference-accessdate\">. Retrieved <span class=\"nowrap\">15 May</span> 2022</span>.</cite><span class=\"Z3988\" title=\"ctx_ver=Z39.88-2004&amp;rft_val_fmt=info%3Aofi%2Ffmt%3Akev%3Amtx%3Ajournal&amp;rft.genre=article&amp;rft.jtitle=ABC+News&amp;rft.atitle=Chargers+lose+despite+Symonds+century&amp;rft.date=2008-04-24&amp;rft_id=https%3A%2F%2Fwww.abc.net.au%2Fnews%2F2008-04-25%2Fchargers-lose-despite-symonds-century%2F2415150&amp;rfr_id=info%3Asid%2Fen.wikipedia.org%3AAndrew+Symonds\"></span></span>\n",
       "</li>\n",
       "<li id=\"cite_note-35\"><span class=\"mw-cite-backlink\"><b><a href=\"#cite_ref-35\">^</a></b></span> <span class=\"reference-text\"><link href=\"mw-data:TemplateStyles:r1067248974\" rel=\"mw-deduplicated-inline-style\"/><cite class=\"citation news cs1\"><a class=\"external text\" href=\"http://www.cricinfo.com/ipl2010/content/story/452607.html\" rel=\"nofollow\">\"Symonds helps Deccan to first home win\"</a>. Cricinfo. <a class=\"external text\" href=\"https://web.archive.org/web/20100322200532/http://www.cricinfo.com/ipl2010/content/story/452607.html\" rel=\"nofollow\">Archived</a> from the original on 22 March 2010<span class=\"reference-accessdate\">. Retrieved <span class=\"nowrap\">20 March</span> 2010</span>.</cite><span class=\"Z3988\" title=\"ctx_ver=Z39.88-2004&amp;rft_val_fmt=info%3Aofi%2Ffmt%3Akev%3Amtx%3Ajournal&amp;rft.genre=article&amp;rft.atitle=Symonds+helps+Deccan+to+first+home+win&amp;rft_id=http%3A%2F%2Fwww.cricinfo.com%2Fipl2010%2Fcontent%2Fstory%2F452607.html&amp;rfr_id=info%3Asid%2Fen.wikipedia.org%3AAndrew+Symonds\"></span></span>\n",
       "</li>\n",
       "<li id=\"cite_note-36\"><span class=\"mw-cite-backlink\"><b><a href=\"#cite_ref-36\">^</a></b></span> <span class=\"reference-text\"><link href=\"mw-data:TemplateStyles:r1067248974\" rel=\"mw-deduplicated-inline-style\"/><cite class=\"citation news cs1\"><a class=\"external text\" href=\"http://www.cricinfo.com/ipl2010/content/story/451967.html\" rel=\"nofollow\">\"Deccan big guns overwhelm Chennai\"</a>. Cricinfo. <a class=\"external text\" href=\"https://web.archive.org/web/20100317164822/http://www.cricinfo.com/ipl2010/content/story/451967.html\" rel=\"nofollow\">Archived</a> from the original on 17 March 2010<span class=\"reference-accessdate\">. Retrieved <span class=\"nowrap\">20 March</span> 2010</span>.</cite><span class=\"Z3988\" title=\"ctx_ver=Z39.88-2004&amp;rft_val_fmt=info%3Aofi%2Ffmt%3Akev%3Amtx%3Ajournal&amp;rft.genre=article&amp;rft.atitle=Deccan+big+guns+overwhelm+Chennai&amp;rft_id=http%3A%2F%2Fwww.cricinfo.com%2Fipl2010%2Fcontent%2Fstory%2F451967.html&amp;rfr_id=info%3Asid%2Fen.wikipedia.org%3AAndrew+Symonds\"></span></span>\n",
       "</li>\n",
       "<li id=\"cite_note-37\"><span class=\"mw-cite-backlink\"><b><a href=\"#cite_ref-37\">^</a></b></span> <span class=\"reference-text\"><link href=\"mw-data:TemplateStyles:r1067248974\" rel=\"mw-deduplicated-inline-style\"/><cite class=\"citation web cs1\"><a class=\"external text\" href=\"https://www.mid-day.com/sports/cricket/article/mumbai-indians-share-memories-of-andrew-symonds-23227280\" rel=\"nofollow\">\"Mumbai Indians share memories of Andrew Symonds\"</a>. 15 May 2022.</cite><span class=\"Z3988\" title=\"ctx_ver=Z39.88-2004&amp;rft_val_fmt=info%3Aofi%2Ffmt%3Akev%3Amtx%3Abook&amp;rft.genre=unknown&amp;rft.btitle=Mumbai+Indians+share+memories+of+Andrew+Symonds&amp;rft.date=2022-05-15&amp;rft_id=https%3A%2F%2Fwww.mid-day.com%2Fsports%2Fcricket%2Farticle%2Fmumbai-indians-share-memories-of-andrew-symonds-23227280&amp;rfr_id=info%3Asid%2Fen.wikipedia.org%3AAndrew+Symonds\"></span></span>\n",
       "</li>\n",
       "<li id=\"cite_note-38\"><span class=\"mw-cite-backlink\"><b><a href=\"#cite_ref-38\">^</a></b></span> <span class=\"reference-text\"><link href=\"mw-data:TemplateStyles:r1067248974\" rel=\"mw-deduplicated-inline-style\"/><cite class=\"citation web cs1\"><a class=\"external text\" href=\"http://www.sportspundit.com/cricket/cricketers/1900-andrew-symonds\" rel=\"nofollow\">\"Andrew Symonds\"</a>. <i>Sports Pundit</i><span class=\"reference-accessdate\">. Retrieved <span class=\"nowrap\">23 March</span> 2018</span>.</cite><span class=\"Z3988\" title=\"ctx_ver=Z39.88-2004&amp;rft_val_fmt=info%3Aofi%2Ffmt%3Akev%3Amtx%3Ajournal&amp;rft.genre=unknown&amp;rft.jtitle=Sports+Pundit&amp;rft.atitle=Andrew+Symonds&amp;rft_id=http%3A%2F%2Fwww.sportspundit.com%2Fcricket%2Fcricketers%2F1900-andrew-symonds&amp;rfr_id=info%3Asid%2Fen.wikipedia.org%3AAndrew+Symonds\"></span></span>\n",
       "</li>\n",
       "<li id=\"cite_note-39\"><span class=\"mw-cite-backlink\"><b><a href=\"#cite_ref-39\">^</a></b></span> <span class=\"reference-text\"><link href=\"mw-data:TemplateStyles:r1067248974\" rel=\"mw-deduplicated-inline-style\"/><cite class=\"citation web cs1\"><a class=\"external text\" href=\"http://www.cricinfo.com/wc2007/engine/match/64594.html\" rel=\"nofollow\">\"Scorecard: Pakistan v Australia, 3rd ODI, at Lahore 8 Nov 1998\"</a>. Cricinfo<span class=\"reference-accessdate\">. Retrieved <span class=\"nowrap\">19 July</span> 2009</span>.</cite><span class=\"Z3988\" title=\"ctx_ver=Z39.88-2004&amp;rft_val_fmt=info%3Aofi%2Ffmt%3Akev%3Amtx%3Abook&amp;rft.genre=unknown&amp;rft.btitle=Scorecard%3A+Pakistan+v+Australia%2C+3rd+ODI%2C+at+Lahore+8+Nov+1998&amp;rft.pub=Cricinfo&amp;rft_id=http%3A%2F%2Fwww.cricinfo.com%2Fwc2007%2Fengine%2Fmatch%2F64594.html&amp;rfr_id=info%3Asid%2Fen.wikipedia.org%3AAndrew+Symonds\"></span></span>\n",
       "</li>\n",
       "<li id=\"cite_note-40\"><span class=\"mw-cite-backlink\"><b><a href=\"#cite_ref-40\">^</a></b></span> <span class=\"reference-text\"><link href=\"mw-data:TemplateStyles:r1067248974\" rel=\"mw-deduplicated-inline-style\"/><cite class=\"citation web cs1\"><a class=\"external text\" href=\"https://www.nwemail.co.uk/news/20140149.andrew-symonds---queensland-larrikin-known-roy-explosive-batting/\" rel=\"nofollow\">\"Andrew Symonds – the Queensland larrikin known as Roy with explosive batting\"</a>. <i>The Mail</i><span class=\"reference-accessdate\">. Retrieved <span class=\"nowrap\">16 May</span> 2022</span>.</cite><span class=\"Z3988\" title=\"ctx_ver=Z39.88-2004&amp;rft_val_fmt=info%3Aofi%2Ffmt%3Akev%3Amtx%3Ajournal&amp;rft.genre=unknown&amp;rft.jtitle=The+Mail&amp;rft.atitle=Andrew+Symonds+%E2%80%93+the+Queensland+larrikin+known+as+Roy+with+explosive+batting&amp;rft_id=https%3A%2F%2Fwww.nwemail.co.uk%2Fnews%2F20140149.andrew-symonds---queensland-larrikin-known-roy-explosive-batting%2F&amp;rfr_id=info%3Asid%2Fen.wikipedia.org%3AAndrew+Symonds\"></span></span>\n",
       "</li>\n",
       "<li id=\"cite_note-41\"><span class=\"mw-cite-backlink\"><b><a href=\"#cite_ref-41\">^</a></b></span> <span class=\"reference-text\"><link href=\"mw-data:TemplateStyles:r1067248974\" rel=\"mw-deduplicated-inline-style\"/><cite class=\"citation news cs1\"><a class=\"external text\" href=\"https://www.espncricinfo.com/story/australia-announces-world-cup-squad-113489\" rel=\"nofollow\">\"Australia announces World Cup squad\"</a>. <i>ESPNCricinfo.com</i>. 31 December 2002<span class=\"reference-accessdate\">. Retrieved <span class=\"nowrap\">15 May</span> 2022</span>.</cite><span class=\"Z3988\" title=\"ctx_ver=Z39.88-2004&amp;rft_val_fmt=info%3Aofi%2Ffmt%3Akev%3Amtx%3Ajournal&amp;rft.genre=article&amp;rft.jtitle=ESPNCricinfo.com&amp;rft.atitle=Australia+announces+World+Cup+squad&amp;rft.date=2002-12-31&amp;rft_id=https%3A%2F%2Fwww.espncricinfo.com%2Fstory%2Faustralia-announces-world-cup-squad-113489&amp;rfr_id=info%3Asid%2Fen.wikipedia.org%3AAndrew+Symonds\"></span></span>\n",
       "</li>\n",
       "<li id=\"cite_note-BevanStillChance-42\"><span class=\"mw-cite-backlink\"><b><a href=\"#cite_ref-BevanStillChance_42-0\">^</a></b></span> <span class=\"reference-text\"><link href=\"mw-data:TemplateStyles:r1067248974\" rel=\"mw-deduplicated-inline-style\"/><cite class=\"citation news cs1\" id=\"CITEREFHand2003\">Hand, Guy (26 January 2003). <a class=\"external text\" href=\"https://www.espncricinfo.com/story/bevan-still-chance-for-world-cup-128124\" rel=\"nofollow\">\"Bevan still chance for World Cup\"</a>. <i>Cricinfo.com</i>. <a href=\"/wiki/Australian_Associated_Press\" title=\"Australian Associated Press\">Australian Associated Press</a><span class=\"reference-accessdate\">. Retrieved <span class=\"nowrap\">15 May</span> 2022</span>.</cite><span class=\"Z3988\" title=\"ctx_ver=Z39.88-2004&amp;rft_val_fmt=info%3Aofi%2Ffmt%3Akev%3Amtx%3Ajournal&amp;rft.genre=article&amp;rft.jtitle=Cricinfo.com&amp;rft.atitle=Bevan+still+chance+for+World+Cup&amp;rft.date=2003-01-26&amp;rft.aulast=Hand&amp;rft.aufirst=Guy&amp;rft_id=https%3A%2F%2Fwww.espncricinfo.com%2Fstory%2Fbevan-still-chance-for-world-cup-128124&amp;rfr_id=info%3Asid%2Fen.wikipedia.org%3AAndrew+Symonds\"></span></span>\n",
       "</li>\n",
       "<li id=\"cite_note-43\"><span class=\"mw-cite-backlink\"><b><a href=\"#cite_ref-43\">^</a></b></span> <span class=\"reference-text\"><link href=\"mw-data:TemplateStyles:r1067248974\" rel=\"mw-deduplicated-inline-style\"/><cite class=\"citation web cs1\"><a class=\"external text\" href=\"https://uk.sports.yahoo.com/news/day-2003-shane-warne-banned-060000936.html?guccounter=1&amp;guce_referrer=aHR0cHM6Ly93d3cuZ29vZ2xlLmNvbS8&amp;guce_referrer_sig=AQAAACunWwQr-qxpj1JtlC1HPJhN1fysRYHJhIXSl8LKKPwp8NypzsSCRna5bxiNbOq2PCNRz1rQv35ltyYlRGov1pFm9PE5fqfYJ8RxmCkoM55S4PD6LeqoFxQqixRXU8z7V042AUFV5Jd2PGQdnWVyFlWbzlUGwo8rpbfbxCxZ19AS\" rel=\"nofollow\">\"On This Day 2003: Shane Warne banned for a year by ACB after failing drugs test\"</a>.</cite><span class=\"Z3988\" title=\"ctx_ver=Z39.88-2004&amp;rft_val_fmt=info%3Aofi%2Ffmt%3Akev%3Amtx%3Abook&amp;rft.genre=unknown&amp;rft.btitle=On+This+Day+2003%3A+Shane+Warne+banned+for+a+year+by+ACB+after+failing+drugs+test&amp;rft_id=https%3A%2F%2Fuk.sports.yahoo.com%2Fnews%2Fday-2003-shane-warne-banned-060000936.html%3Fguccounter%3D1%26guce_referrer%3DaHR0cHM6Ly93d3cuZ29vZ2xlLmNvbS8%26guce_referrer_sig%3DAQAAACunWwQr-qxpj1JtlC1HPJhN1fysRYHJhIXSl8LKKPwp8NypzsSCRna5bxiNbOq2PCNRz1rQv35ltyYlRGov1pFm9PE5fqfYJ8RxmCkoM55S4PD6LeqoFxQqixRXU8z7V042AUFV5Jd2PGQdnWVyFlWbzlUGwo8rpbfbxCxZ19AS&amp;rfr_id=info%3Asid%2Fen.wikipedia.org%3AAndrew+Symonds\"></span></span>\n",
       "</li>\n",
       "<li id=\"cite_note-44\"><span class=\"mw-cite-backlink\"><b><a href=\"#cite_ref-44\">^</a></b></span> <span class=\"reference-text\"><link href=\"mw-data:TemplateStyles:r1067248974\" rel=\"mw-deduplicated-inline-style\"/><cite class=\"citation web cs1\"><a class=\"external text\" href=\"https://www.theguardian.com/sport/2003/jan/17/cricket.davidhopps\" rel=\"nofollow\">\"Australia's Lehmann on racism charge\"</a>. <i><a href=\"/wiki/TheGuardian.com\" title=\"TheGuardian.com\">TheGuardian.com</a></i>. 17 January 2003.</cite><span class=\"Z3988\" title=\"ctx_ver=Z39.88-2004&amp;rft_val_fmt=info%3Aofi%2Ffmt%3Akev%3Amtx%3Ajournal&amp;rft.genre=unknown&amp;rft.jtitle=TheGuardian.com&amp;rft.atitle=Australia%27s+Lehmann+on+racism+charge&amp;rft.date=2003-01-17&amp;rft_id=https%3A%2F%2Fwww.theguardian.com%2Fsport%2F2003%2Fjan%2F17%2Fcricket.davidhopps&amp;rfr_id=info%3Asid%2Fen.wikipedia.org%3AAndrew+Symonds\"></span></span>\n",
       "</li>\n",
       "<li id=\"cite_note-45\"><span class=\"mw-cite-backlink\"><b><a href=\"#cite_ref-45\">^</a></b></span> <span class=\"reference-text\"><link href=\"mw-data:TemplateStyles:r1067248974\" rel=\"mw-deduplicated-inline-style\"/><cite class=\"citation web cs1\"><a class=\"external text\" href=\"https://www.hindustantimes.com/cricket/andrew-symonds-death-five-rare-and-unique-facts-about-the-former-australia-allrounder-101652588866953.html\" rel=\"nofollow\">\"Andrew Symonds death: Five rare and unique facts about the former Australia all-rounder\"</a>. <i>Hindustan Times</i>. 15 May 2022<span class=\"reference-accessdate\">. Retrieved <span class=\"nowrap\">16 May</span> 2022</span>.</cite><span class=\"Z3988\" title=\"ctx_ver=Z39.88-2004&amp;rft_val_fmt=info%3Aofi%2Ffmt%3Akev%3Amtx%3Ajournal&amp;rft.genre=unknown&amp;rft.jtitle=Hindustan+Times&amp;rft.atitle=Andrew+Symonds+death%3A+Five+rare+and+unique+facts+about+the+former+Australia+all-rounder&amp;rft.date=2022-05-15&amp;rft_id=https%3A%2F%2Fwww.hindustantimes.com%2Fcricket%2Fandrew-symonds-death-five-rare-and-unique-facts-about-the-former-australia-allrounder-101652588866953.html&amp;rfr_id=info%3Asid%2Fen.wikipedia.org%3AAndrew+Symonds\"></span></span>\n",
       "</li>\n",
       "<li id=\"cite_note-46\"><span class=\"mw-cite-backlink\"><b><a href=\"#cite_ref-46\">^</a></b></span> <span class=\"reference-text\"><link href=\"mw-data:TemplateStyles:r1067248974\" rel=\"mw-deduplicated-inline-style\"/><cite class=\"citation web cs1\"><a class=\"external text\" href=\"https://www.espncricinfo.com/series/icc-world-cup-2002-03-61124/australia-vs-pakistan-4th-match-65238/full-scorecard\" rel=\"nofollow\">\"Full Scorecard of Australia vs Pakistan 4th Match 2002/03\"</a>. <i>ESPNCricinfo.com</i><span class=\"reference-accessdate\">. Retrieved <span class=\"nowrap\">15 May</span> 2022</span>.</cite><span class=\"Z3988\" title=\"ctx_ver=Z39.88-2004&amp;rft_val_fmt=info%3Aofi%2Ffmt%3Akev%3Amtx%3Ajournal&amp;rft.genre=unknown&amp;rft.jtitle=ESPNCricinfo.com&amp;rft.atitle=Full+Scorecard+of+Australia+vs+Pakistan+4th+Match+2002%2F03&amp;rft_id=https%3A%2F%2Fwww.espncricinfo.com%2Fseries%2Ficc-world-cup-2002-03-61124%2Faustralia-vs-pakistan-4th-match-65238%2Ffull-scorecard&amp;rfr_id=info%3Asid%2Fen.wikipedia.org%3AAndrew+Symonds\"></span></span>\n",
       "</li>\n",
       "<li id=\"cite_note-47\"><span class=\"mw-cite-backlink\"><b><a href=\"#cite_ref-47\">^</a></b></span> <span class=\"reference-text\"><link href=\"mw-data:TemplateStyles:r1067248974\" rel=\"mw-deduplicated-inline-style\"/><cite class=\"citation news cs1\" id=\"CITEREFMurali2003\">Murali, Kanta (11 April 2003). <a class=\"external text\" href=\"https://frontline.thehindu.com/other/sport/article30216462.ece\" rel=\"nofollow\">\"Lessons from a shock-and-awe final\"</a>. <i><a href=\"/wiki/The_Hindu\" title=\"The Hindu\">TheHindu.com</a></i><span class=\"reference-accessdate\">. Retrieved <span class=\"nowrap\">15 May</span> 2022</span>.</cite><span class=\"Z3988\" title=\"ctx_ver=Z39.88-2004&amp;rft_val_fmt=info%3Aofi%2Ffmt%3Akev%3Amtx%3Ajournal&amp;rft.genre=article&amp;rft.jtitle=TheHindu.com&amp;rft.atitle=Lessons+from+a+shock-and-awe+final&amp;rft.date=2003-04-11&amp;rft.aulast=Murali&amp;rft.aufirst=Kanta&amp;rft_id=https%3A%2F%2Ffrontline.thehindu.com%2Fother%2Fsport%2Farticle30216462.ece&amp;rfr_id=info%3Asid%2Fen.wikipedia.org%3AAndrew+Symonds\"></span></span>\n",
       "</li>\n",
       "<li id=\"cite_note-48\"><span class=\"mw-cite-backlink\"><b><a href=\"#cite_ref-48\">^</a></b></span> <span class=\"reference-text\"><link href=\"mw-data:TemplateStyles:r1067248974\" rel=\"mw-deduplicated-inline-style\"/><cite class=\"citation web cs1\"><a class=\"external text\" href=\"https://www.espncricinfo.com/series/icc-world-cup-2002-03-61124/australia-vs-sri-lanka-1st-sf-65284/full-scorecard\" rel=\"nofollow\">\"Full Scorecard of Australia vs Sri Lanka 1st SF 2002/03\"</a>. <i>ESPNCricinfo.com</i><span class=\"reference-accessdate\">. Retrieved <span class=\"nowrap\">15 May</span> 2022</span>.</cite><span class=\"Z3988\" title=\"ctx_ver=Z39.88-2004&amp;rft_val_fmt=info%3Aofi%2Ffmt%3Akev%3Amtx%3Ajournal&amp;rft.genre=unknown&amp;rft.jtitle=ESPNCricinfo.com&amp;rft.atitle=Full+Scorecard+of+Australia+vs+Sri+Lanka+1st+SF+2002%2F03&amp;rft_id=https%3A%2F%2Fwww.espncricinfo.com%2Fseries%2Ficc-world-cup-2002-03-61124%2Faustralia-vs-sri-lanka-1st-sf-65284%2Ffull-scorecard&amp;rfr_id=info%3Asid%2Fen.wikipedia.org%3AAndrew+Symonds\"></span></span>\n",
       "</li>\n",
       "<li id=\"cite_note-49\"><span class=\"mw-cite-backlink\"><b><a href=\"#cite_ref-49\">^</a></b></span> <span class=\"reference-text\"><link href=\"mw-data:TemplateStyles:r1067248974\" rel=\"mw-deduplicated-inline-style\"/><cite class=\"citation news cs1\"><a class=\"external text\" href=\"http://news.bbc.co.uk/sport3/cwc2003/hi/newsid_2870000/newsid_2875100/2875135.stm\" rel=\"nofollow\">\"Ruthless Aussies lift World Cup\"</a>. <i>news.BBC.co.uk</i>. 23 March 2003<span class=\"reference-accessdate\">. Retrieved <span class=\"nowrap\">15 May</span> 2022</span>.</cite><span class=\"Z3988\" title=\"ctx_ver=Z39.88-2004&amp;rft_val_fmt=info%3Aofi%2Ffmt%3Akev%3Amtx%3Ajournal&amp;rft.genre=article&amp;rft.jtitle=news.BBC.co.uk&amp;rft.atitle=Ruthless+Aussies+lift+World+Cup&amp;rft.date=2003-03-23&amp;rft_id=http%3A%2F%2Fnews.bbc.co.uk%2Fsport3%2Fcwc2003%2Fhi%2Fnewsid_2870000%2Fnewsid_2875100%2F2875135.stm&amp;rfr_id=info%3Asid%2Fen.wikipedia.org%3AAndrew+Symonds\"></span></span>\n",
       "</li>\n",
       "<li id=\"cite_note-Test_debut-50\"><span class=\"mw-cite-backlink\">^ <a href=\"#cite_ref-Test_debut_50-0\"><sup><i><b>a</b></i></sup></a> <a href=\"#cite_ref-Test_debut_50-1\"><sup><i><b>b</b></i></sup></a></span> <span class=\"reference-text\"><link href=\"mw-data:TemplateStyles:r1067248974\" rel=\"mw-deduplicated-inline-style\"/><cite class=\"citation news cs1\"><a class=\"external text\" href=\"https://www.theage.com.au/sport/cricket/the-cap-finally-fits-for-symonds-20040221-gdxcqf.html\" rel=\"nofollow\">\"The cap finally fits for Symonds\"</a>. <i>TheAge.com.au</i>. 21 February 2004<span class=\"reference-accessdate\">. Retrieved <span class=\"nowrap\">16 May</span> 2022</span>.</cite><span class=\"Z3988\" title=\"ctx_ver=Z39.88-2004&amp;rft_val_fmt=info%3Aofi%2Ffmt%3Akev%3Amtx%3Ajournal&amp;rft.genre=article&amp;rft.jtitle=TheAge.com.au&amp;rft.atitle=The+cap+finally+fits+for+Symonds&amp;rft.date=2004-02-21&amp;rft_id=https%3A%2F%2Fwww.theage.com.au%2Fsport%2Fcricket%2Fthe-cap-finally-fits-for-symonds-20040221-gdxcqf.html&amp;rfr_id=info%3Asid%2Fen.wikipedia.org%3AAndrew+Symonds\"></span></span>\n",
       "</li>\n",
       "<li id=\"cite_note-51\"><span class=\"mw-cite-backlink\"><b><a href=\"#cite_ref-51\">^</a></b></span> <span class=\"reference-text\"><link href=\"mw-data:TemplateStyles:r1067248974\" rel=\"mw-deduplicated-inline-style\"/><cite class=\"citation web cs1\"><a class=\"external text\" href=\"https://stats.espncricinfo.com/ci/engine/records/batting/most_runs_career.html?id=865&amp;type=tournament\" rel=\"nofollow\">\"ICC World Cup, 2002/03 Cricket Team Records &amp; Stats | ESPNcricinfo.com\"</a>. <i>Cricinfo</i><span class=\"reference-accessdate\">. Retrieved <span class=\"nowrap\">16 May</span> 2022</span>.</cite><span class=\"Z3988\" title=\"ctx_ver=Z39.88-2004&amp;rft_val_fmt=info%3Aofi%2Ffmt%3Akev%3Amtx%3Ajournal&amp;rft.genre=unknown&amp;rft.jtitle=Cricinfo&amp;rft.atitle=ICC+World+Cup%2C+2002%2F03+Cricket+Team+Records+%26+Stats+%7C+ESPNcricinfo.com&amp;rft_id=https%3A%2F%2Fstats.espncricinfo.com%2Fci%2Fengine%2Frecords%2Fbatting%2Fmost_runs_career.html%3Fid%3D865%26type%3Dtournament&amp;rfr_id=info%3Asid%2Fen.wikipedia.org%3AAndrew+Symonds\"></span></span>\n",
       "</li>\n",
       "<li id=\"cite_note-52\"><span class=\"mw-cite-backlink\"><b><a href=\"#cite_ref-52\">^</a></b></span> <span class=\"reference-text\"><link href=\"mw-data:TemplateStyles:r1067248974\" rel=\"mw-deduplicated-inline-style\"/><cite class=\"citation web cs1\"><a class=\"external text\" href=\"https://www.espncricinfo.com/series/icc-world-cup-2002-03-61124/australia-vs-england-37th-match-65269/full-scorecard\" rel=\"nofollow\">\"Full Scorecard of England vs Australia 37th Match 2002/03 – Score Report | ESPNcricinfo.com\"</a>. <i>ESPNcricinfo</i><span class=\"reference-accessdate\">. Retrieved <span class=\"nowrap\">16 May</span> 2022</span>.</cite><span class=\"Z3988\" title=\"ctx_ver=Z39.88-2004&amp;rft_val_fmt=info%3Aofi%2Ffmt%3Akev%3Amtx%3Ajournal&amp;rft.genre=unknown&amp;rft.jtitle=ESPNcricinfo&amp;rft.atitle=Full+Scorecard+of+England+vs+Australia+37th+Match+2002%2F03+%E2%80%93+Score+Report+%7C+ESPNcricinfo.com&amp;rft_id=https%3A%2F%2Fwww.espncricinfo.com%2Fseries%2Ficc-world-cup-2002-03-61124%2Faustralia-vs-england-37th-match-65269%2Ffull-scorecard&amp;rfr_id=info%3Asid%2Fen.wikipedia.org%3AAndrew+Symonds\"></span></span>\n",
       "</li>\n",
       "<li id=\"cite_note-53\"><span class=\"mw-cite-backlink\"><b><a href=\"#cite_ref-53\">^</a></b></span> <span class=\"reference-text\"><link href=\"mw-data:TemplateStyles:r1067248974\" rel=\"mw-deduplicated-inline-style\"/><cite class=\"citation news cs1\"><a class=\"external text\" href=\"https://www.abc.net.au/news/2003-05-22/australia-takes-a-3-0-lead-in-west-indies-odi/1857564\" rel=\"nofollow\">\"Australia takes a 3-0 lead in West Indies ODI series\"</a>. <i><a href=\"/wiki/Australian_Broadcasting_Corporation\" title=\"Australian Broadcasting Corporation\">ABC.net.au</a></i>. 22 May 2003<span class=\"reference-accessdate\">. Retrieved <span class=\"nowrap\">15 May</span> 2022</span>.</cite><span class=\"Z3988\" title=\"ctx_ver=Z39.88-2004&amp;rft_val_fmt=info%3Aofi%2Ffmt%3Akev%3Amtx%3Ajournal&amp;rft.genre=article&amp;rft.jtitle=ABC.net.au&amp;rft.atitle=Australia+takes+a+3-0+lead+in+West+Indies+ODI+series&amp;rft.date=2003-05-22&amp;rft_id=https%3A%2F%2Fwww.abc.net.au%2Fnews%2F2003-05-22%2Faustralia-takes-a-3-0-lead-in-west-indies-odi%2F1857564&amp;rfr_id=info%3Asid%2Fen.wikipedia.org%3AAndrew+Symonds\"></span></span>\n",
       "</li>\n",
       "<li id=\"cite_note-54\"><span class=\"mw-cite-backlink\"><b><a href=\"#cite_ref-54\">^</a></b></span> <span class=\"reference-text\"><link href=\"mw-data:TemplateStyles:r1067248974\" rel=\"mw-deduplicated-inline-style\"/><cite class=\"citation news cs1\"><a class=\"external text\" href=\"https://www.abc.net.au/news/2003-05-26/west-indies-ends-australias-odi-streak/1859588\" rel=\"nofollow\">\"West Indies ends Australia's ODI streak\"</a>. <i>ABC.net.au</i>. 26 May 2003<span class=\"reference-accessdate\">. Retrieved <span class=\"nowrap\">15 May</span> 2022</span>.</cite><span class=\"Z3988\" title=\"ctx_ver=Z39.88-2004&amp;rft_val_fmt=info%3Aofi%2Ffmt%3Akev%3Amtx%3Ajournal&amp;rft.genre=article&amp;rft.jtitle=ABC.net.au&amp;rft.atitle=West+Indies+ends+Australia%27s+ODI+streak&amp;rft.date=2003-05-26&amp;rft_id=https%3A%2F%2Fwww.abc.net.au%2Fnews%2F2003-05-26%2Fwest-indies-ends-australias-odi-streak%2F1859588&amp;rfr_id=info%3Asid%2Fen.wikipedia.org%3AAndrew+Symonds\"></span></span>\n",
       "</li>\n",
       "<li id=\"cite_note-55\"><span class=\"mw-cite-backlink\"><b><a href=\"#cite_ref-55\">^</a></b></span> <span class=\"reference-text\"><link href=\"mw-data:TemplateStyles:r1067248974\" rel=\"mw-deduplicated-inline-style\"/><cite class=\"citation web cs1\"><a class=\"external text\" href=\"https://stats.espncricinfo.com/ci/engine/records/batting/most_runs_career.html?id=869;type=series\" rel=\"nofollow\">\"Australia in West Indies ODI Series, 2003 Cricket Team Records &amp; Statistics\"</a>. <i>ESPNCricinfo.com</i><span class=\"reference-accessdate\">. Retrieved <span class=\"nowrap\">15 May</span> 2022</span>.</cite><span class=\"Z3988\" title=\"ctx_ver=Z39.88-2004&amp;rft_val_fmt=info%3Aofi%2Ffmt%3Akev%3Amtx%3Ajournal&amp;rft.genre=unknown&amp;rft.jtitle=ESPNCricinfo.com&amp;rft.atitle=Australia+in+West+Indies+ODI+Series%2C+2003+Cricket+Team+Records+%26+Statistics&amp;rft_id=https%3A%2F%2Fstats.espncricinfo.com%2Fci%2Fengine%2Frecords%2Fbatting%2Fmost_runs_career.html%3Fid%3D869%3Btype%3Dseries&amp;rfr_id=info%3Asid%2Fen.wikipedia.org%3AAndrew+Symonds\"></span></span>\n",
       "</li>\n",
       "<li id=\"cite_note-56\"><span class=\"mw-cite-backlink\"><b><a href=\"#cite_ref-56\">^</a></b></span> <span class=\"reference-text\"><link href=\"mw-data:TemplateStyles:r1067248974\" rel=\"mw-deduplicated-inline-style\"/><cite class=\"citation web cs1\"><a class=\"external text\" href=\"https://www.espncricinfo.com/series/australia-tour-of-west-indies-2003-61389/west-indies-vs-australia-7th-odi-64826/full-scorecard\" rel=\"nofollow\">\"Full Scorecard of Australia vs West Indies 7th ODI 2003 – Score Report\"</a>. <i>ESPNCricinfo.com</i><span class=\"reference-accessdate\">. Retrieved <span class=\"nowrap\">15 May</span> 2022</span>.</cite><span class=\"Z3988\" title=\"ctx_ver=Z39.88-2004&amp;rft_val_fmt=info%3Aofi%2Ffmt%3Akev%3Amtx%3Ajournal&amp;rft.genre=unknown&amp;rft.jtitle=ESPNCricinfo.com&amp;rft.atitle=Full+Scorecard+of+Australia+vs+West+Indies+7th+ODI+2003+%E2%80%93+Score+Report&amp;rft_id=https%3A%2F%2Fwww.espncricinfo.com%2Fseries%2Faustralia-tour-of-west-indies-2003-61389%2Fwest-indies-vs-australia-7th-odi-64826%2Ffull-scorecard&amp;rfr_id=info%3Asid%2Fen.wikipedia.org%3AAndrew+Symonds\"></span></span>\n",
       "</li>\n",
       "<li id=\"cite_note-57\"><span class=\"mw-cite-backlink\"><b><a href=\"#cite_ref-57\">^</a></b></span> <span class=\"reference-text\"><link href=\"mw-data:TemplateStyles:r1067248974\" rel=\"mw-deduplicated-inline-style\"/><cite class=\"citation news cs1\" id=\"CITEREFZaia2019\">Zaia, Alex (1 February 2019). <a class=\"external text\" href=\"https://www.sen.com.au/news/2019/02/01/katich-recalls-the-hurt-of-being-dropped-after-making-maiden-test-ton/\" rel=\"nofollow\">\"Katich Recalls the Hurt of Being Dropped After Scoring Maiden Test Ton\"</a>. <i>Sen.com.au</i><span class=\"reference-accessdate\">. Retrieved <span class=\"nowrap\">16 May</span> 2022</span>.</cite><span class=\"Z3988\" title=\"ctx_ver=Z39.88-2004&amp;rft_val_fmt=info%3Aofi%2Ffmt%3Akev%3Amtx%3Ajournal&amp;rft.genre=article&amp;rft.jtitle=Sen.com.au&amp;rft.atitle=Katich+Recalls+the+Hurt+of+Being+Dropped+After+Scoring+Maiden+Test+Ton&amp;rft.date=2019-02-01&amp;rft.aulast=Zaia&amp;rft.aufirst=Alex&amp;rft_id=https%3A%2F%2Fwww.sen.com.au%2Fnews%2F2019%2F02%2F01%2Fkatich-recalls-the-hurt-of-being-dropped-after-making-maiden-test-ton%2F&amp;rfr_id=info%3Asid%2Fen.wikipedia.org%3AAndrew+Symonds\"></span></span>\n",
       "</li>\n",
       "<li id=\"cite_note-58\"><span class=\"mw-cite-backlink\"><b><a href=\"#cite_ref-58\">^</a></b></span> <span class=\"reference-text\"><link href=\"mw-data:TemplateStyles:r1067248974\" rel=\"mw-deduplicated-inline-style\"/><cite class=\"citation web cs1\"><a class=\"external text\" href=\"https://stats.espncricinfo.com/ci/engine/records/batting/most_runs_career.html?id=500;type=series\" rel=\"nofollow\">\"Australia in Sri Lanka Test Series, 2003/04 Cricket Team Records &amp; Stats\"</a>. <i>ESPNCricinfo.com</i><span class=\"reference-accessdate\">. Retrieved <span class=\"nowrap\">15 May</span> 2022</span>.</cite><span class=\"Z3988\" title=\"ctx_ver=Z39.88-2004&amp;rft_val_fmt=info%3Aofi%2Ffmt%3Akev%3Amtx%3Ajournal&amp;rft.genre=unknown&amp;rft.jtitle=ESPNCricinfo.com&amp;rft.atitle=Australia+in+Sri+Lanka+Test+Series%2C+2003%2F04+Cricket+Team+Records+%26+Stats&amp;rft_id=https%3A%2F%2Fstats.espncricinfo.com%2Fci%2Fengine%2Frecords%2Fbatting%2Fmost_runs_career.html%3Fid%3D500%3Btype%3Dseries&amp;rfr_id=info%3Asid%2Fen.wikipedia.org%3AAndrew+Symonds\"></span></span>\n",
       "</li>\n",
       "<li id=\"cite_note-59\"><span class=\"mw-cite-backlink\"><b><a href=\"#cite_ref-59\">^</a></b></span> <span class=\"reference-text\"><link href=\"mw-data:TemplateStyles:r1067248974\" rel=\"mw-deduplicated-inline-style\"/><cite class=\"citation news cs1\" id=\"CITEREFMiller2004\">Miller, Herman (28 March 2004). <a class=\"external text\" href=\"https://www.theguardian.com/sport/2004/mar/28/cricket.australiacricketteam\" rel=\"nofollow\">\"Inspired Langer runs show\"</a>. <i><a href=\"/wiki/The_Guardian\" title=\"The Guardian\">TheGuardian.com</a></i><span class=\"reference-accessdate\">. Retrieved <span class=\"nowrap\">15 May</span> 2022</span>.</cite><span class=\"Z3988\" title=\"ctx_ver=Z39.88-2004&amp;rft_val_fmt=info%3Aofi%2Ffmt%3Akev%3Amtx%3Ajournal&amp;rft.genre=article&amp;rft.jtitle=TheGuardian.com&amp;rft.atitle=Inspired+Langer+runs+show&amp;rft.date=2004-03-28&amp;rft.aulast=Miller&amp;rft.aufirst=Herman&amp;rft_id=https%3A%2F%2Fwww.theguardian.com%2Fsport%2F2004%2Fmar%2F28%2Fcricket.australiacricketteam&amp;rfr_id=info%3Asid%2Fen.wikipedia.org%3AAndrew+Symonds\"></span></span>\n",
       "</li>\n",
       "<li id=\"cite_note-60\"><span class=\"mw-cite-backlink\"><b><a href=\"#cite_ref-60\">^</a></b></span> <span class=\"reference-text\"><link href=\"mw-data:TemplateStyles:r1067248974\" rel=\"mw-deduplicated-inline-style\"/><cite class=\"citation news cs1\" id=\"CITEREFEnglish2006\">English, Peter (15 April 2006). <a class=\"external text\" href=\"https://www.espncricinfo.com/story/australia-v-west-indies-2005-06-289076\" rel=\"nofollow\">\"Australia v West Indies, 2005–06\"</a>. <i>ESPNCricinfo.com</i><span class=\"reference-accessdate\">. Retrieved <span class=\"nowrap\">15 May</span> 2022</span>.</cite><span class=\"Z3988\" title=\"ctx_ver=Z39.88-2004&amp;rft_val_fmt=info%3Aofi%2Ffmt%3Akev%3Amtx%3Ajournal&amp;rft.genre=article&amp;rft.jtitle=ESPNCricinfo.com&amp;rft.atitle=Australia+v+West+Indies%2C+2005%E2%80%9306&amp;rft.date=2006-04-15&amp;rft.aulast=English&amp;rft.aufirst=Peter&amp;rft_id=https%3A%2F%2Fwww.espncricinfo.com%2Fstory%2Faustralia-v-west-indies-2005-06-289076&amp;rfr_id=info%3Asid%2Fen.wikipedia.org%3AAndrew+Symonds\"></span></span>\n",
       "</li>\n",
       "<li id=\"cite_note-61\"><span class=\"mw-cite-backlink\"><b><a href=\"#cite_ref-61\">^</a></b></span> <span class=\"reference-text\"><link href=\"mw-data:TemplateStyles:r1067248974\" rel=\"mw-deduplicated-inline-style\"/><cite class=\"citation news cs1\" id=\"CITEREFManthorp2006\">Manthorp, Neil (15 April 2006). <a class=\"external text\" href=\"https://www.espncricinfo.com/story/australia-v-south-africa-2005-06-289081\" rel=\"nofollow\">\"Australia v South Africa, 2005–06\"</a>. <i>ESPNCricinfo.com</i><span class=\"reference-accessdate\">. Retrieved <span class=\"nowrap\">15 May</span> 2022</span>.</cite><span class=\"Z3988\" title=\"ctx_ver=Z39.88-2004&amp;rft_val_fmt=info%3Aofi%2Ffmt%3Akev%3Amtx%3Ajournal&amp;rft.genre=article&amp;rft.jtitle=ESPNCricinfo.com&amp;rft.atitle=Australia+v+South+Africa%2C+2005%E2%80%9306&amp;rft.date=2006-04-15&amp;rft.aulast=Manthorp&amp;rft.aufirst=Neil&amp;rft_id=https%3A%2F%2Fwww.espncricinfo.com%2Fstory%2Faustralia-v-south-africa-2005-06-289081&amp;rfr_id=info%3Asid%2Fen.wikipedia.org%3AAndrew+Symonds\"></span></span>\n",
       "</li>\n",
       "<li id=\"cite_note-62\"><span class=\"mw-cite-backlink\"><b><a href=\"#cite_ref-62\">^</a></b></span> <span class=\"reference-text\"><link href=\"mw-data:TemplateStyles:r1067248974\" rel=\"mw-deduplicated-inline-style\"/><cite class=\"citation news cs1\"><a class=\"external text\" href=\"http://news.bbc.co.uk/sport1/hi/cricket/4554680.stm\" rel=\"nofollow\">\"Nel gives South Africa advantage\"</a>. <i><a href=\"/wiki/BBC\" title=\"BBC\">news.BBC.co.uk</a></i>. 26 December 2005<span class=\"reference-accessdate\">. Retrieved <span class=\"nowrap\">15 May</span> 2022</span>.</cite><span class=\"Z3988\" title=\"ctx_ver=Z39.88-2004&amp;rft_val_fmt=info%3Aofi%2Ffmt%3Akev%3Amtx%3Ajournal&amp;rft.genre=article&amp;rft.jtitle=news.BBC.co.uk&amp;rft.atitle=Nel+gives+South+Africa+advantage&amp;rft.date=2005-12-26&amp;rft_id=http%3A%2F%2Fnews.bbc.co.uk%2Fsport1%2Fhi%2Fcricket%2F4554680.stm&amp;rfr_id=info%3Asid%2Fen.wikipedia.org%3AAndrew+Symonds\"></span></span>\n",
       "</li>\n",
       "<li id=\"cite_note-63\"><span class=\"mw-cite-backlink\"><b><a href=\"#cite_ref-63\">^</a></b></span> <span class=\"reference-text\"><link href=\"mw-data:TemplateStyles:r1067248974\" rel=\"mw-deduplicated-inline-style\"/><cite class=\"citation web cs1\"><a class=\"external text\" href=\"https://www.espncricinfo.com/series/south-africa-tour-of-australia-2005-06-209671/australia-vs-south-africa-2nd-test-226372/full-scorecard\" rel=\"nofollow\">\"Full Scorecard of Australia vs South Africa 2nd Test 2005/06 - Score Report\"</a>. <i>ESPNCricinfo.com</i><span class=\"reference-accessdate\">. Retrieved <span class=\"nowrap\">15 May</span> 2022</span>.</cite><span class=\"Z3988\" title=\"ctx_ver=Z39.88-2004&amp;rft_val_fmt=info%3Aofi%2Ffmt%3Akev%3Amtx%3Ajournal&amp;rft.genre=unknown&amp;rft.jtitle=ESPNCricinfo.com&amp;rft.atitle=Full+Scorecard+of+Australia+vs+South+Africa+2nd+Test+2005%2F06+-+Score+Report&amp;rft_id=https%3A%2F%2Fwww.espncricinfo.com%2Fseries%2Fsouth-africa-tour-of-australia-2005-06-209671%2Faustralia-vs-south-africa-2nd-test-226372%2Ffull-scorecard&amp;rfr_id=info%3Asid%2Fen.wikipedia.org%3AAndrew+Symonds\"></span></span>\n",
       "</li>\n",
       "<li id=\"cite_note-64\"><span class=\"mw-cite-backlink\"><b><a href=\"#cite_ref-64\">^</a></b></span> <span class=\"reference-text\"><link href=\"mw-data:TemplateStyles:r1067248974\" rel=\"mw-deduplicated-inline-style\"/><cite class=\"citation news cs1\"><a class=\"external text\" href=\"https://www.abc.net.au/news/2005-10-12/kallis-flintoff-share-player-of-the-year-award/2123438\" rel=\"nofollow\">\"Kallis, Flintoff share player of the year award\"</a>. <i><a href=\"/wiki/Australian_Broadcasting_Corporation\" title=\"Australian Broadcasting Corporation\">ABC.net.au</a></i>. 11 October 2005<span class=\"reference-accessdate\">. Retrieved <span class=\"nowrap\">15 May</span> 2022</span>.</cite><span class=\"Z3988\" title=\"ctx_ver=Z39.88-2004&amp;rft_val_fmt=info%3Aofi%2Ffmt%3Akev%3Amtx%3Ajournal&amp;rft.genre=article&amp;rft.jtitle=ABC.net.au&amp;rft.atitle=Kallis%2C+Flintoff+share+player+of+the+year+award&amp;rft.date=2005-10-11&amp;rft_id=https%3A%2F%2Fwww.abc.net.au%2Fnews%2F2005-10-12%2Fkallis-flintoff-share-player-of-the-year-award%2F2123438&amp;rfr_id=info%3Asid%2Fen.wikipedia.org%3AAndrew+Symonds\"></span></span>\n",
       "</li>\n",
       "<li id=\"cite_note-65\"><span class=\"mw-cite-backlink\"><b><a href=\"#cite_ref-65\">^</a></b></span> <span class=\"reference-text\"><link href=\"mw-data:TemplateStyles:r1067248974\" rel=\"mw-deduplicated-inline-style\"/><cite class=\"citation news cs1\"><a class=\"external text\" href=\"https://www.smh.com.au/sport/ponting-wins-allan-border-medal-again-20060207-gdmx4o.html\" rel=\"nofollow\">\"Ponting wins Allan Border Medal, again\"</a>. <i><a class=\"mw-redirect\" href=\"/wiki/Sydney_Morning_Herald\" title=\"Sydney Morning Herald\">SMH.com.au</a></i>. 7 February 2006<span class=\"reference-accessdate\">. Retrieved <span class=\"nowrap\">15 May</span> 2022</span>.</cite><span class=\"Z3988\" title=\"ctx_ver=Z39.88-2004&amp;rft_val_fmt=info%3Aofi%2Ffmt%3Akev%3Amtx%3Ajournal&amp;rft.genre=article&amp;rft.jtitle=SMH.com.au&amp;rft.atitle=Ponting+wins+Allan+Border+Medal%2C+again&amp;rft.date=2006-02-07&amp;rft_id=https%3A%2F%2Fwww.smh.com.au%2Fsport%2Fponting-wins-allan-border-medal-again-20060207-gdmx4o.html&amp;rfr_id=info%3Asid%2Fen.wikipedia.org%3AAndrew+Symonds\"></span></span>\n",
       "</li>\n",
       "<li id=\"cite_note-66\"><span class=\"mw-cite-backlink\"><b><a href=\"#cite_ref-66\">^</a></b></span> <span class=\"reference-text\"><link href=\"mw-data:TemplateStyles:r1067248974\" rel=\"mw-deduplicated-inline-style\"/><cite class=\"citation news cs1\" id=\"CITEREFWilliamson2006\">Williamson, Martin (12 January 2006). <a class=\"external text\" href=\"https://www.espncricinfo.com/series/vb-series-2005-06-209672/australia-vs-sri-lanka-1st-match-226379/match-report\" rel=\"nofollow\">\"Awesome Australia off to a flier\"</a>. <i>ESPNCricinfo.com</i><span class=\"reference-accessdate\">. Retrieved <span class=\"nowrap\">15 May</span> 2022</span>.</cite><span class=\"Z3988\" title=\"ctx_ver=Z39.88-2004&amp;rft_val_fmt=info%3Aofi%2Ffmt%3Akev%3Amtx%3Ajournal&amp;rft.genre=article&amp;rft.jtitle=ESPNCricinfo.com&amp;rft.atitle=Awesome+Australia+off+to+a+flier&amp;rft.date=2006-01-12&amp;rft.aulast=Williamson&amp;rft.aufirst=Martin&amp;rft_id=https%3A%2F%2Fwww.espncricinfo.com%2Fseries%2Fvb-series-2005-06-209672%2Faustralia-vs-sri-lanka-1st-match-226379%2Fmatch-report&amp;rfr_id=info%3Asid%2Fen.wikipedia.org%3AAndrew+Symonds\"></span></span>\n",
       "</li>\n",
       "<li id=\"cite_note-67\"><span class=\"mw-cite-backlink\"><b><a href=\"#cite_ref-67\">^</a></b></span> <span class=\"reference-text\"><link href=\"mw-data:TemplateStyles:r1067248974\" rel=\"mw-deduplicated-inline-style\"/><cite class=\"citation news cs1\" id=\"CITEREFEnglish2006\">English, Peter (26 January 2006). <a class=\"external text\" href=\"https://www.espncricinfo.com/series/vb-series-2005-06-209672/australia-vs-sri-lanka-7th-match-226381/match-report\" rel=\"nofollow\">\"Australia ease to five-wicket victory\"</a>. <i>ESPNCricinfo.com</i><span class=\"reference-accessdate\">. Retrieved <span class=\"nowrap\">15 May</span> 2022</span>.</cite><span class=\"Z3988\" title=\"ctx_ver=Z39.88-2004&amp;rft_val_fmt=info%3Aofi%2Ffmt%3Akev%3Amtx%3Ajournal&amp;rft.genre=article&amp;rft.jtitle=ESPNCricinfo.com&amp;rft.atitle=Australia+ease+to+five-wicket+victory&amp;rft.date=2006-01-26&amp;rft.aulast=English&amp;rft.aufirst=Peter&amp;rft_id=https%3A%2F%2Fwww.espncricinfo.com%2Fseries%2Fvb-series-2005-06-209672%2Faustralia-vs-sri-lanka-7th-match-226381%2Fmatch-report&amp;rfr_id=info%3Asid%2Fen.wikipedia.org%3AAndrew+Symonds\"></span></span>\n",
       "</li>\n",
       "<li id=\"cite_note-68\"><span class=\"mw-cite-backlink\"><b><a href=\"#cite_ref-68\">^</a></b></span> <span class=\"reference-text\"><link href=\"mw-data:TemplateStyles:r1067248974\" rel=\"mw-deduplicated-inline-style\"/><cite class=\"citation news cs1\"><a class=\"external text\" href=\"http://news.bbc.co.uk/sport1/hi/cricket/4664748.stm\" rel=\"nofollow\">\"Easy win for Aussies in Melbourne\"</a>. <i>news.BBC.co.uk</i>. 3 February 2006<span class=\"reference-accessdate\">. Retrieved <span class=\"nowrap\">15 May</span> 2022</span>.</cite><span class=\"Z3988\" title=\"ctx_ver=Z39.88-2004&amp;rft_val_fmt=info%3Aofi%2Ffmt%3Akev%3Amtx%3Ajournal&amp;rft.genre=article&amp;rft.jtitle=news.BBC.co.uk&amp;rft.atitle=Easy+win+for+Aussies+in+Melbourne&amp;rft.date=2006-02-03&amp;rft_id=http%3A%2F%2Fnews.bbc.co.uk%2Fsport1%2Fhi%2Fcricket%2F4664748.stm&amp;rfr_id=info%3Asid%2Fen.wikipedia.org%3AAndrew+Symonds\"></span></span>\n",
       "</li>\n",
       "<li id=\"cite_note-69\"><span class=\"mw-cite-backlink\"><b><a href=\"#cite_ref-69\">^</a></b></span> <span class=\"reference-text\"><link href=\"mw-data:TemplateStyles:r1067248974\" rel=\"mw-deduplicated-inline-style\"/><cite class=\"citation web cs1\"><a class=\"external text\" href=\"https://www.espncricinfo.com/series/vb-series-2005-06-209672/points-table-standings\" rel=\"nofollow\">\"VB Series 2005/06 Table, Matches, win, loss, points for VB Series\"</a>. <i>ESPNCricinfo.com</i><span class=\"reference-accessdate\">. Retrieved <span class=\"nowrap\">15 May</span> 2022</span>.</cite><span class=\"Z3988\" title=\"ctx_ver=Z39.88-2004&amp;rft_val_fmt=info%3Aofi%2Ffmt%3Akev%3Amtx%3Ajournal&amp;rft.genre=unknown&amp;rft.jtitle=ESPNCricinfo.com&amp;rft.atitle=VB+Series+2005%2F06+Table%2C+Matches%2C+win%2C+loss%2C+points+for+VB+Series&amp;rft_id=https%3A%2F%2Fwww.espncricinfo.com%2Fseries%2Fvb-series-2005-06-209672%2Fpoints-table-standings&amp;rfr_id=info%3Asid%2Fen.wikipedia.org%3AAndrew+Symonds\"></span></span>\n",
       "</li>\n",
       "<li id=\"cite_note-70\"><span class=\"mw-cite-backlink\"><b><a href=\"#cite_ref-70\">^</a></b></span> <span class=\"reference-text\"><link href=\"mw-data:TemplateStyles:r1067248974\" rel=\"mw-deduplicated-inline-style\"/><cite class=\"citation news cs1\"><a class=\"external text\" href=\"http://news.bbc.co.uk/sport1/hi/cricket/4703364.stm\" rel=\"nofollow\">\"Rampant Australia crush Sri Lanka\"</a>. <i><a href=\"/wiki/BBC\" title=\"BBC\">news.BBC.co.uk</a></i>. 12 February 2006<span class=\"reference-accessdate\">. Retrieved <span class=\"nowrap\">15 May</span> 2022</span>.</cite><span class=\"Z3988\" title=\"ctx_ver=Z39.88-2004&amp;rft_val_fmt=info%3Aofi%2Ffmt%3Akev%3Amtx%3Ajournal&amp;rft.genre=article&amp;rft.jtitle=news.BBC.co.uk&amp;rft.atitle=Rampant+Australia+crush+Sri+Lanka&amp;rft.date=2006-02-12&amp;rft_id=http%3A%2F%2Fnews.bbc.co.uk%2Fsport1%2Fhi%2Fcricket%2F4703364.stm&amp;rfr_id=info%3Asid%2Fen.wikipedia.org%3AAndrew+Symonds\"></span></span>\n",
       "</li>\n",
       "<li id=\"cite_note-71\"><span class=\"mw-cite-backlink\"><b><a href=\"#cite_ref-71\">^</a></b></span> <span class=\"reference-text\"><link href=\"mw-data:TemplateStyles:r1067248974\" rel=\"mw-deduplicated-inline-style\"/><cite class=\"citation news cs1\" id=\"CITEREFEnglish2006\">English, Peter (14 February 2006). <a class=\"external text\" href=\"https://www.espncricinfo.com/series/vb-series-2005-06-209672/australia-vs-sri-lanka-3rd-final-236963/match-report\" rel=\"nofollow\">\"Gilchrist and Katich seal series\"</a>. <i>ESPNCricinfo.com</i><span class=\"reference-accessdate\">. Retrieved <span class=\"nowrap\">15 May</span> 2022</span>.</cite><span class=\"Z3988\" title=\"ctx_ver=Z39.88-2004&amp;rft_val_fmt=info%3Aofi%2Ffmt%3Akev%3Amtx%3Ajournal&amp;rft.genre=article&amp;rft.jtitle=ESPNCricinfo.com&amp;rft.atitle=Gilchrist+and+Katich+seal+series&amp;rft.date=2006-02-14&amp;rft.aulast=English&amp;rft.aufirst=Peter&amp;rft_id=https%3A%2F%2Fwww.espncricinfo.com%2Fseries%2Fvb-series-2005-06-209672%2Faustralia-vs-sri-lanka-3rd-final-236963%2Fmatch-report&amp;rfr_id=info%3Asid%2Fen.wikipedia.org%3AAndrew+Symonds\"></span></span>\n",
       "</li>\n",
       "<li id=\"cite_note-72\"><span class=\"mw-cite-backlink\"><b><a href=\"#cite_ref-72\">^</a></b></span> <span class=\"reference-text\"><link href=\"mw-data:TemplateStyles:r1067248974\" rel=\"mw-deduplicated-inline-style\"/><cite class=\"citation web cs1\"><a class=\"external text\" href=\"http://www.espncricinfo.com/icc-awards/content/story/266801.html\" rel=\"nofollow\">\"Ricky Ponting takes top honours at glittering ICC Awards night\"</a>. 3 November 2006.</cite><span class=\"Z3988\" title=\"ctx_ver=Z39.88-2004&amp;rft_val_fmt=info%3Aofi%2Ffmt%3Akev%3Amtx%3Abook&amp;rft.genre=unknown&amp;rft.btitle=Ricky+Ponting+takes+top+honours+at+glittering+ICC+Awards+night&amp;rft.date=2006-11-03&amp;rft_id=http%3A%2F%2Fwww.espncricinfo.com%2Ficc-awards%2Fcontent%2Fstory%2F266801.html&amp;rfr_id=info%3Asid%2Fen.wikipedia.org%3AAndrew+Symonds\"></span></span>\n",
       "</li>\n",
       "<li id=\"cite_note-73\"><span class=\"mw-cite-backlink\"><b><a href=\"#cite_ref-73\">^</a></b></span> <span class=\"reference-text\"><link href=\"mw-data:TemplateStyles:r1067248974\" rel=\"mw-deduplicated-inline-style\"/><cite class=\"citation news cs1\" id=\"CITEREFThompson2006\">Thompson, Jenny (26 February 2006). <a class=\"external text\" href=\"https://www.espncricinfo.com/series/australia-tour-of-south-africa-2005-06-212912/south-africa-vs-australia-1st-odi-238196/match-report\" rel=\"nofollow\">\"Smith ton powers South Africa to resurgent win\"</a>. <i>ESPNCricinfo.com</i><span class=\"reference-accessdate\">. Retrieved <span class=\"nowrap\">15 May</span> 2022</span>.</cite><span class=\"Z3988\" title=\"ctx_ver=Z39.88-2004&amp;rft_val_fmt=info%3Aofi%2Ffmt%3Akev%3Amtx%3Ajournal&amp;rft.genre=article&amp;rft.jtitle=ESPNCricinfo.com&amp;rft.atitle=Smith+ton+powers+South+Africa+to+resurgent+win&amp;rft.date=2006-02-26&amp;rft.aulast=Thompson&amp;rft.aufirst=Jenny&amp;rft_id=https%3A%2F%2Fwww.espncricinfo.com%2Fseries%2Faustralia-tour-of-south-africa-2005-06-212912%2Fsouth-africa-vs-australia-1st-odi-238196%2Fmatch-report&amp;rfr_id=info%3Asid%2Fen.wikipedia.org%3AAndrew+Symonds\"></span></span>\n",
       "</li>\n",
       "<li id=\"cite_note-74\"><span class=\"mw-cite-backlink\"><b><a href=\"#cite_ref-74\">^</a></b></span> <span class=\"reference-text\"><link href=\"mw-data:TemplateStyles:r1067248974\" rel=\"mw-deduplicated-inline-style\"/><cite class=\"citation news cs1\" id=\"CITEREFLuke2006\">Luke, Will (10 March 2006). <a class=\"external text\" href=\"https://www.espncricinfo.com/series/australia-tour-of-south-africa-2005-06-212912/south-africa-vs-australia-4th-odi-238199/match-report\" rel=\"nofollow\">\"Australia level series in thriller at Durban\"</a>. <i>ESPNCricinfo.com</i><span class=\"reference-accessdate\">. Retrieved <span class=\"nowrap\">15 May</span> 2022</span>.</cite><span class=\"Z3988\" title=\"ctx_ver=Z39.88-2004&amp;rft_val_fmt=info%3Aofi%2Ffmt%3Akev%3Amtx%3Ajournal&amp;rft.genre=article&amp;rft.jtitle=ESPNCricinfo.com&amp;rft.atitle=Australia+level+series+in+thriller+at+Durban&amp;rft.date=2006-03-10&amp;rft.aulast=Luke&amp;rft.aufirst=Will&amp;rft_id=https%3A%2F%2Fwww.espncricinfo.com%2Fseries%2Faustralia-tour-of-south-africa-2005-06-212912%2Fsouth-africa-vs-australia-4th-odi-238199%2Fmatch-report&amp;rfr_id=info%3Asid%2Fen.wikipedia.org%3AAndrew+Symonds\"></span></span>\n",
       "</li>\n",
       "<li id=\"cite_note-75\"><span class=\"mw-cite-backlink\"><b><a href=\"#cite_ref-75\">^</a></b></span> <span class=\"reference-text\"><link href=\"mw-data:TemplateStyles:r1067248974\" rel=\"mw-deduplicated-inline-style\"/><cite class=\"citation news cs1\"><a class=\"external text\" href=\"https://www.theage.com.au/sport/cricket/australia-breaks-record-in-final-20060313-ge1x80.html\" rel=\"nofollow\">\"Australia breaks record in final\"</a>. <i>TheAge.com.au</i>. 13 March 2006<span class=\"reference-accessdate\">. Retrieved <span class=\"nowrap\">15 May</span> 2022</span>.</cite><span class=\"Z3988\" title=\"ctx_ver=Z39.88-2004&amp;rft_val_fmt=info%3Aofi%2Ffmt%3Akev%3Amtx%3Ajournal&amp;rft.genre=article&amp;rft.jtitle=TheAge.com.au&amp;rft.atitle=Australia+breaks+record+in+final&amp;rft.date=2006-03-13&amp;rft_id=https%3A%2F%2Fwww.theage.com.au%2Fsport%2Fcricket%2Faustralia-breaks-record-in-final-20060313-ge1x80.html&amp;rfr_id=info%3Asid%2Fen.wikipedia.org%3AAndrew+Symonds\"></span></span>\n",
       "</li>\n",
       "<li id=\"cite_note-76\"><span class=\"mw-cite-backlink\"><b><a href=\"#cite_ref-76\">^</a></b></span> <span class=\"reference-text\"><link href=\"mw-data:TemplateStyles:r1067248974\" rel=\"mw-deduplicated-inline-style\"/><cite class=\"citation news cs1\" id=\"CITEREFBrown2006\">Brown, Alex (14 March 2006). <a class=\"external text\" href=\"https://www.smh.com.au/sport/cricket/the-greatest-the-world-has-seen-20060314-gdn5al.html\" rel=\"nofollow\">\"The greatest the world has seen\"</a>. <i>SMH.com.au</i><span class=\"reference-accessdate\">. Retrieved <span class=\"nowrap\">15 May</span> 2022</span>.</cite><span class=\"Z3988\" title=\"ctx_ver=Z39.88-2004&amp;rft_val_fmt=info%3Aofi%2Ffmt%3Akev%3Amtx%3Ajournal&amp;rft.genre=article&amp;rft.jtitle=SMH.com.au&amp;rft.atitle=The+greatest+the+world+has+seen&amp;rft.date=2006-03-14&amp;rft.aulast=Brown&amp;rft.aufirst=Alex&amp;rft_id=https%3A%2F%2Fwww.smh.com.au%2Fsport%2Fcricket%2Fthe-greatest-the-world-has-seen-20060314-gdn5al.html&amp;rfr_id=info%3Asid%2Fen.wikipedia.org%3AAndrew+Symonds\"></span></span>\n",
       "</li>\n",
       "<li id=\"cite_note-77\"><span class=\"mw-cite-backlink\"><b><a href=\"#cite_ref-77\">^</a></b></span> <span class=\"reference-text\"><link href=\"mw-data:TemplateStyles:r1067248974\" rel=\"mw-deduplicated-inline-style\"/><cite class=\"citation news cs1\" id=\"CITEREFBrown2006\">Brown, Alex (27 March 2006). <a class=\"external text\" href=\"https://www.smh.com.au/sport/cricket/symonds-linked-to-club-confrontation-20060327-gdn8xi.html\" rel=\"nofollow\">\"Symonds linked to club confrontation\"</a>. <i>SMH.com.au</i><span class=\"reference-accessdate\">. Retrieved <span class=\"nowrap\">15 May</span> 2022</span>.</cite><span class=\"Z3988\" title=\"ctx_ver=Z39.88-2004&amp;rft_val_fmt=info%3Aofi%2Ffmt%3Akev%3Amtx%3Ajournal&amp;rft.genre=article&amp;rft.jtitle=SMH.com.au&amp;rft.atitle=Symonds+linked+to+club+confrontation&amp;rft.date=2006-03-27&amp;rft.aulast=Brown&amp;rft.aufirst=Alex&amp;rft_id=https%3A%2F%2Fwww.smh.com.au%2Fsport%2Fcricket%2Fsymonds-linked-to-club-confrontation-20060327-gdn8xi.html&amp;rfr_id=info%3Asid%2Fen.wikipedia.org%3AAndrew+Symonds\"></span></span>\n",
       "</li>\n",
       "<li id=\"cite_note-78\"><span class=\"mw-cite-backlink\"><b><a href=\"#cite_ref-78\">^</a></b></span> <span class=\"reference-text\"><link href=\"mw-data:TemplateStyles:r1067248974\" rel=\"mw-deduplicated-inline-style\"/><cite class=\"citation web cs1\"><a class=\"external text\" href=\"https://stats.espncricinfo.com/ci/engine/records/batting/most_runs_career.html?id=2703;type=series\" rel=\"nofollow\">\"Australia in South Africa Test Series, 2005/06 Cricket Team Records &amp; Stats – Most Runs\"</a>. <i>ESPNCricinfo.com</i><span class=\"reference-accessdate\">. Retrieved <span class=\"nowrap\">15 May</span> 2022</span>.</cite><span class=\"Z3988\" title=\"ctx_ver=Z39.88-2004&amp;rft_val_fmt=info%3Aofi%2Ffmt%3Akev%3Amtx%3Ajournal&amp;rft.genre=unknown&amp;rft.jtitle=ESPNCricinfo.com&amp;rft.atitle=Australia+in+South+Africa+Test+Series%2C+2005%2F06+Cricket+Team+Records+%26+Stats+%E2%80%93+Most+Runs&amp;rft_id=https%3A%2F%2Fstats.espncricinfo.com%2Fci%2Fengine%2Frecords%2Fbatting%2Fmost_runs_career.html%3Fid%3D2703%3Btype%3Dseries&amp;rfr_id=info%3Asid%2Fen.wikipedia.org%3AAndrew+Symonds\"></span></span>\n",
       "</li>\n",
       "<li id=\"cite_note-79\"><span class=\"mw-cite-backlink\"><b><a href=\"#cite_ref-79\">^</a></b></span> <span class=\"reference-text\"><link href=\"mw-data:TemplateStyles:r1067248974\" rel=\"mw-deduplicated-inline-style\"/><cite class=\"citation web cs1\"><a class=\"external text\" href=\"https://stats.espncricinfo.com/ci/engine/records/bowling/most_wickets_career.html?id=2703;type=series\" rel=\"nofollow\">\"Australia in South Africa Test Series, 2005/06 Cricket Team Records &amp; Stats – Most Wickets\"</a>. <i>ESPNCricinfo.com</i><span class=\"reference-accessdate\">. Retrieved <span class=\"nowrap\">15 May</span> 2022</span>.</cite><span class=\"Z3988\" title=\"ctx_ver=Z39.88-2004&amp;rft_val_fmt=info%3Aofi%2Ffmt%3Akev%3Amtx%3Ajournal&amp;rft.genre=unknown&amp;rft.jtitle=ESPNCricinfo.com&amp;rft.atitle=Australia+in+South+Africa+Test+Series%2C+2005%2F06+Cricket+Team+Records+%26+Stats+%E2%80%93+Most+Wickets&amp;rft_id=https%3A%2F%2Fstats.espncricinfo.com%2Fci%2Fengine%2Frecords%2Fbowling%2Fmost_wickets_career.html%3Fid%3D2703%3Btype%3Dseries&amp;rfr_id=info%3Asid%2Fen.wikipedia.org%3AAndrew+Symonds\"></span></span>\n",
       "</li>\n",
       "<li id=\"cite_note-80\"><span class=\"mw-cite-backlink\"><b><a href=\"#cite_ref-80\">^</a></b></span> <span class=\"reference-text\"><link href=\"mw-data:TemplateStyles:r1067248974\" rel=\"mw-deduplicated-inline-style\"/><cite class=\"citation news cs1\"><a class=\"external text\" href=\"https://www.abc.net.au/news/2006-04-08/symonds-dumped-from-test-team/1726824\" rel=\"nofollow\">\"Symonds dumped from Test team\"</a>. <i>ABC.net.au</i>. <a href=\"/wiki/Agence_France-Presse\" title=\"Agence France-Presse\">Agence France-Presse</a>. 8 April 2006<span class=\"reference-accessdate\">. Retrieved <span class=\"nowrap\">15 May</span> 2022</span>.</cite><span class=\"Z3988\" title=\"ctx_ver=Z39.88-2004&amp;rft_val_fmt=info%3Aofi%2Ffmt%3Akev%3Amtx%3Ajournal&amp;rft.genre=article&amp;rft.jtitle=ABC.net.au&amp;rft.atitle=Symonds+dumped+from+Test+team&amp;rft.date=2006-04-08&amp;rft_id=https%3A%2F%2Fwww.abc.net.au%2Fnews%2F2006-04-08%2Fsymonds-dumped-from-test-team%2F1726824&amp;rfr_id=info%3Asid%2Fen.wikipedia.org%3AAndrew+Symonds\"></span></span>\n",
       "</li>\n",
       "<li id=\"cite_note-81\"><span class=\"mw-cite-backlink\"><b><a href=\"#cite_ref-81\">^</a></b></span> <span class=\"reference-text\"><link href=\"mw-data:TemplateStyles:r1067248974\" rel=\"mw-deduplicated-inline-style\"/><cite class=\"citation news cs1\" id=\"CITEREFFraser2006\"><a href=\"/wiki/Angus_Fraser\" title=\"Angus Fraser\">Fraser, Angus</a> (12 December 2006). <a class=\"external text\" href=\"https://www.newspapers.com/clip/101905024/martyn-exit-opens-the-ashes-door-for/\" rel=\"nofollow\">\"Martyn exit opens the Ashes door for Symonds\"</a>. <i><a href=\"/wiki/The_Independent\" title=\"The Independent\">The Independent</a></i>. p. 50<span class=\"reference-accessdate\">. Retrieved <span class=\"nowrap\">15 May</span> 2022</span> – via Newspapers.com.</cite><span class=\"Z3988\" title=\"ctx_ver=Z39.88-2004&amp;rft_val_fmt=info%3Aofi%2Ffmt%3Akev%3Amtx%3Ajournal&amp;rft.genre=article&amp;rft.jtitle=The+Independent&amp;rft.atitle=Martyn+exit+opens+the+Ashes+door+for+Symonds&amp;rft.pages=50&amp;rft.date=2006-12-12&amp;rft.aulast=Fraser&amp;rft.aufirst=Angus&amp;rft_id=https%3A%2F%2Fwww.newspapers.com%2Fclip%2F101905024%2Fmartyn-exit-opens-the-ashes-door-for%2F&amp;rfr_id=info%3Asid%2Fen.wikipedia.org%3AAndrew+Symonds\"></span></span>\n",
       "</li>\n",
       "<li id=\"cite_note-82\"><span class=\"mw-cite-backlink\"><b><a href=\"#cite_ref-82\">^</a></b></span> <span class=\"reference-text\"><link href=\"mw-data:TemplateStyles:r1067248974\" rel=\"mw-deduplicated-inline-style\"/><cite class=\"citation news cs1\"><a class=\"external text\" href=\"https://www.espncricinfo.com/story/australia-unchanged-for-melbourne-273333\" rel=\"nofollow\">\"Australia unchanged for Melbourne\"</a>. <i>Cricinfo.com</i>. 19 December 2006<span class=\"reference-accessdate\">. Retrieved <span class=\"nowrap\">15 May</span> 2022</span>.</cite><span class=\"Z3988\" title=\"ctx_ver=Z39.88-2004&amp;rft_val_fmt=info%3Aofi%2Ffmt%3Akev%3Amtx%3Ajournal&amp;rft.genre=article&amp;rft.jtitle=Cricinfo.com&amp;rft.atitle=Australia+unchanged+for+Melbourne&amp;rft.date=2006-12-19&amp;rft_id=https%3A%2F%2Fwww.espncricinfo.com%2Fstory%2Faustralia-unchanged-for-melbourne-273333&amp;rfr_id=info%3Asid%2Fen.wikipedia.org%3AAndrew+Symonds\"></span></span>\n",
       "</li>\n",
       "<li id=\"cite_note-83\"><span class=\"mw-cite-backlink\"><b><a href=\"#cite_ref-83\">^</a></b></span> <span class=\"reference-text\"><link href=\"mw-data:TemplateStyles:r1067248974\" rel=\"mw-deduplicated-inline-style\"/><cite class=\"citation web cs1\"><a class=\"external text\" href=\"https://www.espncricinfo.com/story/symonds-matures-with-help-from-his-mate-274060\" rel=\"nofollow\">\"Symonds matures with help from his mate\"</a>. <i>ESPN Cricinfo</i><span class=\"reference-accessdate\">. Retrieved <span class=\"nowrap\">16 May</span> 2022</span>.</cite><span class=\"Z3988\" title=\"ctx_ver=Z39.88-2004&amp;rft_val_fmt=info%3Aofi%2Ffmt%3Akev%3Amtx%3Ajournal&amp;rft.genre=unknown&amp;rft.jtitle=ESPN+Cricinfo&amp;rft.atitle=Symonds+matures+with+help+from+his+mate&amp;rft_id=https%3A%2F%2Fwww.espncricinfo.com%2Fstory%2Fsymonds-matures-with-help-from-his-mate-274060&amp;rfr_id=info%3Asid%2Fen.wikipedia.org%3AAndrew+Symonds\"></span></span>\n",
       "</li>\n",
       "<li id=\"cite_note-84\"><span class=\"mw-cite-backlink\"><b><a href=\"#cite_ref-84\">^</a></b></span> <span class=\"reference-text\"><link href=\"mw-data:TemplateStyles:r1067248974\" rel=\"mw-deduplicated-inline-style\"/><cite class=\"citation web cs1\"><a class=\"external text\" href=\"https://www.espncricinfo.com/series/england-tour-of-australia-2006-07-227733/australia-vs-england-4th-test-249225/match-report\" rel=\"nofollow\">\"England routed inside three days\"</a>. <i>ESPN Cricinfo</i><span class=\"reference-accessdate\">. Retrieved <span class=\"nowrap\">16 May</span> 2022</span>.</cite><span class=\"Z3988\" title=\"ctx_ver=Z39.88-2004&amp;rft_val_fmt=info%3Aofi%2Ffmt%3Akev%3Amtx%3Ajournal&amp;rft.genre=unknown&amp;rft.jtitle=ESPN+Cricinfo&amp;rft.atitle=England+routed+inside+three+days&amp;rft_id=https%3A%2F%2Fwww.espncricinfo.com%2Fseries%2Fengland-tour-of-australia-2006-07-227733%2Faustralia-vs-england-4th-test-249225%2Fmatch-report&amp;rfr_id=info%3Asid%2Fen.wikipedia.org%3AAndrew+Symonds\"></span></span>\n",
       "</li>\n",
       "<li id=\"cite_note-85\"><span class=\"mw-cite-backlink\"><b><a href=\"#cite_ref-85\">^</a></b></span> <span class=\"reference-text\"><link href=\"mw-data:TemplateStyles:r1067248974\" rel=\"mw-deduplicated-inline-style\"/><cite class=\"citation news cs1\"><a class=\"external text\" href=\"https://www.espncricinfo.com/story/tait-and-haddin-in-world-cup-squad-280166\" rel=\"nofollow\">\"Tait and Haddin in World Cup squad\"</a>. <i>ESPNCricinfo.com</i>. 13 February 2007<span class=\"reference-accessdate\">. Retrieved <span class=\"nowrap\">15 May</span> 2022</span>.</cite><span class=\"Z3988\" title=\"ctx_ver=Z39.88-2004&amp;rft_val_fmt=info%3Aofi%2Ffmt%3Akev%3Amtx%3Ajournal&amp;rft.genre=article&amp;rft.jtitle=ESPNCricinfo.com&amp;rft.atitle=Tait+and+Haddin+in+World+Cup+squad&amp;rft.date=2007-02-13&amp;rft_id=https%3A%2F%2Fwww.espncricinfo.com%2Fstory%2Ftait-and-haddin-in-world-cup-squad-280166&amp;rfr_id=info%3Asid%2Fen.wikipedia.org%3AAndrew+Symonds\"></span></span>\n",
       "</li>\n",
       "<li id=\"cite_note-86\"><span class=\"mw-cite-backlink\"><b><a href=\"#cite_ref-86\">^</a></b></span> <span class=\"reference-text\"><link href=\"mw-data:TemplateStyles:r1067248974\" rel=\"mw-deduplicated-inline-style\"/><cite class=\"citation news cs1\" id=\"CITEREFBriggs2007\">Briggs, Simon (5 February 2007). <a class=\"external text\" href=\"https://www.newspapers.com/clip/101905574/ponting-opens-door-to-finals-for-england/\" rel=\"nofollow\">\"Ponting opens door to finals for England\"</a>. <i><a href=\"/wiki/The_Daily_Telegraph\" title=\"The Daily Telegraph\">The Daily Telegraph</a></i>. p. S30<span class=\"reference-accessdate\">. Retrieved <span class=\"nowrap\">15 May</span> 2022</span> – via Newspapers.com.</cite><span class=\"Z3988\" title=\"ctx_ver=Z39.88-2004&amp;rft_val_fmt=info%3Aofi%2Ffmt%3Akev%3Amtx%3Ajournal&amp;rft.genre=article&amp;rft.jtitle=The+Daily+Telegraph&amp;rft.atitle=Ponting+opens+door+to+finals+for+England&amp;rft.pages=S30&amp;rft.date=2007-02-05&amp;rft.aulast=Briggs&amp;rft.aufirst=Simon&amp;rft_id=https%3A%2F%2Fwww.newspapers.com%2Fclip%2F101905574%2Fponting-opens-door-to-finals-for-england%2F&amp;rfr_id=info%3Asid%2Fen.wikipedia.org%3AAndrew+Symonds\"></span></span>\n",
       "</li>\n",
       "<li id=\"cite_note-87\"><span class=\"mw-cite-backlink\"><b><a href=\"#cite_ref-87\">^</a></b></span> <span class=\"reference-text\"><link href=\"mw-data:TemplateStyles:r1067248974\" rel=\"mw-deduplicated-inline-style\"/><cite class=\"citation news cs1\"><a class=\"external text\" href=\"http://edition.cnn.com/2007/SPORT/02/03/cricket.symonds/index.html\" rel=\"nofollow\">\"All-rounder Symonds needs surgery\"</a>. <i>CNN.com</i>. 3 February 2007<span class=\"reference-accessdate\">. Retrieved <span class=\"nowrap\">15 May</span> 2022</span>.</cite><span class=\"Z3988\" title=\"ctx_ver=Z39.88-2004&amp;rft_val_fmt=info%3Aofi%2Ffmt%3Akev%3Amtx%3Ajournal&amp;rft.genre=article&amp;rft.jtitle=CNN.com&amp;rft.atitle=All-rounder+Symonds+needs+surgery&amp;rft.date=2007-02-03&amp;rft_id=http%3A%2F%2Fedition.cnn.com%2F2007%2FSPORT%2F02%2F03%2Fcricket.symonds%2Findex.html&amp;rfr_id=info%3Asid%2Fen.wikipedia.org%3AAndrew+Symonds\"></span></span>\n",
       "</li>\n",
       "<li id=\"cite_note-88\"><span class=\"mw-cite-backlink\"><b><a href=\"#cite_ref-88\">^</a></b></span> <span class=\"reference-text\"><link href=\"mw-data:TemplateStyles:r1067248974\" rel=\"mw-deduplicated-inline-style\"/><cite class=\"citation news cs1\" id=\"CITEREFEnglish2007\">English, Peter (21 February 2007). <a class=\"external text\" href=\"https://www.theguardian.com/sport/2007/feb/21/cricket.sport\" rel=\"nofollow\">\"Australia deny they are in crisis after Kiwi whitewash\"</a>. <i><a href=\"/wiki/The_Guardian\" title=\"The Guardian\">TheGuardian.com</a></i><span class=\"reference-accessdate\">. Retrieved <span class=\"nowrap\">15 May</span> 2022</span>.</cite><span class=\"Z3988\" title=\"ctx_ver=Z39.88-2004&amp;rft_val_fmt=info%3Aofi%2Ffmt%3Akev%3Amtx%3Ajournal&amp;rft.genre=article&amp;rft.jtitle=TheGuardian.com&amp;rft.atitle=Australia+deny+they+are+in+crisis+after+Kiwi+whitewash&amp;rft.date=2007-02-21&amp;rft.aulast=English&amp;rft.aufirst=Peter&amp;rft_id=https%3A%2F%2Fwww.theguardian.com%2Fsport%2F2007%2Ffeb%2F21%2Fcricket.sport&amp;rfr_id=info%3Asid%2Fen.wikipedia.org%3AAndrew+Symonds\"></span></span>\n",
       "</li>\n",
       "<li id=\"cite_note-89\"><span class=\"mw-cite-backlink\"><b><a href=\"#cite_ref-89\">^</a></b></span> <span class=\"reference-text\"><link href=\"mw-data:TemplateStyles:r1067248974\" rel=\"mw-deduplicated-inline-style\"/><cite class=\"citation web cs1\"><a class=\"external text\" href=\"http://content-aus.cricinfo.com/ci/content/story/284369.html\" rel=\"nofollow\">\"Symonds starts to throw\"</a>. <i>cricinfo.com</i><span class=\"reference-accessdate\">. Retrieved <span class=\"nowrap\">23 March</span> 2018</span>.</cite><span class=\"Z3988\" title=\"ctx_ver=Z39.88-2004&amp;rft_val_fmt=info%3Aofi%2Ffmt%3Akev%3Amtx%3Ajournal&amp;rft.genre=unknown&amp;rft.jtitle=cricinfo.com&amp;rft.atitle=Symonds+starts+to+throw&amp;rft_id=http%3A%2F%2Fcontent-aus.cricinfo.com%2Fci%2Fcontent%2Fstory%2F284369.html&amp;rfr_id=info%3Asid%2Fen.wikipedia.org%3AAndrew+Symonds\"></span></span>\n",
       "</li>\n",
       "<li id=\"cite_note-90\"><span class=\"mw-cite-backlink\"><b><a href=\"#cite_ref-90\">^</a></b></span> <span class=\"reference-text\"><link href=\"mw-data:TemplateStyles:r1067248974\" rel=\"mw-deduplicated-inline-style\"/><cite class=\"citation web cs1\"><a class=\"external text\" href=\"http://blogs.cricinfo.com/cricinfoselect/archives/2007/03/most_open_tournament_yet_held.php\" rel=\"nofollow\">\"ESPNcricinfo – Cricket Teams, Scores, Stats, News, Fixtures, Results, Tables\"</a>. <i>ESPNcricinfo</i><span class=\"reference-accessdate\">. Retrieved <span class=\"nowrap\">23 March</span> 2018</span>.</cite><span class=\"Z3988\" title=\"ctx_ver=Z39.88-2004&amp;rft_val_fmt=info%3Aofi%2Ffmt%3Akev%3Amtx%3Ajournal&amp;rft.genre=unknown&amp;rft.jtitle=ESPNcricinfo&amp;rft.atitle=ESPNcricinfo+%E2%80%93+Cricket+Teams%2C+Scores%2C+Stats%2C+News%2C+Fixtures%2C+Results%2C+Tables&amp;rft_id=http%3A%2F%2Fblogs.cricinfo.com%2Fcricinfoselect%2Farchives%2F2007%2F03%2Fmost_open_tournament_yet_held.php&amp;rfr_id=info%3Asid%2Fen.wikipedia.org%3AAndrew+Symonds\"></span></span>\n",
       "</li>\n",
       "<li id=\"cite_note-91\"><span class=\"mw-cite-backlink\"><b><a href=\"#cite_ref-91\">^</a></b></span> <span class=\"reference-text\"><link href=\"mw-data:TemplateStyles:r1067248974\" rel=\"mw-deduplicated-inline-style\"/><cite class=\"citation web cs1\"><a class=\"external text\" href=\"http://www.cricinfo.com/wc2007/engine/current/match/247507.html\" rel=\"nofollow\">\"Scorecard: Australia v Sri Lanka, World Cup 2007 Final\"</a>. Cricinfo. <a class=\"external text\" href=\"https://web.archive.org/web/20090624015115/http://www.cricinfo.com/wc2007/engine/current/match/247507.html\" rel=\"nofollow\">Archived</a> from the original on 24 June 2009<span class=\"reference-accessdate\">. Retrieved <span class=\"nowrap\">19 July</span> 2009</span>.</cite><span class=\"Z3988\" title=\"ctx_ver=Z39.88-2004&amp;rft_val_fmt=info%3Aofi%2Ffmt%3Akev%3Amtx%3Abook&amp;rft.genre=unknown&amp;rft.btitle=Scorecard%3A+Australia+v+Sri+Lanka%2C+World+Cup+2007+Final&amp;rft.pub=Cricinfo&amp;rft_id=http%3A%2F%2Fwww.cricinfo.com%2Fwc2007%2Fengine%2Fcurrent%2Fmatch%2F247507.html&amp;rfr_id=info%3Asid%2Fen.wikipedia.org%3AAndrew+Symonds\"></span></span>\n",
       "</li>\n",
       "<li id=\"cite_note-92\"><span class=\"mw-cite-backlink\"><b><a href=\"#cite_ref-92\">^</a></b></span> <span class=\"reference-text\"><link href=\"mw-data:TemplateStyles:r1067248974\" rel=\"mw-deduplicated-inline-style\"/><cite class=\"citation news cs1\" id=\"CITEREFSelvey2007\">Selvey, Mike (30 April 2007). <a class=\"external text\" href=\"https://www.theguardian.com/sport/2007/apr/30/cricket.cricketworldcup20071\" rel=\"nofollow\">\"Official fumbling in the dark takes the shine off Australia's triumph\"</a>. <i><a href=\"/wiki/The_Guardian\" title=\"The Guardian\">TheGuardian.com</a></i><span class=\"reference-accessdate\">. Retrieved <span class=\"nowrap\">15 May</span> 2022</span>.</cite><span class=\"Z3988\" title=\"ctx_ver=Z39.88-2004&amp;rft_val_fmt=info%3Aofi%2Ffmt%3Akev%3Amtx%3Ajournal&amp;rft.genre=article&amp;rft.jtitle=TheGuardian.com&amp;rft.atitle=Official+fumbling+in+the+dark+takes+the+shine+off+Australia%27s+triumph&amp;rft.date=2007-04-30&amp;rft.aulast=Selvey&amp;rft.aufirst=Mike&amp;rft_id=https%3A%2F%2Fwww.theguardian.com%2Fsport%2F2007%2Fapr%2F30%2Fcricket.cricketworldcup20071&amp;rfr_id=info%3Asid%2Fen.wikipedia.org%3AAndrew+Symonds\"></span></span>\n",
       "</li>\n",
       "<li id=\"cite_note-93\"><span class=\"mw-cite-backlink\"><b><a href=\"#cite_ref-93\">^</a></b></span> <span class=\"reference-text\"><link href=\"mw-data:TemplateStyles:r1067248974\" rel=\"mw-deduplicated-inline-style\"/><cite class=\"citation news cs1\" id=\"CITEREFLalor2007\">Lalor, Peter (18 October 2007). <a class=\"external text\" href=\"https://web.archive.org/web/20071019004522/http://www.theaustralian.news.com.au/story/0,25197,22604344-5001505,00.html\" rel=\"nofollow\">\"India makes monkey of racism row\"</a>. <i>The Australian</i>. Archived from <a class=\"external text\" href=\"http://www.theaustralian.news.com.au/story/0,25197,22604344-5001505,00.html\" rel=\"nofollow\">the original</a> on 19 October 2007<span class=\"reference-accessdate\">. Retrieved <span class=\"nowrap\">18 October</span> 2007</span>.</cite><span class=\"Z3988\" title=\"ctx_ver=Z39.88-2004&amp;rft_val_fmt=info%3Aofi%2Ffmt%3Akev%3Amtx%3Ajournal&amp;rft.genre=article&amp;rft.jtitle=The+Australian&amp;rft.atitle=India+makes+monkey+of+racism+row&amp;rft.date=2007-10-18&amp;rft.aulast=Lalor&amp;rft.aufirst=Peter&amp;rft_id=http%3A%2F%2Fwww.theaustralian.news.com.au%2Fstory%2F0%2C25197%2C22604344-5001505%2C00.html&amp;rfr_id=info%3Asid%2Fen.wikipedia.org%3AAndrew+Symonds\"></span></span>\n",
       "</li>\n",
       "<li id=\"cite_note-94\"><span class=\"mw-cite-backlink\"><b><a href=\"#cite_ref-94\">^</a></b></span> <span class=\"reference-text\"><link href=\"mw-data:TemplateStyles:r1067248974\" rel=\"mw-deduplicated-inline-style\"/><cite class=\"citation web cs1\"><a class=\"external text\" href=\"http://content-aus.cricinfo.com/pakvrsa/content/story/315135.html\" rel=\"nofollow\">\"Symonds subjected to 'monkey chants'<span class=\"cs1-kern-right\"></span>\"</a>. <i>CrinInfo</i><span class=\"reference-accessdate\">. Retrieved <span class=\"nowrap\">12 October</span> 2007</span>.</cite><span class=\"Z3988\" title=\"ctx_ver=Z39.88-2004&amp;rft_val_fmt=info%3Aofi%2Ffmt%3Akev%3Amtx%3Ajournal&amp;rft.genre=unknown&amp;rft.jtitle=CrinInfo&amp;rft.atitle=Symonds+subjected+to+%27monkey+chants%27&amp;rft_id=http%3A%2F%2Fcontent-aus.cricinfo.com%2Fpakvrsa%2Fcontent%2Fstory%2F315135.html&amp;rfr_id=info%3Asid%2Fen.wikipedia.org%3AAndrew+Symonds\"></span></span>\n",
       "</li>\n",
       "<li id=\"cite_note-95\"><span class=\"mw-cite-backlink\"><b><a href=\"#cite_ref-95\">^</a></b></span> <span class=\"reference-text\"><link href=\"mw-data:TemplateStyles:r1067248974\" rel=\"mw-deduplicated-inline-style\"/><cite class=\"citation web cs1\"><a class=\"external text\" href=\"https://www.espncricinfo.com/story/hayden-and-symonds-eye-comebacks-323452\" rel=\"nofollow\">\"Hayden and Symonds eye comebacks\"</a>. <i>ESPN Cricinfo</i><span class=\"reference-accessdate\">. Retrieved <span class=\"nowrap\">16 May</span> 2022</span>.</cite><span class=\"Z3988\" title=\"ctx_ver=Z39.88-2004&amp;rft_val_fmt=info%3Aofi%2Ffmt%3Akev%3Amtx%3Ajournal&amp;rft.genre=unknown&amp;rft.jtitle=ESPN+Cricinfo&amp;rft.atitle=Hayden+and+Symonds+eye+comebacks&amp;rft_id=https%3A%2F%2Fwww.espncricinfo.com%2Fstory%2Fhayden-and-symonds-eye-comebacks-323452&amp;rfr_id=info%3Asid%2Fen.wikipedia.org%3AAndrew+Symonds\"></span></span>\n",
       "</li>\n",
       "<li id=\"cite_note-96\"><span class=\"mw-cite-backlink\"><b><a href=\"#cite_ref-96\">^</a></b></span> <span class=\"reference-text\"><link href=\"mw-data:TemplateStyles:r1067248974\" rel=\"mw-deduplicated-inline-style\"/><cite class=\"citation web cs1\"><a class=\"external text\" href=\"https://www.espncricinfo.com/series/india-tour-of-australia-2007-08-291320/australia-vs-india-1st-test-291351/match-preview\" rel=\"nofollow\">\"Australia all set for MCG dominance\"</a>. <i>ESPN Cricinfo</i><span class=\"reference-accessdate\">. Retrieved <span class=\"nowrap\">16 May</span> 2022</span>.</cite><span class=\"Z3988\" title=\"ctx_ver=Z39.88-2004&amp;rft_val_fmt=info%3Aofi%2Ffmt%3Akev%3Amtx%3Ajournal&amp;rft.genre=unknown&amp;rft.jtitle=ESPN+Cricinfo&amp;rft.atitle=Australia+all+set+for+MCG+dominance&amp;rft_id=https%3A%2F%2Fwww.espncricinfo.com%2Fseries%2Findia-tour-of-australia-2007-08-291320%2Faustralia-vs-india-1st-test-291351%2Fmatch-preview&amp;rfr_id=info%3Asid%2Fen.wikipedia.org%3AAndrew+Symonds\"></span></span>\n",
       "</li>\n",
       "<li id=\"cite_note-97\"><span class=\"mw-cite-backlink\"><b><a href=\"#cite_ref-97\">^</a></b></span> <span class=\"reference-text\"><link href=\"mw-data:TemplateStyles:r1067248974\" rel=\"mw-deduplicated-inline-style\"/><cite class=\"citation web cs1\"><a class=\"external text\" href=\"http://content-aus.cricinfo.com/ausvind/engine/current/match/291352.html\" rel=\"nofollow\">\"Border-Gavaskar Trophy – 2nd Test 2007/08\"</a>. <a class=\"external text\" href=\"https://web.archive.org/web/20080103082020/http://content-aus.cricinfo.com/ausvind/engine/current/match/291352.html\" rel=\"nofollow\">Archived</a> from the original on 3 January 2008<span class=\"reference-accessdate\">. Retrieved <span class=\"nowrap\">2 January</span> 2008</span>.</cite><span class=\"Z3988\" title=\"ctx_ver=Z39.88-2004&amp;rft_val_fmt=info%3Aofi%2Ffmt%3Akev%3Amtx%3Abook&amp;rft.genre=unknown&amp;rft.btitle=Border-Gavaskar+Trophy+%E2%80%93+2nd+Test+2007%2F08&amp;rft_id=http%3A%2F%2Fcontent-aus.cricinfo.com%2Fausvind%2Fengine%2Fcurrent%2Fmatch%2F291352.html&amp;rfr_id=info%3Asid%2Fen.wikipedia.org%3AAndrew+Symonds\"></span></span>\n",
       "</li>\n",
       "<li id=\"cite_note-98\"><span class=\"mw-cite-backlink\"><b><a href=\"#cite_ref-98\">^</a></b></span> <span class=\"reference-text\"><link href=\"mw-data:TemplateStyles:r1067248974\" rel=\"mw-deduplicated-inline-style\"/><cite class=\"citation web cs1\" id=\"CITEREFVaidyanathan2008\">Vaidyanathan, Siddhartha (6 January 2008). <a class=\"external text\" href=\"http://content-uk.cricinfo.com/ci/content/current/story/329440.html\" rel=\"nofollow\">\"Harbhajan gets three-match ban\"</a>. Cricinfo. <a class=\"external text\" href=\"https://web.archive.org/web/20080109165832/http://content-uk.cricinfo.com/ci/content/current/story/329440.html\" rel=\"nofollow\">Archived</a> from the original on 9 January 2008<span class=\"reference-accessdate\">. Retrieved <span class=\"nowrap\">6 January</span> 2008</span>.</cite><span class=\"Z3988\" title=\"ctx_ver=Z39.88-2004&amp;rft_val_fmt=info%3Aofi%2Ffmt%3Akev%3Amtx%3Abook&amp;rft.genre=unknown&amp;rft.btitle=Harbhajan+gets+three-match+ban&amp;rft.pub=Cricinfo&amp;rft.date=2008-01-06&amp;rft.aulast=Vaidyanathan&amp;rft.aufirst=Siddhartha&amp;rft_id=http%3A%2F%2Fcontent-uk.cricinfo.com%2Fci%2Fcontent%2Fcurrent%2Fstory%2F329440.html&amp;rfr_id=info%3Asid%2Fen.wikipedia.org%3AAndrew+Symonds\"></span></span>\n",
       "</li>\n",
       "<li id=\"cite_note-99\"><span class=\"mw-cite-backlink\"><b><a href=\"#cite_ref-99\">^</a></b></span> <span class=\"reference-text\"><link href=\"mw-data:TemplateStyles:r1067248974\" rel=\"mw-deduplicated-inline-style\"/><cite class=\"citation web cs1\"><a class=\"external text\" href=\"http://content-aus.cricinfo.com/ausvind/content/story/334306.html\" rel=\"nofollow\">\"ICC accepts blame for 'human and database errors'<span class=\"cs1-kern-right\"></span>\"</a>. CricInfo. 31 January 2008. <a class=\"external text\" href=\"https://web.archive.org/web/20080202012853/http://content-aus.cricinfo.com/ausvind/content/story/334306.html\" rel=\"nofollow\">Archived</a> from the original on 2 February 2008<span class=\"reference-accessdate\">. Retrieved <span class=\"nowrap\">29 January</span> 2008</span>.</cite><span class=\"Z3988\" title=\"ctx_ver=Z39.88-2004&amp;rft_val_fmt=info%3Aofi%2Ffmt%3Akev%3Amtx%3Abook&amp;rft.genre=unknown&amp;rft.btitle=ICC+accepts+blame+for+%27human+and+database+errors%27&amp;rft.pub=CricInfo&amp;rft.date=2008-01-31&amp;rft_id=http%3A%2F%2Fcontent-aus.cricinfo.com%2Fausvind%2Fcontent%2Fstory%2F334306.html&amp;rfr_id=info%3Asid%2Fen.wikipedia.org%3AAndrew+Symonds\"></span></span>\n",
       "</li>\n",
       "<li id=\"cite_note-100\"><span class=\"mw-cite-backlink\"><b><a href=\"#cite_ref-100\">^</a></b></span> <span class=\"reference-text\"><link href=\"mw-data:TemplateStyles:r1067248974\" rel=\"mw-deduplicated-inline-style\"/><cite class=\"citation web cs1\" id=\"CITEREFDoshi2008\">Doshi, Anjali (29 January 2008). <a class=\"external text\" href=\"https://web.archive.org/web/20080201064853/http://www.ndtv.com/convergence/ndtvcricket/cricketstory.aspx?id=SPOEN20080039729&amp;site=ndtv\" rel=\"nofollow\">\"Racism charge against Harbhajan dropped\"</a>. NDTV.com. Archived from <a class=\"external text\" href=\"http://www.ndtv.com/convergence/ndtvcricket/cricketstory.aspx?id=SPOEN20080039729&amp;site=ndtv\" rel=\"nofollow\">the original</a> on 1 February 2008<span class=\"reference-accessdate\">. Retrieved <span class=\"nowrap\">29 January</span> 2008</span>.</cite><span class=\"Z3988\" title=\"ctx_ver=Z39.88-2004&amp;rft_val_fmt=info%3Aofi%2Ffmt%3Akev%3Amtx%3Abook&amp;rft.genre=unknown&amp;rft.btitle=Racism+charge+against+Harbhajan+dropped&amp;rft.pub=NDTV.com&amp;rft.date=2008-01-29&amp;rft.aulast=Doshi&amp;rft.aufirst=Anjali&amp;rft_id=http%3A%2F%2Fwww.ndtv.com%2Fconvergence%2Fndtvcricket%2Fcricketstory.aspx%3Fid%3DSPOEN20080039729%26site%3Dndtv&amp;rfr_id=info%3Asid%2Fen.wikipedia.org%3AAndrew+Symonds\"></span></span>\n",
       "</li>\n",
       "<li id=\"cite_note-cleared-101\"><span class=\"mw-cite-backlink\"><b><a href=\"#cite_ref-cleared_101-0\">^</a></b></span> <span class=\"reference-text\"><link href=\"mw-data:TemplateStyles:r1067248974\" rel=\"mw-deduplicated-inline-style\"/><cite class=\"citation pressrelease cs1\"><a class=\"external text\" href=\"http://content-usa.cricinfo.com/ausvind/content/current/story/333986.html\" rel=\"nofollow\">\"Harbhajan Singh cleared of racism charges\"</a> (Press release). ICC. 29 January 2008. <a class=\"external text\" href=\"https://web.archive.org/web/20080130082450/http://content-usa.cricinfo.com/ausvind/content/current/story/333986.html\" rel=\"nofollow\">Archived</a> from the original on 30 January 2008<span class=\"reference-accessdate\">. Retrieved <span class=\"nowrap\">29 January</span> 2008</span>.</cite><span class=\"Z3988\" title=\"ctx_ver=Z39.88-2004&amp;rft_val_fmt=info%3Aofi%2Ffmt%3Akev%3Amtx%3Abook&amp;rft.genre=unknown&amp;rft.btitle=Harbhajan+Singh+cleared+of+racism+charges&amp;rft.pub=ICC&amp;rft.date=2008-01-29&amp;rft_id=http%3A%2F%2Fcontent-usa.cricinfo.com%2Fausvind%2Fcontent%2Fcurrent%2Fstory%2F333986.html&amp;rfr_id=info%3Asid%2Fen.wikipedia.org%3AAndrew+Symonds\"></span></span>\n",
       "</li>\n",
       "<li id=\"cite_note-102\"><span class=\"mw-cite-backlink\"><b><a href=\"#cite_ref-102\">^</a></b></span> <span class=\"reference-text\"><link href=\"mw-data:TemplateStyles:r1067248974\" rel=\"mw-deduplicated-inline-style\"/><cite class=\"citation news cs1\" id=\"CITEREFThe_Australian2008\">The Australian (29 January 2008). <a class=\"external text\" href=\"https://web.archive.org/web/20080206082752/http://www.theaustralian.news.com.au/story/0,25197,23128511-5001505,00.html.html\" rel=\"nofollow\">\"Transcript: What was said\"</a>. News Limited. Archived from <a class=\"external text\" href=\"http://www.theaustralian.news.com.au/story/0,25197,23128511-5001505,00.html.html\" rel=\"nofollow\">the original</a> on 6 February 2008<span class=\"reference-accessdate\">. Retrieved <span class=\"nowrap\">29 January</span> 2008</span>.</cite><span class=\"Z3988\" title=\"ctx_ver=Z39.88-2004&amp;rft_val_fmt=info%3Aofi%2Ffmt%3Akev%3Amtx%3Ajournal&amp;rft.genre=article&amp;rft.atitle=Transcript%3A+What+was+said&amp;rft.date=2008-01-29&amp;rft.au=The+Australian&amp;rft_id=http%3A%2F%2Fwww.theaustralian.news.com.au%2Fstory%2F0%2C25197%2C23128511-5001505%2C00.html.html&amp;rfr_id=info%3Asid%2Fen.wikipedia.org%3AAndrew+Symonds\"></span></span>\n",
       "</li>\n",
       "<li id=\"cite_note-103\"><span class=\"mw-cite-backlink\"><b><a href=\"#cite_ref-103\">^</a></b></span> <span class=\"reference-text\"><link href=\"mw-data:TemplateStyles:r1067248974\" rel=\"mw-deduplicated-inline-style\"/><cite class=\"citation web cs1\" id=\"CITEREFBretting\">Bretting, Daniel. <a class=\"external text\" href=\"http://www.espncricinfo.com/australia/content/story/681213.html\" rel=\"nofollow\">\"Ponting moves on from Monkeygate\"</a><span class=\"reference-accessdate\">. Retrieved <span class=\"nowrap\">22 October</span> 2013</span>.</cite><span class=\"Z3988\" title=\"ctx_ver=Z39.88-2004&amp;rft_val_fmt=info%3Aofi%2Ffmt%3Akev%3Amtx%3Abook&amp;rft.genre=unknown&amp;rft.btitle=Ponting+moves+on+from+Monkeygate&amp;rft.aulast=Bretting&amp;rft.aufirst=Daniel&amp;rft_id=http%3A%2F%2Fwww.espncricinfo.com%2Faustralia%2Fcontent%2Fstory%2F681213.html&amp;rfr_id=info%3Asid%2Fen.wikipedia.org%3AAndrew+Symonds\"></span></span>\n",
       "</li>\n",
       "<li id=\"cite_note-104\"><span class=\"mw-cite-backlink\"><b><a href=\"#cite_ref-104\">^</a></b></span> <span class=\"reference-text\"><link href=\"mw-data:TemplateStyles:r1067248974\" rel=\"mw-deduplicated-inline-style\"/><cite class=\"citation web cs1\"><a class=\"external text\" href=\"http://www.smh.com.au/articles/2008/03/04/1204402461316.html\" rel=\"nofollow\">\"Symonds hits a streaker for six – Cricket – Sport – smh.com.au\"</a>. <i>www.smh.com.au</i>. 5 March 2008<span class=\"reference-accessdate\">. Retrieved <span class=\"nowrap\">23 March</span> 2018</span>.</cite><span class=\"Z3988\" title=\"ctx_ver=Z39.88-2004&amp;rft_val_fmt=info%3Aofi%2Ffmt%3Akev%3Amtx%3Ajournal&amp;rft.genre=unknown&amp;rft.jtitle=www.smh.com.au&amp;rft.atitle=Symonds+hits+a+streaker+for+six+%E2%80%93+Cricket+%E2%80%93+Sport+%E2%80%93+smh.com.au&amp;rft.date=2008-03-05&amp;rft_id=http%3A%2F%2Fwww.smh.com.au%2Farticles%2F2008%2F03%2F04%2F1204402461316.html&amp;rfr_id=info%3Asid%2Fen.wikipedia.org%3AAndrew+Symonds\"></span></span>\n",
       "</li>\n",
       "<li id=\"cite_note-105\"><span class=\"mw-cite-backlink\"><b><a href=\"#cite_ref-105\">^</a></b></span> <span class=\"reference-text\"><link href=\"mw-data:TemplateStyles:r1067248974\" rel=\"mw-deduplicated-inline-style\"/><cite class=\"citation web cs1\"><a class=\"external text\" href=\"http://www.abc.net.au/news/stories/2008/03/05/2180075.htm\" rel=\"nofollow\">\"Symonds in hot water for dropping streaker\"</a>. <i>abc.net.au</i>. 5 March 2008<span class=\"reference-accessdate\">. Retrieved <span class=\"nowrap\">23 March</span> 2018</span>.</cite><span class=\"Z3988\" title=\"ctx_ver=Z39.88-2004&amp;rft_val_fmt=info%3Aofi%2Ffmt%3Akev%3Amtx%3Ajournal&amp;rft.genre=unknown&amp;rft.jtitle=abc.net.au&amp;rft.atitle=Symonds+in+hot+water+for+dropping+streaker&amp;rft.date=2008-03-05&amp;rft_id=http%3A%2F%2Fwww.abc.net.au%2Fnews%2Fstories%2F2008%2F03%2F05%2F2180075.htm&amp;rfr_id=info%3Asid%2Fen.wikipedia.org%3AAndrew+Symonds\"></span></span>\n",
       "</li>\n",
       "<li id=\"cite_note-106\"><span class=\"mw-cite-backlink\"><b><a href=\"#cite_ref-106\">^</a></b></span> <span class=\"reference-text\"><link href=\"mw-data:TemplateStyles:r1067248974\" rel=\"mw-deduplicated-inline-style\"/><cite class=\"citation web cs1\" id=\"CITEREFCoverdale2008\">Coverdale, Brydon (30 August 2008). <a class=\"external text\" href=\"http://www.cricinfo.com/ausvbdesh/content/story/366892.html\" rel=\"nofollow\">\"Symonds sent home after going fishing\"</a>. <i>CricInfo</i>. ESPN. <a class=\"external text\" href=\"https://web.archive.org/web/20090608053126/http://www.cricinfo.com/ausvbdesh/content/story/366892.html\" rel=\"nofollow\">Archived</a> from the original on 8 June 2009<span class=\"reference-accessdate\">. Retrieved <span class=\"nowrap\">6 June</span> 2009</span>.</cite><span class=\"Z3988\" title=\"ctx_ver=Z39.88-2004&amp;rft_val_fmt=info%3Aofi%2Ffmt%3Akev%3Amtx%3Ajournal&amp;rft.genre=unknown&amp;rft.jtitle=CricInfo&amp;rft.atitle=Symonds+sent+home+after+going+fishing&amp;rft.date=2008-08-30&amp;rft.aulast=Coverdale&amp;rft.aufirst=Brydon&amp;rft_id=http%3A%2F%2Fwww.cricinfo.com%2Fausvbdesh%2Fcontent%2Fstory%2F366892.html&amp;rfr_id=info%3Asid%2Fen.wikipedia.org%3AAndrew+Symonds\"></span></span>\n",
       "</li>\n",
       "<li id=\"cite_note-SymondsKrejza-107\"><span class=\"mw-cite-backlink\">^ <a href=\"#cite_ref-SymondsKrejza_107-0\"><sup><i><b>a</b></i></sup></a> <a href=\"#cite_ref-SymondsKrejza_107-1\"><sup><i><b>b</b></i></sup></a></span> <span class=\"reference-text\"><link href=\"mw-data:TemplateStyles:r1067248974\" rel=\"mw-deduplicated-inline-style\"/><cite class=\"citation web cs1\"><a class=\"external text\" href=\"https://www.espncricinfo.com/story/symonds-recalled-as-watson-left-to-fight-with-krejza-378782\" rel=\"nofollow\">\"Symonds recalled as Watson left to fight with Krejza\"</a>. <i>ESPNCricinfo</i>. ESPN. 19 November 2008<span class=\"reference-accessdate\">. Retrieved <span class=\"nowrap\">15 May</span> 2022</span>.</cite><span class=\"Z3988\" title=\"ctx_ver=Z39.88-2004&amp;rft_val_fmt=info%3Aofi%2Ffmt%3Akev%3Amtx%3Ajournal&amp;rft.genre=unknown&amp;rft.jtitle=ESPNCricinfo&amp;rft.atitle=Symonds+recalled+as+Watson+left+to+fight+with+Krejza&amp;rft.date=2008-11-19&amp;rft_id=https%3A%2F%2Fwww.espncricinfo.com%2Fstory%2Fsymonds-recalled-as-watson-left-to-fight-with-krejza-378782&amp;rfr_id=info%3Asid%2Fen.wikipedia.org%3AAndrew+Symonds\"></span></span>\n",
       "</li>\n",
       "<li id=\"cite_note-108\"><span class=\"mw-cite-backlink\"><b><a href=\"#cite_ref-108\">^</a></b></span> <span class=\"reference-text\"><link href=\"mw-data:TemplateStyles:r1067248974\" rel=\"mw-deduplicated-inline-style\"/><cite class=\"citation web cs1\"><a class=\"external text\" href=\"http://www.cricinfo.com/australia/content/story/379406.html\" rel=\"nofollow\">\"Symonds involved in pub incident\"</a>. <i>CricInfo</i>. ESPN. 24 November 2008. <a class=\"external text\" href=\"https://web.archive.org/web/20090607095111/http://www.cricinfo.com/australia/content/story/379406.html\" rel=\"nofollow\">Archived</a> from the original on 7 June 2009<span class=\"reference-accessdate\">. Retrieved <span class=\"nowrap\">6 June</span> 2009</span>.</cite><span class=\"Z3988\" title=\"ctx_ver=Z39.88-2004&amp;rft_val_fmt=info%3Aofi%2Ffmt%3Akev%3Amtx%3Ajournal&amp;rft.genre=unknown&amp;rft.jtitle=CricInfo&amp;rft.atitle=Symonds+involved+in+pub+incident&amp;rft.date=2008-11-24&amp;rft_id=http%3A%2F%2Fwww.cricinfo.com%2Faustralia%2Fcontent%2Fstory%2F379406.html&amp;rfr_id=info%3Asid%2Fen.wikipedia.org%3AAndrew+Symonds\"></span></span>\n",
       "</li>\n",
       "<li id=\"cite_note-109\"><span class=\"mw-cite-backlink\"><b><a href=\"#cite_ref-109\">^</a></b></span> <span class=\"reference-text\"><link href=\"mw-data:TemplateStyles:r1067248974\" rel=\"mw-deduplicated-inline-style\"/><cite class=\"citation web cs1\"><a class=\"external text\" href=\"http://www.espncricinfo.com/ci-icc/content/story/369272.html\" rel=\"nofollow\">\"Ponting leads ODI Team of Year\"</a>.</cite><span class=\"Z3988\" title=\"ctx_ver=Z39.88-2004&amp;rft_val_fmt=info%3Aofi%2Ffmt%3Akev%3Amtx%3Abook&amp;rft.genre=unknown&amp;rft.btitle=Ponting+leads+ODI+Team+of+Year&amp;rft_id=http%3A%2F%2Fwww.espncricinfo.com%2Fci-icc%2Fcontent%2Fstory%2F369272.html&amp;rfr_id=info%3Asid%2Fen.wikipedia.org%3AAndrew+Symonds\"></span></span>\n",
       "</li>\n",
       "<li id=\"cite_note-110\"><span class=\"mw-cite-backlink\"><b><a href=\"#cite_ref-110\">^</a></b></span> <span class=\"reference-text\"><link href=\"mw-data:TemplateStyles:r1067248974\" rel=\"mw-deduplicated-inline-style\"/><cite class=\"citation web cs1\"><a class=\"external text\" href=\"http://www.stuff.co.nz/sport/cricket/809428/Symonds-apologises-to-McCullum-over-spray\" rel=\"nofollow\">\"Symonds apologises to McCullum over spray\"</a>. <i>Stuff</i>. February 2009<span class=\"reference-accessdate\">. Retrieved <span class=\"nowrap\">16 May</span> 2022</span>.</cite><span class=\"Z3988\" title=\"ctx_ver=Z39.88-2004&amp;rft_val_fmt=info%3Aofi%2Ffmt%3Akev%3Amtx%3Ajournal&amp;rft.genre=unknown&amp;rft.jtitle=Stuff&amp;rft.atitle=Symonds+apologises+to+McCullum+over+spray&amp;rft.date=2009-02&amp;rft_id=http%3A%2F%2Fwww.stuff.co.nz%2Fsport%2Fcricket%2F809428%2FSymonds-apologises-to-McCullum-over-spray&amp;rfr_id=info%3Asid%2Fen.wikipedia.org%3AAndrew+Symonds\"></span></span>\n",
       "</li>\n",
       "<li id=\"cite_note-111\"><span class=\"mw-cite-backlink\"><b><a href=\"#cite_ref-111\">^</a></b></span> <span class=\"reference-text\"><link href=\"mw-data:TemplateStyles:r1067248974\" rel=\"mw-deduplicated-inline-style\"/><cite class=\"citation web cs1\"><a class=\"external text\" href=\"http://archive.indianexpress.com/news/symonds-in-trouble-for-bad-mouthing-mccullum/414812/\" rel=\"nofollow\">\"Symonds in trouble for bad mouthing McCullum\"</a>. <i>The Indian Express</i><span class=\"reference-accessdate\">. Retrieved <span class=\"nowrap\">16 May</span> 2022</span>.</cite><span class=\"Z3988\" title=\"ctx_ver=Z39.88-2004&amp;rft_val_fmt=info%3Aofi%2Ffmt%3Akev%3Amtx%3Ajournal&amp;rft.genre=unknown&amp;rft.jtitle=The+Indian+Express&amp;rft.atitle=Symonds+in+trouble+for+bad+mouthing+McCullum&amp;rft_id=http%3A%2F%2Farchive.indianexpress.com%2Fnews%2Fsymonds-in-trouble-for-bad-mouthing-mccullum%2F414812%2F&amp;rfr_id=info%3Asid%2Fen.wikipedia.org%3AAndrew+Symonds\"></span></span>\n",
       "</li>\n",
       "<li id=\"cite_note-112\"><span class=\"mw-cite-backlink\"><b><a href=\"#cite_ref-112\">^</a></b></span> <span class=\"reference-text\"><link href=\"mw-data:TemplateStyles:r1067248974\" rel=\"mw-deduplicated-inline-style\"/><cite class=\"citation web cs1\"><a class=\"external text\" href=\"http://www.cricinfo.com/australia/content/story/388190.html\" rel=\"nofollow\">\"Symonds fined $4000 for McCullum comments\"</a>. <i>CricInfo</i>. ESPN. 29 January 2009. <a class=\"external text\" href=\"https://web.archive.org/web/20090607095115/http://www.cricinfo.com/australia/content/story/388190.html\" rel=\"nofollow\">Archived</a> from the original on 7 June 2009<span class=\"reference-accessdate\">. Retrieved <span class=\"nowrap\">6 June</span> 2009</span>.</cite><span class=\"Z3988\" title=\"ctx_ver=Z39.88-2004&amp;rft_val_fmt=info%3Aofi%2Ffmt%3Akev%3Amtx%3Ajournal&amp;rft.genre=unknown&amp;rft.jtitle=CricInfo&amp;rft.atitle=Symonds+fined+%244000+for+McCullum+comments&amp;rft.date=2009-01-29&amp;rft_id=http%3A%2F%2Fwww.cricinfo.com%2Faustralia%2Fcontent%2Fstory%2F388190.html&amp;rfr_id=info%3Asid%2Fen.wikipedia.org%3AAndrew+Symonds\"></span></span>\n",
       "</li>\n",
       "<li id=\"cite_note-113\"><span class=\"mw-cite-backlink\"><b><a href=\"#cite_ref-113\">^</a></b></span> <span class=\"reference-text\"><link href=\"mw-data:TemplateStyles:r1067248974\" rel=\"mw-deduplicated-inline-style\"/><cite class=\"citation web cs1\" id=\"CITEREFRajesh2009\">Rajesh, S. (21 April 2009). <a class=\"external text\" href=\"http://www.cricinfo.com/pakvaus2009/content/story/400805.html\" rel=\"nofollow\">\"Comeback chance for Shoaib and Symonds\"</a>. <i>CricInfo</i>. ESPN<span class=\"reference-accessdate\">. Retrieved <span class=\"nowrap\">6 June</span> 2009</span>.</cite><span class=\"Z3988\" title=\"ctx_ver=Z39.88-2004&amp;rft_val_fmt=info%3Aofi%2Ffmt%3Akev%3Amtx%3Ajournal&amp;rft.genre=unknown&amp;rft.jtitle=CricInfo&amp;rft.atitle=Comeback+chance+for+Shoaib+and+Symonds&amp;rft.date=2009-04-21&amp;rft.aulast=Rajesh&amp;rft.aufirst=S.&amp;rft_id=http%3A%2F%2Fwww.cricinfo.com%2Fpakvaus2009%2Fcontent%2Fstory%2F400805.html&amp;rfr_id=info%3Asid%2Fen.wikipedia.org%3AAndrew+Symonds\"></span></span>\n",
       "</li>\n",
       "<li id=\"cite_note-114\"><span class=\"mw-cite-backlink\"><b><a href=\"#cite_ref-114\">^</a></b></span> <span class=\"reference-text\"><link href=\"mw-data:TemplateStyles:r1067248974\" rel=\"mw-deduplicated-inline-style\"/><cite class=\"citation web cs1\" id=\"CITEREFBrown2009\">Brown, Alex (20 May 2009). <a class=\"external text\" href=\"http://www.cricinfo.com/engvaus2009/content/story/405088.html\" rel=\"nofollow\">\"McDonald in, Symonds out of Ashes squad\"</a>. <i>CricInfo</i>. ESPN. <a class=\"external text\" href=\"https://web.archive.org/web/20090615215051/http://www.cricinfo.com/engvaus2009/content/story/405088.html\" rel=\"nofollow\">Archived</a> from the original on 15 June 2009<span class=\"reference-accessdate\">. Retrieved <span class=\"nowrap\">6 June</span> 2009</span>.</cite><span class=\"Z3988\" title=\"ctx_ver=Z39.88-2004&amp;rft_val_fmt=info%3Aofi%2Ffmt%3Akev%3Amtx%3Ajournal&amp;rft.genre=unknown&amp;rft.jtitle=CricInfo&amp;rft.atitle=McDonald+in%2C+Symonds+out+of+Ashes+squad&amp;rft.date=2009-05-20&amp;rft.aulast=Brown&amp;rft.aufirst=Alex&amp;rft_id=http%3A%2F%2Fwww.cricinfo.com%2Fengvaus2009%2Fcontent%2Fstory%2F405088.html&amp;rfr_id=info%3Asid%2Fen.wikipedia.org%3AAndrew+Symonds\"></span></span>\n",
       "</li>\n",
       "<li id=\"cite_note-115\"><span class=\"mw-cite-backlink\"><b><a href=\"#cite_ref-115\">^</a></b></span> <span class=\"reference-text\"><link href=\"mw-data:TemplateStyles:r1067248974\" rel=\"mw-deduplicated-inline-style\"/><cite class=\"citation web cs1\"><a class=\"external text\" href=\"http://www.cricinfo.com/wt202009/content/current/story/407597.html\" rel=\"nofollow\">\"Australia ready for life without Symonds\"</a>. <i>CricInfo</i>. ESPN. 5 June 2009. <a class=\"external text\" href=\"https://web.archive.org/web/20090608070411/http://www.cricinfo.com/wt202009/content/current/story/407597.html\" rel=\"nofollow\">Archived</a> from the original on 8 June 2009<span class=\"reference-accessdate\">. Retrieved <span class=\"nowrap\">6 June</span> 2009</span>.</cite><span class=\"Z3988\" title=\"ctx_ver=Z39.88-2004&amp;rft_val_fmt=info%3Aofi%2Ffmt%3Akev%3Amtx%3Ajournal&amp;rft.genre=unknown&amp;rft.jtitle=CricInfo&amp;rft.atitle=Australia+ready+for+life+without+Symonds&amp;rft.date=2009-06-05&amp;rft_id=http%3A%2F%2Fwww.cricinfo.com%2Fwt202009%2Fcontent%2Fcurrent%2Fstory%2F407597.html&amp;rfr_id=info%3Asid%2Fen.wikipedia.org%3AAndrew+Symonds\"></span></span>\n",
       "</li>\n",
       "<li id=\"cite_note-116\"><span class=\"mw-cite-backlink\"><b><a href=\"#cite_ref-116\">^</a></b></span> <span class=\"reference-text\"><link href=\"mw-data:TemplateStyles:r1067248974\" rel=\"mw-deduplicated-inline-style\"/><cite class=\"citation web cs1\"><a class=\"external text\" href=\"http://www.foxsports.com.au/story/0,8659,25588931-5013759,00.html\" rel=\"nofollow\">\"Symonds kicked out of camp\"</a>. <i>Fox Sports</i><span class=\"reference-accessdate\">. Retrieved <span class=\"nowrap\">4 June</span> 2009</span>.</cite><span class=\"Z3988\" title=\"ctx_ver=Z39.88-2004&amp;rft_val_fmt=info%3Aofi%2Ffmt%3Akev%3Amtx%3Ajournal&amp;rft.genre=unknown&amp;rft.jtitle=Fox+Sports&amp;rft.atitle=Symonds+kicked+out+of+camp&amp;rft_id=http%3A%2F%2Fwww.foxsports.com.au%2Fstory%2F0%2C8659%2C25588931-5013759%2C00.html&amp;rfr_id=info%3Asid%2Fen.wikipedia.org%3AAndrew+Symonds\"></span></span>\n",
       "</li>\n",
       "<li id=\"cite_note-117\"><span class=\"mw-cite-backlink\"><b><a href=\"#cite_ref-117\">^</a></b></span> <span class=\"reference-text\">Quoted in <a href=\"/wiki/Lawrence_Booth\" title=\"Lawrence Booth\">Booth, Lawrence</a>. \"<a href=\"/wiki/Myth\" title=\"Myth\">Myths</a>; And <a href=\"/wiki/Stereotype\" title=\"Stereotype\">stereotypes</a>.\" <i>The Spin</i>, 30 June 2009.</span>\n",
       "</li>\n",
       "<li id=\"cite_note-118\"><span class=\"mw-cite-backlink\"><b><a href=\"#cite_ref-118\">^</a></b></span> <span class=\"reference-text\"><link href=\"mw-data:TemplateStyles:r1067248974\" rel=\"mw-deduplicated-inline-style\"/><cite class=\"citation web cs1\"><a class=\"external text\" href=\"https://www.espncricinfo.com/series/australia-tour-of-sri-lanka-2003-04-61414/sri-lanka-vs-australia-1st-test-64071/full-scorecard\" rel=\"nofollow\">\"1st Test, Galle, March 08 - 12, 2004, Australia tour of Sri Lanka\"</a>. <i>ESPN Cricinfo</i><span class=\"reference-accessdate\">. Retrieved <span class=\"nowrap\">16 May</span> 2022</span>.</cite><span class=\"Z3988\" title=\"ctx_ver=Z39.88-2004&amp;rft_val_fmt=info%3Aofi%2Ffmt%3Akev%3Amtx%3Ajournal&amp;rft.genre=unknown&amp;rft.jtitle=ESPN+Cricinfo&amp;rft.atitle=1st+Test%2C+Galle%2C+March+08+-+12%2C+2004%2C+Australia+tour+of+Sri+Lanka&amp;rft_id=https%3A%2F%2Fwww.espncricinfo.com%2Fseries%2Faustralia-tour-of-sri-lanka-2003-04-61414%2Fsri-lanka-vs-australia-1st-test-64071%2Ffull-scorecard&amp;rfr_id=info%3Asid%2Fen.wikipedia.org%3AAndrew+Symonds\"></span></span>\n",
       "</li>\n",
       "<li id=\"cite_note-119\"><span class=\"mw-cite-backlink\"><b><a href=\"#cite_ref-119\">^</a></b></span> <span class=\"reference-text\"><link href=\"mw-data:TemplateStyles:r1067248974\" rel=\"mw-deduplicated-inline-style\"/><cite class=\"citation web cs1\"><a class=\"external text\" href=\"https://www.mcc.org.au/whats-on/latest-news/2022/may/vale-andrew-symonds\" rel=\"nofollow\">\"Vale Andrew Symonds\"</a>. <i>Melbourne Cricket Club</i><span class=\"reference-accessdate\">. Retrieved <span class=\"nowrap\">16 May</span> 2022</span>.</cite><span class=\"Z3988\" title=\"ctx_ver=Z39.88-2004&amp;rft_val_fmt=info%3Aofi%2Ffmt%3Akev%3Amtx%3Ajournal&amp;rft.genre=unknown&amp;rft.jtitle=Melbourne+Cricket+Club&amp;rft.atitle=Vale+Andrew+Symonds&amp;rft_id=https%3A%2F%2Fwww.mcc.org.au%2Fwhats-on%2Flatest-news%2F2022%2Fmay%2Fvale-andrew-symonds&amp;rfr_id=info%3Asid%2Fen.wikipedia.org%3AAndrew+Symonds\"></span></span>\n",
       "</li>\n",
       "<li id=\"cite_note-120\"><span class=\"mw-cite-backlink\"><b><a href=\"#cite_ref-120\">^</a></b></span> <span class=\"reference-text\"><link href=\"mw-data:TemplateStyles:r1067248974\" rel=\"mw-deduplicated-inline-style\"/><cite class=\"citation web cs1\"><a class=\"external text\" href=\"https://www.espncricinfo.com/story/andrew-symonds-seven-innings-that-defined-his-career-1315036\" rel=\"nofollow\">\"Seven innings that defined Andrew Symonds' career\"</a>. <i>ESPN Cricinfo</i><span class=\"reference-accessdate\">. Retrieved <span class=\"nowrap\">16 May</span> 2022</span>.</cite><span class=\"Z3988\" title=\"ctx_ver=Z39.88-2004&amp;rft_val_fmt=info%3Aofi%2Ffmt%3Akev%3Amtx%3Ajournal&amp;rft.genre=unknown&amp;rft.jtitle=ESPN+Cricinfo&amp;rft.atitle=Seven+innings+that+defined+Andrew+Symonds%27+career&amp;rft_id=https%3A%2F%2Fwww.espncricinfo.com%2Fstory%2Fandrew-symonds-seven-innings-that-defined-his-career-1315036&amp;rfr_id=info%3Asid%2Fen.wikipedia.org%3AAndrew+Symonds\"></span></span>\n",
       "</li>\n",
       "<li id=\"cite_note-121\"><span class=\"mw-cite-backlink\"><b><a href=\"#cite_ref-121\">^</a></b></span> <span class=\"reference-text\"><link href=\"mw-data:TemplateStyles:r1067248974\" rel=\"mw-deduplicated-inline-style\"/><cite class=\"citation web cs1\"><a class=\"external text\" href=\"https://www.espncricinfo.com/series/australia-tour-of-pakistan-1998-99-61394/pakistan-vs-australia-3rd-odi-64594/full-scorecard\" rel=\"nofollow\">\"3rd ODI, Lahore, November 10, 1998, Australia tour of Pakistan\"</a>. <i>ESPN Cricinfo</i><span class=\"reference-accessdate\">. Retrieved <span class=\"nowrap\">16 May</span> 2022</span>.</cite><span class=\"Z3988\" title=\"ctx_ver=Z39.88-2004&amp;rft_val_fmt=info%3Aofi%2Ffmt%3Akev%3Amtx%3Ajournal&amp;rft.genre=unknown&amp;rft.jtitle=ESPN+Cricinfo&amp;rft.atitle=3rd+ODI%2C+Lahore%2C+November+10%2C+1998%2C+Australia+tour+of+Pakistan&amp;rft_id=https%3A%2F%2Fwww.espncricinfo.com%2Fseries%2Faustralia-tour-of-pakistan-1998-99-61394%2Fpakistan-vs-australia-3rd-odi-64594%2Ffull-scorecard&amp;rfr_id=info%3Asid%2Fen.wikipedia.org%3AAndrew+Symonds\"></span></span>\n",
       "</li>\n",
       "<li id=\"cite_note-122\"><span class=\"mw-cite-backlink\"><b><a href=\"#cite_ref-122\">^</a></b></span> <span class=\"reference-text\"><link href=\"mw-data:TemplateStyles:r1067248974\" rel=\"mw-deduplicated-inline-style\"/><cite class=\"citation web cs1\"><a class=\"external text\" href=\"https://crickettimes.com/2022/05/heres-why-andrew-symonds-was-popularly-called-as-roy/\" rel=\"nofollow\">\"Here's why Andrew Symonds was popularly called as 'Roy'<span class=\"cs1-kern-right\"></span>\"</a>. <i>Cricket Times</i><span class=\"reference-accessdate\">. Retrieved <span class=\"nowrap\">16 May</span> 2022</span>.</cite><span class=\"Z3988\" title=\"ctx_ver=Z39.88-2004&amp;rft_val_fmt=info%3Aofi%2Ffmt%3Akev%3Amtx%3Ajournal&amp;rft.genre=unknown&amp;rft.jtitle=Cricket+Times&amp;rft.atitle=Here%27s+why+Andrew+Symonds+was+popularly+called+as+%27Roy%27&amp;rft_id=https%3A%2F%2Fcrickettimes.com%2F2022%2F05%2Fheres-why-andrew-symonds-was-popularly-called-as-roy%2F&amp;rfr_id=info%3Asid%2Fen.wikipedia.org%3AAndrew+Symonds\"></span></span>\n",
       "</li>\n",
       "<li id=\"cite_note-123\"><span class=\"mw-cite-backlink\"><b><a href=\"#cite_ref-123\">^</a></b></span> <span class=\"reference-text\"><link href=\"mw-data:TemplateStyles:r1067248974\" rel=\"mw-deduplicated-inline-style\"/><cite class=\"citation web cs1\"><a class=\"external text\" href=\"https://www.espncricinfo.com/story/hayden-backs-symonds-to-deliver-in-tests-229037\" rel=\"nofollow\">\"Hayden backs Symonds to deliver in Tests\"</a>. <i>ESPN Cricinfo</i><span class=\"reference-accessdate\">. Retrieved <span class=\"nowrap\">16 May</span> 2022</span>.</cite><span class=\"Z3988\" title=\"ctx_ver=Z39.88-2004&amp;rft_val_fmt=info%3Aofi%2Ffmt%3Akev%3Amtx%3Ajournal&amp;rft.genre=unknown&amp;rft.jtitle=ESPN+Cricinfo&amp;rft.atitle=Hayden+backs+Symonds+to+deliver+in+Tests&amp;rft_id=https%3A%2F%2Fwww.espncricinfo.com%2Fstory%2Fhayden-backs-symonds-to-deliver-in-tests-229037&amp;rfr_id=info%3Asid%2Fen.wikipedia.org%3AAndrew+Symonds\"></span></span>\n",
       "</li>\n",
       "<li id=\"cite_note-124\"><span class=\"mw-cite-backlink\"><b><a href=\"#cite_ref-124\">^</a></b></span> <span class=\"reference-text\"><link href=\"mw-data:TemplateStyles:r1067248974\" rel=\"mw-deduplicated-inline-style\"/><cite class=\"citation news cs1\"><a class=\"external text\" href=\"https://www.bbc.co.uk/sport/cricket/61431264\" rel=\"nofollow\">\"County Championship: Surrey break first-class record in making 671-9 at Kent\"</a>. <i>BBC Sport</i><span class=\"reference-accessdate\">. Retrieved <span class=\"nowrap\">13 May</span> 2022</span>.</cite><span class=\"Z3988\" title=\"ctx_ver=Z39.88-2004&amp;rft_val_fmt=info%3Aofi%2Ffmt%3Akev%3Amtx%3Ajournal&amp;rft.genre=article&amp;rft.jtitle=BBC+Sport&amp;rft.atitle=County+Championship%3A+Surrey+break+first-class+record+in+making+671-9+at+Kent&amp;rft_id=https%3A%2F%2Fwww.bbc.co.uk%2Fsport%2Fcricket%2F61431264&amp;rfr_id=info%3Asid%2Fen.wikipedia.org%3AAndrew+Symonds\"></span></span>\n",
       "</li>\n",
       "<li id=\"cite_note-125\"><span class=\"mw-cite-backlink\"><b><a href=\"#cite_ref-125\">^</a></b></span> <span class=\"reference-text\"><link href=\"mw-data:TemplateStyles:r1067248974\" rel=\"mw-deduplicated-inline-style\"/><cite class=\"citation web cs1\"><a class=\"external text\" href=\"https://www.timesnownews.com/sports/cricket/andrew-symonds-a-look-at-incredible-numbers-achievements-of-one-of-the-greatest-modern-day-all-rounder-article-91577343\" rel=\"nofollow\">\"Andrew Symonds: A look at incredible numbers &amp; achievements of one of the greatest modern-day all-rounders\"</a>. <i>TimesNow</i><span class=\"reference-accessdate\">. Retrieved <span class=\"nowrap\">16 May</span> 2022</span>.</cite><span class=\"Z3988\" title=\"ctx_ver=Z39.88-2004&amp;rft_val_fmt=info%3Aofi%2Ffmt%3Akev%3Amtx%3Ajournal&amp;rft.genre=unknown&amp;rft.jtitle=TimesNow&amp;rft.atitle=Andrew+Symonds%3A+A+look+at+incredible+numbers+%26+achievements+of+one+of+the+greatest+modern-day+all-rounders&amp;rft_id=https%3A%2F%2Fwww.timesnownews.com%2Fsports%2Fcricket%2Fandrew-symonds-a-look-at-incredible-numbers-achievements-of-one-of-the-greatest-modern-day-all-rounder-article-91577343&amp;rfr_id=info%3Asid%2Fen.wikipedia.org%3AAndrew+Symonds\"></span></span>\n",
       "</li>\n",
       "<li id=\"cite_note-126\"><span class=\"mw-cite-backlink\"><b><a href=\"#cite_ref-126\">^</a></b></span> <span class=\"reference-text\"><link href=\"mw-data:TemplateStyles:r1067248974\" rel=\"mw-deduplicated-inline-style\"/><cite class=\"citation web cs1\"><a class=\"external text\" href=\"https://www.crictracker.com/a-look-at-andrew-symonds-prominent-records-and-achievements/\" rel=\"nofollow\">\"A look at Andrew Symonds' prominent records and achievements\"</a>. <i>CricTracker</i>. 15 May 2022<span class=\"reference-accessdate\">. Retrieved <span class=\"nowrap\">16 May</span> 2022</span>.</cite><span class=\"Z3988\" title=\"ctx_ver=Z39.88-2004&amp;rft_val_fmt=info%3Aofi%2Ffmt%3Akev%3Amtx%3Ajournal&amp;rft.genre=unknown&amp;rft.jtitle=CricTracker&amp;rft.atitle=A+look+at+Andrew+Symonds%27+prominent+records+and+achievements&amp;rft.date=2022-05-15&amp;rft_id=https%3A%2F%2Fwww.crictracker.com%2Fa-look-at-andrew-symonds-prominent-records-and-achievements%2F&amp;rfr_id=info%3Asid%2Fen.wikipedia.org%3AAndrew+Symonds\"></span></span>\n",
       "</li>\n",
       "<li id=\"cite_note-127\"><span class=\"mw-cite-backlink\"><b><a href=\"#cite_ref-127\">^</a></b></span> <span class=\"reference-text\"><link href=\"mw-data:TemplateStyles:r1067248974\" rel=\"mw-deduplicated-inline-style\"/><cite class=\"citation web cs1\"><a class=\"external text\" href=\"https://www.icc-cricket.com/news/2620000\" rel=\"nofollow\">\"Andrew Symonds: A tale of two World Cups\"</a>. <i>www.icc-cricket.com</i><span class=\"reference-accessdate\">. Retrieved <span class=\"nowrap\">16 May</span> 2022</span>.</cite><span class=\"Z3988\" title=\"ctx_ver=Z39.88-2004&amp;rft_val_fmt=info%3Aofi%2Ffmt%3Akev%3Amtx%3Ajournal&amp;rft.genre=unknown&amp;rft.jtitle=www.icc-cricket.com&amp;rft.atitle=Andrew+Symonds%3A+A+tale+of+two+World+Cups&amp;rft_id=https%3A%2F%2Fwww.icc-cricket.com%2Fnews%2F2620000&amp;rfr_id=info%3Asid%2Fen.wikipedia.org%3AAndrew+Symonds\"></span></span>\n",
       "</li>\n",
       "<li id=\"cite_note-128\"><span class=\"mw-cite-backlink\"><b><a href=\"#cite_ref-128\">^</a></b></span> <span class=\"reference-text\"><link href=\"mw-data:TemplateStyles:r1067248974\" rel=\"mw-deduplicated-inline-style\"/><cite class=\"citation web cs1\"><a class=\"external text\" href=\"https://web.archive.org/web/20070305093047/http://www.dailytimes.com.pk/default.asp?page=2007%5C02%5C28%5Cstory_28-2-2007_pg2_4\" rel=\"nofollow\">\"Australia names greatest ODI team\"</a>. <i><a href=\"/wiki/Daily_Times_(Pakistan)\" title=\"Daily Times (Pakistan)\">Daily Times</a></i>. 28 February 2007. Archived from <a class=\"external text\" href=\"http://www.dailytimes.com.pk/default.asp?page=2007%5C02%5C28%5Cstory_28-2-2007_pg2_4\" rel=\"nofollow\">the original</a> on 5 March 2007<span class=\"reference-accessdate\">. Retrieved <span class=\"nowrap\">1 March</span> 2007</span>.</cite><span class=\"Z3988\" title=\"ctx_ver=Z39.88-2004&amp;rft_val_fmt=info%3Aofi%2Ffmt%3Akev%3Amtx%3Ajournal&amp;rft.genre=unknown&amp;rft.jtitle=Daily+Times&amp;rft.atitle=Australia+names+greatest+ODI+team&amp;rft.date=2007-02-28&amp;rft_id=http%3A%2F%2Fwww.dailytimes.com.pk%2Fdefault.asp%3Fpage%3D2007%255C02%255C28%255Cstory_28-2-2007_pg2_4&amp;rfr_id=info%3Asid%2Fen.wikipedia.org%3AAndrew+Symonds\"></span></span>\n",
       "</li>\n",
       "<li id=\"cite_note-129\"><span class=\"mw-cite-backlink\"><b><a href=\"#cite_ref-129\">^</a></b></span> <span class=\"reference-text\"><link href=\"mw-data:TemplateStyles:r1067248974\" rel=\"mw-deduplicated-inline-style\"/><cite class=\"citation web cs1\" id=\"CITEREFMarshall2009\">Marshall, Matt (13 August 2009). <a class=\"external text\" href=\"http://www.foxsports.com.au/story/0,8659,25922550-5018866,00.html\" rel=\"nofollow\">\"Andrew Symonds not a 'distraction' at training: Ivan Henjak\"</a>. Fox Sports News<span class=\"reference-accessdate\">. Retrieved <span class=\"nowrap\">27 June</span> 2010</span>.</cite><span class=\"Z3988\" title=\"ctx_ver=Z39.88-2004&amp;rft_val_fmt=info%3Aofi%2Ffmt%3Akev%3Amtx%3Abook&amp;rft.genre=unknown&amp;rft.btitle=Andrew+Symonds+not+a+%27distraction%27+at+training%3A+Ivan+Henjak&amp;rft.pub=Fox+Sports+News&amp;rft.date=2009-08-13&amp;rft.aulast=Marshall&amp;rft.aufirst=Matt&amp;rft_id=http%3A%2F%2Fwww.foxsports.com.au%2Fstory%2F0%2C8659%2C25922550-5018866%2C00.html&amp;rfr_id=info%3Asid%2Fen.wikipedia.org%3AAndrew+Symonds\"></span></span>\n",
       "</li>\n",
       "<li id=\"cite_note-130\"><span class=\"mw-cite-backlink\"><b><a href=\"#cite_ref-130\">^</a></b></span> <span class=\"reference-text\"><link href=\"mw-data:TemplateStyles:r1067248974\" rel=\"mw-deduplicated-inline-style\"/><cite class=\"citation news cs1\" id=\"CITEREFCraddock2009\">Craddock, Robert (22 June 2009). <a class=\"external text\" href=\"https://www.dailytelegraph.com.au/cricket-andrew-symonds-plays-rugby-league-for-wynnummanly/news-story/6de44e7fb1e8e28b0ba7fa4ded91c5be\" rel=\"nofollow\">\"Cricket Andrew Symonds plays rugby league for Wynnum-Manly\"</a>. <i><a href=\"/wiki/The_Daily_Telegraph_(Sydney)\" title=\"The Daily Telegraph (Sydney)\">DailyTelegraph.com.au</a></i><span class=\"reference-accessdate\">. Retrieved <span class=\"nowrap\">16 May</span> 2022</span>.</cite><span class=\"Z3988\" title=\"ctx_ver=Z39.88-2004&amp;rft_val_fmt=info%3Aofi%2Ffmt%3Akev%3Amtx%3Ajournal&amp;rft.genre=article&amp;rft.jtitle=DailyTelegraph.com.au&amp;rft.atitle=Cricket+Andrew+Symonds+plays+rugby+league+for+Wynnum-Manly&amp;rft.date=2009-06-22&amp;rft.aulast=Craddock&amp;rft.aufirst=Robert&amp;rft_id=https%3A%2F%2Fwww.dailytelegraph.com.au%2Fcricket-andrew-symonds-plays-rugby-league-for-wynnummanly%2Fnews-story%2F6de44e7fb1e8e28b0ba7fa4ded91c5be&amp;rfr_id=info%3Asid%2Fen.wikipedia.org%3AAndrew+Symonds\"></span></span>\n",
       "</li>\n",
       "<li id=\"cite_note-131\"><span class=\"mw-cite-backlink\"><b><a href=\"#cite_ref-131\">^</a></b></span> <span class=\"reference-text\"><link href=\"mw-data:TemplateStyles:r1067248974\" rel=\"mw-deduplicated-inline-style\"/><cite class=\"citation web cs1\" id=\"CITEREFPal2011\">Pal, Divya (8 December 2011). <a class=\"external text\" href=\"https://timesofindia.indiatimes.com/tv/news/hindi/i-have-no-problem-talking-about-bhajji-andrew-symonds/articleshow/11020202.cms\" rel=\"nofollow\">\"I have no problem talking about Bhajji: Andrew Symonds\"</a>. <i><a class=\"mw-redirect\" href=\"/wiki/Times_of_India\" title=\"Times of India\">TimesofIndia.IndiaTimes.com</a></i><span class=\"reference-accessdate\">. Retrieved <span class=\"nowrap\">16 May</span> 2022</span>.</cite><span class=\"Z3988\" title=\"ctx_ver=Z39.88-2004&amp;rft_val_fmt=info%3Aofi%2Ffmt%3Akev%3Amtx%3Ajournal&amp;rft.genre=unknown&amp;rft.jtitle=TimesofIndia.IndiaTimes.com&amp;rft.atitle=I+have+no+problem+talking+about+Bhajji%3A+Andrew+Symonds&amp;rft.date=2011-12-08&amp;rft.aulast=Pal&amp;rft.aufirst=Divya&amp;rft_id=https%3A%2F%2Ftimesofindia.indiatimes.com%2Ftv%2Fnews%2Fhindi%2Fi-have-no-problem-talking-about-bhajji-andrew-symonds%2Farticleshow%2F11020202.cms&amp;rfr_id=info%3Asid%2Fen.wikipedia.org%3AAndrew+Symonds\"></span></span>\n",
       "</li>\n",
       "<li id=\"cite_note-132\"><span class=\"mw-cite-backlink\"><b><a href=\"#cite_ref-132\">^</a></b></span> <span class=\"reference-text\"><link href=\"mw-data:TemplateStyles:r1067248974\" rel=\"mw-deduplicated-inline-style\"/><cite class=\"citation news cs1\"><span class=\"cs1-lock-subscription\" title=\"Paid subscription required\"><a class=\"external text\" href=\"https://www.telegraph.co.uk/sport/cricket/international/australia/8939922/Andrew-Symonds-to-star-in-Indias-Big-Brother.html\" rel=\"nofollow\">\"Andrew Symonds to feature in Indian Reality Big Brother\"</a></span>. <i>The Daily Telegraph</i>. London. 6 December 2011. <a class=\"external text\" href=\"https://ghostarchive.org/archive/20220112/https://www.telegraph.co.uk/sport/cricket/international/australia/8939922/Andrew-Symonds-to-star-in-Indias-Big-Brother.html\" rel=\"nofollow\">Archived</a> from the original on 12 January 2022.</cite><span class=\"Z3988\" title=\"ctx_ver=Z39.88-2004&amp;rft_val_fmt=info%3Aofi%2Ffmt%3Akev%3Amtx%3Ajournal&amp;rft.genre=article&amp;rft.jtitle=The+Daily+Telegraph&amp;rft.atitle=Andrew+Symonds+to+feature+in+Indian+Reality+Big+Brother&amp;rft.date=2011-12-06&amp;rft_id=https%3A%2F%2Fwww.telegraph.co.uk%2Fsport%2Fcricket%2Finternational%2Faustralia%2F8939922%2FAndrew-Symonds-to-star-in-Indias-Big-Brother.html&amp;rfr_id=info%3Asid%2Fen.wikipedia.org%3AAndrew+Symonds\"></span></span>\n",
       "</li>\n",
       "<li id=\"cite_note-133\"><span class=\"mw-cite-backlink\"><b><a href=\"#cite_ref-133\">^</a></b></span> <span class=\"reference-text\"><link href=\"mw-data:TemplateStyles:r1067248974\" rel=\"mw-deduplicated-inline-style\"/><cite class=\"citation news cs1\"><a class=\"external text\" href=\"http://zeenews.india.com/entertainment/idiotbox/pooja-misrra-to-re-enter-bigg-boss-5_101642.htm\" rel=\"nofollow\">\"Pooja Misrra to re-enter 'Bigg Boss 5'<span class=\"cs1-kern-right\"></span>\"</a>. <i><a href=\"/wiki/Zee_News\" title=\"Zee News\">ZeeNews.india.com</a></i>. 7 December 2011<span class=\"reference-accessdate\">. Retrieved <span class=\"nowrap\">16 May</span> 2022</span>.</cite><span class=\"Z3988\" title=\"ctx_ver=Z39.88-2004&amp;rft_val_fmt=info%3Aofi%2Ffmt%3Akev%3Amtx%3Ajournal&amp;rft.genre=article&amp;rft.jtitle=ZeeNews.india.com&amp;rft.atitle=Pooja+Misrra+to+re-enter+%27Bigg+Boss+5%27&amp;rft.date=2011-12-07&amp;rft_id=http%3A%2F%2Fzeenews.india.com%2Fentertainment%2Fidiotbox%2Fpooja-misrra-to-re-enter-bigg-boss-5_101642.htm&amp;rfr_id=info%3Asid%2Fen.wikipedia.org%3AAndrew+Symonds\"></span></span>\n",
       "</li>\n",
       "<li id=\"cite_note-134\"><span class=\"mw-cite-backlink\"><b><a href=\"#cite_ref-134\">^</a></b></span> <span class=\"reference-text\"><link href=\"mw-data:TemplateStyles:r1067248974\" rel=\"mw-deduplicated-inline-style\"/><cite class=\"citation news cs1\"><a class=\"external text\" href=\"http://www.dailytelegraph.com.au/sport/cricket/aussie-white-ball-legend-andrew-symonds-joins-big-bash-league-commentary-team/news-story/f3b6620f6432247c412868032e38f05f\" rel=\"nofollow\">\"Andrew Symonds Joins Big Bash League Commentary Team\"</a>. <i>The Daily Telegraph</i>. 18 October 2016.</cite><span class=\"Z3988\" title=\"ctx_ver=Z39.88-2004&amp;rft_val_fmt=info%3Aofi%2Ffmt%3Akev%3Amtx%3Ajournal&amp;rft.genre=article&amp;rft.jtitle=The+Daily+Telegraph&amp;rft.atitle=Andrew+Symonds+Joins+Big+Bash+League+Commentary+Team&amp;rft.date=2016-10-18&amp;rft_id=http%3A%2F%2Fwww.dailytelegraph.com.au%2Fsport%2Fcricket%2Faussie-white-ball-legend-andrew-symonds-joins-big-bash-league-commentary-team%2Fnews-story%2Ff3b6620f6432247c412868032e38f05f&amp;rfr_id=info%3Asid%2Fen.wikipedia.org%3AAndrew+Symonds\"></span></span>\n",
       "</li>\n",
       "<li id=\"cite_note-135\"><span class=\"mw-cite-backlink\"><b><a href=\"#cite_ref-135\">^</a></b></span> <span class=\"reference-text\"><link href=\"mw-data:TemplateStyles:r1067248974\" rel=\"mw-deduplicated-inline-style\"/><cite class=\"citation web cs1\" id=\"CITEREFRead2022\">Read, Malcolm Conn, Cloe (14 May 2022). <a class=\"external text\" href=\"https://www.theage.com.au/sport/cricket/andrew-symonds-dies-in-car-crash-20220515-p5alf4.html\" rel=\"nofollow\">\"Cricket world mourns as Andrew Symonds dies in car crash\"</a>. <i>The Age</i><span class=\"reference-accessdate\">. Retrieved <span class=\"nowrap\">15 May</span> 2022</span>.</cite><span class=\"Z3988\" title=\"ctx_ver=Z39.88-2004&amp;rft_val_fmt=info%3Aofi%2Ffmt%3Akev%3Amtx%3Ajournal&amp;rft.genre=unknown&amp;rft.jtitle=The+Age&amp;rft.atitle=Cricket+world+mourns+as+Andrew+Symonds+dies+in+car+crash&amp;rft.date=2022-05-14&amp;rft.aulast=Read&amp;rft.aufirst=Malcolm+Conn%2C+Cloe&amp;rft_id=https%3A%2F%2Fwww.theage.com.au%2Fsport%2Fcricket%2Fandrew-symonds-dies-in-car-crash-20220515-p5alf4.html&amp;rfr_id=info%3Asid%2Fen.wikipedia.org%3AAndrew+Symonds\"></span></span>\n",
       "</li>\n",
       "<li id=\"cite_note-136\"><span class=\"mw-cite-backlink\"><b><a href=\"#cite_ref-136\">^</a></b></span> <span class=\"reference-text\"><link href=\"mw-data:TemplateStyles:r1067248974\" rel=\"mw-deduplicated-inline-style\"/><cite class=\"citation web cs1\"><a class=\"external text\" href=\"https://www.latestly.com/agency-news/sports-news-aussie-cricket-legend-andrew-symonds-dies-in-car-crash-3707953.html\" rel=\"nofollow\">\"Andrew Symonds Dies in Car Crash in Queensland\"</a>. <i>LatestLY</i>. 15 May 2022<span class=\"reference-accessdate\">. Retrieved <span class=\"nowrap\">15 May</span> 2022</span>.</cite><span class=\"Z3988\" title=\"ctx_ver=Z39.88-2004&amp;rft_val_fmt=info%3Aofi%2Ffmt%3Akev%3Amtx%3Ajournal&amp;rft.genre=unknown&amp;rft.jtitle=LatestLY&amp;rft.atitle=Andrew+Symonds+Dies+in+Car+Crash+in+Queensland&amp;rft.date=2022-05-15&amp;rft_id=https%3A%2F%2Fwww.latestly.com%2Fagency-news%2Fsports-news-aussie-cricket-legend-andrew-symonds-dies-in-car-crash-3707953.html&amp;rfr_id=info%3Asid%2Fen.wikipedia.org%3AAndrew+Symonds\"></span></span>\n",
       "</li>\n",
       "<li id=\"cite_note-137\"><span class=\"mw-cite-backlink\"><b><a href=\"#cite_ref-137\">^</a></b></span> <span class=\"reference-text\"><link href=\"mw-data:TemplateStyles:r1067248974\" rel=\"mw-deduplicated-inline-style\"/><cite class=\"citation web cs1\" id=\"CITEREFPolychronis2022\">Polychronis, Jacob (16 May 2022). <a class=\"external text\" href=\"https://www.foxsports.com.au/cricket/australia/cricket-australia-news-2022-andrew-symonds-dies-in-car-crash-in-queensland-age-cause-of-death/news-story/710c592fd7e90f62e76c4f745144abaf\" rel=\"nofollow\">\"BREAKING: Aussie cricket legend Andrew Symonds dies in car crash, aged 46\"</a>. <i>Fox Sports</i><span class=\"reference-accessdate\">. Retrieved <span class=\"nowrap\">16 May</span> 2022</span>.</cite><span class=\"Z3988\" title=\"ctx_ver=Z39.88-2004&amp;rft_val_fmt=info%3Aofi%2Ffmt%3Akev%3Amtx%3Ajournal&amp;rft.genre=unknown&amp;rft.jtitle=Fox+Sports&amp;rft.atitle=BREAKING%3A+Aussie+cricket+legend+Andrew+Symonds+dies+in+car+crash%2C+aged+46&amp;rft.date=2022-05-16&amp;rft.aulast=Polychronis&amp;rft.aufirst=Jacob&amp;rft_id=https%3A%2F%2Fwww.foxsports.com.au%2Fcricket%2Faustralia%2Fcricket-australia-news-2022-andrew-symonds-dies-in-car-crash-in-queensland-age-cause-of-death%2Fnews-story%2F710c592fd7e90f62e76c4f745144abaf&amp;rfr_id=info%3Asid%2Fen.wikipedia.org%3AAndrew+Symonds\"></span></span>\n",
       "</li>\n",
       "<li id=\"cite_note-138\"><span class=\"mw-cite-backlink\"><b><a href=\"#cite_ref-138\">^</a></b></span> <span class=\"reference-text\"><link href=\"mw-data:TemplateStyles:r1067248974\" rel=\"mw-deduplicated-inline-style\"/><cite class=\"citation web cs1\"><a class=\"external text\" href=\"https://www.espncricinfo.com/story/andrew-symonds-in-county-cricket-and-that-t20-knock-a-force-of-nature-1315184\" rel=\"nofollow\">\"<span class=\"cs1-kern-left\"></span>'A force of nature' - How county cricket remembers Andrew Symonds and that T20 knock\"</a>. <i>ESPNcricinfo</i><span class=\"reference-accessdate\">. Retrieved <span class=\"nowrap\">16 May</span> 2022</span>.</cite><span class=\"Z3988\" title=\"ctx_ver=Z39.88-2004&amp;rft_val_fmt=info%3Aofi%2Ffmt%3Akev%3Amtx%3Ajournal&amp;rft.genre=unknown&amp;rft.jtitle=ESPNcricinfo&amp;rft.atitle=%27A+force+of+nature%27+-+How+county+cricket+remembers+Andrew+Symonds+and+that+T20+knock&amp;rft_id=https%3A%2F%2Fwww.espncricinfo.com%2Fstory%2Fandrew-symonds-in-county-cricket-and-that-t20-knock-a-force-of-nature-1315184&amp;rfr_id=info%3Asid%2Fen.wikipedia.org%3AAndrew+Symonds\"></span></span>\n",
       "</li>\n",
       "<li id=\"cite_note-139\"><span class=\"mw-cite-backlink\"><b><a href=\"#cite_ref-139\">^</a></b></span> <span class=\"reference-text\"><link href=\"mw-data:TemplateStyles:r1067248974\" rel=\"mw-deduplicated-inline-style\"/><cite class=\"citation web cs1\" id=\"CITEREFChowdhury2022\">Chowdhury, Sabyasachi (15 May 2022). <a class=\"external text\" href=\"https://www.indiatoday.in/sports/cricket/story/bangladesh-vs-sri-lanka-cricketers-play-tribute-to-andrew-symonds-with-one-minute-silence-before-chattogram-test-1949700-2022-05-15\" rel=\"nofollow\">\"Bangladesh vs Sri Lanka: Cricketers play tribute to Andrew Symonds with one-minute silence before Chattogram Test\"</a>. <i>India Today</i><span class=\"reference-accessdate\">. Retrieved <span class=\"nowrap\">16 May</span> 2022</span>.</cite><span class=\"Z3988\" title=\"ctx_ver=Z39.88-2004&amp;rft_val_fmt=info%3Aofi%2Ffmt%3Akev%3Amtx%3Ajournal&amp;rft.genre=unknown&amp;rft.jtitle=India+Today&amp;rft.atitle=Bangladesh+vs+Sri+Lanka%3A+Cricketers+play+tribute+to+Andrew+Symonds+with+one-minute+silence+before+Chattogram+Test&amp;rft.date=2022-05-15&amp;rft.aulast=Chowdhury&amp;rft.aufirst=Sabyasachi&amp;rft_id=https%3A%2F%2Fwww.indiatoday.in%2Fsports%2Fcricket%2Fstory%2Fbangladesh-vs-sri-lanka-cricketers-play-tribute-to-andrew-symonds-with-one-minute-silence-before-chattogram-test-1949700-2022-05-15&amp;rfr_id=info%3Asid%2Fen.wikipedia.org%3AAndrew+Symonds\"></span></span>\n",
       "</li>\n",
       "<li id=\"cite_note-140\"><span class=\"mw-cite-backlink\"><b><a href=\"#cite_ref-140\">^</a></b></span> <span class=\"reference-text\"><link href=\"mw-data:TemplateStyles:r1067248974\" rel=\"mw-deduplicated-inline-style\"/><cite class=\"citation web cs1\"><a class=\"external text\" href=\"https://www.espncricinfo.com/story/rods-out-for-roy-as-tributes-continue-to-flow-for-andrew-symonds-1315339\" rel=\"nofollow\">\"<span class=\"cs1-kern-left\"></span>'Rods out for Roy' as tributes continue to flow for Symonds\"</a>. <i>ESPN Cricinfo</i><span class=\"reference-accessdate\">. Retrieved <span class=\"nowrap\">17 May</span> 2022</span>.</cite><span class=\"Z3988\" title=\"ctx_ver=Z39.88-2004&amp;rft_val_fmt=info%3Aofi%2Ffmt%3Akev%3Amtx%3Ajournal&amp;rft.genre=unknown&amp;rft.jtitle=ESPN+Cricinfo&amp;rft.atitle=%27Rods+out+for+Roy%27+as+tributes+continue+to+flow+for+Symonds&amp;rft_id=https%3A%2F%2Fwww.espncricinfo.com%2Fstory%2Frods-out-for-roy-as-tributes-continue-to-flow-for-andrew-symonds-1315339&amp;rfr_id=info%3Asid%2Fen.wikipedia.org%3AAndrew+Symonds\"></span></span>\n",
       "</li>\n",
       "<li id=\"cite_note-141\"><span class=\"mw-cite-backlink\"><b><a href=\"#cite_ref-141\">^</a></b></span> <span class=\"reference-text\"><link href=\"mw-data:TemplateStyles:r1067248974\" rel=\"mw-deduplicated-inline-style\"/><cite class=\"citation web cs1\" id=\"CITEREFAgencies2022\">Agencies (16 May 2022). <a class=\"external text\" href=\"https://www.theguardian.com/sport/2022/may/16/fishing-rods-for-roy-campaign-launched-for-andrew-symonds-as-tributes-keep-flowing\" rel=\"nofollow\">\"Fishing Rods for Roy: campaign launched for Andrew Symonds as tributes keep flowing\"</a>. <i>The Guardian</i><span class=\"reference-accessdate\">. Retrieved <span class=\"nowrap\">16 May</span> 2022</span>.</cite><span class=\"Z3988\" title=\"ctx_ver=Z39.88-2004&amp;rft_val_fmt=info%3Aofi%2Ffmt%3Akev%3Amtx%3Ajournal&amp;rft.genre=unknown&amp;rft.jtitle=The+Guardian&amp;rft.atitle=Fishing+Rods+for+Roy%3A+campaign+launched+for+Andrew+Symonds+as+tributes+keep+flowing&amp;rft.date=2022-05-16&amp;rft.au=Agencies&amp;rft_id=https%3A%2F%2Fwww.theguardian.com%2Fsport%2F2022%2Fmay%2F16%2Ffishing-rods-for-roy-campaign-launched-for-andrew-symonds-as-tributes-keep-flowing&amp;rfr_id=info%3Asid%2Fen.wikipedia.org%3AAndrew+Symonds\"></span></span>\n",
       "</li>\n",
       "<li id=\"cite_note-142\"><span class=\"mw-cite-backlink\"><b><a href=\"#cite_ref-142\">^</a></b></span> <span class=\"reference-text\"><link href=\"mw-data:TemplateStyles:r1067248974\" rel=\"mw-deduplicated-inline-style\"/><cite class=\"citation book cs1\" id=\"CITEREFCamp_Quality2007\"><a href=\"/wiki/Camp_Quality\" title=\"Camp Quality\">Camp Quality</a> (2007). <i>Laugh Even Louder!</i>. Gosford, New South Wales: <a href=\"/wiki/Scholastic_Corporation\" title=\"Scholastic Corporation\">Scholastic Australia Pty Limited</a>. p. 22. <a class=\"mw-redirect\" href=\"/wiki/ISBN_(identifier)\" title=\"ISBN (identifier)\">ISBN</a> <a href=\"/wiki/Special:BookSources/978-1-74169-022-4\" title=\"Special:BookSources/978-1-74169-022-4\"><bdi>978-1-74169-022-4</bdi></a>.</cite><span class=\"Z3988\" title=\"ctx_ver=Z39.88-2004&amp;rft_val_fmt=info%3Aofi%2Ffmt%3Akev%3Amtx%3Abook&amp;rft.genre=book&amp;rft.btitle=Laugh+Even+Louder%21&amp;rft.place=Gosford%2C+New+South+Wales&amp;rft.pages=22&amp;rft.pub=Scholastic+Australia+Pty+Limited&amp;rft.date=2007&amp;rft.isbn=978-1-74169-022-4&amp;rft.au=Camp+Quality&amp;rfr_id=info%3Asid%2Fen.wikipedia.org%3AAndrew+Symonds\"></span></span>\n",
       "</li>\n",
       "</ol></div></div>\n",
       "<h2><span class=\"mw-headline\" id=\"External_links\">External links</span><span class=\"mw-editsection\"><span class=\"mw-editsection-bracket\">[</span><a href=\"/w/index.php?title=Andrew_Symonds&amp;action=edit&amp;section=22\" title=\"Edit section: External links\">edit</a><span class=\"mw-editsection-bracket\">]</span></span></h2>\n",
       "<ul><li><a class=\"external text\" href=\"https://www.espncricinfo.com/ci/content/player/7702.html\" rel=\"nofollow\">Andrew Symonds</a> at <a href=\"/wiki/ESPNcricinfo\" title=\"ESPNcricinfo\">ESPNcricinfo</a></li></ul>\n",
       "<div class=\"navbox-styles nomobile\"><style data-mw-deduplicate=\"TemplateStyles:r1061467846\">.mw-parser-output .navbox{box-sizing:border-box;border:1px solid #a2a9b1;width:100%;clear:both;font-size:88%;text-align:center;padding:1px;margin:1em auto 0}.mw-parser-output .navbox .navbox{margin-top:0}.mw-parser-output .navbox+.navbox,.mw-parser-output .navbox+.navbox-styles+.navbox{margin-top:-1px}.mw-parser-output .navbox-inner,.mw-parser-output .navbox-subgroup{width:100%}.mw-parser-output .navbox-group,.mw-parser-output .navbox-title,.mw-parser-output .navbox-abovebelow{padding:0.25em 1em;line-height:1.5em;text-align:center}.mw-parser-output .navbox-group{white-space:nowrap;text-align:right}.mw-parser-output .navbox,.mw-parser-output .navbox-subgroup{background-color:#fdfdfd}.mw-parser-output .navbox-list{line-height:1.5em;border-color:#fdfdfd}.mw-parser-output .navbox-list-with-group{text-align:left;border-left-width:2px;border-left-style:solid}.mw-parser-output tr+tr>.navbox-abovebelow,.mw-parser-output tr+tr>.navbox-group,.mw-parser-output tr+tr>.navbox-image,.mw-parser-output tr+tr>.navbox-list{border-top:2px solid #fdfdfd}.mw-parser-output .navbox-title{background-color:#ccf}.mw-parser-output .navbox-abovebelow,.mw-parser-output .navbox-group,.mw-parser-output .navbox-subgroup .navbox-title{background-color:#ddf}.mw-parser-output .navbox-subgroup .navbox-group,.mw-parser-output .navbox-subgroup .navbox-abovebelow{background-color:#e6e6ff}.mw-parser-output .navbox-even{background-color:#f7f7f7}.mw-parser-output .navbox-odd{background-color:transparent}.mw-parser-output .navbox .hlist td dl,.mw-parser-output .navbox .hlist td ol,.mw-parser-output .navbox .hlist td ul,.mw-parser-output .navbox td.hlist dl,.mw-parser-output .navbox td.hlist ol,.mw-parser-output .navbox td.hlist ul{padding:0.125em 0}.mw-parser-output .navbox .navbar{display:block;font-size:100%}.mw-parser-output .navbox-title .navbar{float:left;text-align:left;margin-right:0.5em}</style></div><div aria-labelledby=\"Australian_Cricketer_of_the_Year\" class=\"navbox\" role=\"navigation\" style=\"padding:3px\"><table class=\"nowraplinks hlist mw-collapsible autocollapse navbox-inner\" style=\"border-spacing:0;background:transparent;color:inherit\"><tbody><tr><th class=\"navbox-title\" colspan=\"2\" scope=\"col\"><style data-mw-deduplicate=\"TemplateStyles:r1063604349\">.mw-parser-output .navbar{display:inline;font-size:88%;font-weight:normal}.mw-parser-output .navbar-collapse{float:left;text-align:left}.mw-parser-output .navbar-boxtext{word-spacing:0}.mw-parser-output .navbar ul{display:inline-block;white-space:nowrap;line-height:inherit}.mw-parser-output .navbar-brackets::before{margin-right:-0.125em;content:\"[ \"}.mw-parser-output .navbar-brackets::after{margin-left:-0.125em;content:\" ]\"}.mw-parser-output .navbar li{word-spacing:-0.125em}.mw-parser-output .navbar a>span,.mw-parser-output .navbar a>abbr{text-decoration:inherit}.mw-parser-output .navbar-mini abbr{font-variant:small-caps;border-bottom:none;text-decoration:none;cursor:inherit}.mw-parser-output .navbar-ct-full{font-size:114%;margin:0 7em}.mw-parser-output .navbar-ct-mini{font-size:114%;margin:0 4em}</style><div class=\"navbar plainlinks hlist navbar-mini\"><ul><li class=\"nv-view\"><a href=\"/wiki/Template:Australian_Cricketer_of_the_Year\" title=\"Template:Australian Cricketer of the Year\"><abbr style=\";;background:none transparent;border:none;box-shadow:none;padding:0;\" title=\"View this template\">v</abbr></a></li><li class=\"nv-talk\"><a href=\"/wiki/Template_talk:Australian_Cricketer_of_the_Year\" title=\"Template talk:Australian Cricketer of the Year\"><abbr style=\";;background:none transparent;border:none;box-shadow:none;padding:0;\" title=\"Discuss this template\">t</abbr></a></li><li class=\"nv-edit\"><a class=\"external text\" href=\"https://en.wikipedia.org/w/index.php?title=Template:Australian_Cricketer_of_the_Year&amp;action=edit\"><abbr style=\";;background:none transparent;border:none;box-shadow:none;padding:0;\" title=\"Edit this template\">e</abbr></a></li></ul></div><div id=\"Australian_Cricketer_of_the_Year\" style=\"font-size:114%;margin:0 4em\"><a href=\"/wiki/Allan_Border_Medal#Other_awards\" title=\"Allan Border Medal\">Australian Cricketer of the Year</a></div></th></tr><tr><th class=\"navbox-group\" scope=\"row\" style=\"width:1%\"><a href=\"/wiki/Test_cricket\" title=\"Test cricket\">Test</a></th><td class=\"navbox-list-with-group navbox-list navbox-odd\" style=\"width:100%;padding:0\"><div style=\"padding:0 0.25em\">\n",
       "<ul><li><span class=\"nowrap\">2000: <a href=\"/wiki/Glenn_McGrath\" title=\"Glenn McGrath\">McGrath</a></span></li>\n",
       "<li><span class=\"nowrap\">2001: <a href=\"/wiki/Colin_Miller_(cricketer)\" title=\"Colin Miller (cricketer)\">Miller</a></span></li>\n",
       "<li><span class=\"nowrap\">2002: <a href=\"/wiki/Matthew_Hayden\" title=\"Matthew Hayden\">Hayden</a></span></li>\n",
       "<li><span class=\"nowrap\">2003: <a href=\"/wiki/Ricky_Ponting\" title=\"Ricky Ponting\">Ponting</a></span></li>\n",
       "<li><span class=\"nowrap\">2004: <a href=\"/wiki/Ricky_Ponting\" title=\"Ricky Ponting\">Ponting</a></span></li>\n",
       "<li><span class=\"nowrap\">2005: <a href=\"/wiki/Damien_Martyn\" title=\"Damien Martyn\">Martyn</a></span></li>\n",
       "<li><span class=\"nowrap\">2006: <a href=\"/wiki/Shane_Warne\" title=\"Shane Warne\">Warne</a></span></li>\n",
       "<li><span class=\"nowrap\">2007: <a href=\"/wiki/Ricky_Ponting\" title=\"Ricky Ponting\">Ponting</a></span></li>\n",
       "<li><span class=\"nowrap\">2008: <a href=\"/wiki/Brett_Lee\" title=\"Brett Lee\">Lee</a></span></li>\n",
       "<li><span class=\"nowrap\">2009: <a href=\"/wiki/Michael_Clarke_(cricketer)\" title=\"Michael Clarke (cricketer)\">Clarke</a></span></li>\n",
       "<li><span class=\"nowrap\">2010: <a href=\"/wiki/Simon_Katich\" title=\"Simon Katich\">Katich</a></span></li>\n",
       "<li><span class=\"nowrap\">2011: <a href=\"/wiki/Shane_Watson\" title=\"Shane Watson\">Watson</a></span></li>\n",
       "<li><span class=\"nowrap\">2012: <a href=\"/wiki/Michael_Clarke_(cricketer)\" title=\"Michael Clarke (cricketer)\">Clarke</a></span></li>\n",
       "<li><span class=\"nowrap\">2013: <a href=\"/wiki/Michael_Clarke_(cricketer)\" title=\"Michael Clarke (cricketer)\">Clarke</a></span></li>\n",
       "<li><span class=\"nowrap\">2014: <a href=\"/wiki/Michael_Clarke_(cricketer)\" title=\"Michael Clarke (cricketer)\">Clarke</a></span></li>\n",
       "<li><span class=\"nowrap\">2015: <a href=\"/wiki/Steve_Smith_(cricketer)\" title=\"Steve Smith (cricketer)\">Smith</a></span></li>\n",
       "<li><span class=\"nowrap\">2015: <a href=\"/wiki/David_Warner_(cricketer)\" title=\"David Warner (cricketer)\">Warner</a></span></li>\n",
       "<li><span class=\"nowrap\">2016: <a href=\"/wiki/David_Warner_(cricketer)\" title=\"David Warner (cricketer)\">Warner</a></span></li>\n",
       "<li><span class=\"nowrap\">2017: <a href=\"/wiki/Mitchell_Starc\" title=\"Mitchell Starc\">Starc</a></span></li>\n",
       "<li><span class=\"nowrap\">2018: <a href=\"/wiki/Steve_Smith_(cricketer)\" title=\"Steve Smith (cricketer)\">Smith</a></span></li>\n",
       "<li><span class=\"nowrap\">2019: <a href=\"/wiki/Nathan_Lyon\" title=\"Nathan Lyon\">Lyon</a></span></li>\n",
       "<li><span class=\"nowrap\">2020: <a href=\"/wiki/Marnus_Labuschagne\" title=\"Marnus Labuschagne\">Labuschagne</a></span></li>\n",
       "<li><span class=\"nowrap\">2021: <a href=\"/wiki/Pat_Cummins\" title=\"Pat Cummins\">Cummins</a></span></li></ul>\n",
       "</div></td></tr><tr><th class=\"navbox-group\" scope=\"row\" style=\"width:1%\"><a href=\"/wiki/One_Day_International\" title=\"One Day International\">One Day International</a></th><td class=\"navbox-list-with-group navbox-list navbox-even\" style=\"width:100%;padding:0\"><div style=\"padding:0 0.25em\">\n",
       "<ul><li><span class=\"nowrap\">2000: <a href=\"/wiki/Shane_Warne\" title=\"Shane Warne\">Warne</a></span></li>\n",
       "<li><span class=\"nowrap\">2001: <a href=\"/wiki/Glenn_McGrath\" title=\"Glenn McGrath\">McGrath</a></span></li>\n",
       "<li><span class=\"nowrap\">2002: <a href=\"/wiki/Ricky_Ponting\" title=\"Ricky Ponting\">Ponting</a></span></li>\n",
       "<li><span class=\"nowrap\">2003: <a href=\"/wiki/Adam_Gilchrist\" title=\"Adam Gilchrist\">Gilchrist</a></span></li>\n",
       "<li><span class=\"nowrap\">2004: <a href=\"/wiki/Adam_Gilchrist\" title=\"Adam Gilchrist\">Gilchrist</a></span></li>\n",
       "<li><span class=\"nowrap\">2005: <a class=\"mw-selflink selflink\">Symonds</a></span></li>\n",
       "<li><span class=\"nowrap\">2006: <a href=\"/wiki/Michael_Hussey\" title=\"Michael Hussey\">Hussey</a></span></li>\n",
       "<li><span class=\"nowrap\">2007: <a href=\"/wiki/Ricky_Ponting\" title=\"Ricky Ponting\">Ponting</a></span></li>\n",
       "<li><span class=\"nowrap\">2008: <a href=\"/wiki/Matthew_Hayden\" title=\"Matthew Hayden\">Hayden</a></span></li>\n",
       "<li><span class=\"nowrap\">2009: <a href=\"/wiki/Nathan_Bracken\" title=\"Nathan Bracken\">Bracken</a></span></li>\n",
       "<li><span class=\"nowrap\">2010: <a href=\"/wiki/Shane_Watson\" title=\"Shane Watson\">Watson</a></span></li>\n",
       "<li><span class=\"nowrap\">2011: <a href=\"/wiki/Shane_Watson\" title=\"Shane Watson\">Watson</a></span></li>\n",
       "<li><span class=\"nowrap\">2012: <a href=\"/wiki/Shane_Watson\" title=\"Shane Watson\">Watson</a></span></li>\n",
       "<li><span class=\"nowrap\">2013: <a href=\"/wiki/Clint_McKay\" title=\"Clint McKay\">McKay</a></span></li>\n",
       "<li><span class=\"nowrap\">2014: <a href=\"/wiki/George_Bailey_(cricketer,_born_1982)\" title=\"George Bailey (cricketer, born 1982)\">Bailey</a></span></li>\n",
       "<li><span class=\"nowrap\">2015: <a href=\"/wiki/Steve_Smith_(cricketer)\" title=\"Steve Smith (cricketer)\">Smith</a></span></li>\n",
       "<li><span class=\"nowrap\">2016: <a href=\"/wiki/Glenn_Maxwell\" title=\"Glenn Maxwell\">Maxwell</a></span></li>\n",
       "<li><span class=\"nowrap\">2017: <a href=\"/wiki/David_Warner_(cricketer)\" title=\"David Warner (cricketer)\">Warner</a></span></li>\n",
       "<li><span class=\"nowrap\">2018: <a href=\"/wiki/David_Warner_(cricketer)\" title=\"David Warner (cricketer)\">Warner</a></span></li>\n",
       "<li><span class=\"nowrap\">2019: <a href=\"/wiki/Marcus_Stoinis\" title=\"Marcus Stoinis\">Stoinis</a></span></li>\n",
       "<li><span class=\"nowrap\">2020: <a href=\"/wiki/Aaron_Finch\" title=\"Aaron Finch\">Finch</a></span></li>\n",
       "<li><span class=\"nowrap\">2021: <a href=\"/wiki/Steve_Smith_(cricketer)\" title=\"Steve Smith (cricketer)\">Smith</a></span></li></ul>\n",
       "</div></td></tr><tr><th class=\"navbox-group\" scope=\"row\" style=\"width:1%\"><a href=\"/wiki/Twenty20_International\" title=\"Twenty20 International\">Twenty20 International</a></th><td class=\"navbox-list-with-group navbox-list navbox-odd\" style=\"width:100%;padding:0\"><div style=\"padding:0 0.25em\">\n",
       "<ul><li><span class=\"nowrap\">2011: <a href=\"/wiki/David_Hussey\" title=\"David Hussey\">Hussey</a></span></li>\n",
       "<li><span class=\"nowrap\">2012: <a href=\"/wiki/Shane_Watson\" title=\"Shane Watson\">Watson</a></span></li>\n",
       "<li><span class=\"nowrap\">2013: <a href=\"/wiki/Shane_Watson\" title=\"Shane Watson\">Watson</a></span></li>\n",
       "<li><span class=\"nowrap\">2014: <a href=\"/wiki/Aaron_Finch\" title=\"Aaron Finch\">Finch</a></span></li>\n",
       "<li><span class=\"nowrap\">2015: <a href=\"/wiki/Glenn_Maxwell\" title=\"Glenn Maxwell\">Maxwell</a></span></li>\n",
       "<li><span class=\"nowrap\">2016: <i>Not awarded</i></span></li>\n",
       "<li><span class=\"nowrap\">2017: <a href=\"/wiki/Shane_Watson\" title=\"Shane Watson\">Watson</a></span></li>\n",
       "<li><span class=\"nowrap\">2018: <a href=\"/wiki/Aaron_Finch\" title=\"Aaron Finch\">Finch</a></span></li>\n",
       "<li><span class=\"nowrap\">2019: <a href=\"/wiki/Glenn_Maxwell\" title=\"Glenn Maxwell\">Maxwell</a></span></li>\n",
       "<li><span class=\"nowrap\">2020: <a href=\"/wiki/David_Warner_(cricketer)\" title=\"David Warner (cricketer)\">Warner</a></span></li>\n",
       "<li><span class=\"nowrap\">2021: <a href=\"/wiki/Ashton_Agar\" title=\"Ashton Agar\">Agar</a></span></li></ul>\n",
       "</div></td></tr></tbody></table></div>\n",
       "<div class=\"navbox-styles nomobile\"><link href=\"mw-data:TemplateStyles:r1061467846\" rel=\"mw-deduplicated-inline-style\"/></div><div aria-labelledby=\"Australia_squad_–_2003_Cricket_World_Cup_–_Champions_(3rd_title)\" class=\"navbox\" role=\"navigation\" style=\"padding:3px\"><table class=\"nowraplinks vcard mw-collapsible autocollapse navbox-inner\" style=\"border-spacing:0;background:transparent;color:inherit\"><tbody><tr><th class=\"navbox-title\" colspan=\"3\" scope=\"col\" style=\"background-color:#FFD700;color:green;border: 1px solid green;\"><link href=\"mw-data:TemplateStyles:r1063604349\" rel=\"mw-deduplicated-inline-style\"/><div class=\"navbar plainlinks hlist navbar-mini\"><ul><li class=\"nv-view\"><a href=\"/wiki/Template:Australia_2003_Cricket_World_Cup_squad\" title=\"Template:Australia 2003 Cricket World Cup squad\"><abbr style=\";background-color:#FFD700;color:green;border: 1px solid green;;background:none transparent;border:none;box-shadow:none;padding:0;\" title=\"View this template\">v</abbr></a></li><li class=\"nv-talk\"><a href=\"/wiki/Template_talk:Australia_2003_Cricket_World_Cup_squad\" title=\"Template talk:Australia 2003 Cricket World Cup squad\"><abbr style=\";background-color:#FFD700;color:green;border: 1px solid green;;background:none transparent;border:none;box-shadow:none;padding:0;\" title=\"Discuss this template\">t</abbr></a></li><li class=\"nv-edit\"><a class=\"external text\" href=\"https://en.wikipedia.org/w/index.php?title=Template:Australia_2003_Cricket_World_Cup_squad&amp;action=edit\"><abbr style=\";background-color:#FFD700;color:green;border: 1px solid green;;background:none transparent;border:none;box-shadow:none;padding:0;\" title=\"Edit this template\">e</abbr></a></li></ul></div><div class=\"fn org\" id=\"Australia_squad_–_2003_Cricket_World_Cup_–_Champions_(3rd_title)\" style=\"font-size:114%;margin:0 4em\"><a href=\"/wiki/Australia_national_cricket_team\" title=\"Australia national cricket team\"><span style=\"color:green\">Australia squad</span></a> – <a href=\"/wiki/2003_Cricket_World_Cup\" title=\"2003 Cricket World Cup\"><span style=\"color:green\">2003 Cricket World Cup – Champions (3rd title)</span></a></div></th></tr><tr><td class=\"navbox-list navbox-odd hlist\" colspan=\"2\" style=\"width:100%;padding:0\"><div style=\"padding:0 0.25em\">\n",
       "<ul><li><span class=\"agent vcard\">11 <span class=\"fn\"><a href=\"/wiki/Glenn_McGrath\" title=\"Glenn McGrath\">McGrath</a></span></span></li>\n",
       "<li><span class=\"agent vcard\">12 <span class=\"fn\"><a href=\"/wiki/Michael_Bevan\" title=\"Michael Bevan\">Bevan</a></span></span></li>\n",
       "<li><span class=\"agent vcard\">14 <span class=\"fn\"><a href=\"/wiki/Ricky_Ponting\" title=\"Ricky Ponting\">Ponting</a> (<a href=\"/wiki/Captain_(cricket)\" title=\"Captain (cricket)\">c</a>)</span></span></li>\n",
       "<li><span class=\"agent vcard\">18 <span class=\"fn\"><a href=\"/wiki/Adam_Gilchrist\" title=\"Adam Gilchrist\">Gilchrist</a></span></span></li>\n",
       "<li><span class=\"agent vcard\">25 <span class=\"fn\"><a href=\"/wiki/Darren_Lehmann\" title=\"Darren Lehmann\">Lehmann</a></span></span></li>\n",
       "<li><span class=\"agent vcard\">28 <span class=\"fn\"><a href=\"/wiki/Matthew_Hayden\" title=\"Matthew Hayden\">Hayden</a></span></span></li>\n",
       "<li><span class=\"agent vcard\">29 <span class=\"fn\"><a href=\"/wiki/Ian_Harvey\" title=\"Ian Harvey\">Harvey</a></span></span></li>\n",
       "<li><span class=\"agent vcard\">30 <span class=\"fn\"><a href=\"/wiki/Damien_Martyn\" title=\"Damien Martyn\">Martyn</a></span></span></li>\n",
       "<li><span class=\"agent vcard\">31 <span class=\"fn\"><a href=\"/wiki/Brad_Hogg\" title=\"Brad Hogg\">Hogg</a></span></span></li>\n",
       "<li><span class=\"agent vcard\">34 <span class=\"fn\"><a href=\"/wiki/Andy_Bichel\" title=\"Andy Bichel\">Bichel</a></span></span></li>\n",
       "<li><span class=\"agent vcard\">39 <span class=\"fn\"><a class=\"mw-selflink selflink\">Symonds</a></span></span></li>\n",
       "<li><span class=\"agent vcard\">43 <span class=\"fn\"><a href=\"/wiki/Nathan_Hauritz\" title=\"Nathan Hauritz\">Hauritz</a></span></span></li>\n",
       "<li><span class=\"agent vcard\">46 <span class=\"fn\"><a href=\"/wiki/Jimmy_Maher\" title=\"Jimmy Maher\">Maher</a></span></span></li>\n",
       "<li><span class=\"agent vcard\">58 <span class=\"fn\"><a href=\"/wiki/Brett_Lee\" title=\"Brett Lee\">Lee</a></span></span></li>\n",
       "<li><span class=\"agent vcard\">59 <span class=\"fn\"><a href=\"/wiki/Nathan_Bracken\" title=\"Nathan Bracken\">Bracken</a></span></span></li>\n",
       "<li><small>Coach:</small> <a class=\"mw-redirect\" href=\"/wiki/John_Buchanan_(cricketer,_born_1953)\" title=\"John Buchanan (cricketer, born 1953)\">Buchanan</a></li></ul>\n",
       "</div></td><td class=\"noviewer navbox-image\" rowspan=\"2\" style=\"width:1px;padding:0 0 0 2px\"><div><span class=\"flagicon\"><a href=\"/wiki/Australia\" title=\"Australia\"><img alt=\"Australia\" class=\"thumbborder\" data-file-height=\"640\" data-file-width=\"1280\" decoding=\"async\" height=\"25\" src=\"//upload.wikimedia.org/wikipedia/commons/thumb/8/88/Flag_of_Australia_%28converted%29.svg/50px-Flag_of_Australia_%28converted%29.svg.png\" srcset=\"//upload.wikimedia.org/wikipedia/commons/thumb/8/88/Flag_of_Australia_%28converted%29.svg/75px-Flag_of_Australia_%28converted%29.svg.png 1.5x, //upload.wikimedia.org/wikipedia/commons/thumb/8/88/Flag_of_Australia_%28converted%29.svg/100px-Flag_of_Australia_%28converted%29.svg.png 2x\" width=\"50\"/></a></span></div></td></tr><tr><td class=\"navbox-list navbox-even hlist\" colspan=\"2\" style=\"width:100%;padding:0\"><div style=\"padding:0 0.25em\"><a href=\"/wiki/Jason_Gillespie\" title=\"Jason Gillespie\">Jason Gillespie</a>, <a href=\"/wiki/Shane_Warne\" title=\"Shane Warne\">Shane Warne</a> and <a href=\"/wiki/Shane_Watson\" title=\"Shane Watson\">Shane Watson</a> were named in the original squad but withdrew from the tournament</div></td></tr></tbody></table></div>\n",
       "<div class=\"navbox-styles nomobile\"><link href=\"mw-data:TemplateStyles:r1061467846\" rel=\"mw-deduplicated-inline-style\"/></div><div aria-labelledby=\"Australia_squad_–_2006_ICC_Champions_Trophy_–_Champions_(1st_title)\" class=\"navbox\" role=\"navigation\" style=\"padding:3px\"><table class=\"nowraplinks vcard mw-collapsible autocollapse navbox-inner\" style=\"border-spacing:0;background:transparent;color:inherit\"><tbody><tr><th class=\"navbox-title\" colspan=\"3\" scope=\"col\" style=\"background-color:#FFD700;color:green;border: 1px solid green;\"><link href=\"mw-data:TemplateStyles:r1063604349\" rel=\"mw-deduplicated-inline-style\"/><div class=\"navbar plainlinks hlist navbar-mini\"><ul><li class=\"nv-view\"><a href=\"/wiki/Template:Australia_Squad_2006_ICC_Champions_Trophy\" title=\"Template:Australia Squad 2006 ICC Champions Trophy\"><abbr style=\";background-color:#FFD700;color:green;border: 1px solid green;;background:none transparent;border:none;box-shadow:none;padding:0;\" title=\"View this template\">v</abbr></a></li><li class=\"nv-talk\"><a href=\"/wiki/Template_talk:Australia_Squad_2006_ICC_Champions_Trophy\" title=\"Template talk:Australia Squad 2006 ICC Champions Trophy\"><abbr style=\";background-color:#FFD700;color:green;border: 1px solid green;;background:none transparent;border:none;box-shadow:none;padding:0;\" title=\"Discuss this template\">t</abbr></a></li><li class=\"nv-edit\"><a class=\"external text\" href=\"https://en.wikipedia.org/w/index.php?title=Template:Australia_Squad_2006_ICC_Champions_Trophy&amp;action=edit\"><abbr style=\";background-color:#FFD700;color:green;border: 1px solid green;;background:none transparent;border:none;box-shadow:none;padding:0;\" title=\"Edit this template\">e</abbr></a></li></ul></div><div class=\"fn org\" id=\"Australia_squad_–_2006_ICC_Champions_Trophy_–_Champions_(1st_title)\" style=\"font-size:114%;margin:0 4em\"><a href=\"/wiki/Australia_national_cricket_team\" title=\"Australia national cricket team\"><span style=\"color:green\">Australia squad</span></a> – <a href=\"/wiki/2006_ICC_Champions_Trophy\" title=\"2006 ICC Champions Trophy\"><span style=\"color:green\">2006 ICC Champions Trophy – Champions (1st title)</span></a></div></th></tr><tr><td class=\"navbox-list navbox-odd hlist\" colspan=\"2\" style=\"width:100%;padding:0\"><div style=\"padding:0 0.25em\">\n",
       "<ul><li><span class=\"agent vcard\">6 <span class=\"fn\"><a href=\"/wiki/Dan_Cullen\" title=\"Dan Cullen\">Cullen</a></span></span></li>\n",
       "<li><span class=\"agent vcard\">11 <span class=\"fn\"><a href=\"/wiki/Glenn_McGrath\" title=\"Glenn McGrath\">McGrath</a></span></span></li>\n",
       "<li><span class=\"agent vcard\">11 <span class=\"fn\"><a href=\"/wiki/Simon_Katich\" title=\"Simon Katich\">Katich</a></span></span></li>\n",
       "<li><span class=\"agent vcard\">14 <span class=\"fn\"><a href=\"/wiki/Ricky_Ponting\" title=\"Ricky Ponting\">Ponting</a> (<a href=\"/wiki/Captain_(cricket)\" title=\"Captain (cricket)\">c</a>)</span></span></li>\n",
       "<li><span class=\"agent vcard\">18 <span class=\"fn\"><a href=\"/wiki/Adam_Gilchrist\" title=\"Adam Gilchrist\">Gilchrist</a> (<a href=\"/wiki/Wicket-keeper\" title=\"Wicket-keeper\">wk</a>)</span></span></li>\n",
       "<li><span class=\"agent vcard\">23 <span class=\"fn\"><a href=\"/wiki/Michael_Clarke_(cricketer)\" title=\"Michael Clarke (cricketer)\">Clarke</a></span></span></li>\n",
       "<li><span class=\"agent vcard\">25 <span class=\"fn\"><a href=\"/wiki/Mitchell_Johnson\" title=\"Mitchell Johnson\">Johnson</a></span></span></li>\n",
       "<li><span class=\"agent vcard\">30 <span class=\"fn\"><a href=\"/wiki/Damien_Martyn\" title=\"Damien Martyn\">Martyn</a></span></span></li>\n",
       "<li><span class=\"agent vcard\">31 <span class=\"fn\"><a href=\"/wiki/Brad_Hogg\" title=\"Brad Hogg\">Hogg</a></span></span></li>\n",
       "<li><span class=\"agent vcard\">33 <span class=\"fn\"><a href=\"/wiki/Shane_Watson\" title=\"Shane Watson\">Watson</a></span></span></li>\n",
       "<li><span class=\"agent vcard\">48 <span class=\"fn\"><a href=\"/wiki/Michael_Hussey\" title=\"Michael Hussey\">Hussey</a></span></span></li>\n",
       "<li><span class=\"agent vcard\">58 <span class=\"fn\"><a href=\"/wiki/Brett_Lee\" title=\"Brett Lee\">Lee</a></span></span></li>\n",
       "<li><span class=\"agent vcard\">59 <span class=\"fn\"><a href=\"/wiki/Nathan_Bracken\" title=\"Nathan Bracken\">Bracken</a></span></span></li>\n",
       "<li><span class=\"agent vcard\">63 <span class=\"fn\"><a class=\"mw-selflink selflink\">Symonds</a></span></span></li>\n",
       "<li><small>Coach:</small> <a class=\"mw-redirect\" href=\"/wiki/John_Buchanan_(cricketer,_born_1953)\" title=\"John Buchanan (cricketer, born 1953)\">Buchanan</a></li></ul>\n",
       "</div></td><td class=\"noviewer navbox-image\" rowspan=\"1\" style=\"width:1px;padding:0 0 0 2px\"><div><span class=\"flagicon\"><a href=\"/wiki/Australia\" title=\"Australia\"><img alt=\"Australia\" class=\"thumbborder\" data-file-height=\"640\" data-file-width=\"1280\" decoding=\"async\" height=\"25\" src=\"//upload.wikimedia.org/wikipedia/commons/thumb/8/88/Flag_of_Australia_%28converted%29.svg/50px-Flag_of_Australia_%28converted%29.svg.png\" srcset=\"//upload.wikimedia.org/wikipedia/commons/thumb/8/88/Flag_of_Australia_%28converted%29.svg/75px-Flag_of_Australia_%28converted%29.svg.png 1.5x, //upload.wikimedia.org/wikipedia/commons/thumb/8/88/Flag_of_Australia_%28converted%29.svg/100px-Flag_of_Australia_%28converted%29.svg.png 2x\" width=\"50\"/></a></span></div></td></tr></tbody></table></div>\n",
       "<div class=\"navbox-styles nomobile\"><link href=\"mw-data:TemplateStyles:r1061467846\" rel=\"mw-deduplicated-inline-style\"/></div><div aria-labelledby=\"Australia_squad_–_2007_Cricket_World_Cup_–_Champions_(4th_title)\" class=\"navbox\" role=\"navigation\" style=\"padding:3px\"><table class=\"nowraplinks vcard mw-collapsible autocollapse navbox-inner\" style=\"border-spacing:0;background:transparent;color:inherit\"><tbody><tr><th class=\"navbox-title\" colspan=\"3\" scope=\"col\" style=\"background-color:#FFD700;color:green;border: 1px solid green;\"><link href=\"mw-data:TemplateStyles:r1063604349\" rel=\"mw-deduplicated-inline-style\"/><div class=\"navbar plainlinks hlist navbar-mini\"><ul><li class=\"nv-view\"><a href=\"/wiki/Template:Australia_2007_Cricket_World_Cup_squad\" title=\"Template:Australia 2007 Cricket World Cup squad\"><abbr style=\";background-color:#FFD700;color:green;border: 1px solid green;;background:none transparent;border:none;box-shadow:none;padding:0;\" title=\"View this template\">v</abbr></a></li><li class=\"nv-talk\"><a href=\"/wiki/Template_talk:Australia_2007_Cricket_World_Cup_squad\" title=\"Template talk:Australia 2007 Cricket World Cup squad\"><abbr style=\";background-color:#FFD700;color:green;border: 1px solid green;;background:none transparent;border:none;box-shadow:none;padding:0;\" title=\"Discuss this template\">t</abbr></a></li><li class=\"nv-edit\"><a class=\"external text\" href=\"https://en.wikipedia.org/w/index.php?title=Template:Australia_2007_Cricket_World_Cup_squad&amp;action=edit\"><abbr style=\";background-color:#FFD700;color:green;border: 1px solid green;;background:none transparent;border:none;box-shadow:none;padding:0;\" title=\"Edit this template\">e</abbr></a></li></ul></div><div class=\"fn org\" id=\"Australia_squad_–_2007_Cricket_World_Cup_–_Champions_(4th_title)\" style=\"font-size:114%;margin:0 4em\"><a href=\"/wiki/Australia_national_cricket_team\" title=\"Australia national cricket team\"><span style=\"color:green\">Australia squad</span></a> – <a href=\"/wiki/2007_Cricket_World_Cup\" title=\"2007 Cricket World Cup\"><span style=\"color:green\">2007 Cricket World Cup – Champions (4th title)</span></a></div></th></tr><tr><td class=\"navbox-list navbox-odd hlist\" colspan=\"2\" style=\"width:100%;padding:0\"><div style=\"padding:0 0.25em\">\n",
       "<ul><li><span class=\"agent vcard\">8 <span class=\"fn\"><a href=\"/wiki/Stuart_Clark\" title=\"Stuart Clark\">Clark</a></span></span></li>\n",
       "<li><span class=\"agent vcard\">11 <span class=\"fn\"><a href=\"/wiki/Glenn_McGrath\" title=\"Glenn McGrath\">McGrath</a></span></span></li>\n",
       "<li><span class=\"agent vcard\">14 <span class=\"fn\"><a href=\"/wiki/Ricky_Ponting\" title=\"Ricky Ponting\">Ponting</a> (<a href=\"/wiki/Captain_(cricket)\" title=\"Captain (cricket)\">c</a>)</span></span></li>\n",
       "<li><span class=\"agent vcard\">17 <span class=\"fn\"><a href=\"/wiki/Brad_Hodge\" title=\"Brad Hodge\">Hodge</a></span></span></li>\n",
       "<li><span class=\"agent vcard\">18 <span class=\"fn\"><a href=\"/wiki/Adam_Gilchrist\" title=\"Adam Gilchrist\">Gilchrist</a></span></span></li>\n",
       "<li><span class=\"agent vcard\">23 <span class=\"fn\"><a href=\"/wiki/Michael_Clarke_(cricketer)\" title=\"Michael Clarke (cricketer)\">Clarke</a></span></span></li>\n",
       "<li><span class=\"agent vcard\">25 <span class=\"fn\"><a href=\"/wiki/Mitchell_Johnson\" title=\"Mitchell Johnson\">Johnson</a></span></span></li>\n",
       "<li><span class=\"agent vcard\">28 <span class=\"fn\"><a href=\"/wiki/Matthew_Hayden\" title=\"Matthew Hayden\">Hayden</a></span></span></li>\n",
       "<li><span class=\"agent vcard\">31 <span class=\"fn\"><a href=\"/wiki/Brad_Hogg\" title=\"Brad Hogg\">Hogg</a></span></span></li>\n",
       "<li><span class=\"agent vcard\">32 <span class=\"fn\"><a href=\"/wiki/Shaun_Tait\" title=\"Shaun Tait\">Tait</a></span></span></li>\n",
       "<li><span class=\"agent vcard\">33 <span class=\"fn\"><a href=\"/wiki/Shane_Watson\" title=\"Shane Watson\">Watson</a></span></span></li>\n",
       "<li><span class=\"agent vcard\">48 <span class=\"fn\"><a href=\"/wiki/Michael_Hussey\" title=\"Michael Hussey\">Hussey</a></span></span></li>\n",
       "<li><span class=\"agent vcard\">57 <span class=\"fn\"><a href=\"/wiki/Brad_Haddin\" title=\"Brad Haddin\">Haddin</a></span></span></li>\n",
       "<li><span class=\"agent vcard\">59 <span class=\"fn\"><a href=\"/wiki/Nathan_Bracken\" title=\"Nathan Bracken\">Bracken</a></span></span></li>\n",
       "<li><span class=\"agent vcard\">63 <span class=\"fn\"><a class=\"mw-selflink selflink\">Symonds</a></span></span></li>\n",
       "<li><small>Coach:</small> <a class=\"mw-redirect\" href=\"/wiki/John_Buchanan_(cricketer,_born_1953)\" title=\"John Buchanan (cricketer, born 1953)\">Buchanan</a></li></ul>\n",
       "</div></td><td class=\"noviewer navbox-image\" rowspan=\"2\" style=\"width:1px;padding:0 0 0 2px\"><div><span class=\"flagicon\"><a href=\"/wiki/Australia\" title=\"Australia\"><img alt=\"Australia\" class=\"thumbborder\" data-file-height=\"640\" data-file-width=\"1280\" decoding=\"async\" height=\"25\" src=\"//upload.wikimedia.org/wikipedia/commons/thumb/8/88/Flag_of_Australia_%28converted%29.svg/50px-Flag_of_Australia_%28converted%29.svg.png\" srcset=\"//upload.wikimedia.org/wikipedia/commons/thumb/8/88/Flag_of_Australia_%28converted%29.svg/75px-Flag_of_Australia_%28converted%29.svg.png 1.5x, //upload.wikimedia.org/wikipedia/commons/thumb/8/88/Flag_of_Australia_%28converted%29.svg/100px-Flag_of_Australia_%28converted%29.svg.png 2x\" width=\"50\"/></a></span></div></td></tr><tr><td class=\"navbox-list navbox-even hlist\" colspan=\"2\" style=\"width:100%;padding:0\"><div style=\"padding:0 0.25em\"><a href=\"/wiki/Brett_Lee\" title=\"Brett Lee\">Brett Lee</a> was replaced due to injury by <a href=\"/wiki/Stuart_Clark\" title=\"Stuart Clark\">Stuart Clark</a>.</div></td></tr></tbody></table></div>\n",
       "<div class=\"navbox-styles nomobile\"><link href=\"mw-data:TemplateStyles:r1061467846\" rel=\"mw-deduplicated-inline-style\"/></div><div aria-labelledby=\"Authority_control_frameless&amp;#124;text-top&amp;#124;10px&amp;#124;alt=Edit_this_at_Wikidata&amp;#124;link=https&amp;#58;//www.wikidata.org/wiki/Q2723418#identifiers&amp;#124;class=noprint&amp;#124;Edit_this_at_Wikidata\" class=\"navbox authority-control\" role=\"navigation\" style=\"padding:3px\"><table class=\"nowraplinks hlist mw-collapsible autocollapse navbox-inner\" style=\"border-spacing:0;background:transparent;color:inherit\"><tbody><tr><th class=\"navbox-title\" colspan=\"2\" scope=\"col\"><div id=\"Authority_control_frameless&amp;#124;text-top&amp;#124;10px&amp;#124;alt=Edit_this_at_Wikidata&amp;#124;link=https&amp;#58;//www.wikidata.org/wiki/Q2723418#identifiers&amp;#124;class=noprint&amp;#124;Edit_this_at_Wikidata\" style=\"font-size:114%;margin:0 4em\"><a href=\"/wiki/Help:Authority_control\" title=\"Help:Authority control\">Authority control</a> <a href=\"https://www.wikidata.org/wiki/Q2723418#identifiers\" title=\"Edit this at Wikidata\"><img alt=\"Edit this at Wikidata\" class=\"noprint\" data-file-height=\"20\" data-file-width=\"20\" decoding=\"async\" height=\"10\" src=\"//upload.wikimedia.org/wikipedia/en/thumb/8/8a/OOjs_UI_icon_edit-ltr-progressive.svg/10px-OOjs_UI_icon_edit-ltr-progressive.svg.png\" srcset=\"//upload.wikimedia.org/wikipedia/en/thumb/8/8a/OOjs_UI_icon_edit-ltr-progressive.svg/15px-OOjs_UI_icon_edit-ltr-progressive.svg.png 1.5x, //upload.wikimedia.org/wikipedia/en/thumb/8/8a/OOjs_UI_icon_edit-ltr-progressive.svg/20px-OOjs_UI_icon_edit-ltr-progressive.svg.png 2x\" style=\"vertical-align: text-top\" width=\"10\"/></a></div></th></tr><tr><th class=\"navbox-group\" scope=\"row\" style=\"width:1%\">General</th><td class=\"navbox-list-with-group navbox-list navbox-odd\" style=\"width:100%;padding:0\"><div style=\"padding:0 0.25em\">\n",
       "<ul><li><a class=\"mw-redirect\" href=\"/wiki/ISNI_(identifier)\" title=\"ISNI (identifier)\">ISNI</a>\n",
       "<ul><li><span class=\"uid\"><a class=\"external text\" href=\"https://isni.org/isni/0000000036624617\" rel=\"nofollow\">1</a></span></li></ul></li>\n",
       "<li><a class=\"mw-redirect\" href=\"/wiki/VIAF_(identifier)\" title=\"VIAF (identifier)\">VIAF</a>\n",
       "<ul><li><span class=\"uid\"><a class=\"external text\" href=\"https://viaf.org/viaf/5056149068454665730009\" rel=\"nofollow\">1</a></span></li></ul></li>\n",
       "<li><span class=\"uid\"><a class=\"external text\" href=\"https://www.worldcat.org/identities/lccn-n2007058046/\" rel=\"nofollow\">WorldCat</a></span></li></ul>\n",
       "</div></td></tr><tr><th class=\"navbox-group\" scope=\"row\" style=\"width:1%\">National libraries</th><td class=\"navbox-list-with-group navbox-list navbox-even\" style=\"width:100%;padding:0\"><div style=\"padding:0 0.25em\">\n",
       "<ul><li><span class=\"uid\"><a class=\"external text\" href=\"https://authority.bibsys.no/authority/rest/authorities/html/90719071\" rel=\"nofollow\">Norway</a></span></li>\n",
       "<li><span class=\"uid\"><a class=\"external text\" href=\"https://id.loc.gov/authorities/names/n2007058046\" rel=\"nofollow\">United States</a></span></li></ul>\n",
       "</div></td></tr><tr><th class=\"navbox-group\" scope=\"row\" style=\"width:1%\">Other</th><td class=\"navbox-list-with-group navbox-list navbox-odd\" style=\"width:100%;padding:0\"><div style=\"padding:0 0.25em\">\n",
       "<ul><li><span class=\"uid\"><a class=\"external text\" href=\"http://id.worldcat.org/fast/1948140/\" rel=\"nofollow\">Faceted Application of Subject Terminology</a></span></li></ul>\n",
       "</div></td></tr></tbody></table></div>\n",
       "<!-- \n",
       "NewPP limit report\n",
       "Parsed by mw1424\n",
       "Cached time: 20220616152416\n",
       "Cache expiry: 86400\n",
       "Reduced expiry: true\n",
       "Complications: [vary‐revision‐sha1]\n",
       "CPU time usage: 1.652 seconds\n",
       "Real time usage: 1.800 seconds\n",
       "Preprocessor visited node count: 9262/1000000\n",
       "Post‐expand include size: 326707/2097152 bytes\n",
       "Template argument size: 6693/2097152 bytes\n",
       "Highest expansion depth: 17/100\n",
       "Expensive parser function count: 9/500\n",
       "Unstrip recursion depth: 1/20\n",
       "Unstrip post‐expand size: 427762/5000000 bytes\n",
       "Lua time usage: 1.006/10.000 seconds\n",
       "Lua memory usage: 11752276/52428800 bytes\n",
       "Lua Profile:\n",
       "    Scribunto_LuaSandboxCallback::match                              180 ms       16.4%\n",
       "    ?                                                                180 ms       16.4%\n",
       "    Scribunto_LuaSandboxCallback::callParserFunction                 140 ms       12.7%\n",
       "    Scribunto_LuaSandboxCallback::gsub                                80 ms        7.3%\n",
       "    (for generator)                                                   60 ms        5.5%\n",
       "    Scribunto_LuaSandboxCallback::plain                               60 ms        5.5%\n",
       "    select                                                            40 ms        3.6%\n",
       "    Scribunto_LuaSandboxCallback::anchorEncode                        40 ms        3.6%\n",
       "    dataWrapper <mw.lua:669>                                          40 ms        3.6%\n",
       "    recursiveClone <mwInit.lua:41>                                    40 ms        3.6%\n",
       "    [others]                                                         240 ms       21.8%\n",
       "Number of Wikibase entities loaded: 1/400\n",
       "-->\n",
       "<!--\n",
       "Transclusion expansion time report (%,ms,calls,template)\n",
       "100.00% 1569.755      1 -total\n",
       " 52.93%  830.921      1 Template:Reflist\n",
       " 27.08%  425.018     88 Template:Cite_web\n",
       " 17.28%  271.205      3 Template:Infobox\n",
       " 16.09%  252.619     47 Template:Cite_news\n",
       " 15.27%  239.637      1 Template:Infobox_cricketer\n",
       "  6.26%   98.277      5 Template:Cite_book\n",
       "  5.30%   83.275      1 Template:Bradman_Cricketer_of_the_Year\n",
       "  5.02%   78.736      1 Template:Navbox\n",
       "  4.18%   65.607      3 Template:National_squad\n",
       "-->\n",
       "<!-- Saved in parser cache with key enwiki:pcache:idhash:928264-0!canonical and timestamp 20220616152414 and revision id 1093429951. Serialized with JSON.\n",
       " -->\n",
       "</div><noscript><img alt=\"\" height=\"1\" src=\"//en.wikipedia.org/wiki/Special:CentralAutoLogin/start?type=1x1\" style=\"border: none; position: absolute;\" title=\"\" width=\"1\"/></noscript>\n",
       "<div class=\"printfooter\">Retrieved from \"<a dir=\"ltr\" href=\"https://en.wikipedia.org/w/index.php?title=Andrew_Symonds&amp;oldid=1093429951\">https://en.wikipedia.org/w/index.php?title=Andrew_Symonds&amp;oldid=1093429951</a>\"</div></div>\n",
       "<div class=\"catlinks\" data-mw=\"interface\" id=\"catlinks\"><div class=\"mw-normal-catlinks\" id=\"mw-normal-catlinks\"><a href=\"/wiki/Help:Category\" title=\"Help:Category\">Categories</a>: <ul><li><a href=\"/wiki/Category:1975_births\" title=\"Category:1975 births\">1975 births</a></li><li><a href=\"/wiki/Category:2022_deaths\" title=\"Category:2022 deaths\">2022 deaths</a></li><li><a href=\"/wiki/Category:Australia_One_Day_International_cricketers\" title=\"Category:Australia One Day International cricketers\">Australia One Day International cricketers</a></li><li><a href=\"/wiki/Category:Australia_Test_cricketers\" title=\"Category:Australia Test cricketers\">Australia Test cricketers</a></li><li><a href=\"/wiki/Category:Australia_Twenty20_International_cricketers\" title=\"Category:Australia Twenty20 International cricketers\">Australia Twenty20 International cricketers</a></li><li><a href=\"/wiki/Category:Gloucestershire_cricketers\" title=\"Category:Gloucestershire cricketers\">Gloucestershire cricketers</a></li><li><a href=\"/wiki/Category:Kent_cricketers\" title=\"Category:Kent cricketers\">Kent cricketers</a></li><li><a href=\"/wiki/Category:Lancashire_cricketers\" title=\"Category:Lancashire cricketers\">Lancashire cricketers</a></li><li><a href=\"/wiki/Category:Queensland_cricketers\" title=\"Category:Queensland cricketers\">Queensland cricketers</a></li><li><a href=\"/wiki/Category:Australian_people_of_Caribbean_descent\" title=\"Category:Australian people of Caribbean descent\">Australian people of Caribbean descent</a></li><li><a href=\"/wiki/Category:Australian_adoptees\" title=\"Category:Australian adoptees\">Australian adoptees</a></li><li><a href=\"/wiki/Category:English_emigrants_to_Australia\" title=\"Category:English emigrants to Australia\">English emigrants to Australia</a></li><li><a href=\"/wiki/Category:Deccan_Chargers_cricketers\" title=\"Category:Deccan Chargers cricketers\">Deccan Chargers cricketers</a></li><li><a href=\"/wiki/Category:Cricketers_from_Birmingham,_West_Midlands\" title=\"Category:Cricketers from Birmingham, West Midlands\">Cricketers from Birmingham, West Midlands</a></li><li><a href=\"/wiki/Category:Sportspeople_from_Townsville\" title=\"Category:Sportspeople from Townsville\">Sportspeople from Townsville</a></li><li><a href=\"/wiki/Category:Sportspeople_from_the_Gold_Coast,_Queensland\" title=\"Category:Sportspeople from the Gold Coast, Queensland\">Sportspeople from the Gold Coast, Queensland</a></li><li><a href=\"/wiki/Category:Surrey_cricketers\" title=\"Category:Surrey cricketers\">Surrey cricketers</a></li><li><a href=\"/wiki/Category:People_educated_at_All_Souls_School,_Charters_Towers\" title=\"Category:People educated at All Souls School, Charters Towers\">People educated at All Souls School, Charters Towers</a></li><li><a href=\"/wiki/Category:Australian_cricketers\" title=\"Category:Australian cricketers\">Australian cricketers</a></li><li><a href=\"/wiki/Category:Australian_Institute_of_Sport_cricketers\" title=\"Category:Australian Institute of Sport cricketers\">Australian Institute of Sport cricketers</a></li><li><a href=\"/wiki/Category:Mumbai_Indians_cricketers\" title=\"Category:Mumbai Indians cricketers\">Mumbai Indians cricketers</a></li><li><a href=\"/wiki/Category:Bigg_Boss_(Hindi_TV_series)_contestants\" title=\"Category:Bigg Boss (Hindi TV series) contestants\">Bigg Boss (Hindi TV series) contestants</a></li><li><a href=\"/wiki/Category:Road_incident_deaths_in_Queensland\" title=\"Category:Road incident deaths in Queensland\">Road incident deaths in Queensland</a></li></ul></div><div class=\"mw-hidden-catlinks mw-hidden-cats-hidden\" id=\"mw-hidden-catlinks\">Hidden categories: <ul><li><a href=\"/wiki/Category:Webarchive_template_wayback_links\" title=\"Category:Webarchive template wayback links\">Webarchive template wayback links</a></li><li><a href=\"/wiki/Category:Articles_with_short_description\" title=\"Category:Articles with short description\">Articles with short description</a></li><li><a href=\"/wiki/Category:Short_description_is_different_from_Wikidata\" title=\"Category:Short description is different from Wikidata\">Short description is different from Wikidata</a></li><li><a href=\"/wiki/Category:Use_Australian_English_from_January_2013\" title=\"Category:Use Australian English from January 2013\">Use Australian English from January 2013</a></li><li><a href=\"/wiki/Category:All_Wikipedia_articles_written_in_Australian_English\" title=\"Category:All Wikipedia articles written in Australian English\">All Wikipedia articles written in Australian English</a></li><li><a href=\"/wiki/Category:Use_dmy_dates_from_May_2022\" title=\"Category:Use dmy dates from May 2022\">Use dmy dates from May 2022</a></li><li><a href=\"/wiki/Category:Articles_with_ISNI_identifiers\" title=\"Category:Articles with ISNI identifiers\">Articles with ISNI identifiers</a></li><li><a href=\"/wiki/Category:Articles_with_VIAF_identifiers\" title=\"Category:Articles with VIAF identifiers\">Articles with VIAF identifiers</a></li><li><a href=\"/wiki/Category:Articles_with_WORLDCATID_identifiers\" title=\"Category:Articles with WORLDCATID identifiers\">Articles with WORLDCATID identifiers</a></li><li><a href=\"/wiki/Category:Articles_with_BIBSYS_identifiers\" title=\"Category:Articles with BIBSYS identifiers\">Articles with BIBSYS identifiers</a></li><li><a href=\"/wiki/Category:Articles_with_LCCN_identifiers\" title=\"Category:Articles with LCCN identifiers\">Articles with LCCN identifiers</a></li><li><a href=\"/wiki/Category:Articles_with_FAST_identifiers\" title=\"Category:Articles with FAST identifiers\">Articles with FAST identifiers</a></li></ul></div></div>\n",
       "</div>\n",
       "</div>\n",
       "<div id=\"mw-navigation\">\n",
       "<h2>Navigation menu</h2>\n",
       "<div id=\"mw-head\">\n",
       "<nav aria-labelledby=\"p-personal-label\" class=\"mw-portlet mw-portlet-personal vector-user-menu-legacy vector-menu\" id=\"p-personal\" role=\"navigation\">\n",
       "<label class=\"vector-menu-heading\" id=\"p-personal-label\">\n",
       "<span class=\"vector-menu-heading-label\">Personal tools</span>\n",
       "</label>\n",
       "<div class=\"vector-menu-content\">\n",
       "<ul class=\"vector-menu-content-list\"><li class=\"mw-list-item\" id=\"pt-anonuserpage\"><span title=\"The user page for the IP address you are editing as\">Not logged in</span></li><li class=\"mw-list-item\" id=\"pt-anontalk\"><a accesskey=\"n\" href=\"/wiki/Special:MyTalk\" title=\"Discussion about edits from this IP address [n]\"><span>Talk</span></a></li><li class=\"mw-list-item\" id=\"pt-anoncontribs\"><a accesskey=\"y\" href=\"/wiki/Special:MyContributions\" title=\"A list of edits made from this IP address [y]\"><span>Contributions</span></a></li><li class=\"mw-list-item\" id=\"pt-createaccount\"><a href=\"/w/index.php?title=Special:CreateAccount&amp;returnto=Andrew+Symonds\" title=\"You are encouraged to create an account and log in; however, it is not mandatory\"><span>Create account</span></a></li><li class=\"mw-list-item\" id=\"pt-login\"><a accesskey=\"o\" href=\"/w/index.php?title=Special:UserLogin&amp;returnto=Andrew+Symonds\" title=\"You're encouraged to log in; however, it's not mandatory. [o]\"><span>Log in</span></a></li></ul>\n",
       "</div>\n",
       "</nav>\n",
       "<div id=\"left-navigation\">\n",
       "<nav aria-labelledby=\"p-namespaces-label\" class=\"mw-portlet mw-portlet-namespaces vector-menu vector-menu-tabs\" id=\"p-namespaces\" role=\"navigation\">\n",
       "<label class=\"vector-menu-heading\" id=\"p-namespaces-label\">\n",
       "<span class=\"vector-menu-heading-label\">Namespaces</span>\n",
       "</label>\n",
       "<div class=\"vector-menu-content\">\n",
       "<ul class=\"vector-menu-content-list\"><li class=\"selected mw-list-item\" id=\"ca-nstab-main\"><a accesskey=\"c\" href=\"/wiki/Andrew_Symonds\" title=\"View the content page [c]\"><span>Article</span></a></li><li class=\"mw-list-item\" id=\"ca-talk\"><a accesskey=\"t\" href=\"/wiki/Talk:Andrew_Symonds\" rel=\"discussion\" title=\"Discuss improvements to the content page [t]\"><span>Talk</span></a></li></ul>\n",
       "</div>\n",
       "</nav>\n",
       "<nav aria-labelledby=\"p-variants-label\" class=\"mw-portlet mw-portlet-variants emptyPortlet vector-menu-dropdown-noicon vector-menu vector-menu-dropdown\" id=\"p-variants\" role=\"navigation\">\n",
       "<input aria-haspopup=\"true\" aria-labelledby=\"p-variants-label\" class=\"vector-menu-checkbox\" data-event-name=\"ui.dropdown-p-variants\" id=\"p-variants-checkbox\" role=\"button\" type=\"checkbox\"/>\n",
       "<label aria-label=\"Change language variant\" class=\"vector-menu-heading\" id=\"p-variants-label\">\n",
       "<span class=\"vector-menu-heading-label\">English</span>\n",
       "</label>\n",
       "<div class=\"vector-menu-content\">\n",
       "<ul class=\"vector-menu-content-list\"></ul>\n",
       "</div>\n",
       "</nav>\n",
       "</div>\n",
       "<div id=\"right-navigation\">\n",
       "<nav aria-labelledby=\"p-views-label\" class=\"mw-portlet mw-portlet-views vector-menu vector-menu-tabs\" id=\"p-views\" role=\"navigation\">\n",
       "<label class=\"vector-menu-heading\" id=\"p-views-label\">\n",
       "<span class=\"vector-menu-heading-label\">Views</span>\n",
       "</label>\n",
       "<div class=\"vector-menu-content\">\n",
       "<ul class=\"vector-menu-content-list\"><li class=\"selected mw-list-item\" id=\"ca-view\"><a href=\"/wiki/Andrew_Symonds\"><span>Read</span></a></li><li class=\"mw-list-item\" id=\"ca-edit\"><a accesskey=\"e\" href=\"/w/index.php?title=Andrew_Symonds&amp;action=edit\" title=\"Edit this page [e]\"><span>Edit</span></a></li><li class=\"mw-list-item\" id=\"ca-history\"><a accesskey=\"h\" href=\"/w/index.php?title=Andrew_Symonds&amp;action=history\" title=\"Past revisions of this page [h]\"><span>View history</span></a></li></ul>\n",
       "</div>\n",
       "</nav>\n",
       "<nav aria-labelledby=\"p-cactions-label\" class=\"mw-portlet mw-portlet-cactions emptyPortlet vector-menu-dropdown-noicon vector-menu vector-menu-dropdown\" id=\"p-cactions\" role=\"navigation\" title=\"More options\">\n",
       "<input aria-haspopup=\"true\" aria-labelledby=\"p-cactions-label\" class=\"vector-menu-checkbox\" data-event-name=\"ui.dropdown-p-cactions\" id=\"p-cactions-checkbox\" role=\"button\" type=\"checkbox\"/>\n",
       "<label class=\"vector-menu-heading\" id=\"p-cactions-label\">\n",
       "<span class=\"vector-menu-heading-label\">More</span>\n",
       "</label>\n",
       "<div class=\"vector-menu-content\">\n",
       "<ul class=\"vector-menu-content-list\"></ul>\n",
       "</div>\n",
       "</nav>\n",
       "<div class=\"vector-search-box-vue vector-search-box-show-thumbnail vector-search-box-auto-expand-width vector-search-box\" id=\"p-search\" role=\"search\">\n",
       "<div>\n",
       "<h3>\n",
       "<label for=\"searchInput\">Search</label>\n",
       "</h3>\n",
       "<form action=\"/w/index.php\" class=\"vector-search-box-form\" id=\"searchform\">\n",
       "<div class=\"vector-search-box-inner\" data-search-loc=\"header-navigation\" id=\"simpleSearch\">\n",
       "<input accesskey=\"f\" aria-label=\"Search Wikipedia\" autocapitalize=\"sentences\" class=\"vector-search-box-input\" id=\"searchInput\" name=\"search\" placeholder=\"Search Wikipedia\" title=\"Search Wikipedia [f]\" type=\"search\"/>\n",
       "<input name=\"title\" type=\"hidden\" value=\"Special:Search\"/>\n",
       "<input class=\"searchButton mw-fallbackSearchButton\" id=\"mw-searchButton\" name=\"fulltext\" title=\"Search Wikipedia for this text\" type=\"submit\" value=\"Search\"/>\n",
       "<input class=\"searchButton\" id=\"searchButton\" name=\"go\" title=\"Go to a page with this exact name if it exists\" type=\"submit\" value=\"Go\"/>\n",
       "</div>\n",
       "</form>\n",
       "</div>\n",
       "</div>\n",
       "</div>\n",
       "</div>\n",
       "<div id=\"mw-panel\">\n",
       "<div id=\"p-logo\" role=\"banner\">\n",
       "<a class=\"mw-wiki-logo\" href=\"/wiki/Main_Page\" title=\"Visit the main page\"></a>\n",
       "</div>\n",
       "<nav aria-labelledby=\"p-navigation-label\" class=\"mw-portlet mw-portlet-navigation vector-menu vector-menu-portal portal\" id=\"p-navigation\" role=\"navigation\">\n",
       "<label class=\"vector-menu-heading\" id=\"p-navigation-label\">\n",
       "<span class=\"vector-menu-heading-label\">Navigation</span>\n",
       "</label>\n",
       "<div class=\"vector-menu-content\">\n",
       "<ul class=\"vector-menu-content-list\"><li class=\"mw-list-item\" id=\"n-mainpage-description\"><a accesskey=\"z\" href=\"/wiki/Main_Page\" icon=\"home\" title=\"Visit the main page [z]\"><span>Main page</span></a></li><li class=\"mw-list-item\" id=\"n-contents\"><a href=\"/wiki/Wikipedia:Contents\" title=\"Guides to browsing Wikipedia\"><span>Contents</span></a></li><li class=\"mw-list-item\" id=\"n-currentevents\"><a href=\"/wiki/Portal:Current_events\" title=\"Articles related to current events\"><span>Current events</span></a></li><li class=\"mw-list-item\" id=\"n-randompage\"><a accesskey=\"x\" href=\"/wiki/Special:Random\" icon=\"die\" title=\"Visit a randomly selected article [x]\"><span>Random article</span></a></li><li class=\"mw-list-item\" id=\"n-aboutsite\"><a href=\"/wiki/Wikipedia:About\" title=\"Learn about Wikipedia and how it works\"><span>About Wikipedia</span></a></li><li class=\"mw-list-item\" id=\"n-contactpage\"><a href=\"//en.wikipedia.org/wiki/Wikipedia:Contact_us\" title=\"How to contact Wikipedia\"><span>Contact us</span></a></li><li class=\"mw-list-item\" id=\"n-sitesupport\"><a href=\"https://donate.wikimedia.org/wiki/Special:FundraiserRedirector?utm_source=donate&amp;utm_medium=sidebar&amp;utm_campaign=C13_en.wikipedia.org&amp;uselang=en\" title=\"Support us by donating to the Wikimedia Foundation\"><span>Donate</span></a></li></ul>\n",
       "</div>\n",
       "</nav>\n",
       "<nav aria-labelledby=\"p-interaction-label\" class=\"mw-portlet mw-portlet-interaction vector-menu vector-menu-portal portal\" id=\"p-interaction\" role=\"navigation\">\n",
       "<label class=\"vector-menu-heading\" id=\"p-interaction-label\">\n",
       "<span class=\"vector-menu-heading-label\">Contribute</span>\n",
       "</label>\n",
       "<div class=\"vector-menu-content\">\n",
       "<ul class=\"vector-menu-content-list\"><li class=\"mw-list-item\" id=\"n-help\"><a href=\"/wiki/Help:Contents\" icon=\"help\" title=\"Guidance on how to use and edit Wikipedia\"><span>Help</span></a></li><li class=\"mw-list-item\" id=\"n-introduction\"><a href=\"/wiki/Help:Introduction\" title=\"Learn how to edit Wikipedia\"><span>Learn to edit</span></a></li><li class=\"mw-list-item\" id=\"n-portal\"><a href=\"/wiki/Wikipedia:Community_portal\" title=\"The hub for editors\"><span>Community portal</span></a></li><li class=\"mw-list-item\" id=\"n-recentchanges\"><a accesskey=\"r\" href=\"/wiki/Special:RecentChanges\" icon=\"recentChanges\" title=\"A list of recent changes to Wikipedia [r]\"><span>Recent changes</span></a></li><li class=\"mw-list-item\" id=\"n-upload\"><a href=\"/wiki/Wikipedia:File_Upload_Wizard\" title=\"Add images or other media for use on Wikipedia\"><span>Upload file</span></a></li></ul>\n",
       "</div>\n",
       "</nav>\n",
       "<nav aria-labelledby=\"p-tb-label\" class=\"mw-portlet mw-portlet-tb vector-menu vector-menu-portal portal\" id=\"p-tb\" role=\"navigation\">\n",
       "<label class=\"vector-menu-heading\" id=\"p-tb-label\">\n",
       "<span class=\"vector-menu-heading-label\">Tools</span>\n",
       "</label>\n",
       "<div class=\"vector-menu-content\">\n",
       "<ul class=\"vector-menu-content-list\"><li class=\"mw-list-item\" id=\"t-whatlinkshere\"><a accesskey=\"j\" href=\"/wiki/Special:WhatLinksHere/Andrew_Symonds\" title=\"List of all English Wikipedia pages containing links to this page [j]\"><span>What links here</span></a></li><li class=\"mw-list-item\" id=\"t-recentchangeslinked\"><a accesskey=\"k\" href=\"/wiki/Special:RecentChangesLinked/Andrew_Symonds\" rel=\"nofollow\" title=\"Recent changes in pages linked from this page [k]\"><span>Related changes</span></a></li><li class=\"mw-list-item\" id=\"t-upload\"><a accesskey=\"u\" href=\"/wiki/Wikipedia:File_Upload_Wizard\" title=\"Upload files [u]\"><span>Upload file</span></a></li><li class=\"mw-list-item\" id=\"t-specialpages\"><a accesskey=\"q\" href=\"/wiki/Special:SpecialPages\" title=\"A list of all special pages [q]\"><span>Special pages</span></a></li><li class=\"mw-list-item\" id=\"t-permalink\"><a href=\"/w/index.php?title=Andrew_Symonds&amp;oldid=1093429951\" title=\"Permanent link to this revision of this page\"><span>Permanent link</span></a></li><li class=\"mw-list-item\" id=\"t-info\"><a href=\"/w/index.php?title=Andrew_Symonds&amp;action=info\" title=\"More information about this page\"><span>Page information</span></a></li><li class=\"mw-list-item\" id=\"t-cite\"><a href=\"/w/index.php?title=Special:CiteThisPage&amp;page=Andrew_Symonds&amp;id=1093429951&amp;wpFormIdentifier=titleform\" title=\"Information on how to cite this page\"><span>Cite this page</span></a></li><li class=\"mw-list-item\" id=\"t-wikibase\"><a accesskey=\"g\" href=\"https://www.wikidata.org/wiki/Special:EntityPage/Q2723418\" title=\"Structured data on this page hosted by Wikidata [g]\"><span>Wikidata item</span></a></li></ul>\n",
       "</div>\n",
       "</nav>\n",
       "<nav aria-labelledby=\"p-coll-print_export-label\" class=\"mw-portlet mw-portlet-coll-print_export vector-menu vector-menu-portal portal\" id=\"p-coll-print_export\" role=\"navigation\">\n",
       "<label class=\"vector-menu-heading\" id=\"p-coll-print_export-label\">\n",
       "<span class=\"vector-menu-heading-label\">Print/export</span>\n",
       "</label>\n",
       "<div class=\"vector-menu-content\">\n",
       "<ul class=\"vector-menu-content-list\"><li class=\"mw-list-item\" id=\"coll-download-as-rl\"><a href=\"/w/index.php?title=Special:DownloadAsPdf&amp;page=Andrew_Symonds&amp;action=show-download-screen\" title=\"Download this page as a PDF file\"><span>Download as PDF</span></a></li><li class=\"mw-list-item\" id=\"t-print\"><a accesskey=\"p\" href=\"/w/index.php?title=Andrew_Symonds&amp;printable=yes\" title=\"Printable version of this page [p]\"><span>Printable version</span></a></li></ul>\n",
       "</div>\n",
       "</nav>\n",
       "<nav aria-labelledby=\"p-wikibase-otherprojects-label\" class=\"mw-portlet mw-portlet-wikibase-otherprojects vector-menu vector-menu-portal portal\" id=\"p-wikibase-otherprojects\" role=\"navigation\">\n",
       "<label class=\"vector-menu-heading\" id=\"p-wikibase-otherprojects-label\">\n",
       "<span class=\"vector-menu-heading-label\">In other projects</span>\n",
       "</label>\n",
       "<div class=\"vector-menu-content\">\n",
       "<ul class=\"vector-menu-content-list\"><li class=\"wb-otherproject-link wb-otherproject-commons mw-list-item\"><a href=\"https://commons.wikimedia.org/wiki/Category:Andrew_Symonds\" hreflang=\"en\"><span>Wikimedia Commons</span></a></li></ul>\n",
       "</div>\n",
       "</nav>\n",
       "<nav aria-labelledby=\"p-lang-label\" class=\"mw-portlet mw-portlet-lang vector-menu vector-menu-portal portal\" id=\"p-lang\" role=\"navigation\">\n",
       "<label class=\"vector-menu-heading\" id=\"p-lang-label\">\n",
       "<span class=\"vector-menu-heading-label\">Languages</span>\n",
       "</label>\n",
       "<div class=\"vector-menu-content\">\n",
       "<ul class=\"vector-menu-content-list\"><li class=\"interlanguage-link interwiki-bn mw-list-item\"><a class=\"interlanguage-link-target\" href=\"https://bn.wikipedia.org/wiki/%E0%A6%85%E0%A7%8D%E0%A6%AF%E0%A6%BE%E0%A6%A8%E0%A7%8D%E0%A6%A1%E0%A7%8D%E0%A6%B0%E0%A7%81_%E0%A6%B8%E0%A6%BE%E0%A6%87%E0%A6%AE%E0%A6%A8%E0%A7%8D%E0%A6%A1%E0%A6%B8\" hreflang=\"bn\" lang=\"bn\" title=\"অ্যান্ড্রু সাইমন্ডস – Bangla\"><span>বাংলা</span></a></li><li class=\"interlanguage-link interwiki-da mw-list-item\"><a class=\"interlanguage-link-target\" href=\"https://da.wikipedia.org/wiki/Andrew_Symonds\" hreflang=\"da\" lang=\"da\" title=\"Andrew Symonds – Danish\"><span>Dansk</span></a></li><li class=\"interlanguage-link interwiki-de mw-list-item\"><a class=\"interlanguage-link-target\" href=\"https://de.wikipedia.org/wiki/Andrew_Symonds\" hreflang=\"de\" lang=\"de\" title=\"Andrew Symonds – German\"><span>Deutsch</span></a></li><li class=\"interlanguage-link interwiki-fr mw-list-item\"><a class=\"interlanguage-link-target\" href=\"https://fr.wikipedia.org/wiki/Andrew_Symonds\" hreflang=\"fr\" lang=\"fr\" title=\"Andrew Symonds – French\"><span>Français</span></a></li><li class=\"interlanguage-link interwiki-gu mw-list-item\"><a class=\"interlanguage-link-target\" href=\"https://gu.wikipedia.org/wiki/%E0%AA%8F%E0%AA%A8%E0%AB%8D%E0%AA%A1%E0%AB%8D%E0%AA%B0%E0%AB%8D%E0%AA%AF%E0%AB%82_%E0%AA%B8%E0%AA%BE%E0%AA%AF%E0%AA%AE%E0%AA%A8%E0%AB%8D%E0%AA%A1%E0%AB%8D%E0%AA%B8\" hreflang=\"gu\" lang=\"gu\" title=\"એન્ડ્ર્યૂ સાયમન્ડ્સ – Gujarati\"><span>ગુજરાતી</span></a></li><li class=\"interlanguage-link interwiki-hi mw-list-item\"><a class=\"interlanguage-link-target\" href=\"https://hi.wikipedia.org/wiki/%E0%A4%8F%E0%A4%82%E0%A4%A1%E0%A5%8D%E0%A4%B0%E0%A5%8D%E0%A4%AF%E0%A5%82_%E0%A4%B8%E0%A4%BE%E0%A4%87%E0%A4%AE%E0%A4%82%E0%A4%A1%E0%A5%8D%E0%A4%B8\" hreflang=\"hi\" lang=\"hi\" title=\"एंड्र्यू साइमंड्स – Hindi\"><span>हिन्दी</span></a></li><li class=\"interlanguage-link interwiki-ml mw-list-item\"><a class=\"interlanguage-link-target\" href=\"https://ml.wikipedia.org/wiki/%E0%B4%86%E0%B5%BB%E0%B4%A1%E0%B5%8D%E0%B4%B0%E0%B5%82_%E0%B4%B8%E0%B5%88%E0%B4%AE%E0%B4%A3%E0%B5%8D%E0%B4%9F%E0%B5%8D%E0%B4%B8%E0%B5%8D\" hreflang=\"ml\" lang=\"ml\" title=\"ആൻഡ്രൂ സൈമണ്ട്സ് – Malayalam\"><span>മലയാളം</span></a></li><li class=\"interlanguage-link interwiki-mr mw-list-item\"><a class=\"interlanguage-link-target\" href=\"https://mr.wikipedia.org/wiki/%E0%A4%85%E0%A4%81%E0%A4%A1%E0%A5%8D%E0%A4%B0%E0%A5%81_%E0%A4%B8%E0%A4%BF%E0%A4%AE%E0%A4%A8%E0%A5%8D%E0%A4%A1%E0%A5%8D%E0%A4%B8\" hreflang=\"mr\" lang=\"mr\" title=\"अँड्रु सिमन्ड्स – Marathi\"><span>मराठी</span></a></li><li class=\"interlanguage-link interwiki-arz mw-list-item\"><a class=\"interlanguage-link-target\" href=\"https://arz.wikipedia.org/wiki/%D8%A7%D9%86%D8%AF%D8%B1%D9%88_%D8%B3%D9%8A%D9%85%D9%88%D9%86%D8%AF%D8%B2\" hreflang=\"arz\" lang=\"arz\" title=\"اندرو سيموندز – Egyptian Arabic\"><span>مصرى</span></a></li><li class=\"interlanguage-link interwiki-ja mw-list-item\"><a class=\"interlanguage-link-target\" href=\"https://ja.wikipedia.org/wiki/%E3%82%A2%E3%83%B3%E3%83%89%E3%83%AA%E3%83%A5%E3%83%BC%E3%83%BB%E3%82%B7%E3%83%A2%E3%83%B3%E3%82%BA\" hreflang=\"ja\" lang=\"ja\" title=\"アンドリュー・シモンズ – Japanese\"><span>日本語</span></a></li><li class=\"interlanguage-link interwiki-no mw-list-item\"><a class=\"interlanguage-link-target\" href=\"https://no.wikipedia.org/wiki/Andrew_Symonds\" hreflang=\"nb\" lang=\"nb\" title=\"Andrew Symonds – Norwegian Bokmål\"><span>Norsk bokmål</span></a></li><li class=\"interlanguage-link interwiki-pl mw-list-item\"><a class=\"interlanguage-link-target\" href=\"https://pl.wikipedia.org/wiki/Andrew_Symonds\" hreflang=\"pl\" lang=\"pl\" title=\"Andrew Symonds – Polish\"><span>Polski</span></a></li><li class=\"interlanguage-link interwiki-si mw-list-item\"><a class=\"interlanguage-link-target\" href=\"https://si.wikipedia.org/wiki/%E0%B6%87%E0%B6%B1%E0%B7%8A%E0%B6%A9%E0%B7%B2_%E0%B7%83%E0%B7%92%E0%B6%B8%E0%B6%B1%E0%B7%8A%E0%B6%A9%E0%B7%8A%E0%B7%83%E0%B7%8A\" hreflang=\"si\" lang=\"si\" title=\"ඇන්ඩෲ සිමන්ඩ්ස් – Sinhala\"><span>සිංහල</span></a></li><li class=\"interlanguage-link interwiki-simple mw-list-item\"><a class=\"interlanguage-link-target\" href=\"https://simple.wikipedia.org/wiki/Andrew_Symonds\" hreflang=\"en-simple\" lang=\"en-simple\" title=\"Andrew Symonds – Simple English\"><span>Simple English</span></a></li><li class=\"interlanguage-link interwiki-ta mw-list-item\"><a class=\"interlanguage-link-target\" href=\"https://ta.wikipedia.org/wiki/%E0%AE%86%E0%AE%A9%E0%AF%8D%E0%AE%9F%E0%AF%8D%E0%AE%B0%E0%AF%82_%E0%AE%9A%E0%AF%88%E0%AE%AE%E0%AE%A9%E0%AF%8D%E0%AE%B8%E0%AF%8D\" hreflang=\"ta\" lang=\"ta\" title=\"ஆன்ட்ரூ சைமன்ஸ் – Tamil\"><span>தமிழ்</span></a></li><li class=\"interlanguage-link interwiki-te mw-list-item\"><a class=\"interlanguage-link-target\" href=\"https://te.wikipedia.org/wiki/%E0%B0%86%E0%B0%82%E0%B0%A1%E0%B1%8D%E0%B0%B0%E0%B1%82_%E0%B0%B8%E0%B1%88%E0%B0%AE%E0%B0%82%E0%B0%A1%E0%B1%8D%E0%B0%B8%E0%B1%8D\" hreflang=\"te\" lang=\"te\" title=\"ఆండ్రూ సైమండ్స్ – Telugu\"><span>తెలుగు</span></a></li><li class=\"interlanguage-link interwiki-ur mw-list-item\"><a class=\"interlanguage-link-target\" href=\"https://ur.wikipedia.org/wiki/%D8%A7%DB%8C%D9%86%DA%88%D8%B1%DB%8C%D9%88_%D8%B3%D8%A7%D8%A6%D9%85%D9%86%DA%88%D8%B2\" hreflang=\"ur\" lang=\"ur\" title=\"اینڈریو سائمنڈز – Urdu\"><span>اردو</span></a></li></ul>\n",
       "<div class=\"after-portlet after-portlet-lang\"><span class=\"wb-langlinks-edit wb-langlinks-link\"><a class=\"wbc-editpage\" href=\"https://www.wikidata.org/wiki/Special:EntityPage/Q2723418#sitelinks-wikipedia\" title=\"Edit interlanguage links\">Edit links</a></span></div>\n",
       "</div>\n",
       "</nav>\n",
       "</div>\n",
       "</div>\n",
       "<footer class=\"mw-footer\" id=\"footer\" role=\"contentinfo\">\n",
       "<ul id=\"footer-info\">\n",
       "<li id=\"footer-info-lastmod\"> This page was last edited on 16 June 2022, at 15:24<span class=\"anonymous-show\"> (UTC)</span>.</li>\n",
       "<li id=\"footer-info-copyright\">Text is available under the <a href=\"//en.wikipedia.org/wiki/Wikipedia:Text_of_Creative_Commons_Attribution-ShareAlike_3.0_Unported_License\" rel=\"license\">Creative Commons Attribution-ShareAlike License 3.0</a><a href=\"//creativecommons.org/licenses/by-sa/3.0/\" rel=\"license\" style=\"display:none;\"></a>;\n",
       "additional terms may apply.  By using this site, you agree to the <a href=\"//foundation.wikimedia.org/wiki/Terms_of_Use\">Terms of Use</a> and <a href=\"//foundation.wikimedia.org/wiki/Privacy_policy\">Privacy Policy</a>. Wikipedia® is a registered trademark of the <a href=\"//www.wikimediafoundation.org/\">Wikimedia Foundation, Inc.</a>, a non-profit organization.</li>\n",
       "</ul>\n",
       "<ul id=\"footer-places\">\n",
       "<li id=\"footer-places-privacy\"><a class=\"extiw\" href=\"https://foundation.wikimedia.org/wiki/Privacy_policy\" title=\"wmf:Privacy policy\">Privacy policy</a></li>\n",
       "<li id=\"footer-places-about\"><a href=\"/wiki/Wikipedia:About\" title=\"Wikipedia:About\">About Wikipedia</a></li>\n",
       "<li id=\"footer-places-disclaimer\"><a href=\"/wiki/Wikipedia:General_disclaimer\" title=\"Wikipedia:General disclaimer\">Disclaimers</a></li>\n",
       "<li id=\"footer-places-contact\"><a href=\"//en.wikipedia.org/wiki/Wikipedia:Contact_us\">Contact Wikipedia</a></li>\n",
       "<li id=\"footer-places-mobileview\"><a class=\"noprint stopMobileRedirectToggle\" href=\"//en.m.wikipedia.org/w/index.php?title=Andrew_Symonds&amp;mobileaction=toggle_view_mobile\">Mobile view</a></li>\n",
       "<li id=\"footer-places-developers\"><a href=\"https://www.mediawiki.org/wiki/Special:MyLanguage/How_to_contribute\">Developers</a></li>\n",
       "<li id=\"footer-places-statslink\"><a href=\"https://stats.wikimedia.org/#/en.wikipedia.org\">Statistics</a></li>\n",
       "<li id=\"footer-places-cookiestatement\"><a href=\"https://foundation.wikimedia.org/wiki/Cookie_statement\">Cookie statement</a></li>\n",
       "</ul>\n",
       "<ul class=\"noprint\" id=\"footer-icons\">\n",
       "<li id=\"footer-copyrightico\"><a href=\"https://wikimediafoundation.org/\"><img alt=\"Wikimedia Foundation\" height=\"31\" loading=\"lazy\" src=\"/static/images/footer/wikimedia-button.png\" srcset=\"/static/images/footer/wikimedia-button-1.5x.png 1.5x, /static/images/footer/wikimedia-button-2x.png 2x\" width=\"88\"/></a></li>\n",
       "<li id=\"footer-poweredbyico\"><a href=\"https://www.mediawiki.org/\"><img alt=\"Powered by MediaWiki\" height=\"31\" loading=\"lazy\" src=\"/static/images/footer/poweredby_mediawiki_88x31.png\" srcset=\"/static/images/footer/poweredby_mediawiki_132x47.png 1.5x, /static/images/footer/poweredby_mediawiki_176x62.png 2x\" width=\"88\"/></a></li>\n",
       "</ul>\n",
       "</footer>\n",
       "<script>(RLQ=window.RLQ||[]).push(function(){mw.config.set({\"wgPageParseReport\":{\"limitreport\":{\"cputime\":\"1.652\",\"walltime\":\"1.800\",\"ppvisitednodes\":{\"value\":9262,\"limit\":1000000},\"postexpandincludesize\":{\"value\":326707,\"limit\":2097152},\"templateargumentsize\":{\"value\":6693,\"limit\":2097152},\"expansiondepth\":{\"value\":17,\"limit\":100},\"expensivefunctioncount\":{\"value\":9,\"limit\":500},\"unstrip-depth\":{\"value\":1,\"limit\":20},\"unstrip-size\":{\"value\":427762,\"limit\":5000000},\"entityaccesscount\":{\"value\":1,\"limit\":400},\"timingprofile\":[\"100.00% 1569.755      1 -total\",\" 52.93%  830.921      1 Template:Reflist\",\" 27.08%  425.018     88 Template:Cite_web\",\" 17.28%  271.205      3 Template:Infobox\",\" 16.09%  252.619     47 Template:Cite_news\",\" 15.27%  239.637      1 Template:Infobox_cricketer\",\"  6.26%   98.277      5 Template:Cite_book\",\"  5.30%   83.275      1 Template:Bradman_Cricketer_of_the_Year\",\"  5.02%   78.736      1 Template:Navbox\",\"  4.18%   65.607      3 Template:National_squad\"]},\"scribunto\":{\"limitreport-timeusage\":{\"value\":\"1.006\",\"limit\":\"10.000\"},\"limitreport-memusage\":{\"value\":11752276,\"limit\":52428800},\"limitreport-profile\":[[\"Scribunto_LuaSandboxCallback::match\",\"180\",\"16.4\"],[\"?\",\"180\",\"16.4\"],[\"Scribunto_LuaSandboxCallback::callParserFunction\",\"140\",\"12.7\"],[\"Scribunto_LuaSandboxCallback::gsub\",\"80\",\"7.3\"],[\"(for generator)\",\"60\",\"5.5\"],[\"Scribunto_LuaSandboxCallback::plain\",\"60\",\"5.5\"],[\"select\",\"40\",\"3.6\"],[\"Scribunto_LuaSandboxCallback::anchorEncode\",\"40\",\"3.6\"],[\"dataWrapper \\u003Cmw.lua:669\\u003E\",\"40\",\"3.6\"],[\"recursiveClone \\u003CmwInit.lua:41\\u003E\",\"40\",\"3.6\"],[\"[others]\",\"240\",\"21.8\"]]},\"cachereport\":{\"origin\":\"mw1424\",\"timestamp\":\"20220616152416\",\"ttl\":86400,\"transientcontent\":true}}});});</script>\n",
       "<script type=\"application/ld+json\">{\"@context\":\"https:\\/\\/schema.org\",\"@type\":\"Article\",\"name\":\"Andrew Symonds\",\"url\":\"https:\\/\\/en.wikipedia.org\\/wiki\\/Andrew_Symonds\",\"sameAs\":\"http:\\/\\/www.wikidata.org\\/entity\\/Q2723418\",\"mainEntity\":\"http:\\/\\/www.wikidata.org\\/entity\\/Q2723418\",\"author\":{\"@type\":\"Organization\",\"name\":\"Contributors to Wikimedia projects\"},\"publisher\":{\"@type\":\"Organization\",\"name\":\"Wikimedia Foundation, Inc.\",\"logo\":{\"@type\":\"ImageObject\",\"url\":\"https:\\/\\/www.wikimedia.org\\/static\\/images\\/wmf-hor-googpub.png\"}},\"datePublished\":\"2004-08-25T05:43:32Z\",\"dateModified\":\"2022-06-16T15:24:06Z\",\"image\":\"https:\\/\\/upload.wikimedia.org\\/wikipedia\\/commons\\/b\\/b9\\/Andrew_symonds_%28cropped%29.jpg\",\"headline\":\"Australian cricketer\"}</script><script type=\"application/ld+json\">{\"@context\":\"https:\\/\\/schema.org\",\"@type\":\"Article\",\"name\":\"Andrew Symonds\",\"url\":\"https:\\/\\/en.wikipedia.org\\/wiki\\/Andrew_Symonds\",\"sameAs\":\"http:\\/\\/www.wikidata.org\\/entity\\/Q2723418\",\"mainEntity\":\"http:\\/\\/www.wikidata.org\\/entity\\/Q2723418\",\"author\":{\"@type\":\"Organization\",\"name\":\"Contributors to Wikimedia projects\"},\"publisher\":{\"@type\":\"Organization\",\"name\":\"Wikimedia Foundation, Inc.\",\"logo\":{\"@type\":\"ImageObject\",\"url\":\"https:\\/\\/www.wikimedia.org\\/static\\/images\\/wmf-hor-googpub.png\"}},\"datePublished\":\"2004-08-25T05:43:32Z\",\"dateModified\":\"2022-06-16T15:24:06Z\",\"image\":\"https:\\/\\/upload.wikimedia.org\\/wikipedia\\/commons\\/b\\/b9\\/Andrew_symonds_%28cropped%29.jpg\",\"headline\":\"Australian cricketer\"}</script>\n",
       "<script>(RLQ=window.RLQ||[]).push(function(){mw.config.set({\"wgBackendResponseTime\":136,\"wgHostname\":\"mw1397\"});});</script>\n",
       "</body>\n",
       "</html>"
      ]
     },
     "execution_count": 16,
     "metadata": {},
     "output_type": "execute_result"
    }
   ],
   "source": [
    "soup"
   ]
  },
  {
   "cell_type": "code",
   "execution_count": 17,
   "id": "dcef4ccc",
   "metadata": {},
   "outputs": [
    {
     "data": {
      "text/plain": [
       "[<span class=\"toctext\">Early life</span>,\n",
       " <span class=\"toctext\">Overview of cricket career</span>,\n",
       " <span class=\"toctext\">Domestic cricket</span>,\n",
       " <span class=\"toctext\">Australian state cricket</span>,\n",
       " <span class=\"toctext\">English counties</span>,\n",
       " <span class=\"toctext\">Kent</span>,\n",
       " <span class=\"toctext\">Indian Premier League</span>,\n",
       " <span class=\"toctext\">International career</span>,\n",
       " <span class=\"toctext\">Emergence and 2003 World Cup</span>,\n",
       " <span class=\"toctext\">ODI regular, Test debut</span>,\n",
       " <span class=\"toctext\">2007 World Cup</span>,\n",
       " <span class=\"toctext\">Allegations of racial taunts</span>,\n",
       " <span class=\"toctext\">International career draws to a close</span>,\n",
       " <span class=\"toctext\">Career highlights</span>,\n",
       " <span class=\"toctext\">Rugby league</span>,\n",
       " <span class=\"toctext\">Media</span>,\n",
       " <span class=\"toctext\">Death</span>,\n",
       " <span class=\"toctext\">Bibliography</span>,\n",
       " <span class=\"toctext\">Author</span>,\n",
       " <span class=\"toctext\">Contributor</span>,\n",
       " <span class=\"toctext\">References</span>,\n",
       " <span class=\"toctext\">External links</span>]"
      ]
     },
     "execution_count": 17,
     "metadata": {},
     "output_type": "execute_result"
    }
   ],
   "source": [
    "soup.select('.toctext')"
   ]
  },
  {
   "cell_type": "code",
   "execution_count": 20,
   "id": "4e17231a",
   "metadata": {},
   "outputs": [
    {
     "data": {
      "text/plain": [
       "'Early life'"
      ]
     },
     "execution_count": 20,
     "metadata": {},
     "output_type": "execute_result"
    }
   ],
   "source": [
    "soup.select('.toctext')[0].getText()"
   ]
  },
  {
   "cell_type": "code",
   "execution_count": 22,
   "id": "710c6ff9",
   "metadata": {
    "collapsed": true
   },
   "outputs": [
    {
     "name": "stdout",
     "output_type": "stream",
     "text": [
      "Early life\n",
      "Overview of cricket career\n",
      "Domestic cricket\n",
      "Australian state cricket\n",
      "English counties\n",
      "Kent\n",
      "Indian Premier League\n",
      "International career\n",
      "Emergence and 2003 World Cup\n",
      "ODI regular, Test debut\n",
      "2007 World Cup\n",
      "Allegations of racial taunts\n",
      "International career draws to a close\n",
      "Career highlights\n",
      "Rugby league\n",
      "Media\n",
      "Death\n",
      "Bibliography\n",
      "Author\n",
      "Contributor\n",
      "References\n",
      "External links\n"
     ]
    }
   ],
   "source": [
    "for item in soup.select('.toctext'):\n",
    "    print(item.text)\n",
    "    \n",
    "## .text cam be used to grab only string value"
   ]
  },
  {
   "cell_type": "code",
   "execution_count": 32,
   "id": "affbdeea",
   "metadata": {
    "collapsed": true
   },
   "outputs": [
    {
     "data": {
      "text/plain": [
       "[<span class=\"nowrap\">15 May 2022</span>,\n",
       " <span class=\"toctogglespan\"><label class=\"toctogglelabel\" for=\"toctogglecheckbox\"></label></span>,\n",
       " <span class=\"flagicon\"><a href=\"/wiki/Australia\" title=\"Australia\"><img alt=\"Australia\" class=\"thumbborder\" data-file-height=\"640\" data-file-width=\"1280\" decoding=\"async\" height=\"25\" src=\"//upload.wikimedia.org/wikipedia/commons/thumb/8/88/Flag_of_Australia_%28converted%29.svg/50px-Flag_of_Australia_%28converted%29.svg.png\" srcset=\"//upload.wikimedia.org/wikipedia/commons/thumb/8/88/Flag_of_Australia_%28converted%29.svg/75px-Flag_of_Australia_%28converted%29.svg.png 1.5x, //upload.wikimedia.org/wikipedia/commons/thumb/8/88/Flag_of_Australia_%28converted%29.svg/100px-Flag_of_Australia_%28converted%29.svg.png 2x\" width=\"50\"/></a></span>,\n",
       " <span class=\"flagicon\"><a href=\"/wiki/Australia\" title=\"Australia\"><img alt=\"Australia\" class=\"thumbborder\" data-file-height=\"640\" data-file-width=\"1280\" decoding=\"async\" height=\"25\" src=\"//upload.wikimedia.org/wikipedia/commons/thumb/8/88/Flag_of_Australia_%28converted%29.svg/50px-Flag_of_Australia_%28converted%29.svg.png\" srcset=\"//upload.wikimedia.org/wikipedia/commons/thumb/8/88/Flag_of_Australia_%28converted%29.svg/75px-Flag_of_Australia_%28converted%29.svg.png 1.5x, //upload.wikimedia.org/wikipedia/commons/thumb/8/88/Flag_of_Australia_%28converted%29.svg/100px-Flag_of_Australia_%28converted%29.svg.png 2x\" width=\"50\"/></a></span>,\n",
       " <span class=\"flagicon\"><a href=\"/wiki/Australia\" title=\"Australia\"><img alt=\"Australia\" class=\"thumbborder\" data-file-height=\"640\" data-file-width=\"1280\" decoding=\"async\" height=\"25\" src=\"//upload.wikimedia.org/wikipedia/commons/thumb/8/88/Flag_of_Australia_%28converted%29.svg/50px-Flag_of_Australia_%28converted%29.svg.png\" srcset=\"//upload.wikimedia.org/wikipedia/commons/thumb/8/88/Flag_of_Australia_%28converted%29.svg/75px-Flag_of_Australia_%28converted%29.svg.png 1.5x, //upload.wikimedia.org/wikipedia/commons/thumb/8/88/Flag_of_Australia_%28converted%29.svg/100px-Flag_of_Australia_%28converted%29.svg.png 2x\" width=\"50\"/></a></span>,\n",
       " <span class=\"wb-langlinks-edit wb-langlinks-link\"><a class=\"wbc-editpage\" href=\"https://www.wikidata.org/wiki/Special:EntityPage/Q2723418#sitelinks-wikipedia\" title=\"Edit interlanguage links\">Edit links</a></span>]"
      ]
     },
     "execution_count": 32,
     "metadata": {},
     "output_type": "execute_result"
    }
   ],
   "source": [
    "soup.select('div>span')"
   ]
  },
  {
   "cell_type": "code",
   "execution_count": 33,
   "id": "04d22b29",
   "metadata": {
    "collapsed": true
   },
   "outputs": [
    {
     "data": {
      "text/plain": [
       "[<img alt=\"Andrew symonds (cropped).jpg\" data-file-height=\"1872\" data-file-width=\"1360\" decoding=\"async\" height=\"303\" src=\"//upload.wikimedia.org/wikipedia/commons/thumb/b/b9/Andrew_symonds_%28cropped%29.jpg/220px-Andrew_symonds_%28cropped%29.jpg\" srcset=\"//upload.wikimedia.org/wikipedia/commons/thumb/b/b9/Andrew_symonds_%28cropped%29.jpg/330px-Andrew_symonds_%28cropped%29.jpg 1.5x, //upload.wikimedia.org/wikipedia/commons/thumb/b/b9/Andrew_symonds_%28cropped%29.jpg/440px-Andrew_symonds_%28cropped%29.jpg 2x\" width=\"220\"/>,\n",
       " <img alt=\"\" class=\"thumbimage\" data-file-height=\"221\" data-file-width=\"410\" decoding=\"async\" height=\"119\" src=\"//upload.wikimedia.org/wikipedia/commons/thumb/e/e9/Cricket_pic.jpg/220px-Cricket_pic.jpg\" srcset=\"//upload.wikimedia.org/wikipedia/commons/thumb/e/e9/Cricket_pic.jpg/330px-Cricket_pic.jpg 1.5x, //upload.wikimedia.org/wikipedia/commons/e/e9/Cricket_pic.jpg 2x\" width=\"220\"/>,\n",
       " <img alt=\"\" class=\"thumbimage\" data-file-height=\"681\" data-file-width=\"1024\" decoding=\"async\" height=\"146\" src=\"//upload.wikimedia.org/wikipedia/commons/thumb/d/d1/AndySymonds.jpg/220px-AndySymonds.jpg\" srcset=\"//upload.wikimedia.org/wikipedia/commons/thumb/d/d1/AndySymonds.jpg/330px-AndySymonds.jpg 1.5x, //upload.wikimedia.org/wikipedia/commons/thumb/d/d1/AndySymonds.jpg/440px-AndySymonds.jpg 2x\" width=\"220\"/>,\n",
       " <img alt=\"\" class=\"thumbimage\" data-file-height=\"2592\" data-file-width=\"3888\" decoding=\"async\" height=\"147\" src=\"//upload.wikimedia.org/wikipedia/commons/thumb/9/9d/Andrew_symonds.jpg/220px-Andrew_symonds.jpg\" srcset=\"//upload.wikimedia.org/wikipedia/commons/thumb/9/9d/Andrew_symonds.jpg/330px-Andrew_symonds.jpg 1.5x, //upload.wikimedia.org/wikipedia/commons/thumb/9/9d/Andrew_symonds.jpg/440px-Andrew_symonds.jpg 2x\" width=\"220\"/>,\n",
       " <img alt=\"Australia\" class=\"thumbborder\" data-file-height=\"640\" data-file-width=\"1280\" decoding=\"async\" height=\"25\" src=\"//upload.wikimedia.org/wikipedia/commons/thumb/8/88/Flag_of_Australia_%28converted%29.svg/50px-Flag_of_Australia_%28converted%29.svg.png\" srcset=\"//upload.wikimedia.org/wikipedia/commons/thumb/8/88/Flag_of_Australia_%28converted%29.svg/75px-Flag_of_Australia_%28converted%29.svg.png 1.5x, //upload.wikimedia.org/wikipedia/commons/thumb/8/88/Flag_of_Australia_%28converted%29.svg/100px-Flag_of_Australia_%28converted%29.svg.png 2x\" width=\"50\"/>,\n",
       " <img alt=\"Australia\" class=\"thumbborder\" data-file-height=\"640\" data-file-width=\"1280\" decoding=\"async\" height=\"25\" src=\"//upload.wikimedia.org/wikipedia/commons/thumb/8/88/Flag_of_Australia_%28converted%29.svg/50px-Flag_of_Australia_%28converted%29.svg.png\" srcset=\"//upload.wikimedia.org/wikipedia/commons/thumb/8/88/Flag_of_Australia_%28converted%29.svg/75px-Flag_of_Australia_%28converted%29.svg.png 1.5x, //upload.wikimedia.org/wikipedia/commons/thumb/8/88/Flag_of_Australia_%28converted%29.svg/100px-Flag_of_Australia_%28converted%29.svg.png 2x\" width=\"50\"/>,\n",
       " <img alt=\"Australia\" class=\"thumbborder\" data-file-height=\"640\" data-file-width=\"1280\" decoding=\"async\" height=\"25\" src=\"//upload.wikimedia.org/wikipedia/commons/thumb/8/88/Flag_of_Australia_%28converted%29.svg/50px-Flag_of_Australia_%28converted%29.svg.png\" srcset=\"//upload.wikimedia.org/wikipedia/commons/thumb/8/88/Flag_of_Australia_%28converted%29.svg/75px-Flag_of_Australia_%28converted%29.svg.png 1.5x, //upload.wikimedia.org/wikipedia/commons/thumb/8/88/Flag_of_Australia_%28converted%29.svg/100px-Flag_of_Australia_%28converted%29.svg.png 2x\" width=\"50\"/>,\n",
       " <img alt=\"Edit this at Wikidata\" class=\"noprint\" data-file-height=\"20\" data-file-width=\"20\" decoding=\"async\" height=\"10\" src=\"//upload.wikimedia.org/wikipedia/en/thumb/8/8a/OOjs_UI_icon_edit-ltr-progressive.svg/10px-OOjs_UI_icon_edit-ltr-progressive.svg.png\" srcset=\"//upload.wikimedia.org/wikipedia/en/thumb/8/8a/OOjs_UI_icon_edit-ltr-progressive.svg/15px-OOjs_UI_icon_edit-ltr-progressive.svg.png 1.5x, //upload.wikimedia.org/wikipedia/en/thumb/8/8a/OOjs_UI_icon_edit-ltr-progressive.svg/20px-OOjs_UI_icon_edit-ltr-progressive.svg.png 2x\" style=\"vertical-align: text-top\" width=\"10\"/>,\n",
       " <img alt=\"\" height=\"1\" src=\"//en.wikipedia.org/wiki/Special:CentralAutoLogin/start?type=1x1\" style=\"border: none; position: absolute;\" title=\"\" width=\"1\"/>,\n",
       " <img alt=\"Wikimedia Foundation\" height=\"31\" loading=\"lazy\" src=\"/static/images/footer/wikimedia-button.png\" srcset=\"/static/images/footer/wikimedia-button-1.5x.png 1.5x, /static/images/footer/wikimedia-button-2x.png 2x\" width=\"88\"/>,\n",
       " <img alt=\"Powered by MediaWiki\" height=\"31\" loading=\"lazy\" src=\"/static/images/footer/poweredby_mediawiki_88x31.png\" srcset=\"/static/images/footer/poweredby_mediawiki_132x47.png 1.5x, /static/images/footer/poweredby_mediawiki_176x62.png 2x\" width=\"88\"/>]"
      ]
     },
     "execution_count": 33,
     "metadata": {},
     "output_type": "execute_result"
    }
   ],
   "source": [
    "soup.select('img')"
   ]
  },
  {
   "cell_type": "code",
   "execution_count": 36,
   "id": "376ec8a8",
   "metadata": {},
   "outputs": [],
   "source": [
    "cricket = soup.select('img')[0]"
   ]
  },
  {
   "cell_type": "code",
   "execution_count": 37,
   "id": "f450176d",
   "metadata": {
    "collapsed": true
   },
   "outputs": [
    {
     "data": {
      "text/plain": [
       "<img alt=\"Andrew symonds (cropped).jpg\" data-file-height=\"1872\" data-file-width=\"1360\" decoding=\"async\" height=\"303\" src=\"//upload.wikimedia.org/wikipedia/commons/thumb/b/b9/Andrew_symonds_%28cropped%29.jpg/220px-Andrew_symonds_%28cropped%29.jpg\" srcset=\"//upload.wikimedia.org/wikipedia/commons/thumb/b/b9/Andrew_symonds_%28cropped%29.jpg/330px-Andrew_symonds_%28cropped%29.jpg 1.5x, //upload.wikimedia.org/wikipedia/commons/thumb/b/b9/Andrew_symonds_%28cropped%29.jpg/440px-Andrew_symonds_%28cropped%29.jpg 2x\" width=\"220\"/>"
      ]
     },
     "execution_count": 37,
     "metadata": {},
     "output_type": "execute_result"
    }
   ],
   "source": [
    "cricket"
   ]
  },
  {
   "cell_type": "code",
   "execution_count": 38,
   "id": "911845dd",
   "metadata": {},
   "outputs": [
    {
     "data": {
      "text/plain": [
       "'//upload.wikimedia.org/wikipedia/commons/thumb/b/b9/Andrew_symonds_%28cropped%29.jpg/220px-Andrew_symonds_%28cropped%29.jpg'"
      ]
     },
     "execution_count": 38,
     "metadata": {},
     "output_type": "execute_result"
    }
   ],
   "source": [
    "cricket['src']"
   ]
  },
  {
   "cell_type": "markdown",
   "id": "9646e9ca",
   "metadata": {},
   "source": [
    "<img\n",
    "src=\"//upload.wikimedia.org/wikipedia/commons/thumb/b/b9/Andrew_symonds_%28cropped%29.jpg/220px-Andrew_symonds_%28cropped%29.jpg\">"
   ]
  },
  {
   "cell_type": "code",
   "execution_count": 40,
   "id": "e35b424f",
   "metadata": {},
   "outputs": [],
   "source": [
    "image_link = requests.get('https://upload.wikimedia.org/wikipedia/commons/thumb/b/b9/Andrew_symonds_%28cropped%29.jpg/220px-Andrew_symonds_%28cropped%29.jpg')"
   ]
  },
  {
   "cell_type": "code",
   "execution_count": 43,
   "id": "4bdbf827",
   "metadata": {},
   "outputs": [
    {
     "data": {
      "text/plain": [
       "18255"
      ]
     },
     "execution_count": 43,
     "metadata": {},
     "output_type": "execute_result"
    }
   ],
   "source": [
    "f.write(image_link.content)"
   ]
  },
  {
   "cell_type": "code",
   "execution_count": 45,
   "id": "d430b67a",
   "metadata": {},
   "outputs": [],
   "source": [
    "#image_link.content"
   ]
  },
  {
   "cell_type": "code",
   "execution_count": 42,
   "id": "3259edaf",
   "metadata": {},
   "outputs": [],
   "source": [
    "f = open('cricket_image.jpg','wb') ##wb stands for write binary\n",
    "##here write the path where you want to save the image"
   ]
  },
  {
   "cell_type": "code",
   "execution_count": 44,
   "id": "925dabf4",
   "metadata": {},
   "outputs": [],
   "source": [
    "f.close()"
   ]
  },
  {
   "cell_type": "code",
   "execution_count": null,
   "id": "c6290ef9",
   "metadata": {},
   "outputs": [],
   "source": []
  },
  {
   "cell_type": "code",
   "execution_count": null,
   "id": "6bbac8d5",
   "metadata": {},
   "outputs": [],
   "source": []
  },
  {
   "cell_type": "code",
   "execution_count": null,
   "id": "65d1d3be",
   "metadata": {},
   "outputs": [],
   "source": [
    "#grab title of every book with two stars"
   ]
  },
  {
   "cell_type": "code",
   "execution_count": 1,
   "id": "b43eea30",
   "metadata": {},
   "outputs": [],
   "source": [
    "import requests\n",
    "import bs4"
   ]
  },
  {
   "cell_type": "markdown",
   "id": "a038cdcf",
   "metadata": {},
   "source": [
    "http://books.toscrape.com/\n",
    "http://books.toscrape.com/catalogue/page-2.html"
   ]
  },
  {
   "cell_type": "code",
   "execution_count": 50,
   "id": "a81aa99b",
   "metadata": {},
   "outputs": [],
   "source": [
    "base_url = 'http://books.toscrape.com/catalogue/page-{}.html'"
   ]
  },
  {
   "cell_type": "code",
   "execution_count": 58,
   "id": "c5fa25ef",
   "metadata": {},
   "outputs": [],
   "source": [
    "res = requests.get(base_url.format(1))"
   ]
  },
  {
   "cell_type": "code",
   "execution_count": 59,
   "id": "75581e6c",
   "metadata": {},
   "outputs": [],
   "source": [
    "soup = bs4.BeautifulSoup(res.text,'lxml')"
   ]
  },
  {
   "cell_type": "code",
   "execution_count": 60,
   "id": "bbc44352",
   "metadata": {},
   "outputs": [
    {
     "data": {
      "text/plain": [
       "20"
      ]
     },
     "execution_count": 60,
     "metadata": {},
     "output_type": "execute_result"
    }
   ],
   "source": [
    "len(soup.select('.product_pod'))"
   ]
  },
  {
   "cell_type": "code",
   "execution_count": 65,
   "id": "ae2a77ab",
   "metadata": {},
   "outputs": [],
   "source": [
    "products = soup.select('.product_pod')"
   ]
  },
  {
   "cell_type": "code",
   "execution_count": 80,
   "id": "7c9262ea",
   "metadata": {},
   "outputs": [],
   "source": [
    "example = products[0]"
   ]
  },
  {
   "cell_type": "code",
   "execution_count": 89,
   "id": "27168876",
   "metadata": {},
   "outputs": [
    {
     "data": {
      "text/plain": [
       "[<p class=\"star-rating Three\">\n",
       " <i class=\"icon-star\"></i>\n",
       " <i class=\"icon-star\"></i>\n",
       " <i class=\"icon-star\"></i>\n",
       " <i class=\"icon-star\"></i>\n",
       " <i class=\"icon-star\"></i>\n",
       " </p>]"
      ]
     },
     "execution_count": 89,
     "metadata": {},
     "output_type": "execute_result"
    }
   ],
   "source": [
    "example.select('.star-rating.Three')"
   ]
  },
  {
   "cell_type": "code",
   "execution_count": 99,
   "id": "fb7863c3",
   "metadata": {},
   "outputs": [
    {
     "data": {
      "text/plain": [
       "False"
      ]
     },
     "execution_count": 99,
     "metadata": {},
     "output_type": "execute_result"
    }
   ],
   "source": [
    "[] == example"
   ]
  },
  {
   "cell_type": "code",
   "execution_count": 98,
   "id": "764c0fb7",
   "metadata": {},
   "outputs": [
    {
     "data": {
      "text/plain": [
       "'A Light in the Attic'"
      ]
     },
     "execution_count": 98,
     "metadata": {},
     "output_type": "execute_result"
    }
   ],
   "source": [
    "example.select('a')[1]['title']"
   ]
  },
  {
   "cell_type": "code",
   "execution_count": 100,
   "id": "8562eed0",
   "metadata": {},
   "outputs": [],
   "source": [
    "two_star_titles = []\n",
    "\n",
    "for n in range(1,51):\n",
    "    \n",
    "    scrape_url = base_url.format(n)\n",
    "    res = requests.get(scrape_url)\n",
    "    \n",
    "    soup = bs4.BeautifulSoup(res.text,'lxml')\n",
    "    \n",
    "    books = soup.select('.product_pod')\n",
    "    \n",
    "    for book in books:\n",
    "        if len(book.select('.star-rating.Two')) != 0:\n",
    "            book_title = book.select('a')[1]['title']\n",
    "            two_star_titles.append(book_title)"
   ]
  },
  {
   "cell_type": "code",
   "execution_count": 101,
   "id": "d1618fcb",
   "metadata": {},
   "outputs": [
    {
     "data": {
      "text/plain": [
       "['Starving Hearts (Triangular Trade Trilogy, #1)',\n",
       " 'Libertarianism for Beginners',\n",
       " \"It's Only the Himalayas\",\n",
       " 'How Music Works',\n",
       " 'Maude (1883-1993):She Grew Up with the country',\n",
       " \"You can't bury them all: Poems\",\n",
       " 'Reasons to Stay Alive',\n",
       " 'Without Borders (Wanderlove #1)',\n",
       " 'Soul Reader',\n",
       " 'Security',\n",
       " 'Saga, Volume 5 (Saga (Collected Editions) #5)',\n",
       " 'Reskilling America: Learning to Labor in the Twenty-First Century',\n",
       " 'Political Suicide: Missteps, Peccadilloes, Bad Calls, Backroom Hijinx, Sordid Pasts, Rotten Breaks, and Just Plain Dumb Mistakes in the Annals of American Politics',\n",
       " 'Obsidian (Lux #1)',\n",
       " 'My Paris Kitchen: Recipes and Stories',\n",
       " 'Masks and Shadows',\n",
       " 'Lumberjanes, Vol. 2: Friendship to the Max (Lumberjanes #5-8)',\n",
       " 'Lumberjanes Vol. 3: A Terrible Plan (Lumberjanes #9-12)',\n",
       " 'Judo: Seven Steps to Black Belt (an Introductory Guide for Beginners)',\n",
       " 'I Hate Fairyland, Vol. 1: Madly Ever After (I Hate Fairyland (Compilations) #1-5)',\n",
       " 'Giant Days, Vol. 2 (Giant Days #5-8)',\n",
       " 'Everydata: The Misinformation Hidden in the Little Data You Consume Every Day',\n",
       " \"Don't Be a Jerk: And Other Practical Advice from Dogen, Japan's Greatest Zen Master\",\n",
       " 'Bossypants',\n",
       " 'Bitch Planet, Vol. 1: Extraordinary Machine (Bitch Planet (Collected Editions))',\n",
       " 'Avatar: The Last Airbender: Smoke and Shadow, Part 3 (Smoke and Shadow #3)',\n",
       " 'Tuesday Nights in 1980',\n",
       " 'The Psychopath Test: A Journey Through the Madness Industry',\n",
       " 'The Power of Now: A Guide to Spiritual Enlightenment',\n",
       " \"The Omnivore's Dilemma: A Natural History of Four Meals\",\n",
       " 'The Love and Lemons Cookbook: An Apple-to-Zucchini Celebration of Impromptu Cooking',\n",
       " 'The Girl on the Train',\n",
       " 'The Emerald Mystery',\n",
       " 'The Argonauts',\n",
       " 'Suddenly in Love (Lake Haven #1)',\n",
       " 'Soft Apocalypse',\n",
       " \"So You've Been Publicly Shamed\",\n",
       " 'Shoe Dog: A Memoir by the Creator of NIKE',\n",
       " 'Louisa: The Extraordinary Life of Mrs. Adams',\n",
       " 'Large Print Heart of the Pride',\n",
       " 'Grumbles',\n",
       " 'Chasing Heaven: What Dying Taught Me About Living',\n",
       " 'Becoming Wise: An Inquiry into the Mystery and Art of Living',\n",
       " 'Beauty Restored (Riley Family Legacy Novellas #3)',\n",
       " 'Batman: The Long Halloween (Batman)',\n",
       " \"Ayumi's Violin\",\n",
       " 'Wild Swans',\n",
       " \"What's It Like in Space?: Stories from Astronauts Who've Been There\",\n",
       " 'Until Friday Night (The Field Party #1)',\n",
       " 'Unbroken: A World War II Story of Survival, Resilience, and Redemption',\n",
       " 'Twenty Yawns',\n",
       " 'Through the Woods',\n",
       " 'This Is Where It Ends',\n",
       " 'The Year of Magical Thinking',\n",
       " 'The Last Mile (Amos Decker #2)',\n",
       " 'The Immortal Life of Henrietta Lacks',\n",
       " 'The Hidden Oracle (The Trials of Apollo #1)',\n",
       " 'The Guilty (Will Robie #4)',\n",
       " 'Red Hood/Arsenal, Vol. 1: Open for Business (Red Hood/Arsenal #1)',\n",
       " 'Once Was a Time',\n",
       " 'No Dream Is Too High: Life Lessons From a Man Who Walked on the Moon',\n",
       " 'Naruto (3-in-1 Edition), Vol. 14: Includes Vols. 40, 41 & 42 (Naruto: Omnibus #14)',\n",
       " 'More Than Music (Chasing the Dream #1)',\n",
       " 'Lowriders to the Center of the Earth (Lowriders in Space #2)',\n",
       " 'Eat Fat, Get Thin',\n",
       " 'Doctor Sleep (The Shining #2)',\n",
       " 'Crazy Love: Overwhelmed by a Relentless God',\n",
       " 'Carrie',\n",
       " 'Batman: Europa',\n",
       " 'Angels Walking (Angels Walking #1)',\n",
       " 'Adulthood Is a Myth: A \"Sarah\\'s Scribbles\" Collection',\n",
       " 'A Study in Scarlet (Sherlock Holmes #1)',\n",
       " 'A Series of Catastrophes and Miracles: A True Story of Love, Science, and Cancer',\n",
       " \"A People's History of the United States\",\n",
       " 'My Kitchen Year: 136 Recipes That Saved My Life',\n",
       " 'The Lonely City: Adventures in the Art of Being Alone',\n",
       " 'The Dinner Party',\n",
       " 'Stars Above (The Lunar Chronicles #4.5)',\n",
       " 'Love, Lies and Spies',\n",
       " 'Troublemaker: Surviving Hollywood and Scientology',\n",
       " 'The Widow',\n",
       " 'Setting the World on Fire: The Brief, Astonishing Life of St. Catherine of Siena',\n",
       " 'Mothering Sunday',\n",
       " 'Lilac Girls',\n",
       " '10% Happier: How I Tamed the Voice in My Head, Reduced Stress Without Losing My Edge, and Found Self-Help That Actually Works',\n",
       " 'Underlying Notes',\n",
       " 'The Flowers Lied',\n",
       " 'Modern Day Fables',\n",
       " \"Chernobyl 01:23:40: The Incredible True Story of the World's Worst Nuclear Disaster\",\n",
       " '23 Degrees South: A Tropical Tale of Changing Whether...',\n",
       " 'When Breath Becomes Air',\n",
       " 'Vagabonding: An Uncommon Guide to the Art of Long-Term World Travel',\n",
       " 'The Martian (The Martian #1)',\n",
       " \"Miller's Valley\",\n",
       " \"Love That Boy: What Two Presidents, Eight Road Trips, and My Son Taught Me About a Parent's Expectations\",\n",
       " 'Left Behind (Left Behind #1)',\n",
       " 'Howl and Other Poems',\n",
       " \"Heaven is for Real: A Little Boy's Astounding Story of His Trip to Heaven and Back\",\n",
       " \"Brazen: The Courage to Find the You That's Been Hiding\",\n",
       " '32 Yolks',\n",
       " 'Wildlife of New York: A Five-Borough Coloring Book',\n",
       " 'Unreasonable Hope: Finding Faith in the God Who Brings Purpose to Your Pain',\n",
       " 'The Art Book',\n",
       " 'Steal Like an Artist: 10 Things Nobody Told You About Being Creative',\n",
       " 'Raymie Nightingale',\n",
       " 'Like Never Before (Walker Family #2)',\n",
       " 'How to Be a Domestic Goddess: Baking and the Art of Comfort Cooking',\n",
       " 'Finding God in the Ruins: How God Redeems Pain',\n",
       " 'Chronicles, Vol. 1',\n",
       " 'A Summer In Europe',\n",
       " 'The Rise and Fall of the Third Reich: A History of Nazi Germany',\n",
       " 'The Makings of a Fatherless Child',\n",
       " 'The Fellowship of the Ring (The Lord of the Rings #1)',\n",
       " \"Tell the Wolves I'm Home\",\n",
       " 'In the Woods (Dublin Murder Squad #1)',\n",
       " 'Give It Back',\n",
       " 'Why Save the Bankers?: And Other Essays on Our Economic and Political Crisis',\n",
       " 'The Raven King (The Raven Cycle #4)',\n",
       " 'The Expatriates',\n",
       " 'The 5th Wave (The 5th Wave #1)',\n",
       " 'Peak: Secrets from the New Science of Expertise',\n",
       " 'Logan Kade (Fallen Crest High #5.5)',\n",
       " \"I Know Why the Caged Bird Sings (Maya Angelou's Autobiography #1)\",\n",
       " 'Drama',\n",
       " \"America's War for the Greater Middle East: A Military History\",\n",
       " 'A Game of Thrones (A Song of Ice and Fire #1)',\n",
       " \"The Pilgrim's Progress\",\n",
       " 'The Hound of the Baskervilles (Sherlock Holmes #5)',\n",
       " \"The Geography of Bliss: One Grump's Search for the Happiest Places in the World\",\n",
       " 'The Demonists (Demonist #1)',\n",
       " 'The Demon Prince of Momochi House, Vol. 4 (The Demon Prince of Momochi House #4)',\n",
       " 'Misery',\n",
       " 'Far From True (Promise Falls Trilogy #2)',\n",
       " 'Confessions of a Shopaholic (Shopaholic #1)',\n",
       " 'Vegan Vegetarian Omnivore: Dinner for Everyone at the Table',\n",
       " 'Two Boys Kissing',\n",
       " 'Twilight (Twilight #1)',\n",
       " 'Twenties Girl',\n",
       " 'The Tipping Point: How Little Things Can Make a Big Difference',\n",
       " 'The Stand',\n",
       " 'The Picture of Dorian Gray',\n",
       " 'The Name of God is Mercy',\n",
       " \"The Lover's Dictionary\",\n",
       " 'The Last Painting of Sara de Vos',\n",
       " 'The Guns of August',\n",
       " 'The Girl Who Played with Fire (Millennium Trilogy #2)',\n",
       " 'The Da Vinci Code (Robert Langdon #2)',\n",
       " 'The Cat in the Hat (Beginner Books B-1)',\n",
       " 'The Book Thief',\n",
       " 'The Autobiography of Malcolm X',\n",
       " \"Surely You're Joking, Mr. Feynman!: Adventures of a Curious Character\",\n",
       " 'Soldier (Talon #3)',\n",
       " 'Shopaholic & Baby (Shopaholic #5)',\n",
       " 'Seven Days in the Art World',\n",
       " 'Rework',\n",
       " 'Packing for Mars: The Curious Science of Life in the Void',\n",
       " 'Orange Is the New Black',\n",
       " 'One for the Money (Stephanie Plum #1)',\n",
       " 'Midnight Riot (Peter Grant/ Rivers of London - books #1)',\n",
       " 'Me Talk Pretty One Day',\n",
       " 'Manuscript Found in Accra',\n",
       " 'Lust & Wonder',\n",
       " \"Life, the Universe and Everything (Hitchhiker's Guide to the Galaxy #3)\",\n",
       " 'Life After Life',\n",
       " 'I Am Malala: The Girl Who Stood Up for Education and Was Shot by the Taliban',\n",
       " 'House of Lost Worlds: Dinosaurs, Dynasties, and the Story of Life on Earth',\n",
       " 'Horrible Bear!',\n",
       " 'Holidays on Ice',\n",
       " 'Girl in the Blue Coat',\n",
       " 'Fruits Basket, Vol. 3 (Fruits Basket #3)',\n",
       " 'Cosmos',\n",
       " 'Civilization and Its Discontents',\n",
       " \"Catastrophic Happiness: Finding Joy in Childhood's Messy Years\",\n",
       " 'Career of Evil (Cormoran Strike #3)',\n",
       " 'Born to Run: A Hidden Tribe, Superathletes, and the Greatest Race the World Has Never Seen',\n",
       " \"Best of My Love (Fool's Gold #20)\",\n",
       " 'Beowulf',\n",
       " 'Awkward',\n",
       " 'And Then There Were None',\n",
       " 'A Storm of Swords (A Song of Ice and Fire #3)',\n",
       " 'The Suffragettes (Little Black Classics, #96)',\n",
       " 'Vampire Girl (Vampire Girl #1)',\n",
       " 'Three Wishes (River of Time: California #1)',\n",
       " 'The Wicked + The Divine, Vol. 1: The Faust Act (The Wicked + The Divine)',\n",
       " 'The Little Prince',\n",
       " 'The Last Girl (The Dominion Trilogy #1)',\n",
       " 'Taking Shots (Assassins #1)',\n",
       " 'Settling the Score (The Summer Games #1)',\n",
       " 'Rhythm, Chord & Malykhin',\n",
       " 'One Second (Seven #7)',\n",
       " \"Old Records Never Die: One Man's Quest for His Vinyl and His Past\",\n",
       " 'Of Mice and Men',\n",
       " 'My Perfect Mistake (Over the Top #1)',\n",
       " 'Meditations',\n",
       " 'Frankenstein',\n",
       " 'Emma']"
      ]
     },
     "execution_count": 101,
     "metadata": {},
     "output_type": "execute_result"
    }
   ],
   "source": [
    "two_star_titles"
   ]
  },
  {
   "cell_type": "code",
   "execution_count": null,
   "id": "06b62664",
   "metadata": {},
   "outputs": [],
   "source": []
  },
  {
   "cell_type": "code",
   "execution_count": null,
   "id": "cebe4c65",
   "metadata": {},
   "outputs": [],
   "source": []
  },
  {
   "cell_type": "code",
   "execution_count": null,
   "id": "993c3a50",
   "metadata": {},
   "outputs": [],
   "source": []
  },
  {
   "cell_type": "code",
   "execution_count": null,
   "id": "ea6ffb86",
   "metadata": {},
   "outputs": [],
   "source": []
  },
  {
   "cell_type": "code",
   "execution_count": null,
   "id": "72da5ea7",
   "metadata": {},
   "outputs": [],
   "source": []
  },
  {
   "cell_type": "code",
   "execution_count": null,
   "id": "93ef085c",
   "metadata": {},
   "outputs": [],
   "source": []
  },
  {
   "cell_type": "markdown",
   "id": "4c28adac",
   "metadata": {},
   "source": [
    "exercise for web scrapping"
   ]
  },
  {
   "cell_type": "code",
   "execution_count": 2,
   "id": "0185ac9b",
   "metadata": {},
   "outputs": [],
   "source": [
    "import lxml\n",
    "import requests\n",
    "import bs4"
   ]
  },
  {
   "cell_type": "code",
   "execution_count": 4,
   "id": "7c776050",
   "metadata": {},
   "outputs": [],
   "source": [
    "res = requests.get('http://quotes.toscrape.com/')"
   ]
  },
  {
   "cell_type": "code",
   "execution_count": 5,
   "id": "fdcda06d",
   "metadata": {},
   "outputs": [
    {
     "data": {
      "text/plain": [
       "'<!DOCTYPE html>\\n<html lang=\"en\">\\n<head>\\n\\t<meta charset=\"UTF-8\">\\n\\t<title>Quotes to Scrape</title>\\n    <link rel=\"stylesheet\" href=\"/static/bootstrap.min.css\">\\n    <link rel=\"stylesheet\" href=\"/static/main.css\">\\n</head>\\n<body>\\n    <div class=\"container\">\\n        <div class=\"row header-box\">\\n            <div class=\"col-md-8\">\\n                <h1>\\n                    <a href=\"/\" style=\"text-decoration: none\">Quotes to Scrape</a>\\n                </h1>\\n            </div>\\n            <div class=\"col-md-4\">\\n                <p>\\n                \\n                    <a href=\"/login\">Login</a>\\n                \\n                </p>\\n            </div>\\n        </div>\\n    \\n\\n<div class=\"row\">\\n    <div class=\"col-md-8\">\\n\\n    <div class=\"quote\" itemscope itemtype=\"http://schema.org/CreativeWork\">\\n        <span class=\"text\" itemprop=\"text\">“The world as we have created it is a process of our thinking. It cannot be changed without changing our thinking.”</span>\\n        <span>by <small class=\"author\" itemprop=\"author\">Albert Einstein</small>\\n        <a href=\"/author/Albert-Einstein\">(about)</a>\\n        </span>\\n        <div class=\"tags\">\\n            Tags:\\n            <meta class=\"keywords\" itemprop=\"keywords\" content=\"change,deep-thoughts,thinking,world\" /    > \\n            \\n            <a class=\"tag\" href=\"/tag/change/page/1/\">change</a>\\n            \\n            <a class=\"tag\" href=\"/tag/deep-thoughts/page/1/\">deep-thoughts</a>\\n            \\n            <a class=\"tag\" href=\"/tag/thinking/page/1/\">thinking</a>\\n            \\n            <a class=\"tag\" href=\"/tag/world/page/1/\">world</a>\\n            \\n        </div>\\n    </div>\\n\\n    <div class=\"quote\" itemscope itemtype=\"http://schema.org/CreativeWork\">\\n        <span class=\"text\" itemprop=\"text\">“It is our choices, Harry, that show what we truly are, far more than our abilities.”</span>\\n        <span>by <small class=\"author\" itemprop=\"author\">J.K. Rowling</small>\\n        <a href=\"/author/J-K-Rowling\">(about)</a>\\n        </span>\\n        <div class=\"tags\">\\n            Tags:\\n            <meta class=\"keywords\" itemprop=\"keywords\" content=\"abilities,choices\" /    > \\n            \\n            <a class=\"tag\" href=\"/tag/abilities/page/1/\">abilities</a>\\n            \\n            <a class=\"tag\" href=\"/tag/choices/page/1/\">choices</a>\\n            \\n        </div>\\n    </div>\\n\\n    <div class=\"quote\" itemscope itemtype=\"http://schema.org/CreativeWork\">\\n        <span class=\"text\" itemprop=\"text\">“There are only two ways to live your life. One is as though nothing is a miracle. The other is as though everything is a miracle.”</span>\\n        <span>by <small class=\"author\" itemprop=\"author\">Albert Einstein</small>\\n        <a href=\"/author/Albert-Einstein\">(about)</a>\\n        </span>\\n        <div class=\"tags\">\\n            Tags:\\n            <meta class=\"keywords\" itemprop=\"keywords\" content=\"inspirational,life,live,miracle,miracles\" /    > \\n            \\n            <a class=\"tag\" href=\"/tag/inspirational/page/1/\">inspirational</a>\\n            \\n            <a class=\"tag\" href=\"/tag/life/page/1/\">life</a>\\n            \\n            <a class=\"tag\" href=\"/tag/live/page/1/\">live</a>\\n            \\n            <a class=\"tag\" href=\"/tag/miracle/page/1/\">miracle</a>\\n            \\n            <a class=\"tag\" href=\"/tag/miracles/page/1/\">miracles</a>\\n            \\n        </div>\\n    </div>\\n\\n    <div class=\"quote\" itemscope itemtype=\"http://schema.org/CreativeWork\">\\n        <span class=\"text\" itemprop=\"text\">“The person, be it gentleman or lady, who has not pleasure in a good novel, must be intolerably stupid.”</span>\\n        <span>by <small class=\"author\" itemprop=\"author\">Jane Austen</small>\\n        <a href=\"/author/Jane-Austen\">(about)</a>\\n        </span>\\n        <div class=\"tags\">\\n            Tags:\\n            <meta class=\"keywords\" itemprop=\"keywords\" content=\"aliteracy,books,classic,humor\" /    > \\n            \\n            <a class=\"tag\" href=\"/tag/aliteracy/page/1/\">aliteracy</a>\\n            \\n            <a class=\"tag\" href=\"/tag/books/page/1/\">books</a>\\n            \\n            <a class=\"tag\" href=\"/tag/classic/page/1/\">classic</a>\\n            \\n            <a class=\"tag\" href=\"/tag/humor/page/1/\">humor</a>\\n            \\n        </div>\\n    </div>\\n\\n    <div class=\"quote\" itemscope itemtype=\"http://schema.org/CreativeWork\">\\n        <span class=\"text\" itemprop=\"text\">“Imperfection is beauty, madness is genius and it&#39;s better to be absolutely ridiculous than absolutely boring.”</span>\\n        <span>by <small class=\"author\" itemprop=\"author\">Marilyn Monroe</small>\\n        <a href=\"/author/Marilyn-Monroe\">(about)</a>\\n        </span>\\n        <div class=\"tags\">\\n            Tags:\\n            <meta class=\"keywords\" itemprop=\"keywords\" content=\"be-yourself,inspirational\" /    > \\n            \\n            <a class=\"tag\" href=\"/tag/be-yourself/page/1/\">be-yourself</a>\\n            \\n            <a class=\"tag\" href=\"/tag/inspirational/page/1/\">inspirational</a>\\n            \\n        </div>\\n    </div>\\n\\n    <div class=\"quote\" itemscope itemtype=\"http://schema.org/CreativeWork\">\\n        <span class=\"text\" itemprop=\"text\">“Try not to become a man of success. Rather become a man of value.”</span>\\n        <span>by <small class=\"author\" itemprop=\"author\">Albert Einstein</small>\\n        <a href=\"/author/Albert-Einstein\">(about)</a>\\n        </span>\\n        <div class=\"tags\">\\n            Tags:\\n            <meta class=\"keywords\" itemprop=\"keywords\" content=\"adulthood,success,value\" /    > \\n            \\n            <a class=\"tag\" href=\"/tag/adulthood/page/1/\">adulthood</a>\\n            \\n            <a class=\"tag\" href=\"/tag/success/page/1/\">success</a>\\n            \\n            <a class=\"tag\" href=\"/tag/value/page/1/\">value</a>\\n            \\n        </div>\\n    </div>\\n\\n    <div class=\"quote\" itemscope itemtype=\"http://schema.org/CreativeWork\">\\n        <span class=\"text\" itemprop=\"text\">“It is better to be hated for what you are than to be loved for what you are not.”</span>\\n        <span>by <small class=\"author\" itemprop=\"author\">André Gide</small>\\n        <a href=\"/author/Andre-Gide\">(about)</a>\\n        </span>\\n        <div class=\"tags\">\\n            Tags:\\n            <meta class=\"keywords\" itemprop=\"keywords\" content=\"life,love\" /    > \\n            \\n            <a class=\"tag\" href=\"/tag/life/page/1/\">life</a>\\n            \\n            <a class=\"tag\" href=\"/tag/love/page/1/\">love</a>\\n            \\n        </div>\\n    </div>\\n\\n    <div class=\"quote\" itemscope itemtype=\"http://schema.org/CreativeWork\">\\n        <span class=\"text\" itemprop=\"text\">“I have not failed. I&#39;ve just found 10,000 ways that won&#39;t work.”</span>\\n        <span>by <small class=\"author\" itemprop=\"author\">Thomas A. Edison</small>\\n        <a href=\"/author/Thomas-A-Edison\">(about)</a>\\n        </span>\\n        <div class=\"tags\">\\n            Tags:\\n            <meta class=\"keywords\" itemprop=\"keywords\" content=\"edison,failure,inspirational,paraphrased\" /    > \\n            \\n            <a class=\"tag\" href=\"/tag/edison/page/1/\">edison</a>\\n            \\n            <a class=\"tag\" href=\"/tag/failure/page/1/\">failure</a>\\n            \\n            <a class=\"tag\" href=\"/tag/inspirational/page/1/\">inspirational</a>\\n            \\n            <a class=\"tag\" href=\"/tag/paraphrased/page/1/\">paraphrased</a>\\n            \\n        </div>\\n    </div>\\n\\n    <div class=\"quote\" itemscope itemtype=\"http://schema.org/CreativeWork\">\\n        <span class=\"text\" itemprop=\"text\">“A woman is like a tea bag; you never know how strong it is until it&#39;s in hot water.”</span>\\n        <span>by <small class=\"author\" itemprop=\"author\">Eleanor Roosevelt</small>\\n        <a href=\"/author/Eleanor-Roosevelt\">(about)</a>\\n        </span>\\n        <div class=\"tags\">\\n            Tags:\\n            <meta class=\"keywords\" itemprop=\"keywords\" content=\"misattributed-eleanor-roosevelt\" /    > \\n            \\n            <a class=\"tag\" href=\"/tag/misattributed-eleanor-roosevelt/page/1/\">misattributed-eleanor-roosevelt</a>\\n            \\n        </div>\\n    </div>\\n\\n    <div class=\"quote\" itemscope itemtype=\"http://schema.org/CreativeWork\">\\n        <span class=\"text\" itemprop=\"text\">“A day without sunshine is like, you know, night.”</span>\\n        <span>by <small class=\"author\" itemprop=\"author\">Steve Martin</small>\\n        <a href=\"/author/Steve-Martin\">(about)</a>\\n        </span>\\n        <div class=\"tags\">\\n            Tags:\\n            <meta class=\"keywords\" itemprop=\"keywords\" content=\"humor,obvious,simile\" /    > \\n            \\n            <a class=\"tag\" href=\"/tag/humor/page/1/\">humor</a>\\n            \\n            <a class=\"tag\" href=\"/tag/obvious/page/1/\">obvious</a>\\n            \\n            <a class=\"tag\" href=\"/tag/simile/page/1/\">simile</a>\\n            \\n        </div>\\n    </div>\\n\\n    <nav>\\n        <ul class=\"pager\">\\n            \\n            \\n            <li class=\"next\">\\n                <a href=\"/page/2/\">Next <span aria-hidden=\"true\">&rarr;</span></a>\\n            </li>\\n            \\n        </ul>\\n    </nav>\\n    </div>\\n    <div class=\"col-md-4 tags-box\">\\n        \\n            <h2>Top Ten tags</h2>\\n            \\n            <span class=\"tag-item\">\\n            <a class=\"tag\" style=\"font-size: 28px\" href=\"/tag/love/\">love</a>\\n            </span>\\n            \\n            <span class=\"tag-item\">\\n            <a class=\"tag\" style=\"font-size: 26px\" href=\"/tag/inspirational/\">inspirational</a>\\n            </span>\\n            \\n            <span class=\"tag-item\">\\n            <a class=\"tag\" style=\"font-size: 26px\" href=\"/tag/life/\">life</a>\\n            </span>\\n            \\n            <span class=\"tag-item\">\\n            <a class=\"tag\" style=\"font-size: 24px\" href=\"/tag/humor/\">humor</a>\\n            </span>\\n            \\n            <span class=\"tag-item\">\\n            <a class=\"tag\" style=\"font-size: 22px\" href=\"/tag/books/\">books</a>\\n            </span>\\n            \\n            <span class=\"tag-item\">\\n            <a class=\"tag\" style=\"font-size: 14px\" href=\"/tag/reading/\">reading</a>\\n            </span>\\n            \\n            <span class=\"tag-item\">\\n            <a class=\"tag\" style=\"font-size: 10px\" href=\"/tag/friendship/\">friendship</a>\\n            </span>\\n            \\n            <span class=\"tag-item\">\\n            <a class=\"tag\" style=\"font-size: 8px\" href=\"/tag/friends/\">friends</a>\\n            </span>\\n            \\n            <span class=\"tag-item\">\\n            <a class=\"tag\" style=\"font-size: 8px\" href=\"/tag/truth/\">truth</a>\\n            </span>\\n            \\n            <span class=\"tag-item\">\\n            <a class=\"tag\" style=\"font-size: 6px\" href=\"/tag/simile/\">simile</a>\\n            </span>\\n            \\n        \\n    </div>\\n</div>\\n\\n    </div>\\n    <footer class=\"footer\">\\n        <div class=\"container\">\\n            <p class=\"text-muted\">\\n                Quotes by: <a href=\"https://www.goodreads.com/quotes\">GoodReads.com</a>\\n            </p>\\n            <p class=\"copyright\">\\n                Made with <span class=\\'sh-red\\'>❤</span> by <a href=\"https://scrapinghub.com\">Scrapinghub</a>\\n            </p>\\n        </div>\\n    </footer>\\n</body>\\n</html>'"
      ]
     },
     "execution_count": 5,
     "metadata": {},
     "output_type": "execute_result"
    }
   ],
   "source": [
    "res.text"
   ]
  },
  {
   "cell_type": "code",
   "execution_count": 7,
   "id": "827147b1",
   "metadata": {},
   "outputs": [],
   "source": [
    "soup = bs4.BeautifulSoup(res.text,'lxml')"
   ]
  },
  {
   "cell_type": "code",
   "execution_count": 8,
   "id": "be2cb9d6",
   "metadata": {},
   "outputs": [
    {
     "data": {
      "text/plain": [
       "[<title>Quotes to Scrape</title>]"
      ]
     },
     "execution_count": 8,
     "metadata": {},
     "output_type": "execute_result"
    }
   ],
   "source": [
    "soup.select('title')"
   ]
  },
  {
   "cell_type": "code",
   "execution_count": null,
   "id": "bbb67e4e",
   "metadata": {},
   "outputs": [],
   "source": []
  },
  {
   "cell_type": "code",
   "execution_count": 61,
   "id": "6d5f2ba3",
   "metadata": {},
   "outputs": [],
   "source": [
    "##author on first page"
   ]
  },
  {
   "cell_type": "code",
   "execution_count": 63,
   "id": "52789fb4",
   "metadata": {},
   "outputs": [],
   "source": [
    "res = requests.get('http://quotes.toscrape.com/page/1/')"
   ]
  },
  {
   "cell_type": "code",
   "execution_count": 64,
   "id": "d7f46150",
   "metadata": {},
   "outputs": [],
   "source": [
    "soup = bs4.BeautifulSoup(res.text,'lxml')"
   ]
  },
  {
   "cell_type": "code",
   "execution_count": 65,
   "id": "82422873",
   "metadata": {},
   "outputs": [],
   "source": [
    "a=soup.select('.author')"
   ]
  },
  {
   "cell_type": "code",
   "execution_count": 66,
   "id": "a8aa174b",
   "metadata": {},
   "outputs": [
    {
     "data": {
      "text/plain": [
       "[<small class=\"author\" itemprop=\"author\">Albert Einstein</small>,\n",
       " <small class=\"author\" itemprop=\"author\">J.K. Rowling</small>,\n",
       " <small class=\"author\" itemprop=\"author\">Albert Einstein</small>,\n",
       " <small class=\"author\" itemprop=\"author\">Jane Austen</small>,\n",
       " <small class=\"author\" itemprop=\"author\">Marilyn Monroe</small>,\n",
       " <small class=\"author\" itemprop=\"author\">Albert Einstein</small>,\n",
       " <small class=\"author\" itemprop=\"author\">André Gide</small>,\n",
       " <small class=\"author\" itemprop=\"author\">Thomas A. Edison</small>,\n",
       " <small class=\"author\" itemprop=\"author\">Eleanor Roosevelt</small>,\n",
       " <small class=\"author\" itemprop=\"author\">Steve Martin</small>]"
      ]
     },
     "execution_count": 66,
     "metadata": {},
     "output_type": "execute_result"
    }
   ],
   "source": [
    "a"
   ]
  },
  {
   "cell_type": "code",
   "execution_count": 163,
   "id": "f78d7220",
   "metadata": {},
   "outputs": [
    {
     "name": "stdout",
     "output_type": "stream",
     "text": [
      "Albert Einstein\n",
      "J.K. Rowling\n",
      "Albert Einstein\n",
      "Jane Austen\n",
      "Marilyn Monroe\n",
      "Albert Einstein\n",
      "André Gide\n",
      "Thomas A. Edison\n",
      "Eleanor Roosevelt\n",
      "Steve Martin\n"
     ]
    }
   ],
   "source": [
    "authors = set()\n",
    "for item in a:\n",
    "    indv = item.getText()\n",
    "    print(indv)"
   ]
  },
  {
   "cell_type": "code",
   "execution_count": 164,
   "id": "fa177c6a",
   "metadata": {},
   "outputs": [],
   "source": [
    "authors = set()\n",
    "for item in a:\n",
    "    authors.add(item.text)\n",
    "    \n",
    "    ##for sets we use .add and for lists we use .append"
   ]
  },
  {
   "cell_type": "code",
   "execution_count": 165,
   "id": "8983566e",
   "metadata": {},
   "outputs": [
    {
     "data": {
      "text/plain": [
       "{'Albert Einstein',\n",
       " 'André Gide',\n",
       " 'Eleanor Roosevelt',\n",
       " 'J.K. Rowling',\n",
       " 'Jane Austen',\n",
       " 'Marilyn Monroe',\n",
       " 'Steve Martin',\n",
       " 'Thomas A. Edison'}"
      ]
     },
     "execution_count": 165,
     "metadata": {},
     "output_type": "execute_result"
    }
   ],
   "source": [
    "authors"
   ]
  },
  {
   "cell_type": "code",
   "execution_count": null,
   "id": "cc842a30",
   "metadata": {},
   "outputs": [],
   "source": []
  },
  {
   "cell_type": "code",
   "execution_count": null,
   "id": "33845b98",
   "metadata": {},
   "outputs": [],
   "source": []
  },
  {
   "cell_type": "code",
   "execution_count": null,
   "id": "1cc20a79",
   "metadata": {},
   "outputs": [],
   "source": []
  },
  {
   "cell_type": "code",
   "execution_count": null,
   "id": "aa660f07",
   "metadata": {},
   "outputs": [],
   "source": []
  },
  {
   "cell_type": "code",
   "execution_count": 106,
   "id": "19f69dcd",
   "metadata": {},
   "outputs": [],
   "source": [
    "#create list of all quotes on first page"
   ]
  },
  {
   "cell_type": "code",
   "execution_count": 111,
   "id": "07ac3d2b",
   "metadata": {},
   "outputs": [],
   "source": [
    "quotes = soup.select('.text')"
   ]
  },
  {
   "cell_type": "code",
   "execution_count": 112,
   "id": "2a900ce3",
   "metadata": {},
   "outputs": [
    {
     "data": {
      "text/plain": [
       "[<span class=\"text\" itemprop=\"text\">“The world as we have created it is a process of our thinking. It cannot be changed without changing our thinking.”</span>,\n",
       " <span class=\"text\" itemprop=\"text\">“It is our choices, Harry, that show what we truly are, far more than our abilities.”</span>,\n",
       " <span class=\"text\" itemprop=\"text\">“There are only two ways to live your life. One is as though nothing is a miracle. The other is as though everything is a miracle.”</span>,\n",
       " <span class=\"text\" itemprop=\"text\">“The person, be it gentleman or lady, who has not pleasure in a good novel, must be intolerably stupid.”</span>,\n",
       " <span class=\"text\" itemprop=\"text\">“Imperfection is beauty, madness is genius and it's better to be absolutely ridiculous than absolutely boring.”</span>,\n",
       " <span class=\"text\" itemprop=\"text\">“Try not to become a man of success. Rather become a man of value.”</span>,\n",
       " <span class=\"text\" itemprop=\"text\">“It is better to be hated for what you are than to be loved for what you are not.”</span>,\n",
       " <span class=\"text\" itemprop=\"text\">“I have not failed. I've just found 10,000 ways that won't work.”</span>,\n",
       " <span class=\"text\" itemprop=\"text\">“A woman is like a tea bag; you never know how strong it is until it's in hot water.”</span>,\n",
       " <span class=\"text\" itemprop=\"text\">“A day without sunshine is like, you know, night.”</span>]"
      ]
     },
     "execution_count": 112,
     "metadata": {},
     "output_type": "execute_result"
    }
   ],
   "source": [
    "quotes"
   ]
  },
  {
   "cell_type": "code",
   "execution_count": 173,
   "id": "9f631ea3",
   "metadata": {},
   "outputs": [
    {
     "name": "stdout",
     "output_type": "stream",
     "text": [
      "“The world as we have created it is a process of our thinking. It cannot be changed without changing our thinking.”\n",
      "“It is our choices, Harry, that show what we truly are, far more than our abilities.”\n",
      "“There are only two ways to live your life. One is as though nothing is a miracle. The other is as though everything is a miracle.”\n",
      "“The person, be it gentleman or lady, who has not pleasure in a good novel, must be intolerably stupid.”\n",
      "“Imperfection is beauty, madness is genius and it's better to be absolutely ridiculous than absolutely boring.”\n",
      "“Try not to become a man of success. Rather become a man of value.”\n",
      "“It is better to be hated for what you are than to be loved for what you are not.”\n",
      "“I have not failed. I've just found 10,000 ways that won't work.”\n",
      "“A woman is like a tea bag; you never know how strong it is until it's in hot water.”\n",
      "“A day without sunshine is like, you know, night.”\n"
     ]
    }
   ],
   "source": [
    "quote_list = []\n",
    "for specifics in quotes:\n",
    "    li = specifics.getText()\n",
    "    print(li)\n",
    "    "
   ]
  },
  {
   "cell_type": "code",
   "execution_count": 170,
   "id": "69ca5c4f",
   "metadata": {},
   "outputs": [],
   "source": [
    "quote_list = []\n",
    "for specifics in quotes:\n",
    "    quote_list.append(specifics.text)"
   ]
  },
  {
   "cell_type": "code",
   "execution_count": 171,
   "id": "0bad80ba",
   "metadata": {},
   "outputs": [
    {
     "data": {
      "text/plain": [
       "['“The world as we have created it is a process of our thinking. It cannot be changed without changing our thinking.”',\n",
       " '“It is our choices, Harry, that show what we truly are, far more than our abilities.”',\n",
       " '“There are only two ways to live your life. One is as though nothing is a miracle. The other is as though everything is a miracle.”',\n",
       " '“The person, be it gentleman or lady, who has not pleasure in a good novel, must be intolerably stupid.”',\n",
       " \"“Imperfection is beauty, madness is genius and it's better to be absolutely ridiculous than absolutely boring.”\",\n",
       " '“Try not to become a man of success. Rather become a man of value.”',\n",
       " '“It is better to be hated for what you are than to be loved for what you are not.”',\n",
       " \"“I have not failed. I've just found 10,000 ways that won't work.”\",\n",
       " \"“A woman is like a tea bag; you never know how strong it is until it's in hot water.”\",\n",
       " '“A day without sunshine is like, you know, night.”']"
      ]
     },
     "execution_count": 171,
     "metadata": {},
     "output_type": "execute_result"
    }
   ],
   "source": [
    "quote_list"
   ]
  },
  {
   "cell_type": "code",
   "execution_count": null,
   "id": "2e47fb79",
   "metadata": {},
   "outputs": [],
   "source": []
  },
  {
   "cell_type": "code",
   "execution_count": null,
   "id": "549e900e",
   "metadata": {},
   "outputs": [],
   "source": []
  },
  {
   "cell_type": "code",
   "execution_count": null,
   "id": "66cab14b",
   "metadata": {},
   "outputs": [],
   "source": []
  },
  {
   "cell_type": "markdown",
   "id": "714815a7",
   "metadata": {},
   "source": [
    "Inspect the site and use Beautiful Soup to extract the top ten tags from the requests text shown on the top right from the home page (e.g Love,Inspirational,Life, etc...). HINT: Keep in mind there are also tags underneath each quote, try to find a class only present in the top right tags, perhaps check the span."
   ]
  },
  {
   "cell_type": "code",
   "execution_count": 119,
   "id": "aca867cf",
   "metadata": {},
   "outputs": [],
   "source": [
    "top = soup.select('.tag-item')"
   ]
  },
  {
   "cell_type": "code",
   "execution_count": 120,
   "id": "65b86390",
   "metadata": {},
   "outputs": [
    {
     "data": {
      "text/plain": [
       "[<span class=\"tag-item\">\n",
       " <a class=\"tag\" href=\"/tag/love/\" style=\"font-size: 28px\">love</a>\n",
       " </span>,\n",
       " <span class=\"tag-item\">\n",
       " <a class=\"tag\" href=\"/tag/inspirational/\" style=\"font-size: 26px\">inspirational</a>\n",
       " </span>,\n",
       " <span class=\"tag-item\">\n",
       " <a class=\"tag\" href=\"/tag/life/\" style=\"font-size: 26px\">life</a>\n",
       " </span>,\n",
       " <span class=\"tag-item\">\n",
       " <a class=\"tag\" href=\"/tag/humor/\" style=\"font-size: 24px\">humor</a>\n",
       " </span>,\n",
       " <span class=\"tag-item\">\n",
       " <a class=\"tag\" href=\"/tag/books/\" style=\"font-size: 22px\">books</a>\n",
       " </span>,\n",
       " <span class=\"tag-item\">\n",
       " <a class=\"tag\" href=\"/tag/reading/\" style=\"font-size: 14px\">reading</a>\n",
       " </span>,\n",
       " <span class=\"tag-item\">\n",
       " <a class=\"tag\" href=\"/tag/friendship/\" style=\"font-size: 10px\">friendship</a>\n",
       " </span>,\n",
       " <span class=\"tag-item\">\n",
       " <a class=\"tag\" href=\"/tag/friends/\" style=\"font-size: 8px\">friends</a>\n",
       " </span>,\n",
       " <span class=\"tag-item\">\n",
       " <a class=\"tag\" href=\"/tag/truth/\" style=\"font-size: 8px\">truth</a>\n",
       " </span>,\n",
       " <span class=\"tag-item\">\n",
       " <a class=\"tag\" href=\"/tag/simile/\" style=\"font-size: 6px\">simile</a>\n",
       " </span>]"
      ]
     },
     "execution_count": 120,
     "metadata": {},
     "output_type": "execute_result"
    }
   ],
   "source": [
    "top"
   ]
  },
  {
   "cell_type": "code",
   "execution_count": 175,
   "id": "da3e86f4",
   "metadata": {},
   "outputs": [
    {
     "name": "stdout",
     "output_type": "stream",
     "text": [
      "\n",
      "love\n",
      "\n",
      "\n",
      "inspirational\n",
      "\n",
      "\n",
      "life\n",
      "\n",
      "\n",
      "humor\n",
      "\n",
      "\n",
      "books\n",
      "\n",
      "\n",
      "reading\n",
      "\n",
      "\n",
      "friendship\n",
      "\n",
      "\n",
      "friends\n",
      "\n",
      "\n",
      "truth\n",
      "\n",
      "\n",
      "simile\n",
      "\n"
     ]
    }
   ],
   "source": [
    "for info in top:\n",
    "    print(info.text)"
   ]
  },
  {
   "cell_type": "code",
   "execution_count": null,
   "id": "d88fa0be",
   "metadata": {},
   "outputs": [],
   "source": []
  },
  {
   "cell_type": "code",
   "execution_count": null,
   "id": "dbb5cdee",
   "metadata": {},
   "outputs": [],
   "source": []
  },
  {
   "cell_type": "code",
   "execution_count": null,
   "id": "b1cd672b",
   "metadata": {},
   "outputs": [],
   "source": []
  },
  {
   "cell_type": "markdown",
   "id": "11791841",
   "metadata": {},
   "source": [
    "get all the unique authors on the website."
   ]
  },
  {
   "cell_type": "code",
   "execution_count": 177,
   "id": "5ead5632",
   "metadata": {},
   "outputs": [],
   "source": [
    "base_url = 'http://quotes.toscrape.com/page/{}/'"
   ]
  },
  {
   "cell_type": "code",
   "execution_count": 187,
   "id": "24e0a4b4",
   "metadata": {},
   "outputs": [],
   "source": [
    "authors = set()\n",
    "for n in range(1,11):\n",
    "    scrape_url = base_url.format(n)\n",
    "    res = requests.get(scrape_url)\n",
    "    \n",
    "    soup = bs4.BeautifulSoup(res.text,'lxml')\n",
    "    all_author = soup.select('.author')\n",
    "    \n",
    "    for unique in all_author:\n",
    "        \n",
    "        authors.add(unique.text)"
   ]
  },
  {
   "cell_type": "code",
   "execution_count": 188,
   "id": "0a0626e3",
   "metadata": {},
   "outputs": [
    {
     "data": {
      "text/plain": [
       "{'Albert Einstein',\n",
       " 'Alexandre Dumas fils',\n",
       " 'Alfred Tennyson',\n",
       " 'Allen Saunders',\n",
       " 'André Gide',\n",
       " 'Ayn Rand',\n",
       " 'Bob Marley',\n",
       " 'C.S. Lewis',\n",
       " 'Charles Bukowski',\n",
       " 'Charles M. Schulz',\n",
       " 'Douglas Adams',\n",
       " 'Dr. Seuss',\n",
       " 'E.E. Cummings',\n",
       " 'Eleanor Roosevelt',\n",
       " 'Elie Wiesel',\n",
       " 'Ernest Hemingway',\n",
       " 'Friedrich Nietzsche',\n",
       " 'Garrison Keillor',\n",
       " 'George Bernard Shaw',\n",
       " 'George Carlin',\n",
       " 'George Eliot',\n",
       " 'George R.R. Martin',\n",
       " 'Harper Lee',\n",
       " 'Haruki Murakami',\n",
       " 'Helen Keller',\n",
       " 'J.D. Salinger',\n",
       " 'J.K. Rowling',\n",
       " 'J.M. Barrie',\n",
       " 'J.R.R. Tolkien',\n",
       " 'James Baldwin',\n",
       " 'Jane Austen',\n",
       " 'Jim Henson',\n",
       " 'Jimi Hendrix',\n",
       " 'John Lennon',\n",
       " 'Jorge Luis Borges',\n",
       " 'Khaled Hosseini',\n",
       " \"Madeleine L'Engle\",\n",
       " 'Marilyn Monroe',\n",
       " 'Mark Twain',\n",
       " 'Martin Luther King Jr.',\n",
       " 'Mother Teresa',\n",
       " 'Pablo Neruda',\n",
       " 'Ralph Waldo Emerson',\n",
       " 'Stephenie Meyer',\n",
       " 'Steve Martin',\n",
       " 'Suzanne Collins',\n",
       " 'Terry Pratchett',\n",
       " 'Thomas A. Edison',\n",
       " 'W.C. Fields',\n",
       " 'William Nicholson'}"
      ]
     },
     "execution_count": 188,
     "metadata": {},
     "output_type": "execute_result"
    }
   ],
   "source": [
    "authors"
   ]
  },
  {
   "cell_type": "code",
   "execution_count": 189,
   "id": "2b55993d",
   "metadata": {},
   "outputs": [
    {
     "data": {
      "text/plain": [
       "50"
      ]
     },
     "execution_count": 189,
     "metadata": {},
     "output_type": "execute_result"
    }
   ],
   "source": [
    "len(authors)"
   ]
  },
  {
   "cell_type": "code",
   "execution_count": 192,
   "id": "d027781e",
   "metadata": {},
   "outputs": [],
   "source": [
    "ex = base_url.format(100)"
   ]
  },
  {
   "cell_type": "code",
   "execution_count": 193,
   "id": "646ad8de",
   "metadata": {},
   "outputs": [],
   "source": [
    "res = requests.get(ex)"
   ]
  },
  {
   "cell_type": "code",
   "execution_count": 194,
   "id": "9443a650",
   "metadata": {},
   "outputs": [],
   "source": [
    "soup = bs4.BeautifulSoup(res.text,'lxml')"
   ]
  },
  {
   "cell_type": "code",
   "execution_count": 211,
   "id": "7ae04978",
   "metadata": {},
   "outputs": [
    {
     "data": {
      "text/plain": [
       "True"
      ]
     },
     "execution_count": 211,
     "metadata": {},
     "output_type": "execute_result"
    }
   ],
   "source": [
    "'No quotes found!' in res.text"
   ]
  },
  {
   "cell_type": "code",
   "execution_count": 3,
   "id": "7b2bd1ab",
   "metadata": {},
   "outputs": [],
   "source": [
    "import requests\n",
    "import lxml\n",
    "import bs4"
   ]
  },
  {
   "cell_type": "code",
   "execution_count": 4,
   "id": "254f9472",
   "metadata": {},
   "outputs": [],
   "source": [
    "base_url = 'http://quotes.toscrape.com/page/{}/'"
   ]
  },
  {
   "cell_type": "markdown",
   "id": "e6b98c2f",
   "metadata": {},
   "source": [
    "page_still_valid = True\n",
    "authors = set()\n",
    "page = 1\n",
    "while page_still_valid:\n",
    "    \n",
    "    page_url = base_url+str(page)\n",
    "    res = requests.get(page_url)\n",
    "    \n",
    "    if 'No quotes found!' in res.text:\n",
    "        break\n",
    "    \n",
    "        \n",
    "    soup = bs4.BeautifulSoup(res.text,'lxml')\n",
    "    for item in soup.select('.author'):\n",
    "        authors.add(item.text)\n",
    "    \n",
    "    \n",
    "    page = page+1"
   ]
  },
  {
   "cell_type": "code",
   "execution_count": null,
   "id": "c83109a8",
   "metadata": {},
   "outputs": [],
   "source": [
    "page_still_valid = True\n",
    "authors = set()\n",
    "page = 1\n",
    "\n",
    "while page_still_valid:\n",
    "\n",
    "    # Concatenate to get new page URL\n",
    "    page_url = base_url+str(page)\n",
    "    \n",
    "    # Obtain Request\n",
    "    res = requests.get(page_url)\n",
    "    \n",
    "    # Check to see if we're on the last page\n",
    "    if \"No quotes found!\" in res.text:\n",
    "        break\n",
    "    \n",
    "    # Turn into Soup\n",
    "    soup = bs4.BeautifulSoup(res.text,'lxml')\n",
    "    \n",
    "    # Add Authors to our set\n",
    "    for name in soup.select(\".author\"):\n",
    "        authors.add(name.text)\n",
    "        \n",
    "    # Go to Next Page\n",
    "    page += 1"
   ]
  },
  {
   "cell_type": "code",
   "execution_count": null,
   "id": "c34248a4",
   "metadata": {},
   "outputs": [],
   "source": [
    "authors"
   ]
  },
  {
   "cell_type": "code",
   "execution_count": null,
   "id": "198eb6fe",
   "metadata": {},
   "outputs": [],
   "source": []
  },
  {
   "cell_type": "code",
   "execution_count": null,
   "id": "4e7327b2",
   "metadata": {},
   "outputs": [],
   "source": []
  }
 ],
 "metadata": {
  "kernelspec": {
   "display_name": "Python 3 (ipykernel)",
   "language": "python",
   "name": "python3"
  },
  "language_info": {
   "codemirror_mode": {
    "name": "ipython",
    "version": 3
   },
   "file_extension": ".py",
   "mimetype": "text/x-python",
   "name": "python",
   "nbconvert_exporter": "python",
   "pygments_lexer": "ipython3",
   "version": "3.9.12"
  }
 },
 "nbformat": 4,
 "nbformat_minor": 5
}
